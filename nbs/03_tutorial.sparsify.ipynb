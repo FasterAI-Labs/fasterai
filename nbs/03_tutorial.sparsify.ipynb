{
 "cells": [
  {
   "cell_type": "markdown",
   "id": "consecutive-floating",
   "metadata": {},
   "source": [
    "# Sparsify\n",
    "\n",
    "> Make your neural network sparse with fastai"
   ]
  },
  {
   "cell_type": "code",
   "execution_count": null,
   "id": "sixth-effects",
   "metadata": {},
   "outputs": [],
   "source": []
  }
 ],
 "metadata": {
  "kernelspec": {
   "display_name": "Python 3",
   "language": "python",
   "name": "python3"
  }
 },
 "nbformat": 4,
 "nbformat_minor": 5
}
