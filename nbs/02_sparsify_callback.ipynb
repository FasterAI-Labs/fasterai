{
 "cells": [
  {
   "cell_type": "code",
   "execution_count": null,
   "id": "complete-trust",
   "metadata": {},
   "outputs": [],
   "source": [
    "# default_exp sparse.sparsify_callback"
   ]
  },
  {
   "cell_type": "markdown",
   "id": "prescribed-script",
   "metadata": {},
   "source": [
    "# SparsifyCallback\n",
    "\n",
    "> Use the sparsifier in fastai Callback system"
   ]
  },
  {
   "cell_type": "code",
   "execution_count": null,
   "id": "automatic-lighter",
   "metadata": {},
   "outputs": [],
   "source": [
    "#all_slow"
   ]
  },
  {
   "cell_type": "code",
   "execution_count": null,
   "id": "canadian-procurement",
   "metadata": {},
   "outputs": [],
   "source": [
    "#hide\n",
    "from nbdev.showdoc import *\n",
    "\n",
    "%config InlineBackend.figure_format = 'retina'"
   ]
  },
  {
   "cell_type": "code",
   "execution_count": null,
   "id": "productive-preparation",
   "metadata": {},
   "outputs": [],
   "source": [
    "#export\n",
    "from fastai.vision.all import *\n",
    "from fastai.callback.all import *\n",
    "from fasterai.sparse.sparsifier import *\n",
    "from fasterai.sparse.criteria import *\n",
    "\n",
    "import torch\n",
    "import torch.nn as nn\n",
    "import torch.nn.functional as F"
   ]
  },
  {
   "cell_type": "code",
   "execution_count": null,
   "id": "outside-majority",
   "metadata": {},
   "outputs": [],
   "source": [
    "path = untar_data(URLs.PETS)\n",
    "files = get_image_files(path/\"images\")\n",
    "\n",
    "def label_func(f): return f[0].isupper()"
   ]
  },
  {
   "cell_type": "code",
   "execution_count": null,
   "id": "white-boundary",
   "metadata": {},
   "outputs": [],
   "source": [
    "dls = ImageDataLoaders.from_name_func(path, files, label_func, item_tfms=Resize(64))"
   ]
  },
  {
   "cell_type": "code",
   "execution_count": null,
   "id": "cardiovascular-clock",
   "metadata": {},
   "outputs": [],
   "source": [
    "#export\n",
    "class SparsifyCallback(Callback):\n",
    "        \n",
    "    def __init__(self, end_sparsity, granularity, method, criteria, sched_func, start_sparsity=0, start_epoch=0, lth=False, rewind_epoch=0, reset_end=False):\n",
    "        store_attr()\n",
    "        self.current_sparsity, self.previous_sparsity = 0, 0\n",
    "\n",
    "        assert self.start_epoch>=self.rewind_epoch, 'You must rewind to an epoch before the start of the pruning process'\n",
    "    \n",
    "    def before_fit(self):\n",
    "        print(f'Pruning of {self.granularity} until a sparsity of {self.end_sparsity}%')\n",
    "        self.sparsifier = Sparsifier(self.learn.model, self.granularity, self.method, self.criteria)\n",
    "        self.n_batches = math.floor(len(self.learn.dls.dataset)/self.learn.dls.bs)\n",
    "        self.total_iters = self.n_epoch * self.n_batches\n",
    "        self.start_iter = self.start_epoch * self.n_batches\n",
    "    \n",
    "    def before_epoch(self):\n",
    "        if self.epoch == self.rewind_epoch:\n",
    "            print(f'Saving Weights at epoch {self.epoch}')\n",
    "            self.sparsifier._save_weights()\n",
    "        \n",
    "    def before_batch(self):\n",
    "        if self.epoch>=self.start_epoch:\n",
    "            self._set_sparsity()\n",
    "            self.sparsifier.prune(self.current_sparsity)\n",
    "\n",
    "            if self.lth and self.current_sparsity!=self.previous_sparsity: # If sparsity has changed, the network has been pruned\n",
    "                    print(f'Resetting Weights to their epoch {self.rewind_epoch} values')\n",
    "                    self.sparsifier._reset_weights()\n",
    "\n",
    "            self.previous_sparsity = self.current_sparsity\n",
    "        \n",
    "    def before_step(self):\n",
    "        if self.epoch>=self.start_epoch:\n",
    "            self.sparsifier.mask_grad()\n",
    "            \n",
    "    def after_epoch(self):\n",
    "        print(f'Sparsity at the end of epoch {self.epoch}: {self.current_sparsity:.2f}%')\n",
    "        \n",
    "        \n",
    "    def after_fit(self):\n",
    "        print(f'Final Sparsity: {self.current_sparsity:.2f}')\n",
    "        if self.reset_end:\n",
    "            self.sparsifier._reset_weights()\n",
    "        self.sparsifier._clean_buffers() # Remove buffers at the end of training\n",
    "        \n",
    "\n",
    "    def _set_sparsity(self):\n",
    "        self.current_sparsity = self.sched_func(start=self.start_sparsity, end=self.end_sparsity, pos=(self.train_iter-self.start_iter)/(self.total_iters-self.start_iter))"
   ]
  },
  {
   "cell_type": "markdown",
   "id": "official-activation",
   "metadata": {},
   "source": [
    "The most important part of our `Callback` happens in `before_batch`. There, we first compute the sparsity of our network according to our schedule and then we remove the parameters accordingly."
   ]
  },
  {
   "cell_type": "code",
   "execution_count": null,
   "id": "reasonable-vision",
   "metadata": {},
   "outputs": [],
   "source": [
    "learn = cnn_learner(dls, resnet18, metrics=accuracy)\n",
    "learn.unfreeze()"
   ]
  },
  {
   "cell_type": "code",
   "execution_count": null,
   "id": "received-camcorder",
   "metadata": {},
   "outputs": [
    {
     "data": {
      "text/html": [
       "<table border=\"1\" class=\"dataframe\">\n",
       "  <thead>\n",
       "    <tr style=\"text-align: left;\">\n",
       "      <th>epoch</th>\n",
       "      <th>train_loss</th>\n",
       "      <th>valid_loss</th>\n",
       "      <th>accuracy</th>\n",
       "      <th>time</th>\n",
       "    </tr>\n",
       "  </thead>\n",
       "  <tbody>\n",
       "    <tr>\n",
       "      <td>0</td>\n",
       "      <td>0.685760</td>\n",
       "      <td>1.191403</td>\n",
       "      <td>0.826116</td>\n",
       "      <td>00:08</td>\n",
       "    </tr>\n",
       "    <tr>\n",
       "      <td>1</td>\n",
       "      <td>0.409567</td>\n",
       "      <td>0.314207</td>\n",
       "      <td>0.881597</td>\n",
       "      <td>00:09</td>\n",
       "    </tr>\n",
       "    <tr>\n",
       "      <td>2</td>\n",
       "      <td>0.219406</td>\n",
       "      <td>0.222819</td>\n",
       "      <td>0.913396</td>\n",
       "      <td>00:08</td>\n",
       "    </tr>\n",
       "  </tbody>\n",
       "</table>"
      ],
      "text/plain": [
       "<IPython.core.display.HTML object>"
      ]
     },
     "metadata": {},
     "output_type": "display_data"
    }
   ],
   "source": [
    "learn.fit_one_cycle(3)"
   ]
  },
  {
   "cell_type": "code",
   "execution_count": null,
   "id": "improving-hebrew",
   "metadata": {},
   "outputs": [],
   "source": [
    "learn = cnn_learner(dls, resnet18, metrics=accuracy)\n",
    "learn.unfreeze()"
   ]
  },
  {
   "cell_type": "markdown",
   "id": "mounted-praise",
   "metadata": {},
   "source": [
    "You can use any scheduling function already [available](https://docs.fast.ai/callback.schedule.html#Annealing) in fastai or come up with your own ! "
   ]
  },
  {
   "cell_type": "markdown",
   "id": "conservative-virus",
   "metadata": {},
   "source": [
    "Here is for example how to implement the [Automated Gradual Pruning](https://arxiv.org/pdf/1710.01878.pdf) schedule."
   ]
  },
  {
   "cell_type": "code",
   "execution_count": null,
   "id": "agreed-intelligence",
   "metadata": {},
   "outputs": [],
   "source": [
    "def sched_agp(start, end, pos): return end + start - end * (1 - pos)**3"
   ]
  },
  {
   "cell_type": "code",
   "execution_count": null,
   "id": "olive-pastor",
   "metadata": {},
   "outputs": [],
   "source": [
    "sp_cb = SparsifyCallback(end_sparsity=50, granularity='weight', method='local', criteria=l1_norm, sched_func=sched_agp)"
   ]
  },
  {
   "cell_type": "code",
   "execution_count": null,
   "id": "stylish-swimming",
   "metadata": {},
   "outputs": [
    {
     "name": "stdout",
     "output_type": "stream",
     "text": [
      "Pruning of weight until a sparsity of 50%\n",
      "Saving Weights at epoch 0\n"
     ]
    },
    {
     "data": {
      "text/html": [
       "<table border=\"1\" class=\"dataframe\">\n",
       "  <thead>\n",
       "    <tr style=\"text-align: left;\">\n",
       "      <th>epoch</th>\n",
       "      <th>train_loss</th>\n",
       "      <th>valid_loss</th>\n",
       "      <th>accuracy</th>\n",
       "      <th>time</th>\n",
       "    </tr>\n",
       "  </thead>\n",
       "  <tbody>\n",
       "    <tr>\n",
       "      <td>0</td>\n",
       "      <td>0.613291</td>\n",
       "      <td>0.440225</td>\n",
       "      <td>0.863329</td>\n",
       "      <td>00:11</td>\n",
       "    </tr>\n",
       "    <tr>\n",
       "      <td>1</td>\n",
       "      <td>0.326938</td>\n",
       "      <td>0.215635</td>\n",
       "      <td>0.907984</td>\n",
       "      <td>00:11</td>\n",
       "    </tr>\n",
       "    <tr>\n",
       "      <td>2</td>\n",
       "      <td>0.176516</td>\n",
       "      <td>0.203821</td>\n",
       "      <td>0.924222</td>\n",
       "      <td>00:11</td>\n",
       "    </tr>\n",
       "  </tbody>\n",
       "</table>"
      ],
      "text/plain": [
       "<IPython.core.display.HTML object>"
      ]
     },
     "metadata": {},
     "output_type": "display_data"
    },
    {
     "name": "stdout",
     "output_type": "stream",
     "text": [
      "Sparsity at the end of epoch 0: 35.19%\n",
      "Sparsity at the end of epoch 1: 48.15%\n",
      "Sparsity at the end of epoch 2: 50.00%\n",
      "Final Sparsity: 50.00\n"
     ]
    }
   ],
   "source": [
    "learn.fit_one_cycle(3, cbs=sp_cb)"
   ]
  },
  {
   "cell_type": "markdown",
   "id": "competent-stationery",
   "metadata": {},
   "source": [
    "Surprisinlgy, our network that is composed of $50 \\%$ of zeroes performs reasonnably well when compared to our plain and dense network."
   ]
  },
  {
   "cell_type": "markdown",
   "id": "separate-outside",
   "metadata": {},
   "source": [
    "When pruning a neural network, there are 3 main schedules that are used:\n",
    "\n",
    "- **One-Shot Pruning:** starting from a trained network, prune the network to desired sparsity and fine-tune it.\n",
    "- **Iterative Pruning:** starting from a trained network, alternate pruning and fine-tuning steps until desired sparsity.\n",
    "- **Gradual Pruning:** inject the pruning operation directly in the training process."
   ]
  },
  {
   "cell_type": "markdown",
   "id": "former-cookbook",
   "metadata": {},
   "source": [
    "While those methods have for a long time thought to be very different, all of them can be grouped an applied in the same way... with a fastai Callback ! "
   ]
  },
  {
   "cell_type": "code",
   "execution_count": null,
   "id": "drawn-affiliate",
   "metadata": {},
   "outputs": [],
   "source": [
    "def sched_it(start, end, pos, n_steps=3):\n",
    "    \"Perform iterative pruning, and pruning in `n_steps` steps\"\n",
    "    return start + ((end-start)/n_steps)*(np.ceil((pos)*n_steps))\n",
    "    \n",
    "def sched_os(start, end, pos)->float: return end"
   ]
  },
  {
   "cell_type": "markdown",
   "id": "imported-purpose",
   "metadata": {},
   "source": [
    "As One-Shot and Iterative Pruning usually start from an already trained network, we need to take that possibility into account. This can be done by using the `start_epoch` argument, which sets the `epoch` at which we start to prune the network."
   ]
  },
  {
   "cell_type": "markdown",
   "id": "remarkable-preparation",
   "metadata": {},
   "source": [
    "Let's take an example here. Let's say that we want to train our network for 3 epochs without pruning and then 7 epochs with pruning."
   ]
  },
  {
   "cell_type": "code",
   "execution_count": null,
   "id": "pursuant-bacteria",
   "metadata": {},
   "outputs": [],
   "source": [
    "# Those value below represent the percentage of the pruning process\n",
    "train = np.zeros(300)\n",
    "prune = np.linspace(0,1, 700) "
   ]
  },
  {
   "cell_type": "code",
   "execution_count": null,
   "id": "devoted-buffer",
   "metadata": {},
   "outputs": [
    {
     "ename": "NameError",
     "evalue": "name 'prune' is not defined",
     "output_type": "error",
     "traceback": [
      "\u001b[0;31m---------------------------------------------------------------------------\u001b[0m",
      "\u001b[0;31mNameError\u001b[0m                                 Traceback (most recent call last)",
      "\u001b[0;32m<ipython-input-2-8a6c49b71bd5>\u001b[0m in \u001b[0;36m<module>\u001b[0;34m\u001b[0m\n\u001b[1;32m      1\u001b[0m \u001b[0;31m#hide\u001b[0m\u001b[0;34m\u001b[0m\u001b[0;34m\u001b[0m\u001b[0m\n\u001b[0;32m----> 2\u001b[0;31m \u001b[0mos\u001b[0m \u001b[0;34m=\u001b[0m \u001b[0;34m[\u001b[0m\u001b[0mone_shot\u001b[0m\u001b[0;34m(\u001b[0m\u001b[0;36m0\u001b[0m\u001b[0;34m,\u001b[0m\u001b[0;36m50\u001b[0m\u001b[0;34m,\u001b[0m \u001b[0mp\u001b[0m\u001b[0;34m)\u001b[0m \u001b[0;32mfor\u001b[0m \u001b[0mp\u001b[0m \u001b[0;32min\u001b[0m \u001b[0mprune\u001b[0m\u001b[0;34m]\u001b[0m\u001b[0;34m\u001b[0m\u001b[0m\n\u001b[0m",
      "\u001b[0;31mNameError\u001b[0m: name 'prune' is not defined"
     ]
    }
   ],
   "source": [
    "#hide\n",
    "os = [one_shot(0,50, p) for p in prune]"
   ]
  },
  {
   "cell_type": "markdown",
   "id": "continued-mapping",
   "metadata": {},
   "source": [
    "Then this is what our different pruning schedules will look like:"
   ]
  },
  {
   "cell_type": "code",
   "execution_count": null,
   "id": "legitimate-asthma",
   "metadata": {},
   "outputs": [
    {
     "data": {
      "text/plain": [
       "<matplotlib.legend.Legend at 0x7f4b1f3eb908>"
      ]
     },
     "execution_count": null,
     "metadata": {},
     "output_type": "execute_result"
    },
    {
     "data": {
      "image/png": "[encoded data removed]",
      "text/plain": [
       "<Figure size 432x288 with 1 Axes>"
      ]
     },
     "metadata": {
      "image/png": {
       "height": 248,
       "width": 369
      },
      "needs_background": "light"
     },
     "output_type": "display_data"
    }
   ],
   "source": [
    "plt.plot(np.concatenate([train, sched_it(0,50, prune)]), label='Iterative Pruning')\n",
    "plt.plot(np.concatenate([train, os]), label='One-Shot Pruning')\n",
    "plt.plot(np.concatenate([train, sched_agp(0,50, prune)]), label='Automated Gradual Pruning')\n",
    "plt.legend()"
   ]
  }
 ],
 "metadata": {
  "kernelspec": {
   "display_name": "Python 3",
   "language": "python",
   "name": "python3"
  }
 },
 "nbformat": 4,
 "nbformat_minor": 5
}
