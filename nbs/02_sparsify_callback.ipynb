{
 "cells": [
  {
   "cell_type": "code",
   "execution_count": null,
   "id": "complete-trust",
   "metadata": {},
   "outputs": [],
   "source": [
    "# default_exp sparse.sparsify_callback"
   ]
  },
  {
   "cell_type": "markdown",
   "id": "prescribed-script",
   "metadata": {},
   "source": [
    "# SparsifyCallback\n",
    "\n",
    "> Use the sparsifier in fastai Callback system"
   ]
  },
  {
   "cell_type": "code",
   "execution_count": null,
   "id": "automatic-lighter",
   "metadata": {},
   "outputs": [],
   "source": [
    "#all_slow"
   ]
  },
  {
   "cell_type": "code",
   "execution_count": null,
   "id": "canadian-procurement",
   "metadata": {},
   "outputs": [],
   "source": [
    "#hide\n",
    "from nbdev.showdoc import *\n",
    "\n",
    "%config InlineBackend.figure_format = 'retina'"
   ]
  },
  {
   "cell_type": "code",
   "execution_count": null,
   "id": "productive-preparation",
   "metadata": {},
   "outputs": [],
   "source": [
    "#export\n",
    "from fastai.vision.all import *\n",
    "from fastai.callback.all import *\n",
    "from fasterai.sparse.sparsifier import *\n",
    "from fasterai.sparse.criteria import *\n",
    "\n",
    "import torch\n",
    "import torch.nn as nn\n",
    "import torch.nn.functional as F"
   ]
  },
  {
   "cell_type": "code",
   "execution_count": null,
   "id": "outside-majority",
   "metadata": {},
   "outputs": [],
   "source": [
    "path = untar_data(URLs.PETS)\n",
    "files = get_image_files(path/\"images\")\n",
    "\n",
    "def label_func(f): return f[0].isupper()"
   ]
  },
  {
   "cell_type": "code",
   "execution_count": null,
   "id": "white-boundary",
   "metadata": {},
   "outputs": [],
   "source": [
    "dls = ImageDataLoaders.from_name_func(path, files, label_func, item_tfms=Resize(64))"
   ]
  },
  {
   "cell_type": "code",
   "execution_count": null,
   "id": "09c9ae05",
   "metadata": {},
   "outputs": [],
   "source": [
    "#export\n",
    "class SparsifyCallback(Callback):\n",
    "        \n",
    "    def __init__(self, end_sparsity, granularity, method, criteria, sched_func, start_sparsity=0, start_epoch=0, end_epoch=None, lth=False, rewind_epoch=0, reset_end=False, model=None, round_to=None, layer_type=nn.Conv2d):\n",
    "        store_attr()\n",
    "        self.end_sparsity, self.current_sparsity, self.previous_sparsity = map(listify, [self.end_sparsity, self.start_sparsity, self.start_sparsity])\n",
    "        \n",
    "        assert self.start_epoch>=self.rewind_epoch, 'You must rewind to an epoch before the start of the pruning process'\n",
    "    \n",
    "    def before_fit(self):\n",
    "        print(f'Pruning of {self.granularity} until a sparsity of {self.end_sparsity}%')\n",
    "        self.end_epoch = self.n_epoch if self.end_epoch is None else self.end_epoch\n",
    "        assert self.end_epoch <= self.n_epoch, 'Your end_epoch must be smaller than total number of epoch'\n",
    "        \n",
    "        model = self.learn.model if self.model is None else self.model # Pass a model if you don't want the whole model to be pruned\n",
    "        self.sparsifier = Sparsifier(model, self.granularity, self.method, self.criteria, self.layer_type)\n",
    "        self.n_batches = math.floor(len(self.learn.dls.dataset)/self.learn.dls.bs)\n",
    "        self.total_iters = self.end_epoch * self.n_batches\n",
    "        self.start_iter = self.start_epoch * self.n_batches\n",
    "    \n",
    "    def before_epoch(self):\n",
    "        if self.epoch == self.rewind_epoch:\n",
    "            print(f'Saving Weights at epoch {self.epoch}')\n",
    "            self.sparsifier._save_weights()\n",
    "        \n",
    "    def before_batch(self):\n",
    "        if self.epoch>=self.start_epoch:\n",
    "            if self.epoch < self.end_epoch: self._set_sparsity()\n",
    "            self.sparsifier.prune_model(self.current_sparsity, self.round_to)\n",
    "\n",
    "            if self.lth and self.current_sparsity!=self.previous_sparsity: # If sparsity has changed, the network has been pruned\n",
    "                    print(f'Resetting Weights to their epoch {self.rewind_epoch} values')\n",
    "                    self.sparsifier._reset_weights()\n",
    "\n",
    "            self.previous_sparsity = self.current_sparsity\n",
    "        \n",
    "    def before_step(self):\n",
    "        if self.epoch>=self.start_epoch:\n",
    "            self.sparsifier._mask_grad()   \n",
    "            \n",
    "    def after_epoch(self):\n",
    "        sparsity_str = [float(f\"%0.2f\"%sp) for sp in self.current_sparsity]\n",
    "        print(f'Sparsity at the end of epoch {self.epoch}: {sparsity_str}%')\n",
    "        \n",
    "    def after_fit(self):\n",
    "        print(f'Final Sparsity: {self.current_sparsity:}%')\n",
    "        if self.reset_end:\n",
    "            self.sparsifier._reset_weights()\n",
    "        self.sparsifier._clean_buffers() # Remove buffers at the end of training\n",
    "        self.sparsifier.print_sparsity()\n",
    "        \n",
    "    def _set_sparsity(self):\n",
    "        self.current_sparsity = [self.sched_func(start=self.start_sparsity, end=end_sp, pos=(self.train_iter-self.start_iter)/(self.total_iters-self.start_iter)) for end_sp in self.end_sparsity]"
   ]
  },
  {
   "cell_type": "markdown",
   "id": "official-activation",
   "metadata": {},
   "source": [
    "The most important part of our `Callback` happens in `before_batch`. There, we first compute the sparsity of our network according to our schedule and then we remove the parameters accordingly."
   ]
  },
  {
   "cell_type": "code",
   "execution_count": null,
   "id": "reasonable-vision",
   "metadata": {},
   "outputs": [],
   "source": [
    "learn = cnn_learner(dls, resnet18, metrics=accuracy)\n",
    "learn.unfreeze()"
   ]
  },
  {
   "cell_type": "code",
   "execution_count": null,
   "id": "received-camcorder",
   "metadata": {},
   "outputs": [
    {
     "data": {
      "text/html": [
       "<table border=\"1\" class=\"dataframe\">\n",
       "  <thead>\n",
       "    <tr style=\"text-align: left;\">\n",
       "      <th>epoch</th>\n",
       "      <th>train_loss</th>\n",
       "      <th>valid_loss</th>\n",
       "      <th>accuracy</th>\n",
       "      <th>time</th>\n",
       "    </tr>\n",
       "  </thead>\n",
       "  <tbody>\n",
       "    <tr>\n",
       "      <td>0</td>\n",
       "      <td>0.646404</td>\n",
       "      <td>0.579887</td>\n",
       "      <td>0.828146</td>\n",
       "      <td>00:09</td>\n",
       "    </tr>\n",
       "    <tr>\n",
       "      <td>1</td>\n",
       "      <td>0.384775</td>\n",
       "      <td>0.310144</td>\n",
       "      <td>0.872801</td>\n",
       "      <td>00:09</td>\n",
       "    </tr>\n",
       "    <tr>\n",
       "      <td>2</td>\n",
       "      <td>0.213229</td>\n",
       "      <td>0.212824</td>\n",
       "      <td>0.912720</td>\n",
       "      <td>00:08</td>\n",
       "    </tr>\n",
       "  </tbody>\n",
       "</table>"
      ],
      "text/plain": [
       "<IPython.core.display.HTML object>"
      ]
     },
     "metadata": {},
     "output_type": "display_data"
    }
   ],
   "source": [
    "learn.fit_one_cycle(3)"
   ]
  },
  {
   "cell_type": "markdown",
   "id": "97c25750",
   "metadata": {},
   "source": [
    "Let's now try adding some sparsity in our model"
   ]
  },
  {
   "cell_type": "code",
   "execution_count": null,
   "id": "improving-hebrew",
   "metadata": {},
   "outputs": [],
   "source": [
    "learn = cnn_learner(dls, resnet18, metrics=accuracy)\n",
    "learn.unfreeze()"
   ]
  },
  {
   "cell_type": "markdown",
   "id": "a3d8b629",
   "metadata": {},
   "source": [
    "The `SparsifyCallback` requires a new argument compared to the `Sparsifier`. Indeed, we need to know the pruning schedule that we should follow during training in order to prune the parameters accordingly."
   ]
  },
  {
   "cell_type": "markdown",
   "id": "mounted-praise",
   "metadata": {},
   "source": [
    "You can use any scheduling function already [available](https://docs.fast.ai/callback.schedule.html#Annealing) in fastai or come up with your own ! For more information about the pruning schedules, take a look at the [Schedules section](https://nathanhubens.github.io/fasterai/schedules.html)."
   ]
  },
  {
   "cell_type": "code",
   "execution_count": null,
   "id": "ae17f0e5",
   "metadata": {},
   "outputs": [],
   "source": [
    "sp_cb = SparsifyCallback(end_sparsity=50, granularity='weight', method='local', criteria=large_final, sched_func=sched_cos)"
   ]
  },
  {
   "cell_type": "code",
   "execution_count": null,
   "id": "stylish-swimming",
   "metadata": {},
   "outputs": [
    {
     "name": "stdout",
     "output_type": "stream",
     "text": [
      "Pruning of weight until a sparsity of [50]%\n",
      "Saving Weights at epoch 0\n"
     ]
    },
    {
     "data": {
      "text/html": [
       "<table border=\"1\" class=\"dataframe\">\n",
       "  <thead>\n",
       "    <tr style=\"text-align: left;\">\n",
       "      <th>epoch</th>\n",
       "      <th>train_loss</th>\n",
       "      <th>valid_loss</th>\n",
       "      <th>accuracy</th>\n",
       "      <th>time</th>\n",
       "    </tr>\n",
       "  </thead>\n",
       "  <tbody>\n",
       "    <tr>\n",
       "      <td>0</td>\n",
       "      <td>0.626793</td>\n",
       "      <td>0.787221</td>\n",
       "      <td>0.795670</td>\n",
       "      <td>00:10</td>\n",
       "    </tr>\n",
       "    <tr>\n",
       "      <td>1</td>\n",
       "      <td>0.378027</td>\n",
       "      <td>0.252783</td>\n",
       "      <td>0.888363</td>\n",
       "      <td>00:10</td>\n",
       "    </tr>\n",
       "    <tr>\n",
       "      <td>2</td>\n",
       "      <td>0.214151</td>\n",
       "      <td>0.201621</td>\n",
       "      <td>0.912043</td>\n",
       "      <td>00:10</td>\n",
       "    </tr>\n",
       "  </tbody>\n",
       "</table>"
      ],
      "text/plain": [
       "<IPython.core.display.HTML object>"
      ]
     },
     "metadata": {},
     "output_type": "display_data"
    },
    {
     "name": "stdout",
     "output_type": "stream",
     "text": [
      "Sparsity at the end of epoch 0: [12.5]%\n",
      "Sparsity at the end of epoch 1: [37.5]%\n",
      "Sparsity at the end of epoch 2: [50.0]%\n",
      "Final Sparsity: [50.0]%\n",
      "Sparsity in Conv2d 2: 50.00%\n",
      "Sparsity in Conv2d 8: 50.00%\n",
      "Sparsity in Conv2d 11: 50.00%\n",
      "Sparsity in Conv2d 14: 50.00%\n",
      "Sparsity in Conv2d 17: 50.00%\n",
      "Sparsity in Conv2d 21: 50.00%\n",
      "Sparsity in Conv2d 24: 50.00%\n",
      "Sparsity in Conv2d 27: 50.00%\n",
      "Sparsity in Conv2d 30: 50.00%\n",
      "Sparsity in Conv2d 33: 50.00%\n",
      "Sparsity in Conv2d 37: 50.00%\n",
      "Sparsity in Conv2d 40: 50.00%\n",
      "Sparsity in Conv2d 43: 50.00%\n",
      "Sparsity in Conv2d 46: 50.00%\n",
      "Sparsity in Conv2d 49: 50.00%\n",
      "Sparsity in Conv2d 53: 50.00%\n",
      "Sparsity in Conv2d 56: 50.00%\n",
      "Sparsity in Conv2d 59: 50.00%\n",
      "Sparsity in Conv2d 62: 50.00%\n",
      "Sparsity in Conv2d 65: 50.00%\n"
     ]
    }
   ],
   "source": [
    "learn.fit_one_cycle(3, cbs=sp_cb)"
   ]
  },
  {
   "cell_type": "markdown",
   "id": "competent-stationery",
   "metadata": {},
   "source": [
    "Surprisinlgy, our network that is composed of $50 \\%$ of zeroes performs reasonnably well when compared to our plain and dense network."
   ]
  },
  {
   "cell_type": "markdown",
   "id": "bda59caf",
   "metadata": {},
   "source": [
    "The `SparsifyCallback` also accepts a list of sparsities, corresponding to each layer of `layer_type` to be pruned. Below, we show how to prune only the intermediate layers of ResNet-18."
   ]
  },
  {
   "cell_type": "code",
   "execution_count": null,
   "id": "a324db6e",
   "metadata": {},
   "outputs": [],
   "source": [
    "learn = cnn_learner(dls, resnet18, metrics=accuracy)\n",
    "learn.unfreeze()"
   ]
  },
  {
   "cell_type": "code",
   "execution_count": null,
   "id": "96a7180b",
   "metadata": {},
   "outputs": [],
   "source": [
    "sparsities = [0, 0, 0, 0, 0, 0, 50, 50, 50, 50, 50, 50, 50, 50, 0, 0, 0, 0, 0, 0]"
   ]
  },
  {
   "cell_type": "code",
   "execution_count": null,
   "id": "b2b98149",
   "metadata": {},
   "outputs": [],
   "source": [
    "sp_cb = SparsifyCallback(end_sparsity=sparsities, granularity='weight', method='local', criteria=large_final, sched_func=sched_cos)"
   ]
  },
  {
   "cell_type": "code",
   "execution_count": null,
   "id": "196e20fe",
   "metadata": {},
   "outputs": [
    {
     "name": "stdout",
     "output_type": "stream",
     "text": [
      "Pruning of weight until a sparsity of [0, 0, 0, 0, 0, 0, 50, 50, 50, 50, 50, 50, 50, 50, 0, 0, 0, 0, 0, 0]%\n",
      "Saving Weights at epoch 0\n"
     ]
    },
    {
     "data": {
      "text/html": [
       "<table border=\"1\" class=\"dataframe\">\n",
       "  <thead>\n",
       "    <tr style=\"text-align: left;\">\n",
       "      <th>epoch</th>\n",
       "      <th>train_loss</th>\n",
       "      <th>valid_loss</th>\n",
       "      <th>accuracy</th>\n",
       "      <th>time</th>\n",
       "    </tr>\n",
       "  </thead>\n",
       "  <tbody>\n",
       "    <tr>\n",
       "      <td>0</td>\n",
       "      <td>0.627289</td>\n",
       "      <td>0.399411</td>\n",
       "      <td>0.831529</td>\n",
       "      <td>00:09</td>\n",
       "    </tr>\n",
       "    <tr>\n",
       "      <td>1</td>\n",
       "      <td>0.365587</td>\n",
       "      <td>0.264053</td>\n",
       "      <td>0.893775</td>\n",
       "      <td>00:09</td>\n",
       "    </tr>\n",
       "    <tr>\n",
       "      <td>2</td>\n",
       "      <td>0.212597</td>\n",
       "      <td>0.193413</td>\n",
       "      <td>0.917456</td>\n",
       "      <td>00:09</td>\n",
       "    </tr>\n",
       "    <tr>\n",
       "      <td>3</td>\n",
       "      <td>0.120238</td>\n",
       "      <td>0.178505</td>\n",
       "      <td>0.933694</td>\n",
       "      <td>00:10</td>\n",
       "    </tr>\n",
       "  </tbody>\n",
       "</table>"
      ],
      "text/plain": [
       "<IPython.core.display.HTML object>"
      ]
     },
     "metadata": {},
     "output_type": "display_data"
    },
    {
     "name": "stdout",
     "output_type": "stream",
     "text": [
      "Sparsity at the end of epoch 0: [0.0, 0.0, 0.0, 0.0, 0.0, 0.0, 7.32, 7.32, 7.32, 7.32, 7.32, 7.32, 7.32, 7.32, 0.0, 0.0, 0.0, 0.0, 0.0, 0.0]%\n",
      "Sparsity at the end of epoch 1: [0.0, 0.0, 0.0, 0.0, 0.0, 0.0, 25.0, 25.0, 25.0, 25.0, 25.0, 25.0, 25.0, 25.0, 0.0, 0.0, 0.0, 0.0, 0.0, 0.0]%\n",
      "Sparsity at the end of epoch 2: [0.0, 0.0, 0.0, 0.0, 0.0, 0.0, 42.68, 42.68, 42.68, 42.68, 42.68, 42.68, 42.68, 42.68, 0.0, 0.0, 0.0, 0.0, 0.0, 0.0]%\n",
      "Sparsity at the end of epoch 3: [0.0, 0.0, 0.0, 0.0, 0.0, 0.0, 50.0, 50.0, 50.0, 50.0, 50.0, 50.0, 50.0, 50.0, 0.0, 0.0, 0.0, 0.0, 0.0, 0.0]%\n",
      "Final Sparsity: [0.0, 0.0, 0.0, 0.0, 0.0, 0.0, 50.0, 50.0, 50.0, 50.0, 50.0, 50.0, 50.0, 50.0, 0.0, 0.0, 0.0, 0.0, 0.0, 0.0]%\n",
      "Sparsity in Conv2d 2: 0.00%\n",
      "Sparsity in Conv2d 8: 0.00%\n",
      "Sparsity in Conv2d 11: 0.00%\n",
      "Sparsity in Conv2d 14: 0.00%\n",
      "Sparsity in Conv2d 17: 0.00%\n",
      "Sparsity in Conv2d 21: 0.00%\n",
      "Sparsity in Conv2d 24: 50.00%\n",
      "Sparsity in Conv2d 27: 50.00%\n",
      "Sparsity in Conv2d 30: 50.00%\n",
      "Sparsity in Conv2d 33: 50.00%\n",
      "Sparsity in Conv2d 37: 50.00%\n",
      "Sparsity in Conv2d 40: 50.00%\n",
      "Sparsity in Conv2d 43: 50.00%\n",
      "Sparsity in Conv2d 46: 50.00%\n",
      "Sparsity in Conv2d 49: 0.00%\n",
      "Sparsity in Conv2d 53: 0.00%\n",
      "Sparsity in Conv2d 56: 0.00%\n",
      "Sparsity in Conv2d 59: 0.00%\n",
      "Sparsity in Conv2d 62: 0.00%\n",
      "Sparsity in Conv2d 65: 0.00%\n"
     ]
    }
   ],
   "source": [
    "learn.fit_one_cycle(4, cbs=sp_cb)"
   ]
  },
  {
   "cell_type": "markdown",
   "id": "3799380b",
   "metadata": {},
   "source": [
    "On top of that, the `SparsifyCallback`can also take many optionnal arguments: \n",
    "\n",
    "- `start_sparsity`: the sparsity that the schedule will use as a starting point (default to 0)\n",
    "- `start_epoch`: the epoch at which the schedule will start pruning (default to 0)\n",
    "- `end_epoch`: the epoch at which the schedule will stop pruning (default to the training epochs passed in `fit`)\n",
    "- `lth`: whether training using the Lottery Ticket Hypothesis, i.e. reset the weights to their original value at each pruning step (more information in the Lottery Ticket Hypothesis section)\n",
    "- `rewind_epoch`: the epoch used as a reference for the Lottery Ticket Hypothesis with Rewinding (default to 0)\n",
    "- `reset_end`: whether you want to reset the weights to their original values after training (pruning masks are still applied)\n",
    "- `model`: pass a model or a part of the model if you don't want to apply pruning on the whole model trained.\n",
    "- `layer_type`: specify the type of layer that you want to apply pruning to (default to nn.Conv2d)"
   ]
  },
  {
   "cell_type": "markdown",
   "id": "33e10a94",
   "metadata": {},
   "source": [
    "For example, we correctly pruned the convolution layers of our model, but we could imagine pruning the Linear Layers of even only the BatchNorm ones !"
   ]
  }
 ],
 "metadata": {
  "kernelspec": {
   "display_name": "Python 3 (ipykernel)",
   "language": "python",
   "name": "python3"
  }
 },
 "nbformat": 4,
 "nbformat_minor": 5
}
