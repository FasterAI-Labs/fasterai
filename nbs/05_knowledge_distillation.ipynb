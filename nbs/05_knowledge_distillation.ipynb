{
 "cells": [
  {
   "cell_type": "code",
   "execution_count": null,
   "id": "noted-zambia",
   "metadata": {},
   "outputs": [],
   "source": [
    "# default_exp distill.distillation_callback"
   ]
  },
  {
   "cell_type": "markdown",
   "id": "challenging-indianapolis",
   "metadata": {},
   "source": [
    "# Knowledge Distillation\n",
    "\n",
    "> Train a network in a teacher-student fashion"
   ]
  },
  {
   "cell_type": "code",
   "execution_count": null,
   "id": "failing-intermediate",
   "metadata": {},
   "outputs": [],
   "source": [
    "# all_slow"
   ]
  },
  {
   "cell_type": "code",
   "execution_count": null,
   "id": "primary-crisis",
   "metadata": {},
   "outputs": [],
   "source": [
    "#hide\n",
    "from nbdev.showdoc import *\n",
    "import torch\n",
    "import torch.nn as nn\n",
    "import torch.nn.functional as F\n",
    "\n",
    "%config InlineBackend.figure_format = 'retina'"
   ]
  },
  {
   "cell_type": "markdown",
   "id": "coral-congress",
   "metadata": {},
   "source": [
    "Knowledge Distillation, sometimes called teacher-student training, is a compression method in which a small (the student) model is trained to mimic the behaviour of a larger (the teacher) model.\n",
    "\n",
    "The main goal is to reveal what is called the **Dark Knowledge** hidden in the teacher model.\n",
    "\n",
    "If we take the same [example](https://www.ttic.edu/dl/dark14.pdf) provided by Geoffrey Hinton et al., we have"
   ]
  },
  {
   "cell_type": "markdown",
   "id": "radical-collection",
   "metadata": {},
   "source": [
    "The main problem of classification is that the output activation function (softmax) will, by design, make a single value really high and squash others."
   ]
  },
  {
   "cell_type": "markdown",
   "id": "practical-celtic",
   "metadata": {},
   "source": [
    "$$\n",
    "p_{i}=\\frac{\\exp \\left(z_{i}\\right)}{\\sum_{j} \\exp \\left(z_{j}\\right)}\n",
    "$$\n",
    "\n",
    "With $p_i$ the probability of class $i$, computed from the logits $z$"
   ]
  },
  {
   "cell_type": "markdown",
   "id": "fatal-microwave",
   "metadata": {},
   "source": [
    "Here is an example to illustrate this phenomenon:\n",
    "\n",
    "Let's say that we have trained a model to discriminate between the following 5 classes: [cow, dog, plane, cat, car]"
   ]
  },
  {
   "cell_type": "markdown",
   "id": "baking-access",
   "metadata": {},
   "source": [
    "And here is the output of the final layer (the logits) when the model is fed a new input image: "
   ]
  },
  {
   "cell_type": "code",
   "execution_count": null,
   "id": "respective-turtle",
   "metadata": {},
   "outputs": [],
   "source": [
    "logits = torch.tensor([1.3, 3.1, 0.2, 1.9, -0.3])"
   ]
  },
  {
   "cell_type": "markdown",
   "id": "interested-humidity",
   "metadata": {},
   "source": [
    "By judging on the predictions, the model seems confident that the input data is a dog and quite confident that it is definitely not a plane nor a car, with predictions for cow and cat being moderately high.\n",
    "\n",
    "So the model not only has learned to recognize a dog in the image, but also that a dog is very different from a car and a plane and share similarities with cats and cows. This information is what is called **dark knowledge** !"
   ]
  },
  {
   "cell_type": "markdown",
   "id": "acoustic-confusion",
   "metadata": {},
   "source": [
    "When passing those predictions through a softmax, we have:"
   ]
  },
  {
   "cell_type": "code",
   "execution_count": null,
   "id": "industrial-binding",
   "metadata": {},
   "outputs": [
    {
     "data": {
      "text/plain": [
       "tensor([0.0864, 0.6386, 0.0388, 0.2126, 0.0236])"
      ]
     },
     "execution_count": null,
     "metadata": {},
     "output_type": "execute_result"
    }
   ],
   "source": [
    "predictions = F.softmax(hard_preds, dim=-1); predictions"
   ]
  },
  {
   "cell_type": "markdown",
   "id": "minus-shell",
   "metadata": {},
   "source": [
    "This is accuenting the differences that we had earlier, discarding some of the dark knowledge acquired earlier. The way to keep this knowledge is to \"soften\" our softmax outputs, by adding a **temperature** parameter. The higher the temperature, the softer the predictions."
   ]
  },
  {
   "cell_type": "code",
   "execution_count": null,
   "id": "aware-grounds",
   "metadata": {},
   "outputs": [
    {
     "data": {
      "text/plain": [
       "tensor([0.1751, 0.3410, 0.1341, 0.2363, 0.1135])"
      ]
     },
     "execution_count": null,
     "metadata": {},
     "output_type": "execute_result"
    }
   ],
   "source": [
    "soft_predictions = F.softmax(hard_preds/3, dim=-1); soft_predictions"
   ]
  },
  {
   "cell_type": "markdown",
   "id": "tropical-recipient",
   "metadata": {},
   "source": [
    "> Note: if the Temperature is equal to 1, then we have regular softmax"
   ]
  },
  {
   "cell_type": "markdown",
   "id": "israeli-senate",
   "metadata": {},
   "source": [
    "When applying Knowledge Distillation, we want to keep the **Dark Knowledge** that the teacher model has acquired during its training but not rely entirely on it. So we combine two losses: \n",
    "\n",
    "- The Teacher loss between the softened predictions of the teacher and the softened predictions of the student\n",
    "- The Classification loss, which is the regular loss between hard labels and hard predictions\n",
    "\n",
    "The combination between those losses are weighted by an additional parameter α, as:\n",
    "\n",
    "$$\n",
    "L_{K D}=\\alpha  * \\text { CrossEntropy }\\left(p_{S}^{\\tau}, p_{T}^{\\tau}\\right)+(1-\\alpha) * \\text { CrossEntropy }\\left(p_{S}, y_{\\text {true }}\\right)\n",
    "$$\n",
    "\n",
    "With $p^{\\tau}$ being the softened predictions of the student and teacher"
   ]
  },
  {
   "cell_type": "markdown",
   "id": "naughty-pulse",
   "metadata": {},
   "source": [
    "> Note: In practice, the distillation loss will be a [bit different](http://cs230.stanford.edu/files_winter_2018/projects/6940224.pdf) in the implementation"
   ]
  },
  {
   "cell_type": "markdown",
   "id": "strong-hepatitis",
   "metadata": {},
   "source": [
    "![distill](imgs/distill.pdf \"Knowledge Distillation\")"
   ]
  },
  {
   "cell_type": "code",
   "execution_count": null,
   "id": "numerous-insulin",
   "metadata": {},
   "outputs": [],
   "source": [
    "#export\n",
    "from fastai.vision.all import *"
   ]
  },
  {
   "cell_type": "code",
   "execution_count": null,
   "id": "union-prophet",
   "metadata": {},
   "outputs": [],
   "source": [
    "path = untar_data(URLs.PETS)\n",
    "files = get_image_files(path/\"images\")\n",
    "\n",
    "def label_func(f): return f[0].isupper()\n",
    "\n",
    "dls = ImageDataLoaders.from_name_func(path, files, label_func, item_tfms=Resize(64))"
   ]
  },
  {
   "cell_type": "markdown",
   "id": "large-hardware",
   "metadata": {},
   "source": [
    "This can be done with fastai, using the Callback system !"
   ]
  },
  {
   "cell_type": "code",
   "execution_count": null,
   "id": "rapid-california",
   "metadata": {},
   "outputs": [],
   "source": [
    "#export\n",
    "class KnowledgeDistillation(Callback):\n",
    "    \"\"\"Implementation inspired by https://github.com/peterliht/knowledge-distillation-pytorch/\n",
    "    \"\"\"\n",
    "    def __init__(self, teacher, T:float=20., α:float=0.7):\n",
    "        store_attr()\n",
    "    \n",
    "    def after_loss(self):\n",
    "        self.teacher.model.eval()\n",
    "        teacher_output = self.teacher.model(self.x)\n",
    "        new_loss = DistillationLoss(self.pred, self.y, teacher_output, self.T, self.α)\n",
    "        self.learn.loss_grad = new_loss\n",
    "\n",
    "def DistillationLoss(y, labels, teacher_scores, T, alpha):\n",
    "    return nn.KLDivLoss(reduction='batchmean')(F.log_softmax(y/T, dim=-1), F.softmax(teacher_scores/T, dim=-1)) * (T*T * 2.0 * alpha) + F.cross_entropy(y, labels) * (1. - alpha)"
   ]
  },
  {
   "cell_type": "markdown",
   "id": "lucky-strength",
   "metadata": {},
   "source": [
    "## Example"
   ]
  },
  {
   "cell_type": "markdown",
   "id": "brave-miami",
   "metadata": {},
   "source": [
    "The first step is then to train the teacher model."
   ]
  },
  {
   "cell_type": "code",
   "execution_count": null,
   "id": "promising-exclusive",
   "metadata": {},
   "outputs": [],
   "source": [
    "teacher = cnn_learner(dls, resnet34, metrics=accuracy)\n",
    "teacher.unfreeze()"
   ]
  },
  {
   "cell_type": "code",
   "execution_count": null,
   "id": "wooden-regression",
   "metadata": {},
   "outputs": [
    {
     "data": {
      "text/html": [
       "<table border=\"1\" class=\"dataframe\">\n",
       "  <thead>\n",
       "    <tr style=\"text-align: left;\">\n",
       "      <th>epoch</th>\n",
       "      <th>train_loss</th>\n",
       "      <th>valid_loss</th>\n",
       "      <th>accuracy</th>\n",
       "      <th>time</th>\n",
       "    </tr>\n",
       "  </thead>\n",
       "  <tbody>\n",
       "    <tr>\n",
       "      <td>0</td>\n",
       "      <td>0.641291</td>\n",
       "      <td>0.531456</td>\n",
       "      <td>0.830853</td>\n",
       "      <td>00:15</td>\n",
       "    </tr>\n",
       "    <tr>\n",
       "      <td>1</td>\n",
       "      <td>0.344991</td>\n",
       "      <td>0.279878</td>\n",
       "      <td>0.899188</td>\n",
       "      <td>00:14</td>\n",
       "    </tr>\n",
       "    <tr>\n",
       "      <td>2</td>\n",
       "      <td>0.199024</td>\n",
       "      <td>0.202250</td>\n",
       "      <td>0.918809</td>\n",
       "      <td>00:14</td>\n",
       "    </tr>\n",
       "    <tr>\n",
       "      <td>3</td>\n",
       "      <td>0.116771</td>\n",
       "      <td>0.169068</td>\n",
       "      <td>0.941137</td>\n",
       "      <td>00:14</td>\n",
       "    </tr>\n",
       "    <tr>\n",
       "      <td>4</td>\n",
       "      <td>0.058538</td>\n",
       "      <td>0.159720</td>\n",
       "      <td>0.945196</td>\n",
       "      <td>00:15</td>\n",
       "    </tr>\n",
       "  </tbody>\n",
       "</table>"
      ],
      "text/plain": [
       "<IPython.core.display.HTML object>"
      ]
     },
     "metadata": {},
     "output_type": "display_data"
    }
   ],
   "source": [
    "teacher.fit_one_cycle(5)"
   ]
  },
  {
   "cell_type": "markdown",
   "id": "consecutive-recruitment",
   "metadata": {},
   "source": [
    "### Without KD"
   ]
  },
  {
   "cell_type": "markdown",
   "id": "national-juvenile",
   "metadata": {},
   "source": [
    "Here is how the student model would perform without being helped by the teacher"
   ]
  },
  {
   "cell_type": "code",
   "execution_count": null,
   "id": "beginning-hypothesis",
   "metadata": {},
   "outputs": [],
   "source": [
    "student = Learner(dls, resnet18(num_classes=2), metrics=accuracy)"
   ]
  },
  {
   "cell_type": "code",
   "execution_count": null,
   "id": "appointed-burst",
   "metadata": {},
   "outputs": [
    {
     "data": {
      "text/html": [
       "<table border=\"1\" class=\"dataframe\">\n",
       "  <thead>\n",
       "    <tr style=\"text-align: left;\">\n",
       "      <th>epoch</th>\n",
       "      <th>train_loss</th>\n",
       "      <th>valid_loss</th>\n",
       "      <th>accuracy</th>\n",
       "      <th>time</th>\n",
       "    </tr>\n",
       "  </thead>\n",
       "  <tbody>\n",
       "    <tr>\n",
       "      <td>0</td>\n",
       "      <td>0.609657</td>\n",
       "      <td>0.598150</td>\n",
       "      <td>0.686062</td>\n",
       "      <td>00:12</td>\n",
       "    </tr>\n",
       "    <tr>\n",
       "      <td>1</td>\n",
       "      <td>0.549790</td>\n",
       "      <td>0.527079</td>\n",
       "      <td>0.734100</td>\n",
       "      <td>00:15</td>\n",
       "    </tr>\n",
       "    <tr>\n",
       "      <td>2</td>\n",
       "      <td>0.459070</td>\n",
       "      <td>0.471119</td>\n",
       "      <td>0.771313</td>\n",
       "      <td>00:14</td>\n",
       "    </tr>\n",
       "  </tbody>\n",
       "</table>"
      ],
      "text/plain": [
       "<IPython.core.display.HTML object>"
      ]
     },
     "metadata": {},
     "output_type": "display_data"
    }
   ],
   "source": [
    "student.fit_one_cycle(3)"
   ]
  },
  {
   "cell_type": "markdown",
   "id": "another-dealer",
   "metadata": {},
   "source": [
    "### With KD"
   ]
  },
  {
   "cell_type": "markdown",
   "id": "metallic-webster",
   "metadata": {},
   "source": [
    "And now with the help of the teacher"
   ]
  },
  {
   "cell_type": "code",
   "execution_count": null,
   "id": "subsequent-anger",
   "metadata": {},
   "outputs": [],
   "source": [
    "student = Learner(dls, resnet18(num_classes=2), metrics=accuracy)"
   ]
  },
  {
   "cell_type": "code",
   "execution_count": null,
   "id": "novel-effects",
   "metadata": {},
   "outputs": [],
   "source": [
    "kd = KnowledgeDistillation(teacher)"
   ]
  },
  {
   "cell_type": "code",
   "execution_count": null,
   "id": "smaller-netherlands",
   "metadata": {},
   "outputs": [
    {
     "data": {
      "text/html": [
       "<table border=\"1\" class=\"dataframe\">\n",
       "  <thead>\n",
       "    <tr style=\"text-align: left;\">\n",
       "      <th>epoch</th>\n",
       "      <th>train_loss</th>\n",
       "      <th>valid_loss</th>\n",
       "      <th>accuracy</th>\n",
       "      <th>time</th>\n",
       "    </tr>\n",
       "  </thead>\n",
       "  <tbody>\n",
       "    <tr>\n",
       "      <td>0</td>\n",
       "      <td>0.791703</td>\n",
       "      <td>0.751935</td>\n",
       "      <td>0.719215</td>\n",
       "      <td>00:15</td>\n",
       "    </tr>\n",
       "    <tr>\n",
       "      <td>1</td>\n",
       "      <td>0.771823</td>\n",
       "      <td>0.641491</td>\n",
       "      <td>0.748985</td>\n",
       "      <td>00:16</td>\n",
       "    </tr>\n",
       "    <tr>\n",
       "      <td>2</td>\n",
       "      <td>0.666328</td>\n",
       "      <td>0.693159</td>\n",
       "      <td>0.786874</td>\n",
       "      <td>00:16</td>\n",
       "    </tr>\n",
       "  </tbody>\n",
       "</table>"
      ],
      "text/plain": [
       "<IPython.core.display.HTML object>"
      ]
     },
     "metadata": {},
     "output_type": "display_data"
    }
   ],
   "source": [
    "student.fit_one_cycle(3, cbs=kd)"
   ]
  }
 ],
 "metadata": {
  "kernelspec": {
   "display_name": "Python 3",
   "language": "python",
   "name": "python3"
  }
 },
 "nbformat": 4,
 "nbformat_minor": 5
}
