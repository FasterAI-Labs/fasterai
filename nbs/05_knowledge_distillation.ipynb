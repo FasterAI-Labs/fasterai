{
 "cells": [
  {
   "cell_type": "code",
   "execution_count": null,
   "id": "noted-zambia",
   "metadata": {},
   "outputs": [],
   "source": [
    "# default_exp distill.distillation_callback"
   ]
  },
  {
   "cell_type": "markdown",
   "id": "challenging-indianapolis",
   "metadata": {},
   "source": [
    "# Knowledge Distillation\n",
    "\n",
    "> Train a network in a teacher-student fashion"
   ]
  },
  {
   "cell_type": "code",
   "execution_count": null,
   "id": "failing-intermediate",
   "metadata": {},
   "outputs": [],
   "source": [
    "# all_slow"
   ]
  },
  {
   "cell_type": "code",
   "execution_count": null,
   "id": "primary-crisis",
   "metadata": {},
   "outputs": [],
   "source": [
    "#hide\n",
    "from nbdev.showdoc import *\n",
    "\n",
    "%config InlineBackend.figure_format = 'retina'"
   ]
  },
  {
   "cell_type": "code",
   "execution_count": null,
   "id": "numerous-insulin",
   "metadata": {},
   "outputs": [],
   "source": [
    "#export\n",
    "from fastai.vision.all import *"
   ]
  },
  {
   "cell_type": "code",
   "execution_count": null,
   "id": "union-prophet",
   "metadata": {},
   "outputs": [],
   "source": [
    "path = untar_data(URLs.PETS)\n",
    "files = get_image_files(path/\"images\")\n",
    "\n",
    "def label_func(f): return f[0].isupper()\n",
    "\n",
    "dls = ImageDataLoaders.from_name_func(path, files, label_func, item_tfms=Resize(64))"
   ]
  },
  {
   "cell_type": "code",
   "execution_count": null,
   "id": "rapid-california",
   "metadata": {},
   "outputs": [],
   "source": [
    "#export\n",
    "class KnowledgeDistillation(Callback):\n",
    "    def __init__(self, teacher, T:float=20., α:float=0.7):\n",
    "        store_attr()\n",
    "    \n",
    "    def after_loss(self):\n",
    "        self.teacher.model.eval()\n",
    "        teacher_output = self.teacher.model(self.x)\n",
    "        new_loss = DistillationLoss(self.pred, self.y, teacher_output, self.T, self.α)\n",
    "        self.learn.loss_grad = new_loss\n",
    "\n",
    "def DistillationLoss(y, labels, teacher_scores, T, alpha):\n",
    "    return nn.KLDivLoss(reduction='batchmean')(F.log_softmax(y/T, dim=-1), F.softmax(teacher_scores/T, dim=-1)) * (T*T * 2.0 * alpha) + F.cross_entropy(y, labels) * (1. - alpha)"
   ]
  },
  {
   "cell_type": "code",
   "execution_count": null,
   "id": "promising-exclusive",
   "metadata": {},
   "outputs": [],
   "source": [
    "teacher = cnn_learner(dls, resnet34, metrics=accuracy)\n",
    "teacher.unfreeze()"
   ]
  },
  {
   "cell_type": "code",
   "execution_count": null,
   "id": "wooden-regression",
   "metadata": {},
   "outputs": [
    {
     "data": {
      "text/html": [
       "<table border=\"1\" class=\"dataframe\">\n",
       "  <thead>\n",
       "    <tr style=\"text-align: left;\">\n",
       "      <th>epoch</th>\n",
       "      <th>train_loss</th>\n",
       "      <th>valid_loss</th>\n",
       "      <th>accuracy</th>\n",
       "      <th>time</th>\n",
       "    </tr>\n",
       "  </thead>\n",
       "  <tbody>\n",
       "    <tr>\n",
       "      <td>0</td>\n",
       "      <td>0.641291</td>\n",
       "      <td>0.531456</td>\n",
       "      <td>0.830853</td>\n",
       "      <td>00:15</td>\n",
       "    </tr>\n",
       "    <tr>\n",
       "      <td>1</td>\n",
       "      <td>0.344991</td>\n",
       "      <td>0.279878</td>\n",
       "      <td>0.899188</td>\n",
       "      <td>00:14</td>\n",
       "    </tr>\n",
       "    <tr>\n",
       "      <td>2</td>\n",
       "      <td>0.199024</td>\n",
       "      <td>0.202250</td>\n",
       "      <td>0.918809</td>\n",
       "      <td>00:14</td>\n",
       "    </tr>\n",
       "    <tr>\n",
       "      <td>3</td>\n",
       "      <td>0.116771</td>\n",
       "      <td>0.169068</td>\n",
       "      <td>0.941137</td>\n",
       "      <td>00:14</td>\n",
       "    </tr>\n",
       "    <tr>\n",
       "      <td>4</td>\n",
       "      <td>0.058538</td>\n",
       "      <td>0.159720</td>\n",
       "      <td>0.945196</td>\n",
       "      <td>00:15</td>\n",
       "    </tr>\n",
       "  </tbody>\n",
       "</table>"
      ],
      "text/plain": [
       "<IPython.core.display.HTML object>"
      ]
     },
     "metadata": {},
     "output_type": "display_data"
    }
   ],
   "source": [
    "teacher.fit_one_cycle(5)"
   ]
  },
  {
   "cell_type": "markdown",
   "id": "consecutive-recruitment",
   "metadata": {},
   "source": [
    "## Without KD"
   ]
  },
  {
   "cell_type": "code",
   "execution_count": null,
   "id": "beginning-hypothesis",
   "metadata": {},
   "outputs": [],
   "source": [
    "student = Learner(dls, resnet18(num_classes=2), metrics=accuracy)"
   ]
  },
  {
   "cell_type": "code",
   "execution_count": null,
   "id": "appointed-burst",
   "metadata": {},
   "outputs": [
    {
     "data": {
      "text/html": [
       "<table border=\"1\" class=\"dataframe\">\n",
       "  <thead>\n",
       "    <tr style=\"text-align: left;\">\n",
       "      <th>epoch</th>\n",
       "      <th>train_loss</th>\n",
       "      <th>valid_loss</th>\n",
       "      <th>accuracy</th>\n",
       "      <th>time</th>\n",
       "    </tr>\n",
       "  </thead>\n",
       "  <tbody>\n",
       "    <tr>\n",
       "      <td>0</td>\n",
       "      <td>0.609657</td>\n",
       "      <td>0.598150</td>\n",
       "      <td>0.686062</td>\n",
       "      <td>00:12</td>\n",
       "    </tr>\n",
       "    <tr>\n",
       "      <td>1</td>\n",
       "      <td>0.549790</td>\n",
       "      <td>0.527079</td>\n",
       "      <td>0.734100</td>\n",
       "      <td>00:15</td>\n",
       "    </tr>\n",
       "    <tr>\n",
       "      <td>2</td>\n",
       "      <td>0.459070</td>\n",
       "      <td>0.471119</td>\n",
       "      <td>0.771313</td>\n",
       "      <td>00:14</td>\n",
       "    </tr>\n",
       "  </tbody>\n",
       "</table>"
      ],
      "text/plain": [
       "<IPython.core.display.HTML object>"
      ]
     },
     "metadata": {},
     "output_type": "display_data"
    }
   ],
   "source": [
    "student.fit_one_cycle(3)"
   ]
  },
  {
   "cell_type": "markdown",
   "id": "another-dealer",
   "metadata": {},
   "source": [
    "## With KD"
   ]
  },
  {
   "cell_type": "code",
   "execution_count": null,
   "id": "subsequent-anger",
   "metadata": {},
   "outputs": [],
   "source": [
    "student = Learner(dls, resnet18(num_classes=2), metrics=accuracy)"
   ]
  },
  {
   "cell_type": "code",
   "execution_count": null,
   "id": "novel-effects",
   "metadata": {},
   "outputs": [],
   "source": [
    "kd = KnowledgeDistillation(teacher)"
   ]
  },
  {
   "cell_type": "code",
   "execution_count": null,
   "id": "smaller-netherlands",
   "metadata": {},
   "outputs": [
    {
     "data": {
      "text/html": [
       "<table border=\"1\" class=\"dataframe\">\n",
       "  <thead>\n",
       "    <tr style=\"text-align: left;\">\n",
       "      <th>epoch</th>\n",
       "      <th>train_loss</th>\n",
       "      <th>valid_loss</th>\n",
       "      <th>accuracy</th>\n",
       "      <th>time</th>\n",
       "    </tr>\n",
       "  </thead>\n",
       "  <tbody>\n",
       "    <tr>\n",
       "      <td>0</td>\n",
       "      <td>0.791703</td>\n",
       "      <td>0.751935</td>\n",
       "      <td>0.719215</td>\n",
       "      <td>00:15</td>\n",
       "    </tr>\n",
       "    <tr>\n",
       "      <td>1</td>\n",
       "      <td>0.771823</td>\n",
       "      <td>0.641491</td>\n",
       "      <td>0.748985</td>\n",
       "      <td>00:16</td>\n",
       "    </tr>\n",
       "    <tr>\n",
       "      <td>2</td>\n",
       "      <td>0.666328</td>\n",
       "      <td>0.693159</td>\n",
       "      <td>0.786874</td>\n",
       "      <td>00:16</td>\n",
       "    </tr>\n",
       "  </tbody>\n",
       "</table>"
      ],
      "text/plain": [
       "<IPython.core.display.HTML object>"
      ]
     },
     "metadata": {},
     "output_type": "display_data"
    }
   ],
   "source": [
    "student.fit_one_cycle(3, cbs=kd)"
   ]
  }
 ],
 "metadata": {
  "kernelspec": {
   "display_name": "Python 3",
   "language": "python",
   "name": "python3"
  }
 },
 "nbformat": 4,
 "nbformat_minor": 5
}
