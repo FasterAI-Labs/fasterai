{
 "cells": [
  {
   "cell_type": "code",
   "execution_count": null,
   "id": "noted-zambia",
   "metadata": {},
   "outputs": [],
   "source": [
    "# default_exp distill.distillation_callback"
   ]
  },
  {
   "cell_type": "markdown",
   "id": "challenging-indianapolis",
   "metadata": {},
   "source": [
    "# Knowledge Distillation\n",
    "\n",
    "> Train a network in a teacher-student fashion"
   ]
  },
  {
   "cell_type": "code",
   "execution_count": null,
   "id": "failing-intermediate",
   "metadata": {},
   "outputs": [],
   "source": [
    "# all_slow"
   ]
  },
  {
   "cell_type": "code",
   "execution_count": null,
   "id": "primary-crisis",
   "metadata": {},
   "outputs": [],
   "source": [
    "#hide\n",
    "from nbdev.showdoc import *\n",
    "\n",
    "%config InlineBackend.figure_format = 'retina'"
   ]
  },
  {
   "cell_type": "markdown",
   "id": "coral-congress",
   "metadata": {},
   "source": [
    "Knowledge Distillation, sometimes called teacher-student training, is a compression method in which a small (the student) model is trained to mimic the behaviour of a larger (the teacher) model.\n",
    "\n",
    "The main goal is to reveal what is called the **Dark Knowledge** hidden in the teacher model.\n",
    "\n",
    "If we take the same [example](https://www.ttic.edu/dl/dark14.pdf) provided by Geoffrey Hinton et al., we have"
   ]
  },
  {
   "cell_type": "markdown",
   "id": "radical-collection",
   "metadata": {},
   "source": [
    "The main problem of classification is that the output activation function (softmax) will, by design, make a single value really high and squash others."
   ]
  },
  {
   "cell_type": "markdown",
   "id": "practical-celtic",
   "metadata": {},
   "source": [
    "$$\n",
    "p_{i}=\\frac{\\exp \\left(z_{i}\\right)}{\\sum_{j} \\exp \\left(z_{j}\\right)}\n",
    "$$\n",
    "\n",
    "With $p_i$ the probability of class $i$, computed from the logits $z$"
   ]
  },
  {
   "cell_type": "markdown",
   "id": "fatal-microwave",
   "metadata": {},
   "source": [
    "Here is an example to illustrate this phenomenon:\n",
    "\n",
    "Let's say that we have trained a model to discriminate between the following 5 classes: [cow, dog, plane, cat, car]"
   ]
  },
  {
   "cell_type": "markdown",
   "id": "baking-access",
   "metadata": {},
   "source": [
    "And here is the output of the final layer (the logits) when the model is fed a new input image: "
   ]
  },
  {
   "cell_type": "code",
   "execution_count": null,
   "id": "respective-turtle",
   "metadata": {},
   "outputs": [],
   "source": [
    "logits = torch.tensor([1.3, 3.1, 0.2, 1.9, -0.3])"
   ]
  },
  {
   "cell_type": "markdown",
   "id": "interested-humidity",
   "metadata": {},
   "source": [
    "By judging on the predictions, the model seems confident that the input data is a dog and quite confident that it is definitely not a plane nor a car, with predictions for cow and cat being moderately high.\n",
    "\n",
    "So the model not only has learned to recognize a dog in the image, but also that a dog is very different from a car and a plane and share similarities with cats and cows. This information is what is called **dark knowledge** !"
   ]
  },
  {
   "cell_type": "markdown",
   "id": "acoustic-confusion",
   "metadata": {},
   "source": [
    "When passing those predictions through a softmax, we have:"
   ]
  },
  {
   "cell_type": "code",
   "execution_count": null,
   "id": "industrial-binding",
   "metadata": {},
   "outputs": [
    {
     "data": {
      "text/plain": [
       "tensor([0.0864, 0.6386, 0.0388, 0.2126, 0.0236])"
      ]
     },
     "execution_count": null,
     "metadata": {},
     "output_type": "execute_result"
    }
   ],
   "source": [
    "predictions = F.softmax(hard_preds, dim=-1); predictions"
   ]
  },
  {
   "cell_type": "markdown",
   "id": "minus-shell",
   "metadata": {},
   "source": [
    "This is accuenting the differences that we had earlier, discarding some of the dark knowledge acquired earlier. The way to keep this knowledge is to \"soften\" our softmax outputs, by adding a **temperature** parameter. The higher the temperature, the softer the predictions."
   ]
  },
  {
   "cell_type": "code",
   "execution_count": null,
   "id": "aware-grounds",
   "metadata": {},
   "outputs": [
    {
     "data": {
      "text/plain": [
       "tensor([0.1751, 0.3410, 0.1341, 0.2363, 0.1135])"
      ]
     },
     "execution_count": null,
     "metadata": {},
     "output_type": "execute_result"
    }
   ],
   "source": [
    "soft_predictions = F.softmax(hard_preds/3, dim=-1); soft_predictions"
   ]
  },
  {
   "cell_type": "markdown",
   "id": "tropical-recipient",
   "metadata": {},
   "source": [
    "> Note: if the Temperature is equal to 1, then we have regular softmax"
   ]
  },
  {
   "cell_type": "markdown",
   "id": "israeli-senate",
   "metadata": {},
   "source": [
    "When applying Knowledge Distillation, we want to keep the **Dark Knowledge** that the teacher model has acquired during its training but not rely entirely on it. So we combine two losses: \n",
    "\n",
    "- The Teacher loss between the softened predictions of the teacher and the softened predictions of the student\n",
    "- The Classification loss, which is the regular loss between hard labels and hard predictions\n",
    "\n",
    "The combination between those losses are weighted by an additional parameter α, as:\n",
    "\n",
    "$$\n",
    "L_{K D}=\\alpha  * \\text { CrossEntropy }\\left(p_{S}^{\\tau}, p_{T}^{\\tau}\\right)+(1-\\alpha) * \\text { CrossEntropy }\\left(p_{S}, y_{\\text {true }}\\right)\n",
    "$$\n",
    "\n",
    "With $p^{\\tau}$ being the softened predictions of the student and teacher"
   ]
  },
  {
   "cell_type": "markdown",
   "id": "naughty-pulse",
   "metadata": {},
   "source": [
    "> Note: In practice, the distillation loss will be a [bit different](http://cs230.stanford.edu/files_winter_2018/projects/6940224.pdf) in the implementation"
   ]
  },
  {
   "cell_type": "markdown",
   "id": "strong-hepatitis",
   "metadata": {},
   "source": [
    "![distill](imgs/distill.pdf \"Knowledge Distillation\")"
   ]
  },
  {
   "cell_type": "code",
   "execution_count": null,
   "id": "numerous-insulin",
   "metadata": {},
   "outputs": [],
   "source": [
    "#export\n",
    "from fastai.vision.all import *\n",
    "\n",
    "import torch\n",
    "import torch.nn as nn\n",
    "import torch.nn.functional as F"
   ]
  },
  {
   "cell_type": "markdown",
   "id": "large-hardware",
   "metadata": {},
   "source": [
    "This can be done with fastai, using the Callback system !"
   ]
  },
  {
   "cell_type": "code",
   "execution_count": null,
   "id": "rapid-california",
   "metadata": {},
   "outputs": [],
   "source": [
    "#export\n",
    "class KnowledgeDistillation(Callback):\n",
    "    def __init__(self, teacher, loss):\n",
    "        store_attr()\n",
    "\n",
    "    def after_loss(self):\n",
    "        self.teacher.model.eval()\n",
    "        teacher_output = self.teacher.model(self.x)\n",
    "        new_loss = self.loss(self.pred, self.y, teacher_output, student=self.learn.model, teacher=self.teacher.model)\n",
    "        self.learn.loss_grad = new_loss\n",
    "        self.learn.loss = self.learn.loss_grad.clone()"
   ]
  },
  {
   "cell_type": "markdown",
   "id": "9e2adffb",
   "metadata": {},
   "source": [
    "The loss function that is used may depend on the use case. For classification, we usually use the one presented above, named `SoftTarget` in fasterai. But for regression cases, we may want to perform regression on the logits directly."
   ]
  },
  {
   "cell_type": "code",
   "execution_count": null,
   "id": "44a8616f",
   "metadata": {},
   "outputs": [],
   "source": [
    "#export\n",
    "def SoftTarget(y, labels, teacher_scores, T=20, α=0.7, **kwargs):\n",
    "    return nn.KLDivLoss(reduction='batchmean')(F.log_softmax(y/T, dim=-1), F.softmax(teacher_scores/T, dim=-1)) * (T*T * 2.0 * α) + F.cross_entropy(y, labels) * (1. - α)\n",
    "\n",
    "def LogitsRegression(y, labels, teacher_scores, **kwargs):\n",
    "    return F.mse_loss(y, teacher_scores)\n",
    "\n",
    "def WeightRegression(y, labels, teacher_scores, student, teacher, α=0.5, **kwargs):\n",
    "    loss = 0\n",
    "    for m1, m2 in zip(student.modules(), teacher.modules()):\n",
    "        if isinstance(m1, nn.Conv2d) or isinstance(m1, nn.Linear):\n",
    "            loss += F.mse_loss(m1.weight.to(device), m2.weight.to(device))\n",
    "    return α*loss + F.cross_entropy(y, labels) * (1. - α)"
   ]
  }
 ],
 "metadata": {
  "kernelspec": {
   "display_name": "Python 3 (ipykernel)",
   "language": "python",
   "name": "python3"
  }
 },
 "nbformat": 4,
 "nbformat_minor": 5
}
