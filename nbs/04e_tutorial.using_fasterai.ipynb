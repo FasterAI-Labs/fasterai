{
 "cells": [
  {
   "cell_type": "markdown",
   "id": "02595314",
   "metadata": {},
   "source": [
    "# How to use FasterAI\n",
    "\n",
    "> A guide on FasterAI capabilities"
   ]
  },
  {
   "cell_type": "code",
   "execution_count": null,
   "id": "16c7bb68",
   "metadata": {},
   "outputs": [],
   "source": [
    "#all_slow"
   ]
  },
  {
   "cell_type": "code",
   "execution_count": null,
   "id": "4669f87c",
   "metadata": {},
   "outputs": [],
   "source": [
    "from fastai.vision.all import *"
   ]
  },
  {
   "cell_type": "code",
   "execution_count": null,
   "id": "dd812e13",
   "metadata": {},
   "outputs": [],
   "source": [
    "#hide\n",
    "def get_dls(size, bs):\n",
    "    path = URLs.IMAGENETTE_320\n",
    "    source = untar_data(path)\n",
    "    blocks=(ImageBlock, CategoryBlock)\n",
    "    tfms = [RandomResizedCrop(size, min_scale=0.35), FlipItem(0.5)]\n",
    "    batch_tfms = [Normalize.from_stats(*imagenet_stats)]\n",
    "\n",
    "    csv_file = 'noisy_imagenette.csv'\n",
    "    inp = pd.read_csv(source/csv_file)\n",
    "    dblock = DataBlock(blocks=blocks,\n",
    "               splitter=ColSplitter(),\n",
    "               get_x=ColReader('path', pref=source),\n",
    "               get_y=ColReader(f'noisy_labels_0'),\n",
    "               item_tfms=tfms,\n",
    "               batch_tfms=batch_tfms)\n",
    "\n",
    "    return dblock.dataloaders(inp, path=source, bs=bs)"
   ]
  },
  {
   "cell_type": "code",
   "execution_count": null,
   "id": "bbcceec0",
   "metadata": {},
   "outputs": [],
   "source": [
    "def count_parameters(model):\n",
    "    num_params = sum(p.numel() for p in model.parameters())\n",
    "    print(f'Total parameters : {num_params:,}' )"
   ]
  },
  {
   "cell_type": "code",
   "execution_count": null,
   "id": "3a5b4d63",
   "metadata": {},
   "outputs": [],
   "source": [
    "def print_sparsity(model):\n",
    "    for k,m in enumerate(model.modules()):\n",
    "        if isinstance(m, nn.Conv2d):\n",
    "            print(f\"Sparsity in {m.__class__.__name__} {k}: {100. * float(torch.sum(m.weight == 0))/ float(m.weight.nelement()):.2f}%\")"
   ]
  },
  {
   "cell_type": "code",
   "execution_count": null,
   "id": "15fc38d6",
   "metadata": {},
   "outputs": [],
   "source": [
    "size, bs = 128, 16\n",
    "dls = get_dls(size, bs)"
   ]
  },
  {
   "cell_type": "markdown",
   "id": "aba2375b",
   "metadata": {},
   "source": [
    "Let's start with a bit of context for the purpose of the demonstration. Imagine that we want to deploy a **VGG16** model on a mobile device that has limited storage capacity and that our task requires our model to run sufficiently fast. It is known that parameters and speed efficiency are not the strong points of **VGG16** but let's see what we can do with it."
   ]
  },
  {
   "cell_type": "markdown",
   "id": "4ba4137a",
   "metadata": {},
   "source": [
    "Let's first check the number of parameters and the inference time of **VGG16**."
   ]
  },
  {
   "cell_type": "code",
   "execution_count": null,
   "id": "d630d029",
   "metadata": {},
   "outputs": [],
   "source": [
    "learn = Learner(dls, models.vgg16_bn(num_classes=10), metrics=[accuracy])"
   ]
  },
  {
   "cell_type": "markdown",
   "id": "7fee7ac1",
   "metadata": {},
   "source": [
    "So, **VGG16** has **134** millions of parameters"
   ]
  },
  {
   "cell_type": "code",
   "execution_count": null,
   "id": "d48b966e",
   "metadata": {},
   "outputs": [
    {
     "name": "stdout",
     "output_type": "stream",
     "text": [
      "Total parameters : 134,309,962\n"
     ]
    }
   ],
   "source": [
    "count_parameters(learn.model)"
   ]
  },
  {
   "cell_type": "markdown",
   "id": "04b6840b",
   "metadata": {},
   "source": [
    "And takes **5.54ms** to perform inference on a single image."
   ]
  },
  {
   "cell_type": "code",
   "execution_count": null,
   "id": "615c615c",
   "metadata": {},
   "outputs": [],
   "source": [
    "model = learn.model.eval().cuda()\n",
    "x,y = dls.one_batch()"
   ]
  },
  {
   "cell_type": "code",
   "execution_count": null,
   "id": "d084dee6",
   "metadata": {},
   "outputs": [
    {
     "name": "stdout",
     "output_type": "stream",
     "text": [
      "5.54 ms ± 240 µs per loop (mean ± std. dev. of 7 runs, 1 loop each)\n"
     ]
    }
   ],
   "source": [
    "%%timeit\n",
    "model(x[0][None].cuda())"
   ]
  },
  {
   "cell_type": "markdown",
   "id": "ad94bce0",
   "metadata": {},
   "source": [
    "Snap ! This is more than we can afford for deployment, ideally we would like our model to take only half of that...but should we give up ? Nope, there are actually a lot of techniques that we can use to help reducing the size and improve the speed of our models! Let's see how to apply them with **FasterAI**."
   ]
  },
  {
   "cell_type": "markdown",
   "id": "466427f7",
   "metadata": {},
   "source": [
    "<br>"
   ]
  },
  {
   "cell_type": "markdown",
   "id": "f7422e50",
   "metadata": {},
   "source": [
    "We will first train our **VGG16** model to have a **baseline** of what performance we should expect from it."
   ]
  },
  {
   "cell_type": "code",
   "execution_count": null,
   "id": "3c2f5a4a",
   "metadata": {},
   "outputs": [
    {
     "data": {
      "text/html": [
       "\n",
       "<style>\n",
       "    /* Turns off some styling */\n",
       "    progress {\n",
       "        /* gets rid of default border in Firefox and Opera. */\n",
       "        border: none;\n",
       "        /* Needs to be in here for Safari polyfill so background images work as expected. */\n",
       "        background-size: auto;\n",
       "    }\n",
       "    .progress-bar-interrupted, .progress-bar-interrupted::-webkit-progress-bar {\n",
       "        background: #F44336;\n",
       "    }\n",
       "</style>\n"
      ],
      "text/plain": [
       "<IPython.core.display.HTML object>"
      ]
     },
     "metadata": {},
     "output_type": "display_data"
    },
    {
     "data": {
      "text/html": [
       "<table border=\"1\" class=\"dataframe\">\n",
       "  <thead>\n",
       "    <tr style=\"text-align: left;\">\n",
       "      <th>epoch</th>\n",
       "      <th>train_loss</th>\n",
       "      <th>valid_loss</th>\n",
       "      <th>accuracy</th>\n",
       "      <th>time</th>\n",
       "    </tr>\n",
       "  </thead>\n",
       "  <tbody>\n",
       "    <tr>\n",
       "      <td>0</td>\n",
       "      <td>2.045154</td>\n",
       "      <td>1.757391</td>\n",
       "      <td>0.425223</td>\n",
       "      <td>01:08</td>\n",
       "    </tr>\n",
       "    <tr>\n",
       "      <td>1</td>\n",
       "      <td>1.742665</td>\n",
       "      <td>1.565325</td>\n",
       "      <td>0.499108</td>\n",
       "      <td>01:07</td>\n",
       "    </tr>\n",
       "    <tr>\n",
       "      <td>2</td>\n",
       "      <td>1.480350</td>\n",
       "      <td>1.239429</td>\n",
       "      <td>0.597197</td>\n",
       "      <td>01:07</td>\n",
       "    </tr>\n",
       "    <tr>\n",
       "      <td>3</td>\n",
       "      <td>1.260411</td>\n",
       "      <td>1.147262</td>\n",
       "      <td>0.641529</td>\n",
       "      <td>01:07</td>\n",
       "    </tr>\n",
       "    <tr>\n",
       "      <td>4</td>\n",
       "      <td>1.142973</td>\n",
       "      <td>1.085112</td>\n",
       "      <td>0.656051</td>\n",
       "      <td>01:08</td>\n",
       "    </tr>\n",
       "    <tr>\n",
       "      <td>5</td>\n",
       "      <td>0.990731</td>\n",
       "      <td>0.805770</td>\n",
       "      <td>0.749809</td>\n",
       "      <td>01:07</td>\n",
       "    </tr>\n",
       "    <tr>\n",
       "      <td>6</td>\n",
       "      <td>0.830559</td>\n",
       "      <td>0.766576</td>\n",
       "      <td>0.761783</td>\n",
       "      <td>01:08</td>\n",
       "    </tr>\n",
       "    <tr>\n",
       "      <td>7</td>\n",
       "      <td>0.778474</td>\n",
       "      <td>0.646047</td>\n",
       "      <td>0.796943</td>\n",
       "      <td>01:08</td>\n",
       "    </tr>\n",
       "    <tr>\n",
       "      <td>8</td>\n",
       "      <td>0.638642</td>\n",
       "      <td>0.615775</td>\n",
       "      <td>0.808408</td>\n",
       "      <td>01:08</td>\n",
       "    </tr>\n",
       "    <tr>\n",
       "      <td>9</td>\n",
       "      <td>0.693272</td>\n",
       "      <td>0.609358</td>\n",
       "      <td>0.805350</td>\n",
       "      <td>01:07</td>\n",
       "    </tr>\n",
       "  </tbody>\n",
       "</table>"
      ],
      "text/plain": [
       "<IPython.core.display.HTML object>"
      ]
     },
     "metadata": {},
     "output_type": "display_data"
    }
   ],
   "source": [
    "learn.fit_one_cycle(10, 1e-4)"
   ]
  },
  {
   "cell_type": "markdown",
   "id": "d59c07eb",
   "metadata": {},
   "source": [
    "So we would like our network to have comparable accuracy but fewer parameters and running faster... And the first technique that we will show how to use is called **Knowledge Distillation**"
   ]
  },
  {
   "cell_type": "markdown",
   "id": "0e432c28",
   "metadata": {},
   "source": [
    "<br>"
   ]
  },
  {
   "cell_type": "markdown",
   "id": "5503c5d8",
   "metadata": {},
   "source": [
    "---"
   ]
  },
  {
   "cell_type": "markdown",
   "id": "f6a3370f",
   "metadata": {},
   "source": [
    "<br>"
   ]
  },
  {
   "cell_type": "markdown",
   "id": "0f627246",
   "metadata": {},
   "source": [
    "## **Knowledge Distillation**"
   ]
  },
  {
   "cell_type": "markdown",
   "id": "a25eac04",
   "metadata": {},
   "source": [
    "Knowledge distillation is a simple yet very efficient way to train a model. It was introduced in 2006 by [Caruana et al.](https://www.cs.cornell.edu/~caruana/compression.kdd06.pdf). The main idea behind is to use a small model (called the **student**) to approximate the function learned by a larger and high-performing model (called the **teacher**). This can be done by using the large model to pseudo-label the data. This idea has been used very recently to [break the state-of-the-art accuracy on ImageNet](https://arxiv.org/abs/1911.04252).\n",
    "\n",
    "When we train our model for classification, we usually use a softmax as last layer. This softmax has the particularity to squish low value logits towards **0**, and the highest logit towards **1**. This has for effect to completely lose all the inter-class information, or what is sometimes called the *dark knowledge*. This is the information that is valuable and that we want to transfer from the teacher to the student.\n",
    "\n",
    "To do so, we still use a regular classification loss but at the same time, we'll use another loss, computed between the *softened* logits of the teacher (our *soft labels*) and the *softened* logits of the student (our *soft predictions*). Those soft values are obtained when you use a **soft-softmax**, that avoids squishing the values at its output. Our implementation follows [this paper](http://cs230.stanford.edu/files_winter_2018/projects/6940224.pdf) and the basic principle of training is represented in the figure below:"
   ]
  },
  {
   "cell_type": "markdown",
   "id": "5f38774c",
   "metadata": {},
   "source": [
    "<br>"
   ]
  },
  {
   "cell_type": "markdown",
   "id": "a14e3b7b",
   "metadata": {},
   "source": [
    "<img src=\"imgs/distill.pdf\"> "
   ]
  },
  {
   "cell_type": "markdown",
   "id": "507e8947",
   "metadata": {},
   "source": [
    "To use **Knowledge Distillation** with FasterAI, you only need to use this callback when training your student model:"
   ]
  },
  {
   "cell_type": "markdown",
   "id": "6149d8c9",
   "metadata": {},
   "source": [
    "<br>\n",
    "\n",
    "<blockquote>\n",
    "<pre><b><i> KnowledgeDistillation(teacher.model, loss) </i></b></pre>\n",
    "<p style=\"font-size: 15px\"><i>\n",
    "You only need to give to the callback function your teacher learner. Behind the scenes, FasterAI will take care of making your model train using knowledge distillation.\n",
    "</i></p>\n",
    "</blockquote>"
   ]
  },
  {
   "cell_type": "markdown",
   "id": "83011770",
   "metadata": {},
   "source": [
    "<br>"
   ]
  },
  {
   "cell_type": "code",
   "execution_count": null,
   "id": "fae4a926",
   "metadata": {},
   "outputs": [],
   "source": [
    "from fasterai.distill.all import *"
   ]
  },
  {
   "cell_type": "markdown",
   "id": "3e60472a",
   "metadata": {},
   "source": [
    "The first thing to do is to find a teacher, which can be any model, that preferrably performs well. We will chose **VGG19** for our demonstration. To make sure it performs better than our **VGG16** model, let's start from a pretrained version."
   ]
  },
  {
   "cell_type": "code",
   "execution_count": null,
   "id": "d4be1f0a",
   "metadata": {},
   "outputs": [
    {
     "name": "stderr",
     "output_type": "stream",
     "text": [
      "/home/HubensN/miniconda3/envs/deep/lib/python3.8/site-packages/fastai/vision/learner.py:265: UserWarning: `cnn_learner` has been renamed to `vision_learner` -- please update your code\n",
      "  warn(\"`cnn_learner` has been renamed to `vision_learner` -- please update your code\")\n"
     ]
    },
    {
     "data": {
      "text/html": [
       "\n",
       "<style>\n",
       "    /* Turns off some styling */\n",
       "    progress {\n",
       "        /* gets rid of default border in Firefox and Opera. */\n",
       "        border: none;\n",
       "        /* Needs to be in here for Safari polyfill so background images work as expected. */\n",
       "        background-size: auto;\n",
       "    }\n",
       "    .progress-bar-interrupted, .progress-bar-interrupted::-webkit-progress-bar {\n",
       "        background: #F44336;\n",
       "    }\n",
       "</style>\n"
      ],
      "text/plain": [
       "<IPython.core.display.HTML object>"
      ]
     },
     "metadata": {},
     "output_type": "display_data"
    },
    {
     "data": {
      "text/html": [
       "<table border=\"1\" class=\"dataframe\">\n",
       "  <thead>\n",
       "    <tr style=\"text-align: left;\">\n",
       "      <th>epoch</th>\n",
       "      <th>train_loss</th>\n",
       "      <th>valid_loss</th>\n",
       "      <th>accuracy</th>\n",
       "      <th>time</th>\n",
       "    </tr>\n",
       "  </thead>\n",
       "  <tbody>\n",
       "    <tr>\n",
       "      <td>0</td>\n",
       "      <td>0.674759</td>\n",
       "      <td>0.289090</td>\n",
       "      <td>0.912357</td>\n",
       "      <td>00:36</td>\n",
       "    </tr>\n",
       "    <tr>\n",
       "      <td>1</td>\n",
       "      <td>0.403283</td>\n",
       "      <td>0.180294</td>\n",
       "      <td>0.946752</td>\n",
       "      <td>00:36</td>\n",
       "    </tr>\n",
       "    <tr>\n",
       "      <td>2</td>\n",
       "      <td>0.396881</td>\n",
       "      <td>0.176295</td>\n",
       "      <td>0.945223</td>\n",
       "      <td>00:36</td>\n",
       "    </tr>\n",
       "  </tbody>\n",
       "</table>"
      ],
      "text/plain": [
       "<IPython.core.display.HTML object>"
      ]
     },
     "metadata": {},
     "output_type": "display_data"
    }
   ],
   "source": [
    "teacher = cnn_learner(dls, models.vgg19_bn, metrics=[accuracy])\n",
    "teacher.fit_one_cycle(3, 1e-4)"
   ]
  },
  {
   "cell_type": "markdown",
   "id": "c3e84276",
   "metadata": {},
   "source": [
    "Our teacher has **97.4%** of accuracy which is pretty good, it is ready to take a student under its wing. So let's create our student model and train it with the **Knowledge Distillation** callback:"
   ]
  },
  {
   "cell_type": "code",
   "execution_count": null,
   "id": "3e0a3004",
   "metadata": {},
   "outputs": [
    {
     "data": {
      "text/html": [
       "\n",
       "<style>\n",
       "    /* Turns off some styling */\n",
       "    progress {\n",
       "        /* gets rid of default border in Firefox and Opera. */\n",
       "        border: none;\n",
       "        /* Needs to be in here for Safari polyfill so background images work as expected. */\n",
       "        background-size: auto;\n",
       "    }\n",
       "    .progress-bar-interrupted, .progress-bar-interrupted::-webkit-progress-bar {\n",
       "        background: #F44336;\n",
       "    }\n",
       "</style>\n"
      ],
      "text/plain": [
       "<IPython.core.display.HTML object>"
      ]
     },
     "metadata": {},
     "output_type": "display_data"
    },
    {
     "data": {
      "text/html": [
       "<table border=\"1\" class=\"dataframe\">\n",
       "  <thead>\n",
       "    <tr style=\"text-align: left;\">\n",
       "      <th>epoch</th>\n",
       "      <th>train_loss</th>\n",
       "      <th>valid_loss</th>\n",
       "      <th>accuracy</th>\n",
       "      <th>time</th>\n",
       "    </tr>\n",
       "  </thead>\n",
       "  <tbody>\n",
       "    <tr>\n",
       "      <td>0</td>\n",
       "      <td>7.487010</td>\n",
       "      <td>6.192549</td>\n",
       "      <td>0.446369</td>\n",
       "      <td>01:37</td>\n",
       "    </tr>\n",
       "    <tr>\n",
       "      <td>1</td>\n",
       "      <td>5.470930</td>\n",
       "      <td>6.126627</td>\n",
       "      <td>0.469809</td>\n",
       "      <td>01:37</td>\n",
       "    </tr>\n",
       "    <tr>\n",
       "      <td>2</td>\n",
       "      <td>4.444192</td>\n",
       "      <td>5.306108</td>\n",
       "      <td>0.592102</td>\n",
       "      <td>01:37</td>\n",
       "    </tr>\n",
       "    <tr>\n",
       "      <td>3</td>\n",
       "      <td>4.153715</td>\n",
       "      <td>3.482993</td>\n",
       "      <td>0.669554</td>\n",
       "      <td>01:37</td>\n",
       "    </tr>\n",
       "    <tr>\n",
       "      <td>4</td>\n",
       "      <td>3.522233</td>\n",
       "      <td>2.846554</td>\n",
       "      <td>0.742166</td>\n",
       "      <td>01:37</td>\n",
       "    </tr>\n",
       "    <tr>\n",
       "      <td>5</td>\n",
       "      <td>3.066324</td>\n",
       "      <td>2.738527</td>\n",
       "      <td>0.739363</td>\n",
       "      <td>01:37</td>\n",
       "    </tr>\n",
       "    <tr>\n",
       "      <td>6</td>\n",
       "      <td>2.732183</td>\n",
       "      <td>2.394343</td>\n",
       "      <td>0.768917</td>\n",
       "      <td>01:37</td>\n",
       "    </tr>\n",
       "    <tr>\n",
       "      <td>7</td>\n",
       "      <td>2.329082</td>\n",
       "      <td>2.012312</td>\n",
       "      <td>0.811720</td>\n",
       "      <td>01:37</td>\n",
       "    </tr>\n",
       "    <tr>\n",
       "      <td>8</td>\n",
       "      <td>2.095640</td>\n",
       "      <td>1.827197</td>\n",
       "      <td>0.822166</td>\n",
       "      <td>01:37</td>\n",
       "    </tr>\n",
       "    <tr>\n",
       "      <td>9</td>\n",
       "      <td>2.006221</td>\n",
       "      <td>1.837958</td>\n",
       "      <td>0.817580</td>\n",
       "      <td>01:37</td>\n",
       "    </tr>\n",
       "  </tbody>\n",
       "</table>"
      ],
      "text/plain": [
       "<IPython.core.display.HTML object>"
      ]
     },
     "metadata": {},
     "output_type": "display_data"
    }
   ],
   "source": [
    "student = Learner(dls, models.vgg16_bn(num_classes=10), metrics=[accuracy])\n",
    "kd_cb = KnowledgeDistillationCallback(teacher.model, SoftTarget)\n",
    "student.fit_one_cycle(10, 1e-4, cbs=kd_cb)"
   ]
  },
  {
   "cell_type": "markdown",
   "id": "2dc60d7d",
   "metadata": {},
   "source": [
    "And we can see that indeed, the knowledge of the teacher was useful for the student, as it is clearly overperforming the vanilla **VGG16**."
   ]
  },
  {
   "cell_type": "markdown",
   "id": "139a138b",
   "metadata": {},
   "source": [
    "Ok, so now we are able to get more from a given model which is kind of cool ! With some experimentations we could come up with a model smaller than **VGG16** but able to reach the same performance as our baseline! You can try to find it by yourself later, but for now let's continue with the next technique !"
   ]
  },
  {
   "cell_type": "markdown",
   "id": "89ddb841",
   "metadata": {},
   "source": [
    "<br>"
   ]
  },
  {
   "cell_type": "markdown",
   "id": "422f2e6f",
   "metadata": {},
   "source": [
    "---"
   ]
  },
  {
   "cell_type": "markdown",
   "id": "7c33622f",
   "metadata": {},
   "source": [
    "<br>"
   ]
  },
  {
   "cell_type": "markdown",
   "id": "4d6b17b3",
   "metadata": {},
   "source": [
    "## **Sparsifying**"
   ]
  },
  {
   "cell_type": "markdown",
   "id": "0b87919d",
   "metadata": {},
   "source": [
    "Now that we have a student model that is performing better than our baseline, we have some room to compress it. And we'll start by making the network sparse. As explained in a previous [article](https://nathanhubens.github.io/posts/deep%20learning/2020/05/22/pruning.html), there are many ways leading to a sparse network.\n"
   ]
  },
  {
   "cell_type": "markdown",
   "id": "b065c8dc",
   "metadata": {},
   "source": [
    "<br>"
   ]
  },
  {
   "cell_type": "markdown",
   "id": "8a93883e",
   "metadata": {},
   "source": [
    "> Note: Usually, the process of making a network sparse is called Pruning. I prefer using the term Pruning when parameters are **actually** removed from the network, which we will do in the next section. "
   ]
  },
  {
   "cell_type": "markdown",
   "id": "ae2b665f",
   "metadata": {},
   "source": [
    "<br>\n",
    "\n",
    "!['Pruning'](imgs/schedules.pdf)\n",
    "\n",
    "<br>"
   ]
  },
  {
   "cell_type": "markdown",
   "id": "9588836e",
   "metadata": {},
   "source": [
    "By default, FasterAI uses the **Automated Gradual Pruning** paradigm as it removes parameters as the model trains and doesn't require to pretrain the model, so it is usually much faster. In FasterAI, this is also managed by using a callback, that will replace the *least important* parameters of your model by zeroes during the training. The callback has a wide variety of parameters to tune your **Sparsifying** operation, let's take a look at them:"
   ]
  },
  {
   "cell_type": "markdown",
   "id": "a05e38ab",
   "metadata": {},
   "source": [
    "<br>"
   ]
  },
  {
   "cell_type": "markdown",
   "id": "75bc8b14",
   "metadata": {},
   "source": [
    "<blockquote>\n",
    "    <pre><b><i>SparsifyCallback(learn, sparsity, granularity, context, criteria, schedule)</i></b></pre>\n",
    "\n",
    "<ul><i>\n",
    "<li style=\"font-size:15px\"><b>sparsity</b>: the percentage of sparsity that you want in your network </li>\n",
    "<li style=\"font-size:15px\"><b>granularity</b>: on what granularity you want the sparsification to be operated (currently supported: <code>weight</code>, <code>filter</code>)</li>\n",
    "<li style=\"font-size:15px\"><b>method</b>: either <code>local</code> or <code>global</code>, will affect the selection of parameters to be choosen in each layer independently (<code>local</code>) or on the whole network (<code>global</code>).</li>\n",
    "<li style=\"font-size:15px\"><b>criteria</b>: the criteria used to select which parameters to remove (currently supported: <code>l1</code>, <code>taylor</code>)</li>\n",
    "<li style=\"font-size:15px\"><b>schedule</b>: which schedule you want to follow for the sparsification (currently supported: <a href=\"https://docs.fast.ai/callback.html#Annealing-functions\">any scheduling function of fastai</a>, i.e <code>annealing_linear</code>, <code>annealing_cos</code>, ... and <code>annealing_gradual</code>, common schedules such as One-Shot, Iterative or <a href=\"https://openreview.net/pdf?id=Sy1iIDkPM\">Automated Gradual</a>)</li>\n",
    "</i></ul>\n",
    "</blockquote>"
   ]
  },
  {
   "cell_type": "markdown",
   "id": "144f91b4",
   "metadata": {},
   "source": [
    "<br>"
   ]
  },
  {
   "cell_type": "markdown",
   "id": "f6fe7ef5",
   "metadata": {},
   "source": [
    "**But let's come back to our example!**"
   ]
  },
  {
   "cell_type": "code",
   "execution_count": null,
   "id": "594743cd",
   "metadata": {},
   "outputs": [],
   "source": [
    "#hide\n",
    "from fasterai.sparse.all import *"
   ]
  },
  {
   "cell_type": "markdown",
   "id": "271dd40c",
   "metadata": {},
   "source": [
    "Here, we will make our network **40%** sparse, and remove entire **filters**, selected **locally** and based on **L1 norm**. We will train with a learning rate a bit smaller to be gentle with our network because it has already been trained. The **scheduling** selected is cosinusoidal, so the pruning starts and ends quite slowly."
   ]
  },
  {
   "cell_type": "code",
   "execution_count": null,
   "id": "58273b0a",
   "metadata": {},
   "outputs": [
    {
     "name": "stdout",
     "output_type": "stream",
     "text": [
      "Pruning of filter until a sparsity of [50]%\n",
      "Saving Weights at epoch 0\n"
     ]
    },
    {
     "data": {
      "text/html": [
       "\n",
       "<style>\n",
       "    /* Turns off some styling */\n",
       "    progress {\n",
       "        /* gets rid of default border in Firefox and Opera. */\n",
       "        border: none;\n",
       "        /* Needs to be in here for Safari polyfill so background images work as expected. */\n",
       "        background-size: auto;\n",
       "    }\n",
       "    .progress-bar-interrupted, .progress-bar-interrupted::-webkit-progress-bar {\n",
       "        background: #F44336;\n",
       "    }\n",
       "</style>\n"
      ],
      "text/plain": [
       "<IPython.core.display.HTML object>"
      ]
     },
     "metadata": {},
     "output_type": "display_data"
    },
    {
     "data": {
      "text/html": [
       "<table border=\"1\" class=\"dataframe\">\n",
       "  <thead>\n",
       "    <tr style=\"text-align: left;\">\n",
       "      <th>epoch</th>\n",
       "      <th>train_loss</th>\n",
       "      <th>valid_loss</th>\n",
       "      <th>accuracy</th>\n",
       "      <th>time</th>\n",
       "    </tr>\n",
       "  </thead>\n",
       "  <tbody>\n",
       "    <tr>\n",
       "      <td>0</td>\n",
       "      <td>0.604952</td>\n",
       "      <td>0.570446</td>\n",
       "      <td>0.817834</td>\n",
       "      <td>01:05</td>\n",
       "    </tr>\n",
       "    <tr>\n",
       "      <td>1</td>\n",
       "      <td>0.608648</td>\n",
       "      <td>0.560816</td>\n",
       "      <td>0.823694</td>\n",
       "      <td>01:05</td>\n",
       "    </tr>\n",
       "    <tr>\n",
       "      <td>2</td>\n",
       "      <td>0.594311</td>\n",
       "      <td>0.562816</td>\n",
       "      <td>0.826497</td>\n",
       "      <td>01:05</td>\n",
       "    </tr>\n",
       "    <tr>\n",
       "      <td>3</td>\n",
       "      <td>0.634639</td>\n",
       "      <td>0.575046</td>\n",
       "      <td>0.822675</td>\n",
       "      <td>01:05</td>\n",
       "    </tr>\n",
       "    <tr>\n",
       "      <td>4</td>\n",
       "      <td>0.605929</td>\n",
       "      <td>0.571302</td>\n",
       "      <td>0.816561</td>\n",
       "      <td>01:05</td>\n",
       "    </tr>\n",
       "  </tbody>\n",
       "</table>"
      ],
      "text/plain": [
       "<IPython.core.display.HTML object>"
      ]
     },
     "metadata": {},
     "output_type": "display_data"
    },
    {
     "name": "stdout",
     "output_type": "stream",
     "text": [
      "Sparsity at the end of epoch 0: [4.77]%\n",
      "Sparsity at the end of epoch 1: [17.27]%\n",
      "Sparsity at the end of epoch 2: [32.73]%\n",
      "Sparsity at the end of epoch 3: [45.23]%\n",
      "Sparsity at the end of epoch 4: [50.0]%\n",
      "Final Sparsity: [50.0]%\n",
      "Sparsity in Conv2d 2: 0.00%\n",
      "Sparsity in Conv2d 5: 0.00%\n",
      "Sparsity in Conv2d 9: 0.00%\n",
      "Sparsity in Conv2d 12: 0.00%\n",
      "Sparsity in Conv2d 16: 0.00%\n",
      "Sparsity in Conv2d 19: 0.00%\n",
      "Sparsity in Conv2d 22: 0.00%\n",
      "Sparsity in Conv2d 26: 64.26%\n",
      "Sparsity in Conv2d 29: 70.70%\n",
      "Sparsity in Conv2d 32: 71.88%\n",
      "Sparsity in Conv2d 36: 71.29%\n",
      "Sparsity in Conv2d 39: 70.51%\n",
      "Sparsity in Conv2d 42: 63.87%\n"
     ]
    }
   ],
   "source": [
    "sp_cb = SparsifyCallback(sparsity=50, granularity='filter', context='global', criteria=large_final, schedule=cos)\n",
    "student.fit(5, 1e-5, cbs=sp_cb)"
   ]
  },
  {
   "cell_type": "markdown",
   "id": "07bffc84",
   "metadata": {},
   "source": [
    "Our network now has **50%** of its filters composed entirely of zeroes, without even losing accuracy. Obviously, choosing a higher sparsity, makes it more difficult for the network to keep a similar accuracy. Other parameters can also widely change the behaviour of our sparsification process. For example choosing a more fine-grained sparsity usually leads to better results but is then more difficult to take advantage of in terms of speed."
   ]
  },
  {
   "cell_type": "markdown",
   "id": "5cce8e37",
   "metadata": {},
   "source": [
    "<br>"
   ]
  },
  {
   "cell_type": "markdown",
   "id": "9511cfb0",
   "metadata": {},
   "source": [
    "Let's now see how much we gained in terms of speed. Because we removed **50%** of convolution filters, we should expect crazy speed-up right ? "
   ]
  },
  {
   "cell_type": "code",
   "execution_count": null,
   "id": "21766e92",
   "metadata": {},
   "outputs": [],
   "source": [
    "model = student.model.eval()"
   ]
  },
  {
   "cell_type": "code",
   "execution_count": null,
   "id": "a4800518",
   "metadata": {},
   "outputs": [
    {
     "name": "stdout",
     "output_type": "stream",
     "text": [
      "4.26 ms ± 20.1 µs per loop (mean ± std. dev. of 7 runs, 100 loops each)\n"
     ]
    }
   ],
   "source": [
    "%%timeit\n",
    "model(x[0][None].cuda())"
   ]
  },
  {
   "cell_type": "markdown",
   "id": "270d5f94",
   "metadata": {},
   "source": [
    "Well actually, no. We didn't remove any parameters, we just replaced some by zeroes, remember? The amount of parameters is still the same:"
   ]
  },
  {
   "cell_type": "code",
   "execution_count": null,
   "id": "c6590ee4",
   "metadata": {},
   "outputs": [
    {
     "name": "stdout",
     "output_type": "stream",
     "text": [
      "Total parameters : 134,309,962\n"
     ]
    }
   ],
   "source": [
    "count_parameters(model)"
   ]
  },
  {
   "cell_type": "markdown",
   "id": "7d4be3ee",
   "metadata": {},
   "source": [
    "Which leads us to the next section."
   ]
  },
  {
   "cell_type": "markdown",
   "id": "7004632d",
   "metadata": {},
   "source": [
    "<br>"
   ]
  },
  {
   "cell_type": "markdown",
   "id": "4aa03dcd",
   "metadata": {},
   "source": [
    "---"
   ]
  },
  {
   "cell_type": "markdown",
   "id": "cbb8e603",
   "metadata": {},
   "source": [
    "<br>"
   ]
  },
  {
   "cell_type": "markdown",
   "id": "61dc00ce",
   "metadata": {},
   "source": [
    "## **Pruning**"
   ]
  },
  {
   "cell_type": "markdown",
   "id": "7907cec7",
   "metadata": {},
   "source": [
    "> Important: This is currently only supported for fully-feedforward models such as VGG-like models as more complex architectures require increasingly difficult and usually model-dependant implementations."
   ]
  },
  {
   "cell_type": "markdown",
   "id": "dce51808",
   "metadata": {},
   "source": [
    "<br>"
   ]
  },
  {
   "cell_type": "markdown",
   "id": "7cf28720",
   "metadata": {},
   "source": [
    "Why don't we see any acceleration even though we removed half of the parameters? That's because natively, our **GPU** does not know that our matrices are sparse and thus isn't able to accelerate the computation. The easiest work around, is to **physically** remove the parameters we zeroed-out. But this operation requires to change the architecture of the network. \n",
    "\n",
    "This pruning only works if we have zeroed-out entire filters beforehand as it is the only case where you can change the architecture accordingly. Hopefully, sparse computations will [soon be available](https://pytorch.org/docs/stable/sparse.html) on common deep learning librairies so this section will become useless in the future, but for the moment, it is the best solution I could come up with 🤷\n",
    "\n",
    "<br>\n",
    "\n",
    "Here is what it looks like with fasterai:\n",
    "<br>"
   ]
  },
  {
   "cell_type": "markdown",
   "id": "33454908",
   "metadata": {},
   "source": [
    "!['SVD'](imgs/pruning_filters.pdf)"
   ]
  },
  {
   "cell_type": "markdown",
   "id": "c1ff5626",
   "metadata": {},
   "source": [
    "<br>"
   ]
  },
  {
   "cell_type": "markdown",
   "id": "5c928a04",
   "metadata": {},
   "source": [
    "<blockquote>\n",
    "<pre><b><i>pruner = Pruner()\n",
    "pruned_model = pruner.prune_model(learn.model)</i></b></pre>\n",
    "<p style=\"font-size: 15px\"><i>\n",
    "You just need to pass the model whose filters has previously been sparsified and FasterAI will take care of removing them.\n",
    "</i></p>\n",
    "</blockquote>"
   ]
  },
  {
   "cell_type": "markdown",
   "id": "5a02d296",
   "metadata": {},
   "source": [
    "> Note: This operation should be lossless as it only removes filters that already do not participate in the network anymore."
   ]
  },
  {
   "cell_type": "markdown",
   "id": "4eaa2ad5",
   "metadata": {},
   "source": [
    "<br>"
   ]
  },
  {
   "cell_type": "markdown",
   "id": "97138db9",
   "metadata": {},
   "source": [
    "So in the case of our example, it gives: "
   ]
  },
  {
   "cell_type": "code",
   "execution_count": null,
   "id": "3c865913",
   "metadata": {},
   "outputs": [],
   "source": [
    "from fasterai.sparse.pruner import *"
   ]
  },
  {
   "cell_type": "code",
   "execution_count": null,
   "id": "40b59720",
   "metadata": {},
   "outputs": [],
   "source": [
    "pruner = Pruner()\n",
    "pruned_model = pruner.prune_model(student.model)"
   ]
  },
  {
   "cell_type": "markdown",
   "id": "1e0f467f",
   "metadata": {},
   "source": [
    "Let's now see what our model is capable of now:"
   ]
  },
  {
   "cell_type": "code",
   "execution_count": null,
   "id": "71542708",
   "metadata": {},
   "outputs": [],
   "source": [
    "model = pruned_model.eval()"
   ]
  },
  {
   "cell_type": "code",
   "execution_count": null,
   "id": "b7346628",
   "metadata": {},
   "outputs": [
    {
     "name": "stdout",
     "output_type": "stream",
     "text": [
      "Total parameters : 57,202,072\n"
     ]
    }
   ],
   "source": [
    "count_parameters(model)"
   ]
  },
  {
   "cell_type": "markdown",
   "id": "4a27e756",
   "metadata": {},
   "source": [
    "And in terms of speed:"
   ]
  },
  {
   "cell_type": "code",
   "execution_count": null,
   "id": "405f77ab",
   "metadata": {},
   "outputs": [
    {
     "name": "stdout",
     "output_type": "stream",
     "text": [
      "4.22 ms ± 12.4 µs per loop (mean ± std. dev. of 7 runs, 100 loops each)\n"
     ]
    }
   ],
   "source": [
    "%%timeit\n",
    "model(x[0][None].cuda())"
   ]
  },
  {
   "cell_type": "markdown",
   "id": "d5db4fda",
   "metadata": {},
   "source": [
    "<br>"
   ]
  },
  {
   "cell_type": "markdown",
   "id": "00a98866",
   "metadata": {},
   "source": [
    "Yay ! Now we can talk ! Let's just double check that our accuracy is unchanged and that we didn't mess up somewhere:"
   ]
  },
  {
   "cell_type": "code",
   "execution_count": null,
   "id": "9908a347",
   "metadata": {},
   "outputs": [
    {
     "data": {
      "text/html": [
       "\n",
       "<style>\n",
       "    /* Turns off some styling */\n",
       "    progress {\n",
       "        /* gets rid of default border in Firefox and Opera. */\n",
       "        border: none;\n",
       "        /* Needs to be in here for Safari polyfill so background images work as expected. */\n",
       "        background-size: auto;\n",
       "    }\n",
       "    .progress-bar-interrupted, .progress-bar-interrupted::-webkit-progress-bar {\n",
       "        background: #F44336;\n",
       "    }\n",
       "</style>\n"
      ],
      "text/plain": [
       "<IPython.core.display.HTML object>"
      ]
     },
     "metadata": {},
     "output_type": "display_data"
    },
    {
     "data": {
      "text/html": [],
      "text/plain": [
       "<IPython.core.display.HTML object>"
      ]
     },
     "metadata": {},
     "output_type": "display_data"
    },
    {
     "data": {
      "text/plain": [
       "(#2) [0.571302056312561,0.8165605068206787]"
      ]
     },
     "execution_count": null,
     "metadata": {},
     "output_type": "execute_result"
    }
   ],
   "source": [
    "pruned_learner = Learner(dls, pruned_model, metrics=[accuracy])\n",
    "pruned_learner.validate()"
   ]
  },
  {
   "cell_type": "markdown",
   "id": "95e346f8",
   "metadata": {},
   "source": [
    "<br>"
   ]
  },
  {
   "cell_type": "markdown",
   "id": "8829ab1a",
   "metadata": {},
   "source": [
    "And there is actually more that we can do ! Let's keep going ! "
   ]
  },
  {
   "cell_type": "markdown",
   "id": "9ec57c8b",
   "metadata": {},
   "source": [
    "<br>"
   ]
  },
  {
   "cell_type": "markdown",
   "id": "49b277eb",
   "metadata": {},
   "source": [
    "---"
   ]
  },
  {
   "cell_type": "markdown",
   "id": "2df2f6f3",
   "metadata": {},
   "source": [
    "<br>"
   ]
  },
  {
   "cell_type": "markdown",
   "id": "3d0c0ab6",
   "metadata": {},
   "source": [
    "## **Batch Normalization Folding**"
   ]
  },
  {
   "cell_type": "markdown",
   "id": "8367fe86",
   "metadata": {},
   "source": [
    "**Batch Normalization Folding** is a really easy to implement and straightforward idea. The gist is that batch normalization is nothing more than a normalization of the input data at each layer. Moreover, at inference time, the batch statistics used for this normalization are fixed. We can thus incorporate the normalization process directly in the convolution by changing its weights and completely remove the batch normalization layers, which is a gain both in terms of parameters and in terms of computations. For a more in-depth explaination, see this [blog post](https://nathanhubens.github.io/posts/deep%20learning/2020/04/20/BN.html). \n",
    "\n",
    "This is how to use it with FasterAI:"
   ]
  },
  {
   "cell_type": "markdown",
   "id": "d3c884ae",
   "metadata": {},
   "source": [
    "<br>"
   ]
  },
  {
   "cell_type": "markdown",
   "id": "bab9080d",
   "metadata": {},
   "source": [
    "<blockquote>\n",
    "<pre><b><i>bn_folder = BN_Folder()\n",
    "bn_folder.fold(learn.model))</i></b></pre>\n",
    "<p style=\"font-size: 15px\"><i>\n",
    "Again, you only need to pass your model and FasterAI takes care of the rest. For models built using the nn.Sequential, you don't need to change anything. For others, if you want to see speedup and compression, you actually need to subclass your model to remove the batch norm from the parameters and from the <code>forward</code> method of your network.\n",
    "</i></p>\n",
    "</blockquote>"
   ]
  },
  {
   "cell_type": "markdown",
   "id": "1825f7f8",
   "metadata": {},
   "source": [
    "> Note: This operation should also be lossless as it redefines the convolution to take batch norm into account and is thus equivalent."
   ]
  },
  {
   "cell_type": "markdown",
   "id": "de3428ae",
   "metadata": {},
   "source": [
    "<br>"
   ]
  },
  {
   "cell_type": "code",
   "execution_count": null,
   "id": "fe83ec7e",
   "metadata": {},
   "outputs": [],
   "source": [
    "from fasterai.misc.bn_folding import *"
   ]
  },
  {
   "cell_type": "markdown",
   "id": "47386fcb",
   "metadata": {},
   "source": [
    "Let's do this with our model ! "
   ]
  },
  {
   "cell_type": "code",
   "execution_count": null,
   "id": "889364d2",
   "metadata": {},
   "outputs": [],
   "source": [
    "bn_f = BN_Folder()\n",
    "folded_model = bn_f.fold(pruned_learner.model)"
   ]
  },
  {
   "cell_type": "markdown",
   "id": "75ac1b36",
   "metadata": {},
   "source": [
    "The parameters drop is generally not that significant, especially in a network such as **VGG** where almost all parameters are contained in the FC layers but, hey, any gain is good to take."
   ]
  },
  {
   "cell_type": "code",
   "execution_count": null,
   "id": "103c4713",
   "metadata": {},
   "outputs": [
    {
     "name": "stdout",
     "output_type": "stream",
     "text": [
      "Total parameters : 57,197,848\n"
     ]
    }
   ],
   "source": [
    "count_parameters(folded_model)"
   ]
  },
  {
   "cell_type": "markdown",
   "id": "2f5ec75e",
   "metadata": {},
   "source": [
    "<br>"
   ]
  },
  {
   "cell_type": "markdown",
   "id": "a1986747",
   "metadata": {},
   "source": [
    "Now that we removed the batch normalization layers, we should again see a speedup."
   ]
  },
  {
   "cell_type": "code",
   "execution_count": null,
   "id": "82664974",
   "metadata": {},
   "outputs": [],
   "source": [
    "folded_model = folded_model.eval()"
   ]
  },
  {
   "cell_type": "code",
   "execution_count": null,
   "id": "bf64482b",
   "metadata": {},
   "outputs": [
    {
     "name": "stdout",
     "output_type": "stream",
     "text": [
      "3.02 ms ± 16.7 µs per loop (mean ± std. dev. of 7 runs, 100 loops each)\n"
     ]
    }
   ],
   "source": [
    "%%timeit\n",
    "folded_model(x[0][None].cuda())"
   ]
  },
  {
   "cell_type": "markdown",
   "id": "c4081c08",
   "metadata": {},
   "source": [
    "Again, let's double check that we didn't mess up somewhere:"
   ]
  },
  {
   "cell_type": "code",
   "execution_count": null,
   "id": "d1aa8b13",
   "metadata": {},
   "outputs": [
    {
     "data": {
      "text/html": [
       "\n",
       "<style>\n",
       "    /* Turns off some styling */\n",
       "    progress {\n",
       "        /* gets rid of default border in Firefox and Opera. */\n",
       "        border: none;\n",
       "        /* Needs to be in here for Safari polyfill so background images work as expected. */\n",
       "        background-size: auto;\n",
       "    }\n",
       "    .progress-bar-interrupted, .progress-bar-interrupted::-webkit-progress-bar {\n",
       "        background: #F44336;\n",
       "    }\n",
       "</style>\n"
      ],
      "text/plain": [
       "<IPython.core.display.HTML object>"
      ]
     },
     "metadata": {},
     "output_type": "display_data"
    },
    {
     "data": {
      "text/html": [],
      "text/plain": [
       "<IPython.core.display.HTML object>"
      ]
     },
     "metadata": {},
     "output_type": "display_data"
    },
    {
     "data": {
      "text/plain": [
       "(#2) [0.5713019371032715,0.8165605068206787]"
      ]
     },
     "execution_count": null,
     "metadata": {},
     "output_type": "execute_result"
    }
   ],
   "source": [
    "folded_learner = Learner(dls, folded_model, metrics=[accuracy])\n",
    "folded_learner.validate()"
   ]
  },
  {
   "cell_type": "markdown",
   "id": "33ca64b4",
   "metadata": {},
   "source": [
    "<br>"
   ]
  },
  {
   "cell_type": "markdown",
   "id": "9f9893ca",
   "metadata": {},
   "source": [
    "And we're still not done yet ! As we know for **VGG16**, most of the parameters are comprised in the fully-connected layers so there should be something that we can do about it, right ? "
   ]
  },
  {
   "cell_type": "markdown",
   "id": "67d836c2",
   "metadata": {},
   "source": [
    "<br>"
   ]
  },
  {
   "cell_type": "markdown",
   "id": "37add588",
   "metadata": {},
   "source": [
    "---"
   ]
  },
  {
   "cell_type": "markdown",
   "id": "56f295e9",
   "metadata": {},
   "source": [
    "<br>"
   ]
  },
  {
   "cell_type": "markdown",
   "id": "1c617c7d",
   "metadata": {},
   "source": [
    "## **FC Layers Factorization**"
   ]
  },
  {
   "cell_type": "markdown",
   "id": "a31eed16",
   "metadata": {},
   "source": [
    "We can indeed, factorize our big fully-connected layers and replace them by an approximation of two smaller layers. The idea is to make an **SVD** decomposition of the weight matrix, which will express the original matrix in a product of 3 matrices: $U \\Sigma V^T$. With $\\Sigma$ being a diagonal matrix with non-negative values along its diagonal (the singular values). We then define a value $k$ of singular values to keep and modify matrices $U$ and $V^T$ accordingly. The resulting will be an approximation of the initial matrix."
   ]
  },
  {
   "cell_type": "markdown",
   "id": "46b47a5f",
   "metadata": {},
   "source": [
    "!['SVD'](imgs/svd.pdf)"
   ]
  },
  {
   "cell_type": "markdown",
   "id": "6f3c682d",
   "metadata": {},
   "source": [
    "In FasterAI, to decompose the fully-connected layers of your model, here is what you need to do:\n",
    "<br>"
   ]
  },
  {
   "cell_type": "markdown",
   "id": "bf2ca9a6",
   "metadata": {},
   "source": [
    "<br>"
   ]
  },
  {
   "cell_type": "markdown",
   "id": "22633913",
   "metadata": {},
   "source": [
    "<blockquote>\n",
    "<pre><b><i>FCD = FCDecomposer()\n",
    "decomposed_model = FCD.decompose(model, percent_removed)</i></b></pre>\n",
    "<p style=\"font-size: 15px\"><i>\n",
    "    The <code>percent_removed</code> corresponds to the percentage of singular values removed (<i>k</i> value above).\n",
    "</i></p>\n",
    "</blockquote>"
   ]
  },
  {
   "cell_type": "markdown",
   "id": "3a7f923f",
   "metadata": {},
   "source": [
    "> Note: This time, the decomposition is not exact, so we expect a drop in performance afterwards and further retraining will be needed."
   ]
  },
  {
   "cell_type": "markdown",
   "id": "4154d778",
   "metadata": {},
   "source": [
    "<br>"
   ]
  },
  {
   "cell_type": "markdown",
   "id": "81c05749",
   "metadata": {},
   "source": [
    "Which gives with our example, if we only want to keep half of them:"
   ]
  },
  {
   "cell_type": "code",
   "execution_count": null,
   "id": "d7b20be4",
   "metadata": {},
   "outputs": [],
   "source": [
    "from fasterai.misc.fc_decomposer import *"
   ]
  },
  {
   "cell_type": "code",
   "execution_count": null,
   "id": "f155ed57",
   "metadata": {},
   "outputs": [],
   "source": [
    "fc_decomposer = FC_Decomposer()\n",
    "decomposed_model = fc_decomposer.decompose(folded_model, percent_removed=0.5)"
   ]
  },
  {
   "cell_type": "markdown",
   "id": "62d14c98",
   "metadata": {},
   "source": [
    "How many parameters do we have now ?"
   ]
  },
  {
   "cell_type": "code",
   "execution_count": null,
   "id": "c7c4625a",
   "metadata": {},
   "outputs": [
    {
     "name": "stdout",
     "output_type": "stream",
     "text": [
      "Total parameters : 47,000,906\n"
     ]
    }
   ],
   "source": [
    "count_parameters(decomposed_model)"
   ]
  },
  {
   "cell_type": "markdown",
   "id": "c717dba4",
   "metadata": {},
   "source": [
    "And how much time did we gain ? "
   ]
  },
  {
   "cell_type": "code",
   "execution_count": null,
   "id": "1b7a792a",
   "metadata": {},
   "outputs": [],
   "source": [
    "decomposed_model = decomposed_model.eval()"
   ]
  },
  {
   "cell_type": "code",
   "execution_count": null,
   "id": "5584903c",
   "metadata": {},
   "outputs": [
    {
     "name": "stdout",
     "output_type": "stream",
     "text": [
      "3.16 ms ± 13.2 µs per loop (mean ± std. dev. of 7 runs, 100 loops each)\n"
     ]
    }
   ],
   "source": [
    "%%timeit\n",
    "decomposed_model(x[0][None].cuda())"
   ]
  },
  {
   "cell_type": "markdown",
   "id": "586f5299",
   "metadata": {},
   "source": [
    "<br>"
   ]
  },
  {
   "cell_type": "markdown",
   "id": "de463984",
   "metadata": {},
   "source": [
    "However, this technique is an approximation so it is not lossless, so we should retrain our network a bit to recover its performance."
   ]
  },
  {
   "cell_type": "code",
   "execution_count": null,
   "id": "d17d2ded",
   "metadata": {},
   "outputs": [
    {
     "data": {
      "text/html": [
       "\n",
       "<style>\n",
       "    /* Turns off some styling */\n",
       "    progress {\n",
       "        /* gets rid of default border in Firefox and Opera. */\n",
       "        border: none;\n",
       "        /* Needs to be in here for Safari polyfill so background images work as expected. */\n",
       "        background-size: auto;\n",
       "    }\n",
       "    .progress-bar-interrupted, .progress-bar-interrupted::-webkit-progress-bar {\n",
       "        background: #F44336;\n",
       "    }\n",
       "</style>\n"
      ],
      "text/plain": [
       "<IPython.core.display.HTML object>"
      ]
     },
     "metadata": {},
     "output_type": "display_data"
    },
    {
     "data": {
      "text/html": [
       "<table border=\"1\" class=\"dataframe\">\n",
       "  <thead>\n",
       "    <tr style=\"text-align: left;\">\n",
       "      <th>epoch</th>\n",
       "      <th>train_loss</th>\n",
       "      <th>valid_loss</th>\n",
       "      <th>accuracy</th>\n",
       "      <th>time</th>\n",
       "    </tr>\n",
       "  </thead>\n",
       "  <tbody>\n",
       "    <tr>\n",
       "      <td>0</td>\n",
       "      <td>0.847210</td>\n",
       "      <td>0.851746</td>\n",
       "      <td>0.757707</td>\n",
       "      <td>00:37</td>\n",
       "    </tr>\n",
       "    <tr>\n",
       "      <td>1</td>\n",
       "      <td>0.768943</td>\n",
       "      <td>0.765675</td>\n",
       "      <td>0.778344</td>\n",
       "      <td>00:37</td>\n",
       "    </tr>\n",
       "    <tr>\n",
       "      <td>2</td>\n",
       "      <td>0.692119</td>\n",
       "      <td>0.794932</td>\n",
       "      <td>0.763822</td>\n",
       "      <td>00:37</td>\n",
       "    </tr>\n",
       "    <tr>\n",
       "      <td>3</td>\n",
       "      <td>0.666022</td>\n",
       "      <td>0.679881</td>\n",
       "      <td>0.794650</td>\n",
       "      <td>00:37</td>\n",
       "    </tr>\n",
       "    <tr>\n",
       "      <td>4</td>\n",
       "      <td>0.556258</td>\n",
       "      <td>0.661012</td>\n",
       "      <td>0.801783</td>\n",
       "      <td>00:37</td>\n",
       "    </tr>\n",
       "  </tbody>\n",
       "</table>"
      ],
      "text/plain": [
       "<IPython.core.display.HTML object>"
      ]
     },
     "metadata": {},
     "output_type": "display_data"
    }
   ],
   "source": [
    "final_learner = Learner(dls, decomposed_model, metrics=[accuracy])\n",
    "final_learner.fit_one_cycle(5, 1e-5)"
   ]
  },
  {
   "cell_type": "markdown",
   "id": "e7b5280d",
   "metadata": {},
   "source": [
    "This operation is usually less useful for more recent architectures as they usually do not have that many parameters in their fully-connected layers."
   ]
  },
  {
   "cell_type": "markdown",
   "id": "4750f78f",
   "metadata": {},
   "source": [
    "<br>"
   ]
  },
  {
   "cell_type": "markdown",
   "id": "512b7f18",
   "metadata": {},
   "source": [
    "---"
   ]
  },
  {
   "cell_type": "markdown",
   "id": "f3f67c43",
   "metadata": {},
   "source": [
    "<br>"
   ]
  },
  {
   "cell_type": "markdown",
   "id": "158ee7dc",
   "metadata": {},
   "source": [
    "So to recap, we saw in this article how to use fasterai to:\n",
    "1. Make a student model learn from a teacher model (**Knowledge Distillation**)\n",
    "2. Make our network sparse (**Sparsifying**)\n",
    "3. Optionnaly physically remove the zero-filters (**Pruning**)\n",
    "4. Remove the batch norm layers (**Batch Normalization Folding**)\n",
    "5. Approximate our big fully-connected layers by smaller ones (**Fully-Connected Layers Factorization**)\n",
    "\n"
   ]
  },
  {
   "cell_type": "markdown",
   "id": "9374891a",
   "metadata": {},
   "source": [
    "<br>"
   ]
  },
  {
   "cell_type": "markdown",
   "id": "26149076",
   "metadata": {},
   "source": [
    "And we saw that by applying those, we could reduce our **VGG16** model from **134 million** of parameters down to **47 million**, and also speed-up the inference from **5.54ms** to **3.16ms** without any drop in accuracy compared to the baseline.\n",
    "\n",
    "Of course, those techniques can be used in conjunction with [quantization](https://pytorch.org/docs/stable/quantization.html) or [mixed-precision training](https://pytorch.org/docs/stable/notes/amp_examples.html), which are already available in Pytorch for even more compression and speedup."
   ]
  },
  {
   "cell_type": "markdown",
   "id": "b9e1aee0",
   "metadata": {},
   "source": [
    "<br>"
   ]
  },
  {
   "cell_type": "markdown",
   "id": "9d3d25af",
   "metadata": {},
   "source": [
    "> Note: Please keep in mind that the techniques presented above are not magic 🧙‍♂️, so do not expect to see a 200% speedup and compression everytime. What you can achieve highly depend on the architecture that you are using (some are already speed/parameter efficient by design) or the task it is doing (some datasets are so easy that you can remove almost all your network without seeing a drop in performance)"
   ]
  },
  {
   "cell_type": "markdown",
   "id": "eeb27f61",
   "metadata": {},
   "source": [
    "<br>"
   ]
  },
  {
   "cell_type": "code",
   "execution_count": null,
   "id": "ea8282b0",
   "metadata": {},
   "outputs": [],
   "source": []
  }
 ],
 "metadata": {
  "kernelspec": {
   "display_name": "Python 3 (ipykernel)",
   "language": "python",
   "name": "python3"
  }
 },
 "nbformat": 4,
 "nbformat_minor": 5
}
