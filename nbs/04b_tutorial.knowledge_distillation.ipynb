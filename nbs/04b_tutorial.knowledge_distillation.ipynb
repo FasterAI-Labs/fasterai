{
 "cells": [
  {
   "cell_type": "markdown",
   "id": "lucky-strength",
   "metadata": {},
   "source": [
    "# Knowledge Distillation\n",
    "\n",
    "> How to apply knowledge distillation with fasterai"
   ]
  },
  {
   "cell_type": "code",
   "execution_count": null,
   "id": "needed-borough",
   "metadata": {},
   "outputs": [],
   "source": [
    "#all_slow"
   ]
  },
  {
   "cell_type": "code",
   "execution_count": null,
   "id": "threaded-wallet",
   "metadata": {},
   "outputs": [],
   "source": [
    "#hide\n",
    "from fasterai.distill.all import *\n",
    "from fastai.vision.all import *"
   ]
  },
  {
   "cell_type": "markdown",
   "id": "settled-charlotte",
   "metadata": {},
   "source": [
    "We'll illustrate how to use Knowledge Distillation to distill the knowledge of a Resnet34 (the teacher), to a Resnet18 (the student)"
   ]
  },
  {
   "cell_type": "markdown",
   "id": "enormous-temple",
   "metadata": {},
   "source": [
    "Let's us grab some data"
   ]
  },
  {
   "cell_type": "code",
   "execution_count": null,
   "id": "greek-butter",
   "metadata": {},
   "outputs": [],
   "source": [
    "path = untar_data(URLs.PETS)\n",
    "files = get_image_files(path/\"images\")\n",
    "\n",
    "def label_func(f): return f[0].isupper()\n",
    "\n",
    "dls = ImageDataLoaders.from_name_func(path, files, label_func, item_tfms=Resize(64))"
   ]
  },
  {
   "cell_type": "markdown",
   "id": "brave-miami",
   "metadata": {},
   "source": [
    "The first step is then to train the teacher model. We'll start from a pretrained model, ensuring to get good results on our dataset."
   ]
  },
  {
   "cell_type": "code",
   "execution_count": null,
   "id": "duplicate-spread",
   "metadata": {},
   "outputs": [
    {
     "data": {
      "text/html": [
       "<table border=\"1\" class=\"dataframe\">\n",
       "  <thead>\n",
       "    <tr style=\"text-align: left;\">\n",
       "      <th>epoch</th>\n",
       "      <th>train_loss</th>\n",
       "      <th>valid_loss</th>\n",
       "      <th>accuracy</th>\n",
       "      <th>time</th>\n",
       "    </tr>\n",
       "  </thead>\n",
       "  <tbody>\n",
       "    <tr>\n",
       "      <td>0</td>\n",
       "      <td>0.657599</td>\n",
       "      <td>0.669229</td>\n",
       "      <td>0.807172</td>\n",
       "      <td>00:08</td>\n",
       "    </tr>\n",
       "    <tr>\n",
       "      <td>1</td>\n",
       "      <td>0.395813</td>\n",
       "      <td>0.490642</td>\n",
       "      <td>0.873478</td>\n",
       "      <td>00:09</td>\n",
       "    </tr>\n",
       "    <tr>\n",
       "      <td>2</td>\n",
       "      <td>0.278736</td>\n",
       "      <td>0.314575</td>\n",
       "      <td>0.884980</td>\n",
       "      <td>00:09</td>\n",
       "    </tr>\n",
       "    <tr>\n",
       "      <td>3</td>\n",
       "      <td>0.161812</td>\n",
       "      <td>0.184702</td>\n",
       "      <td>0.934371</td>\n",
       "      <td>00:09</td>\n",
       "    </tr>\n",
       "    <tr>\n",
       "      <td>4</td>\n",
       "      <td>0.088248</td>\n",
       "      <td>0.182757</td>\n",
       "      <td>0.939784</td>\n",
       "      <td>00:09</td>\n",
       "    </tr>\n",
       "  </tbody>\n",
       "</table>"
      ],
      "text/plain": [
       "<IPython.core.display.HTML object>"
      ]
     },
     "metadata": {},
     "output_type": "display_data"
    }
   ],
   "source": [
    "teacher = cnn_learner(dls, resnet34, metrics=accuracy)\n",
    "teacher.unfreeze()\n",
    "teacher.fit_one_cycle(5)"
   ]
  },
  {
   "cell_type": "markdown",
   "id": "consecutive-recruitment",
   "metadata": {},
   "source": [
    "### Without KD"
   ]
  },
  {
   "cell_type": "markdown",
   "id": "national-juvenile",
   "metadata": {},
   "source": [
    "We'll now train a Resnet18 from scratch, and without any help from the teacher model, to get that as a baseline "
   ]
  },
  {
   "cell_type": "code",
   "execution_count": null,
   "id": "current-rugby",
   "metadata": {},
   "outputs": [
    {
     "data": {
      "text/html": [
       "<table border=\"1\" class=\"dataframe\">\n",
       "  <thead>\n",
       "    <tr style=\"text-align: left;\">\n",
       "      <th>epoch</th>\n",
       "      <th>train_loss</th>\n",
       "      <th>valid_loss</th>\n",
       "      <th>accuracy</th>\n",
       "      <th>time</th>\n",
       "    </tr>\n",
       "  </thead>\n",
       "  <tbody>\n",
       "    <tr>\n",
       "      <td>0</td>\n",
       "      <td>0.602132</td>\n",
       "      <td>0.855898</td>\n",
       "      <td>0.655616</td>\n",
       "      <td>00:08</td>\n",
       "    </tr>\n",
       "    <tr>\n",
       "      <td>1</td>\n",
       "      <td>0.553751</td>\n",
       "      <td>0.618787</td>\n",
       "      <td>0.698241</td>\n",
       "      <td>00:08</td>\n",
       "    </tr>\n",
       "    <tr>\n",
       "      <td>2</td>\n",
       "      <td>0.505094</td>\n",
       "      <td>0.563866</td>\n",
       "      <td>0.740866</td>\n",
       "      <td>00:09</td>\n",
       "    </tr>\n",
       "    <tr>\n",
       "      <td>3</td>\n",
       "      <td>0.437325</td>\n",
       "      <td>0.454875</td>\n",
       "      <td>0.784844</td>\n",
       "      <td>00:08</td>\n",
       "    </tr>\n",
       "    <tr>\n",
       "      <td>4</td>\n",
       "      <td>0.355464</td>\n",
       "      <td>0.428473</td>\n",
       "      <td>0.805142</td>\n",
       "      <td>00:08</td>\n",
       "    </tr>\n",
       "  </tbody>\n",
       "</table>"
      ],
      "text/plain": [
       "<IPython.core.display.HTML object>"
      ]
     },
     "metadata": {},
     "output_type": "display_data"
    }
   ],
   "source": [
    "student = Learner(dls, resnet18(num_classes=2), metrics=accuracy)\n",
    "student.fit_one_cycle(5)"
   ]
  },
  {
   "cell_type": "markdown",
   "id": "another-dealer",
   "metadata": {},
   "source": [
    "### With KD"
   ]
  },
  {
   "cell_type": "markdown",
   "id": "metallic-webster",
   "metadata": {},
   "source": [
    "And now we train the same model, but with the help of the teacher."
   ]
  },
  {
   "cell_type": "code",
   "execution_count": null,
   "id": "b5559476",
   "metadata": {},
   "outputs": [],
   "source": [
    "loss = partial(SoftTarget, T=30)"
   ]
  },
  {
   "cell_type": "code",
   "execution_count": null,
   "id": "swiss-cowboy",
   "metadata": {},
   "outputs": [
    {
     "data": {
      "text/html": [
       "<table border=\"1\" class=\"dataframe\">\n",
       "  <thead>\n",
       "    <tr style=\"text-align: left;\">\n",
       "      <th>epoch</th>\n",
       "      <th>train_loss</th>\n",
       "      <th>valid_loss</th>\n",
       "      <th>accuracy</th>\n",
       "      <th>time</th>\n",
       "    </tr>\n",
       "  </thead>\n",
       "  <tbody>\n",
       "    <tr>\n",
       "      <td>0</td>\n",
       "      <td>0.612727</td>\n",
       "      <td>1.050914</td>\n",
       "      <td>0.654939</td>\n",
       "      <td>00:09</td>\n",
       "    </tr>\n",
       "    <tr>\n",
       "      <td>1</td>\n",
       "      <td>0.556448</td>\n",
       "      <td>0.520859</td>\n",
       "      <td>0.730717</td>\n",
       "      <td>00:09</td>\n",
       "    </tr>\n",
       "    <tr>\n",
       "      <td>2</td>\n",
       "      <td>0.503152</td>\n",
       "      <td>0.468746</td>\n",
       "      <td>0.770636</td>\n",
       "      <td>00:09</td>\n",
       "    </tr>\n",
       "    <tr>\n",
       "      <td>3</td>\n",
       "      <td>0.429105</td>\n",
       "      <td>0.406935</td>\n",
       "      <td>0.811231</td>\n",
       "      <td>00:07</td>\n",
       "    </tr>\n",
       "    <tr>\n",
       "      <td>4</td>\n",
       "      <td>0.342641</td>\n",
       "      <td>0.401033</td>\n",
       "      <td>0.819350</td>\n",
       "      <td>00:08</td>\n",
       "    </tr>\n",
       "  </tbody>\n",
       "</table>"
      ],
      "text/plain": [
       "<IPython.core.display.HTML object>"
      ]
     },
     "metadata": {},
     "output_type": "display_data"
    }
   ],
   "source": [
    "student = Learner(dls, resnet18(num_classes=2), metrics=accuracy)\n",
    "kd = KnowledgeDistillation(teacher, loss)\n",
    "student.fit_one_cycle(5, cbs=kd)"
   ]
  },
  {
   "cell_type": "markdown",
   "id": "sensitive-sociology",
   "metadata": {},
   "source": [
    "When helped, the student model performs better ! "
   ]
  }
 ],
 "metadata": {
  "kernelspec": {
   "display_name": "Python 3",
   "language": "python",
   "name": "python3"
  }
 },
 "nbformat": 4,
 "nbformat_minor": 5
}
