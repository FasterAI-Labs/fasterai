{
 "cells": [
  {
   "cell_type": "markdown",
   "id": "lucky-strength",
   "metadata": {},
   "source": [
    "# Knowledge Distillation\n",
    "\n",
    "> How to apply knowledge distillation with fasterai"
   ]
  },
  {
   "cell_type": "code",
   "execution_count": null,
   "id": "needed-borough",
   "metadata": {},
   "outputs": [],
   "source": [
    "#all_slow"
   ]
  },
  {
   "cell_type": "code",
   "execution_count": null,
   "id": "threaded-wallet",
   "metadata": {},
   "outputs": [],
   "source": [
    "#hide\n",
    "from fasterai.distill.all import *\n",
    "from fastai.vision.all import *"
   ]
  },
  {
   "cell_type": "markdown",
   "id": "settled-charlotte",
   "metadata": {},
   "source": [
    "We'll illustrate how to use Knowledge Distillation to distill the knowledge of a Resnet34 (the teacher), to a Resnet18 (the student)"
   ]
  },
  {
   "cell_type": "markdown",
   "id": "enormous-temple",
   "metadata": {},
   "source": [
    "Let's us grab some data"
   ]
  },
  {
   "cell_type": "code",
   "execution_count": null,
   "id": "greek-butter",
   "metadata": {},
   "outputs": [],
   "source": [
    "path = untar_data(URLs.PETS)\n",
    "files = get_image_files(path/\"images\")\n",
    "\n",
    "def label_func(f): return f[0].isupper()\n",
    "\n",
    "dls = ImageDataLoaders.from_name_func(path, files, label_func, item_tfms=Resize(64))"
   ]
  },
  {
   "cell_type": "markdown",
   "id": "brave-miami",
   "metadata": {},
   "source": [
    "The first step is then to train the teacher model. We'll start from a pretrained model, ensuring to get good results on our dataset."
   ]
  },
  {
   "cell_type": "code",
   "execution_count": null,
   "id": "duplicate-spread",
   "metadata": {},
   "outputs": [
    {
     "name": "stderr",
     "output_type": "stream",
     "text": [
      "/home/HubensN/miniconda3/envs/deep/lib/python3.8/site-packages/fastai/vision/learner.py:265: UserWarning: `cnn_learner` has been renamed to `vision_learner` -- please update your code\n",
      "  warn(\"`cnn_learner` has been renamed to `vision_learner` -- please update your code\")\n"
     ]
    },
    {
     "data": {
      "text/html": [
       "\n",
       "<style>\n",
       "    /* Turns off some styling */\n",
       "    progress {\n",
       "        /* gets rid of default border in Firefox and Opera. */\n",
       "        border: none;\n",
       "        /* Needs to be in here for Safari polyfill so background images work as expected. */\n",
       "        background-size: auto;\n",
       "    }\n",
       "    .progress-bar-interrupted, .progress-bar-interrupted::-webkit-progress-bar {\n",
       "        background: #F44336;\n",
       "    }\n",
       "</style>\n"
      ],
      "text/plain": [
       "<IPython.core.display.HTML object>"
      ]
     },
     "metadata": {},
     "output_type": "display_data"
    },
    {
     "data": {
      "text/html": [
       "<table border=\"1\" class=\"dataframe\">\n",
       "  <thead>\n",
       "    <tr style=\"text-align: left;\">\n",
       "      <th>epoch</th>\n",
       "      <th>train_loss</th>\n",
       "      <th>valid_loss</th>\n",
       "      <th>accuracy</th>\n",
       "      <th>time</th>\n",
       "    </tr>\n",
       "  </thead>\n",
       "  <tbody>\n",
       "    <tr>\n",
       "      <td>0</td>\n",
       "      <td>0.738216</td>\n",
       "      <td>0.514556</td>\n",
       "      <td>0.847091</td>\n",
       "      <td>00:12</td>\n",
       "    </tr>\n",
       "    <tr>\n",
       "      <td>1</td>\n",
       "      <td>0.491984</td>\n",
       "      <td>0.307432</td>\n",
       "      <td>0.863329</td>\n",
       "      <td>00:11</td>\n",
       "    </tr>\n",
       "    <tr>\n",
       "      <td>2</td>\n",
       "      <td>0.447923</td>\n",
       "      <td>1.710455</td>\n",
       "      <td>0.701624</td>\n",
       "      <td>00:11</td>\n",
       "    </tr>\n",
       "    <tr>\n",
       "      <td>3</td>\n",
       "      <td>0.452576</td>\n",
       "      <td>0.340987</td>\n",
       "      <td>0.844384</td>\n",
       "      <td>00:11</td>\n",
       "    </tr>\n",
       "    <tr>\n",
       "      <td>4</td>\n",
       "      <td>0.287033</td>\n",
       "      <td>0.239666</td>\n",
       "      <td>0.893099</td>\n",
       "      <td>00:11</td>\n",
       "    </tr>\n",
       "    <tr>\n",
       "      <td>5</td>\n",
       "      <td>0.238854</td>\n",
       "      <td>0.230530</td>\n",
       "      <td>0.909337</td>\n",
       "      <td>00:11</td>\n",
       "    </tr>\n",
       "    <tr>\n",
       "      <td>6</td>\n",
       "      <td>0.144284</td>\n",
       "      <td>0.175067</td>\n",
       "      <td>0.927605</td>\n",
       "      <td>00:11</td>\n",
       "    </tr>\n",
       "    <tr>\n",
       "      <td>7</td>\n",
       "      <td>0.098495</td>\n",
       "      <td>0.161163</td>\n",
       "      <td>0.930988</td>\n",
       "      <td>00:11</td>\n",
       "    </tr>\n",
       "    <tr>\n",
       "      <td>8</td>\n",
       "      <td>0.050567</td>\n",
       "      <td>0.149135</td>\n",
       "      <td>0.942490</td>\n",
       "      <td>00:11</td>\n",
       "    </tr>\n",
       "    <tr>\n",
       "      <td>9</td>\n",
       "      <td>0.032685</td>\n",
       "      <td>0.151816</td>\n",
       "      <td>0.941137</td>\n",
       "      <td>00:11</td>\n",
       "    </tr>\n",
       "  </tbody>\n",
       "</table>"
      ],
      "text/plain": [
       "<IPython.core.display.HTML object>"
      ]
     },
     "metadata": {},
     "output_type": "display_data"
    }
   ],
   "source": [
    "teacher = cnn_learner(dls, resnet34, metrics=accuracy)\n",
    "teacher.unfreeze()\n",
    "teacher.fit_one_cycle(10, 1e-3)"
   ]
  },
  {
   "cell_type": "markdown",
   "id": "consecutive-recruitment",
   "metadata": {},
   "source": [
    "### Without KD"
   ]
  },
  {
   "cell_type": "markdown",
   "id": "national-juvenile",
   "metadata": {},
   "source": [
    "We'll now train a Resnet18 from scratch, and without any help from the teacher model, to get that as a baseline "
   ]
  },
  {
   "cell_type": "code",
   "execution_count": null,
   "id": "current-rugby",
   "metadata": {},
   "outputs": [
    {
     "data": {
      "text/html": [
       "\n",
       "<style>\n",
       "    /* Turns off some styling */\n",
       "    progress {\n",
       "        /* gets rid of default border in Firefox and Opera. */\n",
       "        border: none;\n",
       "        /* Needs to be in here for Safari polyfill so background images work as expected. */\n",
       "        background-size: auto;\n",
       "    }\n",
       "    .progress-bar-interrupted, .progress-bar-interrupted::-webkit-progress-bar {\n",
       "        background: #F44336;\n",
       "    }\n",
       "</style>\n"
      ],
      "text/plain": [
       "<IPython.core.display.HTML object>"
      ]
     },
     "metadata": {},
     "output_type": "display_data"
    },
    {
     "data": {
      "text/html": [
       "<table border=\"1\" class=\"dataframe\">\n",
       "  <thead>\n",
       "    <tr style=\"text-align: left;\">\n",
       "      <th>epoch</th>\n",
       "      <th>train_loss</th>\n",
       "      <th>valid_loss</th>\n",
       "      <th>accuracy</th>\n",
       "      <th>time</th>\n",
       "    </tr>\n",
       "  </thead>\n",
       "  <tbody>\n",
       "    <tr>\n",
       "      <td>0</td>\n",
       "      <td>0.592990</td>\n",
       "      <td>0.880996</td>\n",
       "      <td>0.677943</td>\n",
       "      <td>00:11</td>\n",
       "    </tr>\n",
       "    <tr>\n",
       "      <td>1</td>\n",
       "      <td>0.568779</td>\n",
       "      <td>0.633168</td>\n",
       "      <td>0.636671</td>\n",
       "      <td>00:11</td>\n",
       "    </tr>\n",
       "    <tr>\n",
       "      <td>2</td>\n",
       "      <td>0.533047</td>\n",
       "      <td>0.738055</td>\n",
       "      <td>0.539242</td>\n",
       "      <td>00:10</td>\n",
       "    </tr>\n",
       "    <tr>\n",
       "      <td>3</td>\n",
       "      <td>0.486673</td>\n",
       "      <td>0.749287</td>\n",
       "      <td>0.717185</td>\n",
       "      <td>00:11</td>\n",
       "    </tr>\n",
       "    <tr>\n",
       "      <td>4</td>\n",
       "      <td>0.438561</td>\n",
       "      <td>0.451227</td>\n",
       "      <td>0.784844</td>\n",
       "      <td>00:16</td>\n",
       "    </tr>\n",
       "    <tr>\n",
       "      <td>5</td>\n",
       "      <td>0.395264</td>\n",
       "      <td>0.384985</td>\n",
       "      <td>0.828146</td>\n",
       "      <td>00:16</td>\n",
       "    </tr>\n",
       "    <tr>\n",
       "      <td>6</td>\n",
       "      <td>0.339680</td>\n",
       "      <td>0.372352</td>\n",
       "      <td>0.845061</td>\n",
       "      <td>00:11</td>\n",
       "    </tr>\n",
       "    <tr>\n",
       "      <td>7</td>\n",
       "      <td>0.264073</td>\n",
       "      <td>0.353506</td>\n",
       "      <td>0.842355</td>\n",
       "      <td>00:11</td>\n",
       "    </tr>\n",
       "    <tr>\n",
       "      <td>8</td>\n",
       "      <td>0.194599</td>\n",
       "      <td>0.351618</td>\n",
       "      <td>0.857239</td>\n",
       "      <td>00:11</td>\n",
       "    </tr>\n",
       "    <tr>\n",
       "      <td>9</td>\n",
       "      <td>0.158134</td>\n",
       "      <td>0.342614</td>\n",
       "      <td>0.853857</td>\n",
       "      <td>00:11</td>\n",
       "    </tr>\n",
       "  </tbody>\n",
       "</table>"
      ],
      "text/plain": [
       "<IPython.core.display.HTML object>"
      ]
     },
     "metadata": {},
     "output_type": "display_data"
    }
   ],
   "source": [
    "student = Learner(dls, resnet18(num_classes=2), metrics=accuracy)\n",
    "student.fit_one_cycle(10, 1e-3)"
   ]
  },
  {
   "cell_type": "markdown",
   "id": "another-dealer",
   "metadata": {},
   "source": [
    "### With KD"
   ]
  },
  {
   "cell_type": "markdown",
   "id": "metallic-webster",
   "metadata": {},
   "source": [
    "And now we train the same model, but with the help of the teacher. The chosen loss is a combination of the regular classification loss (Cross-Entropy) and a loss pushing the student to learn from the teacher's predictions."
   ]
  },
  {
   "cell_type": "code",
   "execution_count": null,
   "id": "22d4fbe3",
   "metadata": {},
   "outputs": [
    {
     "data": {
      "text/html": [
       "\n",
       "<style>\n",
       "    /* Turns off some styling */\n",
       "    progress {\n",
       "        /* gets rid of default border in Firefox and Opera. */\n",
       "        border: none;\n",
       "        /* Needs to be in here for Safari polyfill so background images work as expected. */\n",
       "        background-size: auto;\n",
       "    }\n",
       "    .progress-bar-interrupted, .progress-bar-interrupted::-webkit-progress-bar {\n",
       "        background: #F44336;\n",
       "    }\n",
       "</style>\n"
      ],
      "text/plain": [
       "<IPython.core.display.HTML object>"
      ]
     },
     "metadata": {},
     "output_type": "display_data"
    },
    {
     "data": {
      "text/html": [
       "<table border=\"1\" class=\"dataframe\">\n",
       "  <thead>\n",
       "    <tr style=\"text-align: left;\">\n",
       "      <th>epoch</th>\n",
       "      <th>train_loss</th>\n",
       "      <th>valid_loss</th>\n",
       "      <th>accuracy</th>\n",
       "      <th>time</th>\n",
       "    </tr>\n",
       "  </thead>\n",
       "  <tbody>\n",
       "    <tr>\n",
       "      <td>0</td>\n",
       "      <td>2.296719</td>\n",
       "      <td>1.884460</td>\n",
       "      <td>0.711773</td>\n",
       "      <td>00:12</td>\n",
       "    </tr>\n",
       "    <tr>\n",
       "      <td>1</td>\n",
       "      <td>2.191021</td>\n",
       "      <td>1.805818</td>\n",
       "      <td>0.729364</td>\n",
       "      <td>00:12</td>\n",
       "    </tr>\n",
       "    <tr>\n",
       "      <td>2</td>\n",
       "      <td>1.973543</td>\n",
       "      <td>1.675716</td>\n",
       "      <td>0.752368</td>\n",
       "      <td>00:12</td>\n",
       "    </tr>\n",
       "    <tr>\n",
       "      <td>3</td>\n",
       "      <td>1.770022</td>\n",
       "      <td>1.516037</td>\n",
       "      <td>0.769283</td>\n",
       "      <td>00:12</td>\n",
       "    </tr>\n",
       "    <tr>\n",
       "      <td>4</td>\n",
       "      <td>1.556814</td>\n",
       "      <td>1.472682</td>\n",
       "      <td>0.790257</td>\n",
       "      <td>00:12</td>\n",
       "    </tr>\n",
       "    <tr>\n",
       "      <td>5</td>\n",
       "      <td>1.290988</td>\n",
       "      <td>1.036582</td>\n",
       "      <td>0.841001</td>\n",
       "      <td>00:12</td>\n",
       "    </tr>\n",
       "    <tr>\n",
       "      <td>6</td>\n",
       "      <td>1.036041</td>\n",
       "      <td>0.882328</td>\n",
       "      <td>0.857239</td>\n",
       "      <td>00:12</td>\n",
       "    </tr>\n",
       "    <tr>\n",
       "      <td>7</td>\n",
       "      <td>0.809941</td>\n",
       "      <td>0.858502</td>\n",
       "      <td>0.852503</td>\n",
       "      <td>00:13</td>\n",
       "    </tr>\n",
       "    <tr>\n",
       "      <td>8</td>\n",
       "      <td>0.608483</td>\n",
       "      <td>0.804021</td>\n",
       "      <td>0.863329</td>\n",
       "      <td>00:12</td>\n",
       "    </tr>\n",
       "    <tr>\n",
       "      <td>9</td>\n",
       "      <td>0.481355</td>\n",
       "      <td>0.793109</td>\n",
       "      <td>0.864005</td>\n",
       "      <td>00:12</td>\n",
       "    </tr>\n",
       "  </tbody>\n",
       "</table>"
      ],
      "text/plain": [
       "<IPython.core.display.HTML object>"
      ]
     },
     "metadata": {},
     "output_type": "display_data"
    }
   ],
   "source": [
    "student = Learner(dls, resnet18(num_classes=2), metrics=accuracy)\n",
    "kd = KnowledgeDistillationCallback(teacher.model, SoftTarget)\n",
    "student.fit_one_cycle(10, 1e-3, cbs=kd)"
   ]
  },
  {
   "cell_type": "markdown",
   "id": "sensitive-sociology",
   "metadata": {},
   "source": [
    "When helped, the student model performs better ! "
   ]
  },
  {
   "cell_type": "markdown",
   "id": "ba2a7c55",
   "metadata": {},
   "source": [
    "There exist more complicated KD losses, such as the one coming from ``Paying Attention to Attention``, where the student tries to replicate the same attention maps of the teacher at intermediate layers."
   ]
  },
  {
   "cell_type": "markdown",
   "id": "06237305",
   "metadata": {},
   "source": [
    "Using such a loss requires to be able to specify from which layer we want to replicate those attention maps. To do so, we have to specify them from their `string` name, which can be obtained with the `get_model_layers` function."
   ]
  },
  {
   "cell_type": "markdown",
   "id": "a1f3653b",
   "metadata": {},
   "source": [
    "For example, we set the loss to be applied after each Residual block of our models: "
   ]
  },
  {
   "cell_type": "code",
   "execution_count": null,
   "id": "cc95a724",
   "metadata": {},
   "outputs": [
    {
     "data": {
      "text/html": [
       "\n",
       "<style>\n",
       "    /* Turns off some styling */\n",
       "    progress {\n",
       "        /* gets rid of default border in Firefox and Opera. */\n",
       "        border: none;\n",
       "        /* Needs to be in here for Safari polyfill so background images work as expected. */\n",
       "        background-size: auto;\n",
       "    }\n",
       "    .progress-bar-interrupted, .progress-bar-interrupted::-webkit-progress-bar {\n",
       "        background: #F44336;\n",
       "    }\n",
       "</style>\n"
      ],
      "text/plain": [
       "<IPython.core.display.HTML object>"
      ]
     },
     "metadata": {},
     "output_type": "display_data"
    },
    {
     "data": {
      "text/html": [
       "<table border=\"1\" class=\"dataframe\">\n",
       "  <thead>\n",
       "    <tr style=\"text-align: left;\">\n",
       "      <th>epoch</th>\n",
       "      <th>train_loss</th>\n",
       "      <th>valid_loss</th>\n",
       "      <th>accuracy</th>\n",
       "      <th>time</th>\n",
       "    </tr>\n",
       "  </thead>\n",
       "  <tbody>\n",
       "    <tr>\n",
       "      <td>0</td>\n",
       "      <td>0.091224</td>\n",
       "      <td>0.094667</td>\n",
       "      <td>0.686739</td>\n",
       "      <td>00:13</td>\n",
       "    </tr>\n",
       "    <tr>\n",
       "      <td>1</td>\n",
       "      <td>0.083294</td>\n",
       "      <td>0.079744</td>\n",
       "      <td>0.701624</td>\n",
       "      <td>00:13</td>\n",
       "    </tr>\n",
       "    <tr>\n",
       "      <td>2</td>\n",
       "      <td>0.069417</td>\n",
       "      <td>0.064017</td>\n",
       "      <td>0.788904</td>\n",
       "      <td>00:12</td>\n",
       "    </tr>\n",
       "    <tr>\n",
       "      <td>3</td>\n",
       "      <td>0.061072</td>\n",
       "      <td>0.062791</td>\n",
       "      <td>0.787551</td>\n",
       "      <td>00:12</td>\n",
       "    </tr>\n",
       "    <tr>\n",
       "      <td>4</td>\n",
       "      <td>0.054276</td>\n",
       "      <td>0.053314</td>\n",
       "      <td>0.843708</td>\n",
       "      <td>00:13</td>\n",
       "    </tr>\n",
       "    <tr>\n",
       "      <td>5</td>\n",
       "      <td>0.048175</td>\n",
       "      <td>0.050120</td>\n",
       "      <td>0.826793</td>\n",
       "      <td>00:13</td>\n",
       "    </tr>\n",
       "    <tr>\n",
       "      <td>6</td>\n",
       "      <td>0.040943</td>\n",
       "      <td>0.051322</td>\n",
       "      <td>0.849120</td>\n",
       "      <td>00:13</td>\n",
       "    </tr>\n",
       "    <tr>\n",
       "      <td>7</td>\n",
       "      <td>0.031932</td>\n",
       "      <td>0.048541</td>\n",
       "      <td>0.855210</td>\n",
       "      <td>00:13</td>\n",
       "    </tr>\n",
       "    <tr>\n",
       "      <td>8</td>\n",
       "      <td>0.024598</td>\n",
       "      <td>0.043699</td>\n",
       "      <td>0.881597</td>\n",
       "      <td>00:13</td>\n",
       "    </tr>\n",
       "    <tr>\n",
       "      <td>9</td>\n",
       "      <td>0.021455</td>\n",
       "      <td>0.043395</td>\n",
       "      <td>0.879567</td>\n",
       "      <td>00:12</td>\n",
       "    </tr>\n",
       "  </tbody>\n",
       "</table>"
      ],
      "text/plain": [
       "<IPython.core.display.HTML object>"
      ]
     },
     "metadata": {},
     "output_type": "display_data"
    }
   ],
   "source": [
    "student = Learner(dls, resnet18(num_classes=2), metrics=accuracy)\n",
    "kd = KnowledgeDistillationCallback(teacher.model, Attention, ['layer1', 'layer2', 'layer3', 'layer4'], ['0.4', '0.5', '0.6', '0.7'], weight=0.9)\n",
    "student.fit_one_cycle(10, 1e-3, cbs=kd)"
   ]
  }
 ],
 "metadata": {
  "kernelspec": {
   "display_name": "Python 3 (ipykernel)",
   "language": "python",
   "name": "python3"
  }
 },
 "nbformat": 4,
 "nbformat_minor": 5
}
