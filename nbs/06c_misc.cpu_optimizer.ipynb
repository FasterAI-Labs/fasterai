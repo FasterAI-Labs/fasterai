{
 "cells": [
  {
   "cell_type": "raw",
   "id": "452d040d",
   "metadata": {},
   "source": [
    "---\n",
    "description: Further optimize for CPU inference\n",
    "output-file: cpu_optimizer.html\n",
    "title: Further optimize for CPU inference\n",
    "skip_showdoc: true\n",
    "skip_exec: true\n",
    "---"
   ]
  },
  {
   "cell_type": "code",
   "execution_count": null,
   "id": "dd975549",
   "metadata": {},
   "outputs": [],
   "source": [
    "#| default_exp misc.cpu_optimizer"
   ]
  },
  {
   "cell_type": "code",
   "execution_count": null,
   "id": "6802a5aa",
   "metadata": {},
   "outputs": [],
   "source": [
    "#| include: false\n",
    "from nbdev.showdoc import *"
   ]
  },
  {
   "cell_type": "code",
   "execution_count": null,
   "id": "fbbccd4a",
   "metadata": {},
   "outputs": [],
   "source": [
    "#| export\n",
    "import torch\n",
    "import torch.nn as nn\n",
    "from torch.utils.mobile_optimizer import optimize_for_mobile"
   ]
  },
  {
   "cell_type": "code",
   "execution_count": null,
   "id": "6524ac31",
   "metadata": {},
   "outputs": [],
   "source": [
    "#| export\n",
    "def accelerate_model_for_cpu(model: nn.Module, example_input: torch.Tensor):\n",
    "    model.eval()\n",
    "    example_input = example_input.to(memory_format=torch.channels_last)\n",
    "    \n",
    "    model = model.to(memory_format=torch.channels_last)\n",
    "    model = torch.jit.script(model)\n",
    "    model = optimize_for_mobile(model)\n",
    "\n",
    "    return model"
   ]
  },
  {
   "cell_type": "code",
   "execution_count": null,
   "id": "50222d43",
   "metadata": {},
   "outputs": [
    {
     "data": {
      "text/markdown": [
       "---\n",
       "\n",
       "### accelerate_model_for_cpu\n",
       "\n",
       ">      accelerate_model_for_cpu (model:torch.nn.modules.module.Module,\n",
       ">                                example_input:torch.Tensor)"
      ],
      "text/plain": [
       "---\n",
       "\n",
       "### accelerate_model_for_cpu\n",
       "\n",
       ">      accelerate_model_for_cpu (model:torch.nn.modules.module.Module,\n",
       ">                                example_input:torch.Tensor)"
      ]
     },
     "execution_count": null,
     "metadata": {},
     "output_type": "execute_result"
    }
   ],
   "source": [
    "show_doc(accelerate_model_for_cpu)"
   ]
  }
 ],
 "metadata": {
  "kernelspec": {
   "display_name": "python3",
   "language": "python",
   "name": "python3"
  }
 },
 "nbformat": 4,
 "nbformat_minor": 5
}
