{
 "cells": [
  {
   "cell_type": "raw",
   "id": "08159415",
   "metadata": {},
   "source": [
    "---\n",
    "description: Use the pruner in fastai Callback system\n",
    "output-file: prune_callback.html\n",
    "title: Prune Callback\n",
    "skip_showdoc: true\n",
    "skip_exec: true\n",
    "---"
   ]
  },
  {
   "cell_type": "code",
   "execution_count": null,
   "id": "e5148f82",
   "metadata": {},
   "outputs": [],
   "source": [
    "#| default_exp prune.prune_callback"
   ]
  },
  {
   "cell_type": "code",
   "execution_count": null,
   "id": "1ce26620",
   "metadata": {},
   "outputs": [],
   "source": [
    "#| include: false\n",
    "from nbdev.showdoc import *"
   ]
  },
  {
   "cell_type": "code",
   "execution_count": null,
   "id": "7d58c624",
   "metadata": {},
   "outputs": [],
   "source": [
    "#| export\n",
    "from fastai.vision.all import *\n",
    "from fastai.callback.all import *\n",
    "from fasterai.prune.pruner import *\n",
    "from fasterai.core.criteria import *\n",
    "from fasterai.core.schedule import *\n",
    "\n",
    "import torch\n",
    "import torch.nn as nn\n",
    "import torch.nn.functional as F"
   ]
  },
  {
   "cell_type": "code",
   "execution_count": null,
   "id": "50598138-7d55-4774-b711-114c1c42dce8",
   "metadata": {},
   "outputs": [],
   "source": [
    "#| export\n",
    "class PruneCallback(Callback):\n",
    "    def __init__(self, pruning_ratio, schedule, context, criteria, *args, **kwargs):\n",
    "        store_attr()\n",
    "        self.sparsity_levels = []\n",
    "        self.extra_args = args\n",
    "        self.extra_kwargs = kwargs\n",
    "\n",
    "    def before_fit(self):\n",
    "        n_batches_per_epoch = len(self.learn.dls.train)\n",
    "        total_training_steps = n_batches_per_epoch * self.learn.n_epoch\n",
    "        self.pruning_ratio = self.pruning_ratio/100 if self.pruning_ratio>1 else self.pruning_ratio\n",
    "\n",
    "        self.example_inputs, _ = self.learn.dls.one_batch()\n",
    "        self.sparsity_levels = self.schedule._scheduler(self.pruning_ratio, total_training_steps)\n",
    "        \n",
    "        self.pruner = Pruner(\n",
    "        self.learn.model,\n",
    "        criteria=self.criteria,\n",
    "        pruning_ratio=self.pruning_ratio, \n",
    "        context=self.context,\n",
    "        iterative_steps= total_training_steps, \n",
    "        schedule=self.schedule._scheduler,\n",
    "        *self.extra_args, \n",
    "        **self.extra_kwargs\n",
    "        )\n",
    "        \n",
    "    def before_step(self):\n",
    "        if self.training: \n",
    "            self.pruner.prune_model()\n",
    "\n",
    "    def after_epoch(self):\n",
    "        completed_steps = (self.epoch + 1) * len(self.learn.dls.train)\n",
    "        current_sparsity = self.sparsity_levels[completed_steps - 1]\n",
    "        print(f'Sparsity at the end of epoch {self.epoch}: {current_sparsity*100:.2f}%')"
   ]
  },
  {
   "cell_type": "code",
   "execution_count": null,
   "id": "b1921c59",
   "metadata": {},
   "outputs": [
    {
     "data": {
      "text/markdown": [
       "---\n",
       "\n",
       "[source](https://github.com/FasterAI-Labs/fasterai/tree/master/blob/master/fasterai/prune/prune_callback.py#L18){target=\"_blank\" style=\"float:right; font-size:smaller\"}\n",
       "\n",
       "### PruneCallback\n",
       "\n",
       ">      PruneCallback (pruning_ratio, schedule, global_pruning, criteria, *args,\n",
       ">                     **kwargs)\n",
       "\n",
       "*Basic class handling tweaks of the training loop by changing a `Learner` in various events*"
      ],
      "text/plain": [
       "---\n",
       "\n",
       "[source](https://github.com/FasterAI-Labs/fasterai/tree/master/blob/master/fasterai/prune/prune_callback.py#L18){target=\"_blank\" style=\"float:right; font-size:smaller\"}\n",
       "\n",
       "### PruneCallback\n",
       "\n",
       ">      PruneCallback (pruning_ratio, schedule, global_pruning, criteria, *args,\n",
       ">                     **kwargs)\n",
       "\n",
       "*Basic class handling tweaks of the training loop by changing a `Learner` in various events*"
      ]
     },
     "execution_count": null,
     "metadata": {},
     "output_type": "execute_result"
    }
   ],
   "source": [
    "show_doc(PruneCallback)"
   ]
  },
  {
   "cell_type": "code",
   "execution_count": null,
   "id": "d45f3567-c81d-4936-b4be-9c7df0055e51",
   "metadata": {},
   "outputs": [],
   "source": []
  }
 ],
 "metadata": {
  "kernelspec": {
   "display_name": "python3",
   "language": "python",
   "name": "python3"
  }
 },
 "nbformat": 4,
 "nbformat_minor": 5
}
