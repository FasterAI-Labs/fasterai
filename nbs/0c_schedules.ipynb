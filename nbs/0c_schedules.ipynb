{
 "cells": [
  {
   "cell_type": "code",
   "execution_count": null,
   "id": "crude-somewhere",
   "metadata": {},
   "outputs": [],
   "source": [
    "# default_exp schedule"
   ]
  },
  {
   "cell_type": "markdown",
   "id": "assisted-saudi",
   "metadata": {},
   "source": [
    "# Schedules\n",
    "\n",
    "> When should I prune my network ?"
   ]
  },
  {
   "cell_type": "code",
   "execution_count": null,
   "id": "later-aluminum",
   "metadata": {},
   "outputs": [],
   "source": [
    "#export\n",
    "import numpy as np"
   ]
  },
  {
   "cell_type": "code",
   "execution_count": null,
   "id": "decent-savannah",
   "metadata": {},
   "outputs": [],
   "source": [
    "#export\n",
    "\n",
    "def iterative(start, end, pos, n_steps=3):\n",
    "    \"Perform iterative pruning, and pruning in `n_steps` steps\"\n",
    "    return start + ((end-start)/n_steps)*(np.ceil((pos)*n_steps))\n",
    "    \n",
    "def one_shot(start, end, pos): return end\n",
    "\n",
    "def sched_agp(start, end, pos): return end + start - end * (1 - pos)**3"
   ]
  }
 ],
 "metadata": {
  "kernelspec": {
   "display_name": "Python 3",
   "language": "python",
   "name": "python3"
  }
 },
 "nbformat": 4,
 "nbformat_minor": 5
}
