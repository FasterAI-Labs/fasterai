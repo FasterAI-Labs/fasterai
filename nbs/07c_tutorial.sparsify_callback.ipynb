{
 "cells": [
  {
   "cell_type": "raw",
   "id": "08159415",
   "metadata": {},
   "source": [
    "---\n",
    "description: Use the sparsifier in fastai Callback system\n",
    "output-file: sparsify_callback.html\n",
    "title: SparsifyCallback\n",
    "skip_showdoc: true\n",
    "skip_exec: true\n",
    "---\n",
    "\n"
   ]
  },
  {
   "cell_type": "code",
   "execution_count": null,
   "id": "e5148f82",
   "metadata": {},
   "outputs": [],
   "source": [
    "#| default_exp sparse.sparsify_callback"
   ]
  },
  {
   "cell_type": "code",
   "execution_count": null,
   "id": "1ce26620",
   "metadata": {},
   "outputs": [],
   "source": [
    "#| include: false\n",
    "from nbdev.showdoc import *"
   ]
  },
  {
   "cell_type": "code",
   "execution_count": null,
   "id": "7d58c624",
   "metadata": {},
   "outputs": [],
   "source": [
    "#| export\n",
    "from fastai.vision.all import *\n",
    "from fastai.callback.all import *\n",
    "from fasterai.sparse.sparsifier import *\n",
    "from fasterai.sparse.criteria import *\n",
    "from fasterai.sparse.schedule import *\n",
    "\n",
    "import torch\n",
    "import torch.nn as nn\n",
    "import torch.nn.functional as F"
   ]
  },
  {
   "cell_type": "code",
   "execution_count": null,
   "id": "db73f2d1",
   "metadata": {},
   "outputs": [],
   "source": [
    "path = untar_data(URLs.PETS)\n",
    "files = get_image_files(path/\"images\")\n",
    "\n",
    "def label_func(f): return f[0].isupper()"
   ]
  },
  {
   "cell_type": "code",
   "execution_count": null,
   "id": "6944fb85",
   "metadata": {},
   "outputs": [],
   "source": [
    "dls = ImageDataLoaders.from_name_func(path, files, label_func, item_tfms=Resize(64))"
   ]
  },
  {
   "cell_type": "code",
   "execution_count": null,
   "id": "4b720750",
   "metadata": {},
   "outputs": [],
   "source": [
    "#| export\n",
    "class SparsifyCallback(Callback):\n",
    "    def __init__(self, sparsity, granularity, context, criteria, schedule, lth=False, rewind_epoch=0, reset_end=False, save_tickets=False, model=None, round_to=None, layer_type=nn.Conv2d):\n",
    "        store_attr()\n",
    "        self.sparsity = listify(self.sparsity)\n",
    "\n",
    "    def before_fit(self):\n",
    "        print(f'Pruning of {self.granularity} until a sparsity of {self.sparsity}%')\n",
    "        assert self.schedule.start_pct*self.n_epoch>=self.rewind_epoch, 'You must rewind to an epoch before the start of the pruning process'\n",
    "        model = self.model if self.model else self.learn.model\n",
    "        self.sparsifier = Sparsifier(model, self.granularity, self.context, self.criteria, self.layer_type)\n",
    "\n",
    "    def before_epoch(self):\n",
    "        if self.epoch == self.rewind_epoch:\n",
    "            print(f'Saving Weights at epoch {self.epoch}')\n",
    "            self.sparsifier._save_weights()\n",
    "\n",
    "    def before_batch(self):\n",
    "        self.current_sparsity = self.schedule(self.sparsity, round(self.pct_train,3))\n",
    "        if self.schedule.pruned and self.training:\n",
    "            if self.lth and self.save_tickets:\n",
    "                print('Saving Intermediate Ticket')\n",
    "                self.sparsifier.save_model(f'winning_ticket_{self.previous_sparsity[0]:.2f}.pth', self.learn.model)\n",
    "            self.sparsifier.prune_model(self.current_sparsity, self.round_to)\n",
    "\n",
    "    def after_step(self):\n",
    "        if self.lth and self.schedule.pruned:\n",
    "            print(f'Resetting Weights to their epoch {self.rewind_epoch} values')\n",
    "            self.sparsifier._reset_weights(self.learn.model)\n",
    "        self.schedule.after_pruned()\n",
    "        self.sparsifier._apply_masks()\n",
    "\n",
    "    def after_epoch(self):\n",
    "        sparsity_str = [float(f\"%0.2f\"%sp) for sp in self.current_sparsity]\n",
    "        print(f'Sparsity at the end of epoch {self.epoch}: {sparsity_str}%')\n",
    "\n",
    "    def after_fit(self):\n",
    "        if self.save_tickets:\n",
    "            print('Saving Final Ticket')\n",
    "            self.sparsifier.save_model(f'winning_ticket_{self.previous_sparsity[0]:.2f}.pth', self.learn.model)\n",
    "        print(f'Final Sparsity: {self.schedule.current_sparsity:}%')\n",
    "        if self.reset_end: self.sparsifier._reset_weights()\n",
    "        self.sparsifier._clean_buffers()\n",
    "        self.schedule.reset()\n",
    "        self.sparsifier.print_sparsity()"
   ]
  },
  {
   "cell_type": "markdown",
   "id": "d28c13f6",
   "metadata": {},
   "source": [
    "The most important part of our `Callback` happens in `before_batch`. There, we first compute the sparsity of our network according to our schedule and then we remove the parameters accordingly."
   ]
  },
  {
   "cell_type": "code",
   "execution_count": null,
   "id": "345c2b5c",
   "metadata": {},
   "outputs": [
    {
     "name": "stderr",
     "output_type": "stream",
     "text": [
      "/home/HubensN/miniconda3/envs/deep/lib/python3.8/site-packages/fastai/vision/learner.py:265: UserWarning: `cnn_learner` has been renamed to `vision_learner` -- please update your code\n",
      "  warn(\"`cnn_learner` has been renamed to `vision_learner` -- please update your code\")\n"
     ]
    }
   ],
   "source": [
    "learn = cnn_learner(dls, resnet18, metrics=accuracy)\n",
    "learn.unfreeze()"
   ]
  },
  {
   "cell_type": "code",
   "execution_count": null,
   "id": "90051f0a",
   "metadata": {},
   "outputs": [
    {
     "data": {
      "text/html": [
       "\n",
       "<style>\n",
       "    /* Turns off some styling */\n",
       "    progress {\n",
       "        /* gets rid of default border in Firefox and Opera. */\n",
       "        border: none;\n",
       "        /* Needs to be in here for Safari polyfill so background images work as expected. */\n",
       "        background-size: auto;\n",
       "    }\n",
       "    .progress-bar-interrupted, .progress-bar-interrupted::-webkit-progress-bar {\n",
       "        background: #F44336;\n",
       "    }\n",
       "</style>\n"
      ],
      "text/plain": [
       "<IPython.core.display.HTML object>"
      ]
     },
     "metadata": {},
     "output_type": "display_data"
    },
    {
     "data": {
      "text/html": [
       "<table border=\"1\" class=\"dataframe\">\n",
       "  <thead>\n",
       "    <tr style=\"text-align: left;\">\n",
       "      <th>epoch</th>\n",
       "      <th>train_loss</th>\n",
       "      <th>valid_loss</th>\n",
       "      <th>accuracy</th>\n",
       "      <th>time</th>\n",
       "    </tr>\n",
       "  </thead>\n",
       "  <tbody>\n",
       "    <tr>\n",
       "      <td>0</td>\n",
       "      <td>0.714170</td>\n",
       "      <td>0.534177</td>\n",
       "      <td>0.802436</td>\n",
       "      <td>00:08</td>\n",
       "    </tr>\n",
       "    <tr>\n",
       "      <td>1</td>\n",
       "      <td>0.405863</td>\n",
       "      <td>0.466950</td>\n",
       "      <td>0.861976</td>\n",
       "      <td>00:07</td>\n",
       "    </tr>\n",
       "    <tr>\n",
       "      <td>2</td>\n",
       "      <td>0.229647</td>\n",
       "      <td>0.234999</td>\n",
       "      <td>0.902571</td>\n",
       "      <td>00:07</td>\n",
       "    </tr>\n",
       "    <tr>\n",
       "      <td>3</td>\n",
       "      <td>0.141966</td>\n",
       "      <td>0.198904</td>\n",
       "      <td>0.924222</td>\n",
       "      <td>00:07</td>\n",
       "    </tr>\n",
       "    <tr>\n",
       "      <td>4</td>\n",
       "      <td>0.073327</td>\n",
       "      <td>0.191152</td>\n",
       "      <td>0.930988</td>\n",
       "      <td>00:07</td>\n",
       "    </tr>\n",
       "  </tbody>\n",
       "</table>"
      ],
      "text/plain": [
       "<IPython.core.display.HTML object>"
      ]
     },
     "metadata": {},
     "output_type": "display_data"
    }
   ],
   "source": [
    "learn.fit_one_cycle(5)"
   ]
  },
  {
   "cell_type": "markdown",
   "id": "35a4aa2b",
   "metadata": {},
   "source": [
    "Let's now try adding some sparsity in our model"
   ]
  },
  {
   "cell_type": "code",
   "execution_count": null,
   "id": "c1821ac6",
   "metadata": {},
   "outputs": [
    {
     "name": "stderr",
     "output_type": "stream",
     "text": [
      "/home/HubensN/miniconda3/envs/deep/lib/python3.8/site-packages/fastai/vision/learner.py:265: UserWarning: `cnn_learner` has been renamed to `vision_learner` -- please update your code\n",
      "  warn(\"`cnn_learner` has been renamed to `vision_learner` -- please update your code\")\n"
     ]
    }
   ],
   "source": [
    "learn = cnn_learner(dls, resnet18, metrics=accuracy)\n",
    "learn.unfreeze()"
   ]
  },
  {
   "cell_type": "markdown",
   "id": "9f373da5",
   "metadata": {},
   "source": [
    "The `SparsifyCallback` requires a new argument compared to the `Sparsifier`. Indeed, we need to know the pruning schedule that we should follow during training in order to prune the parameters accordingly."
   ]
  },
  {
   "cell_type": "markdown",
   "id": "6d931837",
   "metadata": {},
   "source": [
    "You can use any scheduling function already [available](https://docs.fast.ai/callback.schedule.html#Annealing) in fastai or come up with your own ! For more information about the pruning schedules, take a look at the [Schedules section](https://nathanhubens.github.io/fasterai/schedules.html)."
   ]
  },
  {
   "cell_type": "code",
   "execution_count": null,
   "id": "77f1bcae",
   "metadata": {},
   "outputs": [],
   "source": [
    "learn = Learner(dls, resnet18(num_classes=2), metrics=accuracy)"
   ]
  },
  {
   "cell_type": "code",
   "execution_count": null,
   "id": "0d3b4a54",
   "metadata": {},
   "outputs": [],
   "source": [
    "sp_cb = SparsifyCallback(sparsity=50, granularity='weight', context='local', criteria=large_final, schedule=cos)"
   ]
  },
  {
   "cell_type": "code",
   "execution_count": null,
   "id": "34c083f0",
   "metadata": {},
   "outputs": [
    {
     "name": "stdout",
     "output_type": "stream",
     "text": [
      "Pruning of weight until a sparsity of [50]%\n",
      "Saving Weights at epoch 0\n"
     ]
    },
    {
     "data": {
      "text/html": [
       "\n",
       "<style>\n",
       "    /* Turns off some styling */\n",
       "    progress {\n",
       "        /* gets rid of default border in Firefox and Opera. */\n",
       "        border: none;\n",
       "        /* Needs to be in here for Safari polyfill so background images work as expected. */\n",
       "        background-size: auto;\n",
       "    }\n",
       "    .progress-bar-interrupted, .progress-bar-interrupted::-webkit-progress-bar {\n",
       "        background: #F44336;\n",
       "    }\n",
       "</style>\n"
      ],
      "text/plain": [
       "<IPython.core.display.HTML object>"
      ]
     },
     "metadata": {},
     "output_type": "display_data"
    },
    {
     "data": {
      "text/html": [
       "<table border=\"1\" class=\"dataframe\">\n",
       "  <thead>\n",
       "    <tr style=\"text-align: left;\">\n",
       "      <th>epoch</th>\n",
       "      <th>train_loss</th>\n",
       "      <th>valid_loss</th>\n",
       "      <th>accuracy</th>\n",
       "      <th>time</th>\n",
       "    </tr>\n",
       "  </thead>\n",
       "  <tbody>\n",
       "    <tr>\n",
       "      <td>0</td>\n",
       "      <td>0.597135</td>\n",
       "      <td>0.568558</td>\n",
       "      <td>0.694181</td>\n",
       "      <td>00:09</td>\n",
       "    </tr>\n",
       "    <tr>\n",
       "      <td>1</td>\n",
       "      <td>0.543739</td>\n",
       "      <td>0.527585</td>\n",
       "      <td>0.730717</td>\n",
       "      <td>00:07</td>\n",
       "    </tr>\n",
       "    <tr>\n",
       "      <td>2</td>\n",
       "      <td>0.508932</td>\n",
       "      <td>0.507831</td>\n",
       "      <td>0.748309</td>\n",
       "      <td>00:07</td>\n",
       "    </tr>\n",
       "    <tr>\n",
       "      <td>3</td>\n",
       "      <td>0.451922</td>\n",
       "      <td>0.454692</td>\n",
       "      <td>0.799053</td>\n",
       "      <td>00:07</td>\n",
       "    </tr>\n",
       "    <tr>\n",
       "      <td>4</td>\n",
       "      <td>0.427453</td>\n",
       "      <td>0.434664</td>\n",
       "      <td>0.801759</td>\n",
       "      <td>00:07</td>\n",
       "    </tr>\n",
       "    <tr>\n",
       "      <td>5</td>\n",
       "      <td>0.377218</td>\n",
       "      <td>0.402817</td>\n",
       "      <td>0.823410</td>\n",
       "      <td>00:07</td>\n",
       "    </tr>\n",
       "    <tr>\n",
       "      <td>6</td>\n",
       "      <td>0.340924</td>\n",
       "      <td>0.410856</td>\n",
       "      <td>0.820027</td>\n",
       "      <td>00:07</td>\n",
       "    </tr>\n",
       "    <tr>\n",
       "      <td>7</td>\n",
       "      <td>0.319503</td>\n",
       "      <td>0.363846</td>\n",
       "      <td>0.837618</td>\n",
       "      <td>00:07</td>\n",
       "    </tr>\n",
       "    <tr>\n",
       "      <td>8</td>\n",
       "      <td>0.271233</td>\n",
       "      <td>0.377996</td>\n",
       "      <td>0.853180</td>\n",
       "      <td>00:07</td>\n",
       "    </tr>\n",
       "    <tr>\n",
       "      <td>9</td>\n",
       "      <td>0.228336</td>\n",
       "      <td>0.334722</td>\n",
       "      <td>0.865359</td>\n",
       "      <td>00:07</td>\n",
       "    </tr>\n",
       "  </tbody>\n",
       "</table>"
      ],
      "text/plain": [
       "<IPython.core.display.HTML object>"
      ]
     },
     "metadata": {},
     "output_type": "display_data"
    },
    {
     "name": "stdout",
     "output_type": "stream",
     "text": [
      "Sparsity at the end of epoch 0: [1.22]%\n",
      "Sparsity at the end of epoch 1: [4.77]%\n",
      "Sparsity at the end of epoch 2: [10.31]%\n",
      "Sparsity at the end of epoch 3: [17.27]%\n",
      "Sparsity at the end of epoch 4: [25.0]%\n",
      "Sparsity at the end of epoch 5: [32.73]%\n",
      "Sparsity at the end of epoch 6: [39.69]%\n",
      "Sparsity at the end of epoch 7: [45.23]%\n",
      "Sparsity at the end of epoch 8: [48.78]%\n",
      "Sparsity at the end of epoch 9: [50.0]%\n",
      "Final Sparsity: [50.0]%\n",
      "Sparsity in Conv2d 1: 50.00%\n",
      "Sparsity in Conv2d 7: 50.00%\n",
      "Sparsity in Conv2d 10: 50.00%\n",
      "Sparsity in Conv2d 13: 50.00%\n",
      "Sparsity in Conv2d 16: 50.00%\n",
      "Sparsity in Conv2d 20: 50.00%\n",
      "Sparsity in Conv2d 23: 50.00%\n",
      "Sparsity in Conv2d 26: 50.00%\n",
      "Sparsity in Conv2d 29: 50.00%\n",
      "Sparsity in Conv2d 32: 50.00%\n",
      "Sparsity in Conv2d 36: 50.00%\n",
      "Sparsity in Conv2d 39: 50.00%\n",
      "Sparsity in Conv2d 42: 50.00%\n",
      "Sparsity in Conv2d 45: 50.00%\n",
      "Sparsity in Conv2d 48: 50.00%\n",
      "Sparsity in Conv2d 52: 50.00%\n",
      "Sparsity in Conv2d 55: 50.00%\n",
      "Sparsity in Conv2d 58: 50.00%\n",
      "Sparsity in Conv2d 61: 50.00%\n",
      "Sparsity in Conv2d 64: 50.00%\n"
     ]
    }
   ],
   "source": [
    "learn.fit(10, cbs=sp_cb)"
   ]
  },
  {
   "cell_type": "markdown",
   "id": "21e0077b",
   "metadata": {},
   "source": [
    "Surprisingly, our network that is composed of $50 \\%$ of zeroes performs reasonnably well when compared to our plain and dense network."
   ]
  },
  {
   "cell_type": "markdown",
   "id": "eb827347",
   "metadata": {},
   "source": [
    "The `SparsifyCallback` also accepts a list of sparsities, corresponding to each layer of `layer_type` to be pruned. Below, we show how to prune only the intermediate layers of ResNet-18."
   ]
  },
  {
   "cell_type": "code",
   "execution_count": null,
   "id": "6ee0ce10",
   "metadata": {},
   "outputs": [],
   "source": [
    "learn = cnn_learner(dls, resnet18, metrics=accuracy)\n",
    "learn.unfreeze()"
   ]
  },
  {
   "cell_type": "code",
   "execution_count": null,
   "id": "fd7801b6",
   "metadata": {},
   "outputs": [],
   "source": [
    "sparsities = [0, 0, 0, 0, 0, 0, 50, 50, 50, 50, 50, 50, 50, 50, 0, 0, 0, 0, 0, 0]"
   ]
  },
  {
   "cell_type": "code",
   "execution_count": null,
   "id": "8c5f04ed",
   "metadata": {},
   "outputs": [],
   "source": [
    "sp_cb = SparsifyCallback(sparsity=sparsities, granularity='weight', context='local', criteria=large_final, schedule=cos)"
   ]
  },
  {
   "cell_type": "code",
   "execution_count": null,
   "id": "9693eaf0",
   "metadata": {},
   "outputs": [
    {
     "name": "stdout",
     "output_type": "stream",
     "text": [
      "Pruning of weight until a sparsity of [0, 0, 0, 0, 0, 0, 50, 50, 50, 50, 50, 50, 50, 50, 0, 0, 0, 0, 0, 0]%\n",
      "Saving Weights at epoch 0\n"
     ]
    },
    {
     "data": {
      "text/html": [
       "\n",
       "<style>\n",
       "    /* Turns off some styling */\n",
       "    progress {\n",
       "        /* gets rid of default border in Firefox and Opera. */\n",
       "        border: none;\n",
       "        /* Needs to be in here for Safari polyfill so background images work as expected. */\n",
       "        background-size: auto;\n",
       "    }\n",
       "    .progress-bar-interrupted, .progress-bar-interrupted::-webkit-progress-bar {\n",
       "        background: #F44336;\n",
       "    }\n",
       "</style>\n"
      ],
      "text/plain": [
       "<IPython.core.display.HTML object>"
      ]
     },
     "metadata": {},
     "output_type": "display_data"
    },
    {
     "data": {
      "text/html": [
       "<table border=\"1\" class=\"dataframe\">\n",
       "  <thead>\n",
       "    <tr style=\"text-align: left;\">\n",
       "      <th>epoch</th>\n",
       "      <th>train_loss</th>\n",
       "      <th>valid_loss</th>\n",
       "      <th>accuracy</th>\n",
       "      <th>time</th>\n",
       "    </tr>\n",
       "  </thead>\n",
       "  <tbody>\n",
       "    <tr>\n",
       "      <td>0</td>\n",
       "      <td>0.748184</td>\n",
       "      <td>0.876642</td>\n",
       "      <td>0.826116</td>\n",
       "      <td>00:08</td>\n",
       "    </tr>\n",
       "    <tr>\n",
       "      <td>1</td>\n",
       "      <td>0.422033</td>\n",
       "      <td>0.255813</td>\n",
       "      <td>0.889039</td>\n",
       "      <td>00:08</td>\n",
       "    </tr>\n",
       "    <tr>\n",
       "      <td>2</td>\n",
       "      <td>0.262884</td>\n",
       "      <td>0.234100</td>\n",
       "      <td>0.904601</td>\n",
       "      <td>00:08</td>\n",
       "    </tr>\n",
       "    <tr>\n",
       "      <td>3</td>\n",
       "      <td>0.132767</td>\n",
       "      <td>0.228366</td>\n",
       "      <td>0.921516</td>\n",
       "      <td>00:08</td>\n",
       "    </tr>\n",
       "    <tr>\n",
       "      <td>4</td>\n",
       "      <td>0.075110</td>\n",
       "      <td>0.210104</td>\n",
       "      <td>0.930311</td>\n",
       "      <td>00:08</td>\n",
       "    </tr>\n",
       "  </tbody>\n",
       "</table>"
      ],
      "text/plain": [
       "<IPython.core.display.HTML object>"
      ]
     },
     "metadata": {},
     "output_type": "display_data"
    },
    {
     "name": "stdout",
     "output_type": "stream",
     "text": [
      "Sparsity at the end of epoch 0: [0.0, 0.0, 0.0, 0.0, 0.0, 0.0, 4.77, 4.77, 4.77, 4.77, 4.77, 4.77, 4.77, 4.77, 0.0, 0.0, 0.0, 0.0, 0.0, 0.0]%\n",
      "Sparsity at the end of epoch 1: [0.0, 0.0, 0.0, 0.0, 0.0, 0.0, 17.27, 17.27, 17.27, 17.27, 17.27, 17.27, 17.27, 17.27, 0.0, 0.0, 0.0, 0.0, 0.0, 0.0]%\n",
      "Sparsity at the end of epoch 2: [0.0, 0.0, 0.0, 0.0, 0.0, 0.0, 32.73, 32.73, 32.73, 32.73, 32.73, 32.73, 32.73, 32.73, 0.0, 0.0, 0.0, 0.0, 0.0, 0.0]%\n",
      "Sparsity at the end of epoch 3: [0.0, 0.0, 0.0, 0.0, 0.0, 0.0, 45.23, 45.23, 45.23, 45.23, 45.23, 45.23, 45.23, 45.23, 0.0, 0.0, 0.0, 0.0, 0.0, 0.0]%\n",
      "Sparsity at the end of epoch 4: [0.0, 0.0, 0.0, 0.0, 0.0, 0.0, 50.0, 50.0, 50.0, 50.0, 50.0, 50.0, 50.0, 50.0, 0.0, 0.0, 0.0, 0.0, 0.0, 0.0]%\n",
      "Final Sparsity: [0.0, 0.0, 0.0, 0.0, 0.0, 0.0, 50.0, 50.0, 50.0, 50.0, 50.0, 50.0, 50.0, 50.0, 0.0, 0.0, 0.0, 0.0, 0.0, 0.0]%\n",
      "Sparsity in Conv2d 2: 0.00%\n",
      "Sparsity in Conv2d 8: 0.00%\n",
      "Sparsity in Conv2d 11: 0.00%\n",
      "Sparsity in Conv2d 14: 0.00%\n",
      "Sparsity in Conv2d 17: 0.00%\n",
      "Sparsity in Conv2d 21: 0.00%\n",
      "Sparsity in Conv2d 24: 50.00%\n",
      "Sparsity in Conv2d 27: 50.00%\n",
      "Sparsity in Conv2d 30: 50.00%\n",
      "Sparsity in Conv2d 33: 50.00%\n",
      "Sparsity in Conv2d 37: 50.00%\n",
      "Sparsity in Conv2d 40: 50.00%\n",
      "Sparsity in Conv2d 43: 50.00%\n",
      "Sparsity in Conv2d 46: 50.00%\n",
      "Sparsity in Conv2d 49: 0.00%\n",
      "Sparsity in Conv2d 53: 0.00%\n",
      "Sparsity in Conv2d 56: 0.00%\n",
      "Sparsity in Conv2d 59: 0.00%\n",
      "Sparsity in Conv2d 62: 0.00%\n",
      "Sparsity in Conv2d 65: 0.00%\n"
     ]
    }
   ],
   "source": [
    "learn.fit_one_cycle(5, cbs=sp_cb)"
   ]
  },
  {
   "cell_type": "markdown",
   "id": "46323843",
   "metadata": {},
   "source": [
    "On top of that, the `SparsifyCallback`can also take many optionnal arguments: \n",
    "\n",
    "- `start_sparsity`: the sparsity that the schedule will use as a starting point (default to 0)\n",
    "- `start_epoch`: the epoch at which the schedule will start pruning (default to 0)\n",
    "- `end_epoch`: the epoch at which the schedule will stop pruning (default to the training epochs passed in `fit`)\n",
    "- `lth`: whether training using the Lottery Ticket Hypothesis, i.e. reset the weights to their original value at each pruning step (more information in the Lottery Ticket Hypothesis section)\n",
    "- `rewind_epoch`: the epoch used as a reference for the Lottery Ticket Hypothesis with Rewinding (default to 0)\n",
    "- `reset_end`: whether you want to reset the weights to their original values after training (pruning masks are still applied)\n",
    "- `save_tickets`: whether to save intermediate winning tickets.\n",
    "- `model`: pass a model or a part of the model if you don't want to apply pruning on the whole model trained.\n",
    "- `round_to`: if specified, the weights will be pruned to the closest multiple value of `round_to`.\n",
    "- `layer_type`: specify the type of layer that you want to apply pruning to (default to nn.Conv2d)`"
   ]
  },
  {
   "cell_type": "markdown",
   "id": "39090448",
   "metadata": {},
   "source": [
    "For example, we correctly pruned the convolution layers of our model, but we could imagine pruning the Linear Layers of even only the BatchNorm ones !"
   ]
  }
 ],
 "metadata": {
  "kernelspec": {
   "display_name": "Python 3 (ipykernel)",
   "language": "python",
   "name": "python3"
  }
 },
 "nbformat": 4,
 "nbformat_minor": 5
}
