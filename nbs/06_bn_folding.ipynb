{
 "cells": [
  {
   "cell_type": "code",
   "execution_count": null,
   "id": "8c581ebf",
   "metadata": {},
   "outputs": [],
   "source": [
    "# default_exp misc.bn_folding"
   ]
  },
  {
   "cell_type": "markdown",
   "id": "77a7abb9",
   "metadata": {},
   "source": [
    "# Batch Norm Folding\n",
    "\n",
    "> Fold the batchnorm and the conv layers together to reduce computation"
   ]
  },
  {
   "cell_type": "code",
   "execution_count": null,
   "id": "automatic-lighter",
   "metadata": {},
   "outputs": [],
   "source": [
    "#all_slow"
   ]
  },
  {
   "cell_type": "code",
   "execution_count": null,
   "id": "canadian-procurement",
   "metadata": {},
   "outputs": [],
   "source": [
    "#hide\n",
    "from nbdev.showdoc import *\n",
    "\n",
    "%config InlineBackend.figure_format = 'retina'"
   ]
  },
  {
   "cell_type": "code",
   "execution_count": null,
   "id": "productive-preparation",
   "metadata": {},
   "outputs": [],
   "source": [
    "#export\n",
    "from fastai.vision.all import *\n",
    "\n",
    "import torch\n",
    "import torch.nn as nn\n",
    "import torch.nn.functional as F"
   ]
  },
  {
   "cell_type": "markdown",
   "id": "5943e5d3",
   "metadata": {},
   "source": [
    "Batch Normalization is a technique which takes care of normalizing the input of each layer to make the training process faster and more stable. In practice, it is an extra layer that we generally add after the computation layer and before the non-linearity.\n",
    "\n",
    "It consists of 2 steps:\n",
    "\n",
    "1. Normalize the batch by first subtracting its mean $\\mu$, then dividing it by its standard deviation $\\sigma$.\n",
    "2. Further scale by a factor $\\gamma$ and shift by a factor $\\beta$. Those are the parameters of the batch normalization layer, required in case of the network not needing the data to have a mean of $0$ and a standard deviation of $1$."
   ]
  },
  {
   "cell_type": "markdown",
   "id": "c1c79f29",
   "metadata": {},
   "source": [
    "$$\n",
    "\\begin{aligned}\\mu_{\\mathcal{B}} & \\leftarrow \\frac{1}{m} \\sum_{i=1}^{m} x_{i} \\\\ \\sigma_{\\mathcal{B}}^{2} & \\leftarrow \\frac{1}{m} \\sum_{i=1}^{m}\\left(x_{i}-\\mu_{\\mathcal{B}}\\right)^{2} \\\\ \\widehat{x}_{i} & \\leftarrow \\frac{x_{i}-\\mu_{\\mathcal{B}}}{\\sqrt{\\sigma_{\\mathcal{B}}^{2}+\\epsilon}} \\\\ y_{i} & \\leftarrow \\gamma \\widehat{x}_{i}+\\beta \\equiv \\mathrm{BN}_{\\gamma, \\beta}\\left(x_{i}\\right) \\end{aligned}$$"
   ]
  },
  {
   "cell_type": "markdown",
   "id": "f9d3efa1",
   "metadata": {},
   "source": [
    "Due to its efficiency for training neural networks, batch normalization is now widely used. But how useful is it at inference time?\n",
    "\n",
    "Once the training has ended, each batch normalization layer possesses a specific set of $\\gamma$ and $\\beta$, but also $\\mu$ and $\\sigma$, the latter being computed using an exponentially weighted average during training. It means that during inference, the batch normalization acts as a simple linear transformation of what comes out of the previous layer, often a convolution.\n",
    "\n",
    "As a convolution is also a linear transformation, it also means that both operations can be merged into a single linear transformation!\n",
    "\n",
    "This would remove some unnecessary parameters but also reduce the number of operations to be performed at inference time."
   ]
  },
  {
   "cell_type": "markdown",
   "id": "f52dc9f4",
   "metadata": {},
   "source": [
    "With a little bit of math, we can easily rearrange the terms of the convolution to take the batch normalization into account.\n",
    "\n",
    "As a little reminder, the convolution operation followed by the batch normalization operation can be expressed, for an input $x$, as:"
   ]
  },
  {
   "cell_type": "markdown",
   "id": "ce86a673",
   "metadata": {},
   "source": [
    "$$\\begin{aligned} z &=W * x+b \\\\ \\mathrm{out} &=\\gamma \\cdot \\frac{z-\\mu}{\\sqrt{\\sigma^{2}+\\epsilon}}+\\beta \\end{aligned}$$"
   ]
  },
  {
   "cell_type": "markdown",
   "id": "aaf6f798",
   "metadata": {},
   "source": [
    "So, if we re-arrange the $W$ and $b$ of the convolution to take the parameters of the batch normalization into account, as such:"
   ]
  },
  {
   "cell_type": "markdown",
   "id": "8801af65",
   "metadata": {},
   "source": [
    "$$\\begin{aligned} w_{\\text {fold }} &=\\gamma \\cdot \\frac{W}{\\sqrt{\\sigma^{2}+\\epsilon}} \\\\ b_{\\text {fold }} &=\\gamma \\cdot \\frac{b-\\mu}{\\sqrt{\\sigma^{2}+\\epsilon}}+\\beta \\end{aligned}$$"
   ]
  },
  {
   "cell_type": "markdown",
   "id": "b6739d7d",
   "metadata": {},
   "source": [
    "This is how to do it with fasterai !"
   ]
  },
  {
   "cell_type": "code",
   "execution_count": null,
   "id": "outside-majority",
   "metadata": {},
   "outputs": [],
   "source": [
    "path = untar_data(URLs.PETS)\n",
    "files = get_image_files(path/\"images\")\n",
    "\n",
    "def label_func(f): return f[0].isupper()"
   ]
  },
  {
   "cell_type": "code",
   "execution_count": null,
   "id": "white-boundary",
   "metadata": {},
   "outputs": [],
   "source": [
    "dls = ImageDataLoaders.from_name_func(path, files, label_func, item_tfms=Resize(64))"
   ]
  },
  {
   "cell_type": "code",
   "execution_count": null,
   "id": "reasonable-vision",
   "metadata": {},
   "outputs": [],
   "source": [
    "learn = Learner(dls, resnet18(num_classes=2), metrics=accuracy)"
   ]
  },
  {
   "cell_type": "code",
   "execution_count": null,
   "id": "received-camcorder",
   "metadata": {},
   "outputs": [
    {
     "data": {
      "text/html": [
       "<table border=\"1\" class=\"dataframe\">\n",
       "  <thead>\n",
       "    <tr style=\"text-align: left;\">\n",
       "      <th>epoch</th>\n",
       "      <th>train_loss</th>\n",
       "      <th>valid_loss</th>\n",
       "      <th>accuracy</th>\n",
       "      <th>time</th>\n",
       "    </tr>\n",
       "  </thead>\n",
       "  <tbody>\n",
       "    <tr>\n",
       "      <td>0</td>\n",
       "      <td>0.615641</td>\n",
       "      <td>0.596630</td>\n",
       "      <td>0.688092</td>\n",
       "      <td>00:10</td>\n",
       "    </tr>\n",
       "    <tr>\n",
       "      <td>1</td>\n",
       "      <td>0.582679</td>\n",
       "      <td>0.558671</td>\n",
       "      <td>0.689445</td>\n",
       "      <td>00:10</td>\n",
       "    </tr>\n",
       "    <tr>\n",
       "      <td>2</td>\n",
       "      <td>0.529308</td>\n",
       "      <td>0.517995</td>\n",
       "      <td>0.744926</td>\n",
       "      <td>00:10</td>\n",
       "    </tr>\n",
       "    <tr>\n",
       "      <td>3</td>\n",
       "      <td>0.481804</td>\n",
       "      <td>0.449941</td>\n",
       "      <td>0.784168</td>\n",
       "      <td>00:10</td>\n",
       "    </tr>\n",
       "    <tr>\n",
       "      <td>4</td>\n",
       "      <td>0.400030</td>\n",
       "      <td>0.414093</td>\n",
       "      <td>0.800406</td>\n",
       "      <td>00:10</td>\n",
       "    </tr>\n",
       "  </tbody>\n",
       "</table>"
      ],
      "text/plain": [
       "<IPython.core.display.HTML object>"
      ]
     },
     "metadata": {},
     "output_type": "display_data"
    }
   ],
   "source": [
    "learn.fit_one_cycle(5)"
   ]
  },
  {
   "cell_type": "code",
   "execution_count": null,
   "id": "83000749",
   "metadata": {},
   "outputs": [],
   "source": [
    "#export\n",
    "import copy\n",
    "\n",
    "class BN_Folder():\n",
    "    def __init__(self):\n",
    "        super().__init__()\n",
    "        \n",
    "    def fold(self, model):\n",
    "\n",
    "        new_model = copy.deepcopy(model)\n",
    "\n",
    "        module_names = list(new_model._modules)\n",
    "\n",
    "        for k, name in enumerate(module_names):\n",
    "\n",
    "            if len(list(new_model._modules[name]._modules)) > 0:\n",
    "                new_model._modules[name] = self.fold(new_model._modules[name])\n",
    "\n",
    "            else:\n",
    "                if isinstance(new_model._modules[name], nn.BatchNorm2d):\n",
    "                    if isinstance(new_model._modules[module_names[k-1]], nn.Conv2d):\n",
    "\n",
    "                        # Folded BN\n",
    "                        folded_conv = self._fold_conv_bn_eval(new_model._modules[module_names[k-1]], new_model._modules[name])\n",
    "\n",
    "                        # Replace old weight values\n",
    "                        #new_model._modules.pop(name) # Remove the BN layer\n",
    "                        new_model._modules[module_names[k]] = nn.Identity()\n",
    "                        new_model._modules[module_names[k-1]] = folded_conv # Replace the Convolutional Layer by the folded version\n",
    "\n",
    "        return new_model\n",
    "\n",
    "\n",
    "    def _bn_folding(self, conv_w, conv_b, bn_rm, bn_rv, bn_eps, bn_w, bn_b):\n",
    "        if conv_b is None:\n",
    "            conv_b = bn_rm.new_zeros(bn_rm.shape)\n",
    "        bn_var_rsqrt = torch.rsqrt(bn_rv + bn_eps)\n",
    "\n",
    "        w_fold = conv_w * (bn_w * bn_var_rsqrt).view(-1, 1, 1, 1)\n",
    "        b_fold = (conv_b - bn_rm) * bn_var_rsqrt * bn_w + bn_b\n",
    "\n",
    "        return torch.nn.Parameter(w_fold), torch.nn.Parameter(b_fold)\n",
    "\n",
    "\n",
    "    def _fold_conv_bn_eval(self, conv, bn):\n",
    "        assert(not (conv.training or bn.training)), \"Fusion only for eval!\"\n",
    "        fused_conv = copy.deepcopy(conv)\n",
    "\n",
    "        fused_conv.weight, fused_conv.bias = self._bn_folding(fused_conv.weight, fused_conv.bias,\n",
    "                                 bn.running_mean, bn.running_var, bn.eps, bn.weight, bn.bias)\n",
    "\n",
    "        return fused_conv"
   ]
  },
  {
   "cell_type": "code",
   "execution_count": null,
   "id": "2f5dac3d",
   "metadata": {},
   "outputs": [],
   "source": [
    "bn = BN_Folder()"
   ]
  },
  {
   "cell_type": "code",
   "execution_count": null,
   "id": "837ed7e8",
   "metadata": {},
   "outputs": [],
   "source": [
    "#hide\n",
    "def count_parameters(model):\n",
    "    return sum(p.numel() for p in model.parameters())"
   ]
  },
  {
   "cell_type": "code",
   "execution_count": null,
   "id": "0ab4ced3",
   "metadata": {},
   "outputs": [],
   "source": [
    "new_model = bn.fold(learn.model)"
   ]
  },
  {
   "cell_type": "markdown",
   "id": "8d00056d",
   "metadata": {},
   "source": [
    "The batch norm layers have been replaced by an Identity layer, and the weights of the convolutions have been modified accordingly."
   ]
  },
  {
   "cell_type": "code",
   "execution_count": null,
   "id": "162c8310",
   "metadata": {},
   "outputs": [
    {
     "data": {
      "text/plain": [
       "ResNet(\n",
       "  (conv1): Conv2d(3, 64, kernel_size=(7, 7), stride=(2, 2), padding=(3, 3))\n",
       "  (bn1): Identity()\n",
       "  (relu): ReLU(inplace=True)\n",
       "  (maxpool): MaxPool2d(kernel_size=3, stride=2, padding=1, dilation=1, ceil_mode=False)\n",
       "  (layer1): Sequential(\n",
       "    (0): BasicBlock(\n",
       "      (conv1): Conv2d(64, 64, kernel_size=(3, 3), stride=(1, 1), padding=(1, 1))\n",
       "      (bn1): Identity()\n",
       "      (relu): ReLU(inplace=True)\n",
       "      (conv2): Conv2d(64, 64, kernel_size=(3, 3), stride=(1, 1), padding=(1, 1))\n",
       "      (bn2): Identity()\n",
       "    )\n",
       "    (1): BasicBlock(\n",
       "      (conv1): Conv2d(64, 64, kernel_size=(3, 3), stride=(1, 1), padding=(1, 1))\n",
       "      (bn1): Identity()\n",
       "      (relu): ReLU(inplace=True)\n",
       "      (conv2): Conv2d(64, 64, kernel_size=(3, 3), stride=(1, 1), padding=(1, 1))\n",
       "      (bn2): Identity()\n",
       "    )\n",
       "  )\n",
       "  (layer2): Sequential(\n",
       "    (0): BasicBlock(\n",
       "      (conv1): Conv2d(64, 128, kernel_size=(3, 3), stride=(2, 2), padding=(1, 1))\n",
       "      (bn1): Identity()\n",
       "      (relu): ReLU(inplace=True)\n",
       "      (conv2): Conv2d(128, 128, kernel_size=(3, 3), stride=(1, 1), padding=(1, 1))\n",
       "      (bn2): Identity()\n",
       "      (downsample): Sequential(\n",
       "        (0): Conv2d(64, 128, kernel_size=(1, 1), stride=(2, 2))\n",
       "        (1): Identity()\n",
       "      )\n",
       "    )\n",
       "    (1): BasicBlock(\n",
       "      (conv1): Conv2d(128, 128, kernel_size=(3, 3), stride=(1, 1), padding=(1, 1))\n",
       "      (bn1): Identity()\n",
       "      (relu): ReLU(inplace=True)\n",
       "      (conv2): Conv2d(128, 128, kernel_size=(3, 3), stride=(1, 1), padding=(1, 1))\n",
       "      (bn2): Identity()\n",
       "    )\n",
       "  )\n",
       "  (layer3): Sequential(\n",
       "    (0): BasicBlock(\n",
       "      (conv1): Conv2d(128, 256, kernel_size=(3, 3), stride=(2, 2), padding=(1, 1))\n",
       "      (bn1): Identity()\n",
       "      (relu): ReLU(inplace=True)\n",
       "      (conv2): Conv2d(256, 256, kernel_size=(3, 3), stride=(1, 1), padding=(1, 1))\n",
       "      (bn2): Identity()\n",
       "      (downsample): Sequential(\n",
       "        (0): Conv2d(128, 256, kernel_size=(1, 1), stride=(2, 2))\n",
       "        (1): Identity()\n",
       "      )\n",
       "    )\n",
       "    (1): BasicBlock(\n",
       "      (conv1): Conv2d(256, 256, kernel_size=(3, 3), stride=(1, 1), padding=(1, 1))\n",
       "      (bn1): Identity()\n",
       "      (relu): ReLU(inplace=True)\n",
       "      (conv2): Conv2d(256, 256, kernel_size=(3, 3), stride=(1, 1), padding=(1, 1))\n",
       "      (bn2): Identity()\n",
       "    )\n",
       "  )\n",
       "  (layer4): Sequential(\n",
       "    (0): BasicBlock(\n",
       "      (conv1): Conv2d(256, 512, kernel_size=(3, 3), stride=(2, 2), padding=(1, 1))\n",
       "      (bn1): Identity()\n",
       "      (relu): ReLU(inplace=True)\n",
       "      (conv2): Conv2d(512, 512, kernel_size=(3, 3), stride=(1, 1), padding=(1, 1))\n",
       "      (bn2): Identity()\n",
       "      (downsample): Sequential(\n",
       "        (0): Conv2d(256, 512, kernel_size=(1, 1), stride=(2, 2))\n",
       "        (1): Identity()\n",
       "      )\n",
       "    )\n",
       "    (1): BasicBlock(\n",
       "      (conv1): Conv2d(512, 512, kernel_size=(3, 3), stride=(1, 1), padding=(1, 1))\n",
       "      (bn1): Identity()\n",
       "      (relu): ReLU(inplace=True)\n",
       "      (conv2): Conv2d(512, 512, kernel_size=(3, 3), stride=(1, 1), padding=(1, 1))\n",
       "      (bn2): Identity()\n",
       "    )\n",
       "  )\n",
       "  (avgpool): AdaptiveAvgPool2d(output_size=(1, 1))\n",
       "  (fc): Linear(in_features=512, out_features=2, bias=True)\n",
       ")"
      ]
     },
     "execution_count": null,
     "metadata": {},
     "output_type": "execute_result"
    }
   ],
   "source": [
    "new_model"
   ]
  },
  {
   "cell_type": "markdown",
   "id": "1f8ef578",
   "metadata": {},
   "source": [
    "We can see that the new model possess fewer parameters"
   ]
  },
  {
   "cell_type": "code",
   "execution_count": null,
   "id": "e7d14980",
   "metadata": {},
   "outputs": [
    {
     "data": {
      "text/plain": [
       "11177538"
      ]
     },
     "execution_count": null,
     "metadata": {},
     "output_type": "execute_result"
    }
   ],
   "source": [
    "count_parameters(learn.model)"
   ]
  },
  {
   "cell_type": "code",
   "execution_count": null,
   "id": "168b97db",
   "metadata": {},
   "outputs": [
    {
     "data": {
      "text/plain": [
       "11172738"
      ]
     },
     "execution_count": null,
     "metadata": {},
     "output_type": "execute_result"
    }
   ],
   "source": [
    "count_parameters(new_model)"
   ]
  },
  {
   "cell_type": "markdown",
   "id": "4920c6d7",
   "metadata": {},
   "source": [
    "But is also faster to run ! "
   ]
  },
  {
   "cell_type": "code",
   "execution_count": null,
   "id": "87db3d14",
   "metadata": {},
   "outputs": [],
   "source": [
    "x,y = dls.one_batch()"
   ]
  },
  {
   "cell_type": "code",
   "execution_count": null,
   "id": "2efb5cc4",
   "metadata": {},
   "outputs": [
    {
     "name": "stdout",
     "output_type": "stream",
     "text": [
      "5.59 ms ± 547 µs per loop (mean ± std. dev. of 7 runs, 100 loops each)\n"
     ]
    }
   ],
   "source": [
    "%%timeit\n",
    "learn.model(x[0][None].cuda())"
   ]
  },
  {
   "cell_type": "code",
   "execution_count": null,
   "id": "54e669c5",
   "metadata": {},
   "outputs": [
    {
     "name": "stdout",
     "output_type": "stream",
     "text": [
      "4.14 ms ± 446 µs per loop (mean ± std. dev. of 7 runs, 100 loops each)\n"
     ]
    }
   ],
   "source": [
    "%%timeit\n",
    "new_model(x[0][None].cuda())"
   ]
  },
  {
   "cell_type": "markdown",
   "id": "4c188966",
   "metadata": {},
   "source": [
    "But most importantly, has the exact same perfomance as before:"
   ]
  },
  {
   "cell_type": "code",
   "execution_count": null,
   "id": "fd9be029",
   "metadata": {},
   "outputs": [],
   "source": [
    "new_learn = Learner(dls, new_model, metrics=accuracy)"
   ]
  },
  {
   "cell_type": "code",
   "execution_count": null,
   "id": "28ecfa79",
   "metadata": {},
   "outputs": [
    {
     "data": {
      "text/html": [],
      "text/plain": [
       "<IPython.core.display.HTML object>"
      ]
     },
     "metadata": {},
     "output_type": "display_data"
    },
    {
     "data": {
      "text/plain": [
       "(#2) [0.4140927791595459,0.8004059791564941]"
      ]
     },
     "execution_count": null,
     "metadata": {},
     "output_type": "execute_result"
    }
   ],
   "source": [
    "new_learn.validate()"
   ]
  }
 ],
 "metadata": {
  "kernelspec": {
   "display_name": "Python 3",
   "language": "python",
   "name": "python3"
  }
 },
 "nbformat": 4,
 "nbformat_minor": 5
}
