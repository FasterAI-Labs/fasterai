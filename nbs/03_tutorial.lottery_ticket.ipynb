{
 "cells": [
  {
   "cell_type": "markdown",
   "id": "promising-healing",
   "metadata": {},
   "source": [
    "# Lottery Ticket Hypothesis\n",
    "\n",
    "> How to find winning tickets with fastai"
   ]
  },
  {
   "cell_type": "code",
   "execution_count": null,
   "id": "affecting-enough",
   "metadata": {},
   "outputs": [],
   "source": [
    "#all_slow"
   ]
  },
  {
   "cell_type": "markdown",
   "id": "handed-highlight",
   "metadata": {},
   "source": [
    "## The Lottery Ticket Hypothesis"
   ]
  },
  {
   "cell_type": "markdown",
   "id": "reflected-counter",
   "metadata": {},
   "source": [
    "The [Lottery Ticket Hypothesis](https://arxiv.org/abs/1803.03635) is a really intriguing discovery made in 2019 by Frankle & Carbin. It states that:\n",
    "\n",
    "> A randomly-initialized, dense neural network contains a subnetwork that is initialised such that — when trained in isolation — it can match the test accuracy of the original network after training for at most the same number of iterations.\n",
    "\n",
    "Meaning that, once we find that subnetwork. Every other parameter in the network becomes useless.\n",
    "\n",
    "The way authors propose to find those subnetwork is as follows:\n",
    "\n",
    "1. Initialize the neural network\n",
    "2. Train it to convergence\n",
    "3. Prune the smallest magnitude weights by creating a mask $m$\n",
    "4. Reinitialize the weights to their original value; i.e at iteration 0.\n",
    "5. Repeat from step 2 until reaching the desired level of sparsity."
   ]
  },
  {
   "cell_type": "code",
   "execution_count": null,
   "id": "stuffed-triangle",
   "metadata": {},
   "outputs": [],
   "source": [
    "#hide\n",
    "from fastai.vision.all import *\n",
    "\n",
    "import torch\n",
    "import torch.nn as nn\n",
    "\n",
    "%config InlineBackend.figure_format = 'retina'"
   ]
  },
  {
   "cell_type": "code",
   "execution_count": null,
   "id": "statewide-intention",
   "metadata": {},
   "outputs": [],
   "source": [
    "from fasterai.sparse.all import *"
   ]
  },
  {
   "cell_type": "code",
   "execution_count": null,
   "id": "competent-myrtle",
   "metadata": {},
   "outputs": [],
   "source": [
    "path = untar_data(URLs.PETS)\n",
    "files = get_image_files(path/\"images\")\n",
    "\n",
    "def label_func(f): return f[0].isupper()\n",
    "\n",
    "device = 'cuda:0' if torch.cuda.is_available() else 'cpu'\n",
    "\n",
    "dls = ImageDataLoaders.from_name_func(path, files, label_func, item_tfms=Resize(64), device=device)"
   ]
  },
  {
   "cell_type": "markdown",
   "id": "placed-money",
   "metadata": {},
   "source": [
    "What we are trying to prove is that: in a neural network A, there exists a subnetwork B able to get an accuracy $a_B > a_A$, in a training time $t_B < t_A$."
   ]
  },
  {
   "cell_type": "markdown",
   "id": "sufficient-campaign",
   "metadata": {},
   "source": [
    "Let's get the baseline for network A:"
   ]
  },
  {
   "cell_type": "code",
   "execution_count": null,
   "id": "economic-chapel",
   "metadata": {},
   "outputs": [],
   "source": [
    "learn = cnn_learner(dls, resnet18, metrics=accuracy)"
   ]
  },
  {
   "cell_type": "markdown",
   "id": "6cfbe050",
   "metadata": {},
   "source": [
    "Let's save original weights "
   ]
  },
  {
   "cell_type": "code",
   "execution_count": null,
   "id": "interracial-peoples",
   "metadata": {},
   "outputs": [],
   "source": [
    "initial_weights = learn.model.state_dict()"
   ]
  },
  {
   "cell_type": "code",
   "execution_count": null,
   "id": "intelligent-treasurer",
   "metadata": {},
   "outputs": [
    {
     "data": {
      "text/html": [
       "<table border=\"1\" class=\"dataframe\">\n",
       "  <thead>\n",
       "    <tr style=\"text-align: left;\">\n",
       "      <th>epoch</th>\n",
       "      <th>train_loss</th>\n",
       "      <th>valid_loss</th>\n",
       "      <th>accuracy</th>\n",
       "      <th>time</th>\n",
       "    </tr>\n",
       "  </thead>\n",
       "  <tbody>\n",
       "    <tr>\n",
       "      <td>0</td>\n",
       "      <td>0.668828</td>\n",
       "      <td>0.434854</td>\n",
       "      <td>0.804465</td>\n",
       "      <td>00:09</td>\n",
       "    </tr>\n",
       "    <tr>\n",
       "      <td>1</td>\n",
       "      <td>0.479476</td>\n",
       "      <td>0.370044</td>\n",
       "      <td>0.847091</td>\n",
       "      <td>00:10</td>\n",
       "    </tr>\n",
       "    <tr>\n",
       "      <td>2</td>\n",
       "      <td>0.390932</td>\n",
       "      <td>0.329315</td>\n",
       "      <td>0.854533</td>\n",
       "      <td>00:10</td>\n",
       "    </tr>\n",
       "    <tr>\n",
       "      <td>3</td>\n",
       "      <td>0.324513</td>\n",
       "      <td>0.288489</td>\n",
       "      <td>0.868742</td>\n",
       "      <td>00:09</td>\n",
       "    </tr>\n",
       "    <tr>\n",
       "      <td>4</td>\n",
       "      <td>0.286272</td>\n",
       "      <td>0.259737</td>\n",
       "      <td>0.880244</td>\n",
       "      <td>00:10</td>\n",
       "    </tr>\n",
       "    <tr>\n",
       "      <td>5</td>\n",
       "      <td>0.246245</td>\n",
       "      <td>0.250105</td>\n",
       "      <td>0.887686</td>\n",
       "      <td>00:10</td>\n",
       "    </tr>\n",
       "  </tbody>\n",
       "</table>"
      ],
      "text/plain": [
       "<IPython.core.display.HTML object>"
      ]
     },
     "metadata": {},
     "output_type": "display_data"
    }
   ],
   "source": [
    "learn.fit(6)"
   ]
  },
  {
   "cell_type": "markdown",
   "id": "restricted-nutrition",
   "metadata": {},
   "source": [
    "To find the lottery ticket, we will perform iterative pruning but, at each pruning step we will re-initialize the remaining weights to their original values (i.e. before training)."
   ]
  },
  {
   "cell_type": "markdown",
   "id": "fixed-capability",
   "metadata": {},
   "source": [
    "We will restart from the same initialization to be sure to not get lucky."
   ]
  },
  {
   "cell_type": "code",
   "execution_count": null,
   "id": "reflected-holly",
   "metadata": {},
   "outputs": [
    {
     "data": {
      "text/plain": [
       "<All keys matched successfully>"
      ]
     },
     "execution_count": null,
     "metadata": {},
     "output_type": "execute_result"
    }
   ],
   "source": [
    "learn.model.load_state_dict(initial_weights)"
   ]
  },
  {
   "cell_type": "markdown",
   "id": "cdf00529",
   "metadata": {},
   "source": [
    "We can pass the parameters `lth=True` to make the weights of the network reset to their original value after each pruning step, i.e. step 4) of the LTH. To empirically validate the LTH, we need to retrain the found \"lottery ticket\" after the pruning phase. This can be done by setting the `end_epoch` parameter, which will control the epoch at which we stop the pruning process. The fine-tuning phase thus happening during `total_epoch-end_epoch`."
   ]
  },
  {
   "cell_type": "code",
   "execution_count": null,
   "id": "dominican-declaration",
   "metadata": {},
   "outputs": [],
   "source": [
    "sp_cb = SparsifyCallback(50, 'weight', 'local', large_final, iterative, start_epoch=1, end_epoch=4, lth=True)"
   ]
  },
  {
   "cell_type": "markdown",
   "id": "4d9fc57f",
   "metadata": {},
   "source": [
    "So here, we will first pretrain our model for 1 epoch (`start_epoch=1`), perform the LTH process during 3 epochs (`end_epoch-start_epoch`), then the found lottery ticket for 6 epochs (`total_epoch-end_epoch`). If the final accuracy is higher than the baseline then we have found a \"winning lottery ticket\"."
   ]
  },
  {
   "cell_type": "code",
   "execution_count": null,
   "id": "sacred-ecology",
   "metadata": {},
   "outputs": [
    {
     "name": "stdout",
     "output_type": "stream",
     "text": [
      "Pruning of weight until a sparsity of 50%\n"
     ]
    },
    {
     "data": {
      "text/html": [
       "<table border=\"1\" class=\"dataframe\">\n",
       "  <thead>\n",
       "    <tr style=\"text-align: left;\">\n",
       "      <th>epoch</th>\n",
       "      <th>train_loss</th>\n",
       "      <th>valid_loss</th>\n",
       "      <th>accuracy</th>\n",
       "      <th>time</th>\n",
       "    </tr>\n",
       "  </thead>\n",
       "  <tbody>\n",
       "    <tr>\n",
       "      <td>0</td>\n",
       "      <td>0.627306</td>\n",
       "      <td>0.399069</td>\n",
       "      <td>0.826116</td>\n",
       "      <td>00:09</td>\n",
       "    </tr>\n",
       "    <tr>\n",
       "      <td>1</td>\n",
       "      <td>0.527028</td>\n",
       "      <td>0.367685</td>\n",
       "      <td>0.832882</td>\n",
       "      <td>00:11</td>\n",
       "    </tr>\n",
       "    <tr>\n",
       "      <td>2</td>\n",
       "      <td>0.475066</td>\n",
       "      <td>0.343404</td>\n",
       "      <td>0.847767</td>\n",
       "      <td>00:11</td>\n",
       "    </tr>\n",
       "    <tr>\n",
       "      <td>3</td>\n",
       "      <td>0.423313</td>\n",
       "      <td>0.332563</td>\n",
       "      <td>0.859269</td>\n",
       "      <td>00:11</td>\n",
       "    </tr>\n",
       "    <tr>\n",
       "      <td>4</td>\n",
       "      <td>0.342591</td>\n",
       "      <td>0.294170</td>\n",
       "      <td>0.867388</td>\n",
       "      <td>00:11</td>\n",
       "    </tr>\n",
       "    <tr>\n",
       "      <td>5</td>\n",
       "      <td>0.289098</td>\n",
       "      <td>0.279289</td>\n",
       "      <td>0.875507</td>\n",
       "      <td>00:11</td>\n",
       "    </tr>\n",
       "    <tr>\n",
       "      <td>6</td>\n",
       "      <td>0.254679</td>\n",
       "      <td>0.270230</td>\n",
       "      <td>0.883627</td>\n",
       "      <td>00:11</td>\n",
       "    </tr>\n",
       "    <tr>\n",
       "      <td>7</td>\n",
       "      <td>0.237374</td>\n",
       "      <td>0.244046</td>\n",
       "      <td>0.895805</td>\n",
       "      <td>00:11</td>\n",
       "    </tr>\n",
       "    <tr>\n",
       "      <td>8</td>\n",
       "      <td>0.219428</td>\n",
       "      <td>0.242725</td>\n",
       "      <td>0.897835</td>\n",
       "      <td>00:11</td>\n",
       "    </tr>\n",
       "    <tr>\n",
       "      <td>9</td>\n",
       "      <td>0.200471</td>\n",
       "      <td>0.240898</td>\n",
       "      <td>0.897158</td>\n",
       "      <td>00:11</td>\n",
       "    </tr>\n",
       "  </tbody>\n",
       "</table>"
      ],
      "text/plain": [
       "<IPython.core.display.HTML object>"
      ]
     },
     "metadata": {},
     "output_type": "display_data"
    },
    {
     "name": "stdout",
     "output_type": "stream",
     "text": [
      "Saving Weights at epoch 0\n",
      "Sparsity at the end of epoch 0: 0.00%\n",
      "Resetting Weights to their epoch 0 values\n",
      "Sparsity at the end of epoch 1: 16.67%\n",
      "Resetting Weights to their epoch 0 values\n",
      "Sparsity at the end of epoch 2: 33.33%\n",
      "Resetting Weights to their epoch 0 values\n",
      "Sparsity at the end of epoch 3: 50.00%\n",
      "Sparsity at the end of epoch 4: 50.00%\n",
      "Sparsity at the end of epoch 5: 50.00%\n",
      "Sparsity at the end of epoch 6: 50.00%\n",
      "Sparsity at the end of epoch 7: 50.00%\n",
      "Sparsity at the end of epoch 8: 50.00%\n",
      "Sparsity at the end of epoch 9: 50.00%\n",
      "Final Sparsity: 50.00\n"
     ]
    }
   ],
   "source": [
    "learn.fit(10, cbs=sp_cb)"
   ]
  },
  {
   "cell_type": "markdown",
   "id": "casual-wheat",
   "metadata": {},
   "source": [
    "We indeed have a network B, whose accuracy $a_B > a_A$ in the same training time."
   ]
  },
  {
   "cell_type": "markdown",
   "id": "ranking-samoa",
   "metadata": {},
   "source": [
    "## Lottery Ticket Hypothesis with Rewinding"
   ]
  },
  {
   "cell_type": "markdown",
   "id": "c29afe3a",
   "metadata": {},
   "source": [
    "In some case, LTH fails for deeper networks, author then propose a [solution](https://arxiv.org/pdf/1903.01611.pdf), which is to rewind the weights to a more advanced iteration instead of the initialization value."
   ]
  },
  {
   "cell_type": "code",
   "execution_count": null,
   "id": "young-cannon",
   "metadata": {},
   "outputs": [
    {
     "data": {
      "text/plain": [
       "<All keys matched successfully>"
      ]
     },
     "execution_count": null,
     "metadata": {},
     "output_type": "execute_result"
    }
   ],
   "source": [
    "learn.model.load_state_dict(initial_weights)"
   ]
  },
  {
   "cell_type": "markdown",
   "id": "e5607ce3",
   "metadata": {},
   "source": [
    "This can be done in fasterai by passing the `rewind_epoch` parameter, that will save the weights at that epoch, then resetting the weights accordingly."
   ]
  },
  {
   "cell_type": "code",
   "execution_count": null,
   "id": "literary-noise",
   "metadata": {},
   "outputs": [],
   "source": [
    "sp_cb = SparsifyCallback(50, 'weight', 'local', large_final, iterative , start_epoch=1, end_epoch=4, lth=True, rewind_epoch=1)"
   ]
  },
  {
   "cell_type": "code",
   "execution_count": null,
   "id": "compact-gazette",
   "metadata": {},
   "outputs": [
    {
     "name": "stdout",
     "output_type": "stream",
     "text": [
      "Pruning of weight until a sparsity of 50%\n"
     ]
    },
    {
     "data": {
      "text/html": [
       "<table border=\"1\" class=\"dataframe\">\n",
       "  <thead>\n",
       "    <tr style=\"text-align: left;\">\n",
       "      <th>epoch</th>\n",
       "      <th>train_loss</th>\n",
       "      <th>valid_loss</th>\n",
       "      <th>accuracy</th>\n",
       "      <th>time</th>\n",
       "    </tr>\n",
       "  </thead>\n",
       "  <tbody>\n",
       "    <tr>\n",
       "      <td>0</td>\n",
       "      <td>0.637804</td>\n",
       "      <td>0.389029</td>\n",
       "      <td>0.822057</td>\n",
       "      <td>00:09</td>\n",
       "    </tr>\n",
       "    <tr>\n",
       "      <td>1</td>\n",
       "      <td>0.414081</td>\n",
       "      <td>0.324026</td>\n",
       "      <td>0.859946</td>\n",
       "      <td>00:11</td>\n",
       "    </tr>\n",
       "    <tr>\n",
       "      <td>2</td>\n",
       "      <td>0.354582</td>\n",
       "      <td>0.309311</td>\n",
       "      <td>0.866035</td>\n",
       "      <td>00:11</td>\n",
       "    </tr>\n",
       "    <tr>\n",
       "      <td>3</td>\n",
       "      <td>0.329014</td>\n",
       "      <td>0.273554</td>\n",
       "      <td>0.876861</td>\n",
       "      <td>00:11</td>\n",
       "    </tr>\n",
       "    <tr>\n",
       "      <td>4</td>\n",
       "      <td>0.291184</td>\n",
       "      <td>0.259730</td>\n",
       "      <td>0.885656</td>\n",
       "      <td>00:11</td>\n",
       "    </tr>\n",
       "    <tr>\n",
       "      <td>5</td>\n",
       "      <td>0.259071</td>\n",
       "      <td>0.251663</td>\n",
       "      <td>0.895129</td>\n",
       "      <td>00:11</td>\n",
       "    </tr>\n",
       "    <tr>\n",
       "      <td>6</td>\n",
       "      <td>0.233578</td>\n",
       "      <td>0.249048</td>\n",
       "      <td>0.901894</td>\n",
       "      <td>00:11</td>\n",
       "    </tr>\n",
       "    <tr>\n",
       "      <td>7</td>\n",
       "      <td>0.209886</td>\n",
       "      <td>0.244723</td>\n",
       "      <td>0.899865</td>\n",
       "      <td>00:11</td>\n",
       "    </tr>\n",
       "    <tr>\n",
       "      <td>8</td>\n",
       "      <td>0.196974</td>\n",
       "      <td>0.238308</td>\n",
       "      <td>0.898512</td>\n",
       "      <td>00:11</td>\n",
       "    </tr>\n",
       "    <tr>\n",
       "      <td>9</td>\n",
       "      <td>0.192810</td>\n",
       "      <td>0.222618</td>\n",
       "      <td>0.905954</td>\n",
       "      <td>00:11</td>\n",
       "    </tr>\n",
       "  </tbody>\n",
       "</table>"
      ],
      "text/plain": [
       "<IPython.core.display.HTML object>"
      ]
     },
     "metadata": {},
     "output_type": "display_data"
    },
    {
     "name": "stdout",
     "output_type": "stream",
     "text": [
      "Sparsity at the end of epoch 0: 0.00%\n",
      "Saving Weights at epoch 1\n",
      "Resetting Weights to their epoch 1 values\n",
      "Sparsity at the end of epoch 1: 16.67%\n",
      "Resetting Weights to their epoch 1 values\n",
      "Sparsity at the end of epoch 2: 33.33%\n",
      "Resetting Weights to their epoch 1 values\n",
      "Sparsity at the end of epoch 3: 50.00%\n",
      "Sparsity at the end of epoch 4: 50.00%\n",
      "Sparsity at the end of epoch 5: 50.00%\n",
      "Sparsity at the end of epoch 6: 50.00%\n",
      "Sparsity at the end of epoch 7: 50.00%\n",
      "Sparsity at the end of epoch 8: 50.00%\n",
      "Sparsity at the end of epoch 9: 50.00%\n",
      "Final Sparsity: 50.00\n"
     ]
    }
   ],
   "source": [
    "learn.fit(10, cbs=sp_cb)"
   ]
  },
  {
   "cell_type": "markdown",
   "id": "4da0cc9a",
   "metadata": {},
   "source": [
    "## Super-Masks"
   ]
  },
  {
   "cell_type": "markdown",
   "id": "6c2b348c",
   "metadata": {},
   "source": [
    "Researchers from Uber AI [investigated](https://arxiv.org/pdf/1905.01067.pdf) the LTH and found the existence of what they call \"Super-Masks\", i.e. masks that, applied on a untrained neural network, allows to reach better-than-random results."
   ]
  },
  {
   "cell_type": "code",
   "execution_count": null,
   "id": "f9af670c",
   "metadata": {},
   "outputs": [
    {
     "data": {
      "text/plain": [
       "<All keys matched successfully>"
      ]
     },
     "execution_count": null,
     "metadata": {},
     "output_type": "execute_result"
    }
   ],
   "source": [
    "learn.model.load_state_dict(initial_weights)"
   ]
  },
  {
   "cell_type": "markdown",
   "id": "6b2272d5",
   "metadata": {},
   "source": [
    "To find supermasks, authors perform the LTH method then apply the mask on the original, untrained network. In fasterai, you can pass the parameter `reset_end=True`, which will reset the weights to their original value at the end of the training, but keeping the pruned weights (i.e. the mask) unchanged."
   ]
  },
  {
   "cell_type": "code",
   "execution_count": null,
   "id": "d4729720",
   "metadata": {},
   "outputs": [],
   "source": [
    "sp_cb = SparsifyCallback(50, 'weight', 'local', large_final, iterative , start_epoch=1, lth=True, reset_end=True)"
   ]
  },
  {
   "cell_type": "code",
   "execution_count": null,
   "id": "2d2e5115",
   "metadata": {},
   "outputs": [
    {
     "name": "stdout",
     "output_type": "stream",
     "text": [
      "Pruning of weight until a sparsity of 50%\n"
     ]
    },
    {
     "data": {
      "text/html": [
       "<table border=\"1\" class=\"dataframe\">\n",
       "  <thead>\n",
       "    <tr style=\"text-align: left;\">\n",
       "      <th>epoch</th>\n",
       "      <th>train_loss</th>\n",
       "      <th>valid_loss</th>\n",
       "      <th>accuracy</th>\n",
       "      <th>time</th>\n",
       "    </tr>\n",
       "  </thead>\n",
       "  <tbody>\n",
       "    <tr>\n",
       "      <td>0</td>\n",
       "      <td>0.644316</td>\n",
       "      <td>0.405834</td>\n",
       "      <td>0.815291</td>\n",
       "      <td>00:09</td>\n",
       "    </tr>\n",
       "    <tr>\n",
       "      <td>1</td>\n",
       "      <td>0.541251</td>\n",
       "      <td>0.364345</td>\n",
       "      <td>0.844384</td>\n",
       "      <td>00:11</td>\n",
       "    </tr>\n",
       "    <tr>\n",
       "      <td>2</td>\n",
       "      <td>0.493762</td>\n",
       "      <td>0.341148</td>\n",
       "      <td>0.853180</td>\n",
       "      <td>00:11</td>\n",
       "    </tr>\n",
       "    <tr>\n",
       "      <td>3</td>\n",
       "      <td>0.441781</td>\n",
       "      <td>0.319401</td>\n",
       "      <td>0.860622</td>\n",
       "      <td>00:11</td>\n",
       "    </tr>\n",
       "  </tbody>\n",
       "</table>"
      ],
      "text/plain": [
       "<IPython.core.display.HTML object>"
      ]
     },
     "metadata": {},
     "output_type": "display_data"
    },
    {
     "name": "stdout",
     "output_type": "stream",
     "text": [
      "Saving Weights at epoch 0\n",
      "Sparsity at the end of epoch 0: 0.00%\n",
      "Resetting Weights to their epoch 0 values\n",
      "Sparsity at the end of epoch 1: 16.67%\n",
      "Resetting Weights to their epoch 0 values\n",
      "Sparsity at the end of epoch 2: 33.33%\n",
      "Resetting Weights to their epoch 0 values\n",
      "Sparsity at the end of epoch 3: 50.00%\n",
      "Final Sparsity: 50.00\n"
     ]
    }
   ],
   "source": [
    "learn.fit(4, cbs=sp_cb)"
   ]
  },
  {
   "cell_type": "code",
   "execution_count": null,
   "id": "b18dfae0",
   "metadata": {},
   "outputs": [
    {
     "data": {
      "text/html": [],
      "text/plain": [
       "<IPython.core.display.HTML object>"
      ]
     },
     "metadata": {},
     "output_type": "display_data"
    },
    {
     "data": {
      "text/plain": [
       "(#2) [1.0403801202774048,0.6698240637779236]"
      ]
     },
     "execution_count": null,
     "metadata": {},
     "output_type": "execute_result"
    }
   ],
   "source": [
    "learn.validate()"
   ]
  },
  {
   "cell_type": "markdown",
   "id": "5603cbae",
   "metadata": {},
   "source": [
    "So now we have an untrained model which is better than random (50%)."
   ]
  }
 ],
 "metadata": {
  "kernelspec": {
   "display_name": "Python 3",
   "language": "python",
   "name": "python3"
  }
 },
 "nbformat": 4,
 "nbformat_minor": 5
}
