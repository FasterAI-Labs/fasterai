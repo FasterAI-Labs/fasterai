{
 "cells": [
  {
   "cell_type": "markdown",
   "id": "promising-healing",
   "metadata": {},
   "source": [
    "# Lottery Ticket Hypothesis\n",
    "\n",
    "> How to find winning tickets with fastai"
   ]
  },
  {
   "cell_type": "code",
   "execution_count": null,
   "id": "affecting-enough",
   "metadata": {},
   "outputs": [],
   "source": [
    "#all_slow"
   ]
  },
  {
   "cell_type": "markdown",
   "id": "handed-highlight",
   "metadata": {},
   "source": [
    "## The Lottery Ticket Hypothesis"
   ]
  },
  {
   "cell_type": "markdown",
   "id": "reflected-counter",
   "metadata": {},
   "source": [
    "The [Lottery Ticket Hypothesis](https://arxiv.org/abs/1803.03635) is a really intriguing discovery made in 2019 by Frankle & Carbin. It states that:\n",
    "\n",
    "> A randomly-initialized, dense neural network contains a subnetwork that is initialised such that — when trained in isolation — it can match the test accuracy of the original network after training for at most the same number of iterations.\n",
    "\n",
    "Meaning that, once we find that subnetwork. Every other parameter in the network becomes useless.\n",
    "\n",
    "The way authors propose to find those subnetwork is as follows:\n",
    "\n",
    "1. Initialize the neural network\n",
    "2. Train it to convergence\n",
    "3. Prune the smallest magnitude weights by creating a mask $m$\n",
    "4. Reinitialize the weights to their original value; i.e at iteration $0$.\n",
    "5. Repeat from step 2 until reaching the desired level of sparsity.\n"
   ]
  },
  {
   "cell_type": "code",
   "execution_count": null,
   "id": "stuffed-triangle",
   "metadata": {},
   "outputs": [],
   "source": [
    "#hide\n",
    "from fastai.vision.all import *\n",
    "\n",
    "import torch\n",
    "import torch.nn as nn\n",
    "\n",
    "%config InlineBackend.figure_format = 'retina'"
   ]
  },
  {
   "cell_type": "code",
   "execution_count": null,
   "id": "statewide-intention",
   "metadata": {},
   "outputs": [],
   "source": [
    "from fasterai.sparse.all import *"
   ]
  },
  {
   "cell_type": "code",
   "execution_count": null,
   "id": "competent-myrtle",
   "metadata": {},
   "outputs": [],
   "source": [
    "path = untar_data(URLs.PETS)\n",
    "files = get_image_files(path/\"images\")\n",
    "\n",
    "def label_func(f): return f[0].isupper()\n",
    "\n",
    "device = 'cuda:0' if torch.cuda.is_available() else 'cpu'\n",
    "\n",
    "dls = ImageDataLoaders.from_name_func(path, files, label_func, item_tfms=Resize(64), device=device)"
   ]
  },
  {
   "cell_type": "markdown",
   "id": "placed-money",
   "metadata": {},
   "source": [
    "What we are trying to prove is that: in a neural network A, there exists a subnetwork B able to get an accuracy $a_B > a_A$, in a training time $t_B < t_A$."
   ]
  },
  {
   "cell_type": "markdown",
   "id": "sufficient-campaign",
   "metadata": {},
   "source": [
    "Let's get the baseline for network A:"
   ]
  },
  {
   "cell_type": "code",
   "execution_count": null,
   "id": "economic-chapel",
   "metadata": {},
   "outputs": [],
   "source": [
    "learn = Learner(dls, resnet18(num_classes=2), metrics=accuracy)"
   ]
  },
  {
   "cell_type": "markdown",
   "id": "6cfbe050",
   "metadata": {},
   "source": [
    "Let's save original weights "
   ]
  },
  {
   "cell_type": "code",
   "execution_count": null,
   "id": "interracial-peoples",
   "metadata": {},
   "outputs": [],
   "source": [
    "initial_weights = deepcopy(learn.model.state_dict())"
   ]
  },
  {
   "cell_type": "code",
   "execution_count": null,
   "id": "intelligent-treasurer",
   "metadata": {},
   "outputs": [
    {
     "data": {
      "text/html": [
       "\n",
       "<style>\n",
       "    /* Turns off some styling */\n",
       "    progress {\n",
       "        /* gets rid of default border in Firefox and Opera. */\n",
       "        border: none;\n",
       "        /* Needs to be in here for Safari polyfill so background images work as expected. */\n",
       "        background-size: auto;\n",
       "    }\n",
       "    .progress-bar-interrupted, .progress-bar-interrupted::-webkit-progress-bar {\n",
       "        background: #F44336;\n",
       "    }\n",
       "</style>\n"
      ],
      "text/plain": [
       "<IPython.core.display.HTML object>"
      ]
     },
     "metadata": {},
     "output_type": "display_data"
    },
    {
     "data": {
      "text/html": [
       "<table border=\"1\" class=\"dataframe\">\n",
       "  <thead>\n",
       "    <tr style=\"text-align: left;\">\n",
       "      <th>epoch</th>\n",
       "      <th>train_loss</th>\n",
       "      <th>valid_loss</th>\n",
       "      <th>accuracy</th>\n",
       "      <th>time</th>\n",
       "    </tr>\n",
       "  </thead>\n",
       "  <tbody>\n",
       "    <tr>\n",
       "      <td>0</td>\n",
       "      <td>0.590996</td>\n",
       "      <td>0.526236</td>\n",
       "      <td>0.740189</td>\n",
       "      <td>00:14</td>\n",
       "    </tr>\n",
       "    <tr>\n",
       "      <td>1</td>\n",
       "      <td>0.544030</td>\n",
       "      <td>0.507539</td>\n",
       "      <td>0.767930</td>\n",
       "      <td>00:14</td>\n",
       "    </tr>\n",
       "    <tr>\n",
       "      <td>2</td>\n",
       "      <td>0.518233</td>\n",
       "      <td>0.540433</td>\n",
       "      <td>0.707713</td>\n",
       "      <td>00:08</td>\n",
       "    </tr>\n",
       "    <tr>\n",
       "      <td>3</td>\n",
       "      <td>0.462022</td>\n",
       "      <td>0.488503</td>\n",
       "      <td>0.749662</td>\n",
       "      <td>00:08</td>\n",
       "    </tr>\n",
       "    <tr>\n",
       "      <td>4</td>\n",
       "      <td>0.430044</td>\n",
       "      <td>0.645429</td>\n",
       "      <td>0.702977</td>\n",
       "      <td>00:08</td>\n",
       "    </tr>\n",
       "  </tbody>\n",
       "</table>"
      ],
      "text/plain": [
       "<IPython.core.display.HTML object>"
      ]
     },
     "metadata": {},
     "output_type": "display_data"
    }
   ],
   "source": [
    "learn.fit(5, 1e-3)"
   ]
  },
  {
   "cell_type": "markdown",
   "id": "71c5a2ed",
   "metadata": {},
   "source": [
    "We now have our accuracy $a_A$ of $74\\%$ and our training time $t_A$ of $5$ epochs"
   ]
  },
  {
   "cell_type": "markdown",
   "id": "restricted-nutrition",
   "metadata": {},
   "source": [
    "To find the lottery ticket, we will perform iterative pruning but, at each pruning step we will re-initialize the remaining weights to their original values (i.e. before training)."
   ]
  },
  {
   "cell_type": "markdown",
   "id": "fixed-capability",
   "metadata": {},
   "source": [
    "We will restart from the same initialization to be sure to not get lucky."
   ]
  },
  {
   "cell_type": "code",
   "execution_count": null,
   "id": "reflected-holly",
   "metadata": {},
   "outputs": [
    {
     "data": {
      "text/plain": [
       "<All keys matched successfully>"
      ]
     },
     "execution_count": null,
     "metadata": {},
     "output_type": "execute_result"
    }
   ],
   "source": [
    "learn = Learner(dls, resnet18(num_classes=2), metrics=accuracy)\n",
    "learn.model.load_state_dict(initial_weights)"
   ]
  },
  {
   "cell_type": "markdown",
   "id": "cdf00529",
   "metadata": {},
   "source": [
    "We can pass the parameters `lth=True` to make the weights of the network reset to their original value after each pruning step, i.e. step 4) of the LTH. To empirically validate the LTH, we need to retrain the found \"lottery ticket\" after the pruning phase. Lottery tickets are usually found following an iterative pruning schedule. We set the `start_epoch` parameter to $5$ to begin the pruning process after $5$ epochs."
   ]
  },
  {
   "cell_type": "code",
   "execution_count": null,
   "id": "dominican-declaration",
   "metadata": {},
   "outputs": [],
   "source": [
    "sp_cb = SparsifyCallback(50, 'weight', 'local', large_final, iterative, start_epoch=5, lth=True)"
   ]
  },
  {
   "cell_type": "markdown",
   "id": "4d9fc57f",
   "metadata": {},
   "source": [
    "As our `iterative` schedule makes $3$ pruning steps by default, it means that we have to train our network for `start_epoch` + $3*t_B$, so $20$ epochs in order to get our LTH. After each step, the remaining weights will be reinitialized to their original value"
   ]
  },
  {
   "cell_type": "code",
   "execution_count": null,
   "id": "sacred-ecology",
   "metadata": {},
   "outputs": [
    {
     "name": "stdout",
     "output_type": "stream",
     "text": [
      "Pruning of weight until a sparsity of [50]%\n",
      "Saving Weights at epoch 0\n"
     ]
    },
    {
     "data": {
      "text/html": [
       "\n",
       "<style>\n",
       "    /* Turns off some styling */\n",
       "    progress {\n",
       "        /* gets rid of default border in Firefox and Opera. */\n",
       "        border: none;\n",
       "        /* Needs to be in here for Safari polyfill so background images work as expected. */\n",
       "        background-size: auto;\n",
       "    }\n",
       "    .progress-bar-interrupted, .progress-bar-interrupted::-webkit-progress-bar {\n",
       "        background: #F44336;\n",
       "    }\n",
       "</style>\n"
      ],
      "text/plain": [
       "<IPython.core.display.HTML object>"
      ]
     },
     "metadata": {},
     "output_type": "display_data"
    },
    {
     "data": {
      "text/html": [
       "<table border=\"1\" class=\"dataframe\">\n",
       "  <thead>\n",
       "    <tr style=\"text-align: left;\">\n",
       "      <th>epoch</th>\n",
       "      <th>train_loss</th>\n",
       "      <th>valid_loss</th>\n",
       "      <th>accuracy</th>\n",
       "      <th>time</th>\n",
       "    </tr>\n",
       "  </thead>\n",
       "  <tbody>\n",
       "    <tr>\n",
       "      <td>0</td>\n",
       "      <td>0.589156</td>\n",
       "      <td>0.558439</td>\n",
       "      <td>0.721245</td>\n",
       "      <td>00:08</td>\n",
       "    </tr>\n",
       "    <tr>\n",
       "      <td>1</td>\n",
       "      <td>0.557100</td>\n",
       "      <td>0.518048</td>\n",
       "      <td>0.735453</td>\n",
       "      <td>00:08</td>\n",
       "    </tr>\n",
       "    <tr>\n",
       "      <td>2</td>\n",
       "      <td>0.506434</td>\n",
       "      <td>0.541184</td>\n",
       "      <td>0.702300</td>\n",
       "      <td>00:08</td>\n",
       "    </tr>\n",
       "    <tr>\n",
       "      <td>3</td>\n",
       "      <td>0.483072</td>\n",
       "      <td>0.535563</td>\n",
       "      <td>0.720568</td>\n",
       "      <td>00:08</td>\n",
       "    </tr>\n",
       "    <tr>\n",
       "      <td>4</td>\n",
       "      <td>0.440117</td>\n",
       "      <td>0.504635</td>\n",
       "      <td>0.739513</td>\n",
       "      <td>00:08</td>\n",
       "    </tr>\n",
       "    <tr>\n",
       "      <td>5</td>\n",
       "      <td>0.549870</td>\n",
       "      <td>0.583103</td>\n",
       "      <td>0.664411</td>\n",
       "      <td>00:08</td>\n",
       "    </tr>\n",
       "    <tr>\n",
       "      <td>6</td>\n",
       "      <td>0.515395</td>\n",
       "      <td>0.598495</td>\n",
       "      <td>0.721922</td>\n",
       "      <td>00:08</td>\n",
       "    </tr>\n",
       "    <tr>\n",
       "      <td>7</td>\n",
       "      <td>0.484048</td>\n",
       "      <td>0.510811</td>\n",
       "      <td>0.731394</td>\n",
       "      <td>00:08</td>\n",
       "    </tr>\n",
       "    <tr>\n",
       "      <td>8</td>\n",
       "      <td>0.445385</td>\n",
       "      <td>0.775911</td>\n",
       "      <td>0.541949</td>\n",
       "      <td>00:08</td>\n",
       "    </tr>\n",
       "    <tr>\n",
       "      <td>9</td>\n",
       "      <td>0.396762</td>\n",
       "      <td>0.503371</td>\n",
       "      <td>0.779432</td>\n",
       "      <td>00:08</td>\n",
       "    </tr>\n",
       "    <tr>\n",
       "      <td>10</td>\n",
       "      <td>0.478721</td>\n",
       "      <td>0.438473</td>\n",
       "      <td>0.792287</td>\n",
       "      <td>00:08</td>\n",
       "    </tr>\n",
       "    <tr>\n",
       "      <td>11</td>\n",
       "      <td>0.445955</td>\n",
       "      <td>0.685162</td>\n",
       "      <td>0.554127</td>\n",
       "      <td>00:08</td>\n",
       "    </tr>\n",
       "    <tr>\n",
       "      <td>12</td>\n",
       "      <td>0.394884</td>\n",
       "      <td>0.392843</td>\n",
       "      <td>0.815968</td>\n",
       "      <td>00:08</td>\n",
       "    </tr>\n",
       "    <tr>\n",
       "      <td>13</td>\n",
       "      <td>0.355993</td>\n",
       "      <td>0.426261</td>\n",
       "      <td>0.807848</td>\n",
       "      <td>00:20</td>\n",
       "    </tr>\n",
       "    <tr>\n",
       "      <td>14</td>\n",
       "      <td>0.331038</td>\n",
       "      <td>0.351541</td>\n",
       "      <td>0.849120</td>\n",
       "      <td>00:08</td>\n",
       "    </tr>\n",
       "    <tr>\n",
       "      <td>15</td>\n",
       "      <td>0.424500</td>\n",
       "      <td>0.484486</td>\n",
       "      <td>0.756428</td>\n",
       "      <td>00:08</td>\n",
       "    </tr>\n",
       "    <tr>\n",
       "      <td>16</td>\n",
       "      <td>0.359705</td>\n",
       "      <td>0.489595</td>\n",
       "      <td>0.788227</td>\n",
       "      <td>00:08</td>\n",
       "    </tr>\n",
       "    <tr>\n",
       "      <td>17</td>\n",
       "      <td>0.323614</td>\n",
       "      <td>0.369151</td>\n",
       "      <td>0.835589</td>\n",
       "      <td>00:08</td>\n",
       "    </tr>\n",
       "    <tr>\n",
       "      <td>18</td>\n",
       "      <td>0.298134</td>\n",
       "      <td>0.435388</td>\n",
       "      <td>0.820704</td>\n",
       "      <td>00:08</td>\n",
       "    </tr>\n",
       "    <tr>\n",
       "      <td>19</td>\n",
       "      <td>0.266635</td>\n",
       "      <td>0.383132</td>\n",
       "      <td>0.835589</td>\n",
       "      <td>00:08</td>\n",
       "    </tr>\n",
       "  </tbody>\n",
       "</table>"
      ],
      "text/plain": [
       "<IPython.core.display.HTML object>"
      ]
     },
     "metadata": {},
     "output_type": "display_data"
    },
    {
     "name": "stdout",
     "output_type": "stream",
     "text": [
      "Sparsity at the end of epoch 0: [0.0]%\n",
      "Sparsity at the end of epoch 1: [0.0]%\n",
      "Sparsity at the end of epoch 2: [0.0]%\n",
      "Sparsity at the end of epoch 3: [0.0]%\n",
      "Sparsity at the end of epoch 4: [0.0]%\n",
      "Resetting Weights to their epoch 0 values\n",
      "Sparsity at the end of epoch 5: [16.67]%\n",
      "Sparsity at the end of epoch 6: [16.67]%\n",
      "Sparsity at the end of epoch 7: [16.67]%\n",
      "Sparsity at the end of epoch 8: [16.67]%\n",
      "Sparsity at the end of epoch 9: [16.67]%\n",
      "Resetting Weights to their epoch 0 values\n",
      "Sparsity at the end of epoch 10: [33.33]%\n",
      "Sparsity at the end of epoch 11: [33.33]%\n",
      "Sparsity at the end of epoch 12: [33.33]%\n",
      "Sparsity at the end of epoch 13: [33.33]%\n",
      "Sparsity at the end of epoch 14: [33.33]%\n",
      "Resetting Weights to their epoch 0 values\n",
      "Sparsity at the end of epoch 15: [50.0]%\n",
      "Sparsity at the end of epoch 16: [50.0]%\n",
      "Sparsity at the end of epoch 17: [50.0]%\n",
      "Sparsity at the end of epoch 18: [50.0]%\n",
      "Sparsity at the end of epoch 19: [50.0]%\n",
      "Final Sparsity: [50.0]%\n",
      "Sparsity in Conv2d 1: 50.00%\n",
      "Sparsity in Conv2d 7: 50.00%\n",
      "Sparsity in Conv2d 10: 50.00%\n",
      "Sparsity in Conv2d 13: 50.00%\n",
      "Sparsity in Conv2d 16: 50.00%\n",
      "Sparsity in Conv2d 20: 50.00%\n",
      "Sparsity in Conv2d 23: 50.00%\n",
      "Sparsity in Conv2d 26: 50.00%\n",
      "Sparsity in Conv2d 29: 50.00%\n",
      "Sparsity in Conv2d 32: 50.00%\n",
      "Sparsity in Conv2d 36: 50.00%\n",
      "Sparsity in Conv2d 39: 50.00%\n",
      "Sparsity in Conv2d 42: 50.00%\n",
      "Sparsity in Conv2d 45: 50.00%\n",
      "Sparsity in Conv2d 48: 50.00%\n",
      "Sparsity in Conv2d 52: 50.00%\n",
      "Sparsity in Conv2d 55: 50.00%\n",
      "Sparsity in Conv2d 58: 50.00%\n",
      "Sparsity in Conv2d 61: 50.00%\n",
      "Sparsity in Conv2d 64: 50.00%\n"
     ]
    }
   ],
   "source": [
    "learn.fit(20, 1e-3, cbs=sp_cb)"
   ]
  },
  {
   "cell_type": "markdown",
   "id": "casual-wheat",
   "metadata": {},
   "source": [
    "We indeed have a network B, whose accuracy $a_B > a_A$ in the same training time."
   ]
  },
  {
   "cell_type": "markdown",
   "id": "ranking-samoa",
   "metadata": {},
   "source": [
    "## Lottery Ticket Hypothesis with Rewinding"
   ]
  },
  {
   "cell_type": "markdown",
   "id": "c29afe3a",
   "metadata": {},
   "source": [
    "In some case, LTH fails for deeper networks, author then propose a [solution](https://arxiv.org/pdf/1903.01611.pdf), which is to rewind the weights to a more advanced iteration instead of the initialization value."
   ]
  },
  {
   "cell_type": "code",
   "execution_count": null,
   "id": "922beeed",
   "metadata": {},
   "outputs": [
    {
     "data": {
      "text/plain": [
       "<All keys matched successfully>"
      ]
     },
     "execution_count": null,
     "metadata": {},
     "output_type": "execute_result"
    }
   ],
   "source": [
    "learn = Learner(dls, resnet18(num_classes=2), metrics=accuracy)\n",
    "learn.model.load_state_dict(initial_weights)"
   ]
  },
  {
   "cell_type": "markdown",
   "id": "e5607ce3",
   "metadata": {},
   "source": [
    "This can be done in fasterai by passing the `rewind_epoch` parameter, that will save the weights at that epoch, then resetting the weights accordingly."
   ]
  },
  {
   "cell_type": "code",
   "execution_count": null,
   "id": "a044995f",
   "metadata": {},
   "outputs": [],
   "source": [
    "sp_cb = SparsifyCallback(50, 'weight', 'local', large_final, iterative, start_epoch=5, lth=True, rewind_epoch=1)"
   ]
  },
  {
   "cell_type": "code",
   "execution_count": null,
   "id": "compact-gazette",
   "metadata": {},
   "outputs": [
    {
     "name": "stdout",
     "output_type": "stream",
     "text": [
      "Pruning of weight until a sparsity of [50]%\n"
     ]
    },
    {
     "data": {
      "text/html": [
       "\n",
       "<style>\n",
       "    /* Turns off some styling */\n",
       "    progress {\n",
       "        /* gets rid of default border in Firefox and Opera. */\n",
       "        border: none;\n",
       "        /* Needs to be in here for Safari polyfill so background images work as expected. */\n",
       "        background-size: auto;\n",
       "    }\n",
       "    .progress-bar-interrupted, .progress-bar-interrupted::-webkit-progress-bar {\n",
       "        background: #F44336;\n",
       "    }\n",
       "</style>\n"
      ],
      "text/plain": [
       "<IPython.core.display.HTML object>"
      ]
     },
     "metadata": {},
     "output_type": "display_data"
    },
    {
     "data": {
      "text/html": [
       "<table border=\"1\" class=\"dataframe\">\n",
       "  <thead>\n",
       "    <tr style=\"text-align: left;\">\n",
       "      <th>epoch</th>\n",
       "      <th>train_loss</th>\n",
       "      <th>valid_loss</th>\n",
       "      <th>accuracy</th>\n",
       "      <th>time</th>\n",
       "    </tr>\n",
       "  </thead>\n",
       "  <tbody>\n",
       "    <tr>\n",
       "      <td>0</td>\n",
       "      <td>0.594084</td>\n",
       "      <td>0.877393</td>\n",
       "      <td>0.686062</td>\n",
       "      <td>00:08</td>\n",
       "    </tr>\n",
       "    <tr>\n",
       "      <td>1</td>\n",
       "      <td>0.569780</td>\n",
       "      <td>0.603819</td>\n",
       "      <td>0.711096</td>\n",
       "      <td>00:08</td>\n",
       "    </tr>\n",
       "    <tr>\n",
       "      <td>2</td>\n",
       "      <td>0.520782</td>\n",
       "      <td>0.645143</td>\n",
       "      <td>0.725981</td>\n",
       "      <td>00:08</td>\n",
       "    </tr>\n",
       "    <tr>\n",
       "      <td>3</td>\n",
       "      <td>0.495962</td>\n",
       "      <td>0.506920</td>\n",
       "      <td>0.738160</td>\n",
       "      <td>00:08</td>\n",
       "    </tr>\n",
       "    <tr>\n",
       "      <td>4</td>\n",
       "      <td>0.463314</td>\n",
       "      <td>0.502395</td>\n",
       "      <td>0.751691</td>\n",
       "      <td>00:08</td>\n",
       "    </tr>\n",
       "    <tr>\n",
       "      <td>5</td>\n",
       "      <td>0.524804</td>\n",
       "      <td>0.626302</td>\n",
       "      <td>0.701624</td>\n",
       "      <td>00:08</td>\n",
       "    </tr>\n",
       "    <tr>\n",
       "      <td>6</td>\n",
       "      <td>0.481978</td>\n",
       "      <td>0.535437</td>\n",
       "      <td>0.717185</td>\n",
       "      <td>00:08</td>\n",
       "    </tr>\n",
       "    <tr>\n",
       "      <td>7</td>\n",
       "      <td>0.438287</td>\n",
       "      <td>0.439397</td>\n",
       "      <td>0.797700</td>\n",
       "      <td>00:08</td>\n",
       "    </tr>\n",
       "    <tr>\n",
       "      <td>8</td>\n",
       "      <td>0.400104</td>\n",
       "      <td>0.696266</td>\n",
       "      <td>0.588633</td>\n",
       "      <td>00:08</td>\n",
       "    </tr>\n",
       "    <tr>\n",
       "      <td>9</td>\n",
       "      <td>0.366289</td>\n",
       "      <td>0.511664</td>\n",
       "      <td>0.760487</td>\n",
       "      <td>00:08</td>\n",
       "    </tr>\n",
       "    <tr>\n",
       "      <td>10</td>\n",
       "      <td>0.431968</td>\n",
       "      <td>0.649742</td>\n",
       "      <td>0.627876</td>\n",
       "      <td>00:08</td>\n",
       "    </tr>\n",
       "    <tr>\n",
       "      <td>11</td>\n",
       "      <td>0.395432</td>\n",
       "      <td>0.413708</td>\n",
       "      <td>0.819350</td>\n",
       "      <td>00:13</td>\n",
       "    </tr>\n",
       "    <tr>\n",
       "      <td>12</td>\n",
       "      <td>0.365231</td>\n",
       "      <td>0.397297</td>\n",
       "      <td>0.827470</td>\n",
       "      <td>00:14</td>\n",
       "    </tr>\n",
       "    <tr>\n",
       "      <td>13</td>\n",
       "      <td>0.323907</td>\n",
       "      <td>0.381637</td>\n",
       "      <td>0.820027</td>\n",
       "      <td>00:08</td>\n",
       "    </tr>\n",
       "    <tr>\n",
       "      <td>14</td>\n",
       "      <td>0.296680</td>\n",
       "      <td>0.397857</td>\n",
       "      <td>0.843031</td>\n",
       "      <td>00:08</td>\n",
       "    </tr>\n",
       "    <tr>\n",
       "      <td>15</td>\n",
       "      <td>0.366682</td>\n",
       "      <td>0.415927</td>\n",
       "      <td>0.801759</td>\n",
       "      <td>00:08</td>\n",
       "    </tr>\n",
       "    <tr>\n",
       "      <td>16</td>\n",
       "      <td>0.324701</td>\n",
       "      <td>0.388377</td>\n",
       "      <td>0.843031</td>\n",
       "      <td>00:08</td>\n",
       "    </tr>\n",
       "    <tr>\n",
       "      <td>17</td>\n",
       "      <td>0.294933</td>\n",
       "      <td>0.643028</td>\n",
       "      <td>0.776049</td>\n",
       "      <td>00:08</td>\n",
       "    </tr>\n",
       "    <tr>\n",
       "      <td>18</td>\n",
       "      <td>0.254401</td>\n",
       "      <td>0.443790</td>\n",
       "      <td>0.809878</td>\n",
       "      <td>00:08</td>\n",
       "    </tr>\n",
       "    <tr>\n",
       "      <td>19</td>\n",
       "      <td>0.229753</td>\n",
       "      <td>0.553675</td>\n",
       "      <td>0.804465</td>\n",
       "      <td>00:08</td>\n",
       "    </tr>\n",
       "  </tbody>\n",
       "</table>"
      ],
      "text/plain": [
       "<IPython.core.display.HTML object>"
      ]
     },
     "metadata": {},
     "output_type": "display_data"
    },
    {
     "name": "stdout",
     "output_type": "stream",
     "text": [
      "Sparsity at the end of epoch 0: [0.0]%\n",
      "Saving Weights at epoch 1\n",
      "Sparsity at the end of epoch 1: [0.0]%\n",
      "Sparsity at the end of epoch 2: [0.0]%\n",
      "Sparsity at the end of epoch 3: [0.0]%\n",
      "Sparsity at the end of epoch 4: [0.0]%\n",
      "Resetting Weights to their epoch 1 values\n",
      "Sparsity at the end of epoch 5: [16.67]%\n",
      "Sparsity at the end of epoch 6: [16.67]%\n",
      "Sparsity at the end of epoch 7: [16.67]%\n",
      "Sparsity at the end of epoch 8: [16.67]%\n",
      "Sparsity at the end of epoch 9: [16.67]%\n",
      "Resetting Weights to their epoch 1 values\n",
      "Sparsity at the end of epoch 10: [33.33]%\n",
      "Sparsity at the end of epoch 11: [33.33]%\n",
      "Sparsity at the end of epoch 12: [33.33]%\n",
      "Sparsity at the end of epoch 13: [33.33]%\n",
      "Sparsity at the end of epoch 14: [33.33]%\n",
      "Resetting Weights to their epoch 1 values\n",
      "Sparsity at the end of epoch 15: [50.0]%\n",
      "Sparsity at the end of epoch 16: [50.0]%\n",
      "Sparsity at the end of epoch 17: [50.0]%\n",
      "Sparsity at the end of epoch 18: [50.0]%\n",
      "Sparsity at the end of epoch 19: [50.0]%\n",
      "Final Sparsity: [50.0]%\n",
      "Sparsity in Conv2d 1: 50.00%\n",
      "Sparsity in Conv2d 7: 50.00%\n",
      "Sparsity in Conv2d 10: 50.00%\n",
      "Sparsity in Conv2d 13: 50.00%\n",
      "Sparsity in Conv2d 16: 50.00%\n",
      "Sparsity in Conv2d 20: 50.00%\n",
      "Sparsity in Conv2d 23: 50.00%\n",
      "Sparsity in Conv2d 26: 50.00%\n",
      "Sparsity in Conv2d 29: 50.00%\n",
      "Sparsity in Conv2d 32: 50.00%\n",
      "Sparsity in Conv2d 36: 50.00%\n",
      "Sparsity in Conv2d 39: 50.00%\n",
      "Sparsity in Conv2d 42: 50.00%\n",
      "Sparsity in Conv2d 45: 50.00%\n",
      "Sparsity in Conv2d 48: 50.00%\n",
      "Sparsity in Conv2d 52: 50.00%\n",
      "Sparsity in Conv2d 55: 50.00%\n",
      "Sparsity in Conv2d 58: 50.00%\n",
      "Sparsity in Conv2d 61: 50.00%\n",
      "Sparsity in Conv2d 64: 50.00%\n"
     ]
    }
   ],
   "source": [
    "learn.fit(20, 1e-3, cbs=sp_cb)"
   ]
  },
  {
   "cell_type": "markdown",
   "id": "4da0cc9a",
   "metadata": {},
   "source": [
    "## Super-Masks"
   ]
  },
  {
   "cell_type": "markdown",
   "id": "6c2b348c",
   "metadata": {},
   "source": [
    "Researchers from Uber AI [investigated](https://arxiv.org/pdf/1905.01067.pdf) the LTH and found the existence of what they call \"Super-Masks\", i.e. masks that, applied on a untrained neural network, allows to reach better-than-random results."
   ]
  },
  {
   "cell_type": "code",
   "execution_count": null,
   "id": "6f0df259",
   "metadata": {},
   "outputs": [
    {
     "data": {
      "text/plain": [
       "<All keys matched successfully>"
      ]
     },
     "execution_count": null,
     "metadata": {},
     "output_type": "execute_result"
    }
   ],
   "source": [
    "learn = Learner(dls, resnet18(num_classes=2), metrics=accuracy)\n",
    "learn.model.load_state_dict(initial_weights)"
   ]
  },
  {
   "cell_type": "markdown",
   "id": "6b2272d5",
   "metadata": {},
   "source": [
    "To find supermasks, authors perform the LTH method then apply the mask on the original, untrained network. In fasterai, you can pass the parameter `reset_end=True`, which will reset the weights to their original value at the end of the training, but keeping the pruned weights (i.e. the mask) unchanged."
   ]
  },
  {
   "cell_type": "code",
   "execution_count": null,
   "id": "d4729720",
   "metadata": {},
   "outputs": [],
   "source": [
    "sp_cb = SparsifyCallback(50, 'weight', 'local', large_final, iterative, start_epoch=5, lth=True, reset_end=True)"
   ]
  },
  {
   "cell_type": "code",
   "execution_count": null,
   "id": "2d2e5115",
   "metadata": {},
   "outputs": [
    {
     "name": "stdout",
     "output_type": "stream",
     "text": [
      "Pruning of weight until a sparsity of [50]%\n",
      "Saving Weights at epoch 0\n"
     ]
    },
    {
     "data": {
      "text/html": [
       "\n",
       "<style>\n",
       "    /* Turns off some styling */\n",
       "    progress {\n",
       "        /* gets rid of default border in Firefox and Opera. */\n",
       "        border: none;\n",
       "        /* Needs to be in here for Safari polyfill so background images work as expected. */\n",
       "        background-size: auto;\n",
       "    }\n",
       "    .progress-bar-interrupted, .progress-bar-interrupted::-webkit-progress-bar {\n",
       "        background: #F44336;\n",
       "    }\n",
       "</style>\n"
      ],
      "text/plain": [
       "<IPython.core.display.HTML object>"
      ]
     },
     "metadata": {},
     "output_type": "display_data"
    },
    {
     "data": {
      "text/html": [
       "<table border=\"1\" class=\"dataframe\">\n",
       "  <thead>\n",
       "    <tr style=\"text-align: left;\">\n",
       "      <th>epoch</th>\n",
       "      <th>train_loss</th>\n",
       "      <th>valid_loss</th>\n",
       "      <th>accuracy</th>\n",
       "      <th>time</th>\n",
       "    </tr>\n",
       "  </thead>\n",
       "  <tbody>\n",
       "    <tr>\n",
       "      <td>0</td>\n",
       "      <td>0.600230</td>\n",
       "      <td>0.748891</td>\n",
       "      <td>0.686062</td>\n",
       "      <td>00:08</td>\n",
       "    </tr>\n",
       "    <tr>\n",
       "      <td>1</td>\n",
       "      <td>0.556918</td>\n",
       "      <td>0.889012</td>\n",
       "      <td>0.487145</td>\n",
       "      <td>00:08</td>\n",
       "    </tr>\n",
       "    <tr>\n",
       "      <td>2</td>\n",
       "      <td>0.521960</td>\n",
       "      <td>0.499532</td>\n",
       "      <td>0.768606</td>\n",
       "      <td>00:08</td>\n",
       "    </tr>\n",
       "    <tr>\n",
       "      <td>3</td>\n",
       "      <td>0.465840</td>\n",
       "      <td>0.665433</td>\n",
       "      <td>0.731394</td>\n",
       "      <td>00:08</td>\n",
       "    </tr>\n",
       "    <tr>\n",
       "      <td>4</td>\n",
       "      <td>0.446823</td>\n",
       "      <td>0.480587</td>\n",
       "      <td>0.769283</td>\n",
       "      <td>00:08</td>\n",
       "    </tr>\n",
       "    <tr>\n",
       "      <td>5</td>\n",
       "      <td>0.549696</td>\n",
       "      <td>0.968958</td>\n",
       "      <td>0.690798</td>\n",
       "      <td>00:08</td>\n",
       "    </tr>\n",
       "    <tr>\n",
       "      <td>6</td>\n",
       "      <td>0.521101</td>\n",
       "      <td>0.534350</td>\n",
       "      <td>0.744926</td>\n",
       "      <td>00:08</td>\n",
       "    </tr>\n",
       "    <tr>\n",
       "      <td>7</td>\n",
       "      <td>0.464701</td>\n",
       "      <td>0.443272</td>\n",
       "      <td>0.789581</td>\n",
       "      <td>00:08</td>\n",
       "    </tr>\n",
       "    <tr>\n",
       "      <td>8</td>\n",
       "      <td>0.422845</td>\n",
       "      <td>0.566891</td>\n",
       "      <td>0.702977</td>\n",
       "      <td>00:12</td>\n",
       "    </tr>\n",
       "    <tr>\n",
       "      <td>9</td>\n",
       "      <td>0.388480</td>\n",
       "      <td>0.400607</td>\n",
       "      <td>0.825440</td>\n",
       "      <td>00:16</td>\n",
       "    </tr>\n",
       "    <tr>\n",
       "      <td>10</td>\n",
       "      <td>0.480315</td>\n",
       "      <td>0.566955</td>\n",
       "      <td>0.691475</td>\n",
       "      <td>00:08</td>\n",
       "    </tr>\n",
       "    <tr>\n",
       "      <td>11</td>\n",
       "      <td>0.421218</td>\n",
       "      <td>0.471286</td>\n",
       "      <td>0.763193</td>\n",
       "      <td>00:08</td>\n",
       "    </tr>\n",
       "    <tr>\n",
       "      <td>12</td>\n",
       "      <td>0.386341</td>\n",
       "      <td>0.598505</td>\n",
       "      <td>0.697564</td>\n",
       "      <td>00:08</td>\n",
       "    </tr>\n",
       "    <tr>\n",
       "      <td>13</td>\n",
       "      <td>0.344785</td>\n",
       "      <td>0.420422</td>\n",
       "      <td>0.804465</td>\n",
       "      <td>00:08</td>\n",
       "    </tr>\n",
       "    <tr>\n",
       "      <td>14</td>\n",
       "      <td>0.313814</td>\n",
       "      <td>0.423030</td>\n",
       "      <td>0.803112</td>\n",
       "      <td>00:08</td>\n",
       "    </tr>\n",
       "    <tr>\n",
       "      <td>15</td>\n",
       "      <td>0.377422</td>\n",
       "      <td>0.462871</td>\n",
       "      <td>0.789581</td>\n",
       "      <td>00:08</td>\n",
       "    </tr>\n",
       "    <tr>\n",
       "      <td>16</td>\n",
       "      <td>0.343494</td>\n",
       "      <td>0.553291</td>\n",
       "      <td>0.810555</td>\n",
       "      <td>00:08</td>\n",
       "    </tr>\n",
       "    <tr>\n",
       "      <td>17</td>\n",
       "      <td>0.304831</td>\n",
       "      <td>0.451385</td>\n",
       "      <td>0.823410</td>\n",
       "      <td>00:08</td>\n",
       "    </tr>\n",
       "    <tr>\n",
       "      <td>18</td>\n",
       "      <td>0.274829</td>\n",
       "      <td>0.328464</td>\n",
       "      <td>0.864682</td>\n",
       "      <td>00:08</td>\n",
       "    </tr>\n",
       "    <tr>\n",
       "      <td>19</td>\n",
       "      <td>0.251222</td>\n",
       "      <td>0.347079</td>\n",
       "      <td>0.853857</td>\n",
       "      <td>00:08</td>\n",
       "    </tr>\n",
       "  </tbody>\n",
       "</table>"
      ],
      "text/plain": [
       "<IPython.core.display.HTML object>"
      ]
     },
     "metadata": {},
     "output_type": "display_data"
    },
    {
     "name": "stdout",
     "output_type": "stream",
     "text": [
      "Sparsity at the end of epoch 0: [0.0]%\n",
      "Sparsity at the end of epoch 1: [0.0]%\n",
      "Sparsity at the end of epoch 2: [0.0]%\n",
      "Sparsity at the end of epoch 3: [0.0]%\n",
      "Sparsity at the end of epoch 4: [0.0]%\n",
      "Resetting Weights to their epoch 0 values\n",
      "Sparsity at the end of epoch 5: [16.67]%\n",
      "Sparsity at the end of epoch 6: [16.67]%\n",
      "Sparsity at the end of epoch 7: [16.67]%\n",
      "Sparsity at the end of epoch 8: [16.67]%\n",
      "Sparsity at the end of epoch 9: [16.67]%\n",
      "Resetting Weights to their epoch 0 values\n",
      "Sparsity at the end of epoch 10: [33.33]%\n",
      "Sparsity at the end of epoch 11: [33.33]%\n",
      "Sparsity at the end of epoch 12: [33.33]%\n",
      "Sparsity at the end of epoch 13: [33.33]%\n",
      "Sparsity at the end of epoch 14: [33.33]%\n",
      "Resetting Weights to their epoch 0 values\n",
      "Sparsity at the end of epoch 15: [50.0]%\n",
      "Sparsity at the end of epoch 16: [50.0]%\n",
      "Sparsity at the end of epoch 17: [50.0]%\n",
      "Sparsity at the end of epoch 18: [50.0]%\n",
      "Sparsity at the end of epoch 19: [50.0]%\n",
      "Final Sparsity: [50.0]%\n",
      "Sparsity in Conv2d 1: 50.00%\n",
      "Sparsity in Conv2d 7: 50.00%\n",
      "Sparsity in Conv2d 10: 50.00%\n",
      "Sparsity in Conv2d 13: 50.00%\n",
      "Sparsity in Conv2d 16: 50.00%\n",
      "Sparsity in Conv2d 20: 50.00%\n",
      "Sparsity in Conv2d 23: 50.00%\n",
      "Sparsity in Conv2d 26: 50.00%\n",
      "Sparsity in Conv2d 29: 50.00%\n",
      "Sparsity in Conv2d 32: 50.00%\n",
      "Sparsity in Conv2d 36: 50.00%\n",
      "Sparsity in Conv2d 39: 50.00%\n",
      "Sparsity in Conv2d 42: 50.00%\n",
      "Sparsity in Conv2d 45: 50.00%\n",
      "Sparsity in Conv2d 48: 50.00%\n",
      "Sparsity in Conv2d 52: 50.00%\n",
      "Sparsity in Conv2d 55: 50.00%\n",
      "Sparsity in Conv2d 58: 50.00%\n",
      "Sparsity in Conv2d 61: 50.00%\n",
      "Sparsity in Conv2d 64: 50.00%\n"
     ]
    }
   ],
   "source": [
    "learn.fit(20, 1e-3, cbs=sp_cb)"
   ]
  },
  {
   "cell_type": "code",
   "execution_count": null,
   "id": "5f37bbcf",
   "metadata": {},
   "outputs": [
    {
     "data": {
      "text/html": [
       "\n",
       "<style>\n",
       "    /* Turns off some styling */\n",
       "    progress {\n",
       "        /* gets rid of default border in Firefox and Opera. */\n",
       "        border: none;\n",
       "        /* Needs to be in here for Safari polyfill so background images work as expected. */\n",
       "        background-size: auto;\n",
       "    }\n",
       "    .progress-bar-interrupted, .progress-bar-interrupted::-webkit-progress-bar {\n",
       "        background: #F44336;\n",
       "    }\n",
       "</style>\n"
      ],
      "text/plain": [
       "<IPython.core.display.HTML object>"
      ]
     },
     "metadata": {},
     "output_type": "display_data"
    },
    {
     "data": {
      "text/html": [],
      "text/plain": [
       "<IPython.core.display.HTML object>"
      ]
     },
     "metadata": {},
     "output_type": "display_data"
    },
    {
     "data": {
      "text/plain": [
       "(#2) [1.0171763896942139,0.6853856444358826]"
      ]
     },
     "execution_count": null,
     "metadata": {},
     "output_type": "execute_result"
    }
   ],
   "source": [
    "learn.validate()"
   ]
  }
 ],
 "metadata": {
  "kernelspec": {
   "display_name": "Python 3 (ipykernel)",
   "language": "python",
   "name": "python3"
  }
 },
 "nbformat": 4,
 "nbformat_minor": 5
}
