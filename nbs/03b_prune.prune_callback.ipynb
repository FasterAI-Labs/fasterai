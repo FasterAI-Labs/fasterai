{
 "cells": [
  {
   "cell_type": "raw",
   "id": "08159415",
   "metadata": {},
   "source": [
    "---\n",
    "description: Use the pruner in fastai Callback system\n",
    "output-file: prune_callback.html\n",
    "title: PruneCallback\n",
    "skip_showdoc: true\n",
    "skip_exec: true\n",
    "---\n",
    "\n"
   ]
  },
  {
   "cell_type": "code",
   "execution_count": null,
   "id": "e5148f82",
   "metadata": {},
   "outputs": [],
   "source": [
    "#| default_exp prune.prune_callback"
   ]
  },
  {
   "cell_type": "code",
   "execution_count": null,
   "id": "1ce26620",
   "metadata": {},
   "outputs": [],
   "source": [
    "#| include: false\n",
    "from nbdev.showdoc import *"
   ]
  },
  {
   "cell_type": "code",
   "execution_count": null,
   "id": "7d58c624",
   "metadata": {},
   "outputs": [],
   "source": [
    "#| export\n",
    "from fastai.vision.all import *\n",
    "from fastai.callback.all import *\n",
    "from fasterai.prune.pruner import *\n",
    "from fasterai.core.criteria import *\n",
    "from fasterai.core.schedule import *\n",
    "\n",
    "import torch\n",
    "import torch.nn as nn\n",
    "import torch.nn.functional as F"
   ]
  },
  {
   "cell_type": "code",
   "execution_count": null,
   "id": "b8347d11",
   "metadata": {},
   "outputs": [],
   "source": [
    "#| export\n",
    "class PruneCallback(Callback):\n",
    "    def __init__(self, sparsity:int, context:str, criteria:Callable, schedule:Callable, model:nn.Module=None, round_to:int=None, layer_type:nn.Module=nn.Conv2d):\n",
    "        store_attr()\n",
    "        self.sparsity = listify(self.sparsity)\n",
    "\n",
    "    def before_fit(self):\n",
    "        print(f'Pruning until a sparsity of {self.sparsity}%')\n",
    "        model = self.model if self.model else self.learn.model\n",
    "        self.pruner = Pruner(model, self.context, self.criteria)\n",
    "\n",
    "    def before_batch(self):\n",
    "        self.current_sparsity = self.schedule(self.sparsity, round(self.pct_train,3))\n",
    "        if self.schedule.pruned and self.training:\n",
    "            self.pruner.prune_model(self.current_sparsity[0], self.round_to)\n",
    "\n",
    "    def after_step(self):\n",
    "        self.schedule.after_pruned()\n",
    "\n",
    "    def after_epoch(self):\n",
    "        sparsity_str = [float(f\"%0.2f\"%sp) for sp in self.current_sparsity]\n",
    "        print(f'Sparsity at the end of epoch {self.epoch}: {sparsity_str}%')\n",
    "\n",
    "    def after_fit(self):\n",
    "        print(f'Final Sparsity: {self.schedule.current_sparsity:}%')\n",
    "        self.schedule.reset()"
   ]
  },
  {
   "cell_type": "code",
   "execution_count": null,
   "id": "b1921c59",
   "metadata": {},
   "outputs": [
    {
     "data": {
      "text/markdown": [
       "---\n",
       "\n",
       "### PruneCallback\n",
       "\n",
       ">      PruneCallback (sparsity:int, context:str, criteria:Callable,\n",
       ">                     schedule:Callable,\n",
       ">                     model:torch.nn.modules.module.Module=None,\n",
       ">                     round_to:int=None,\n",
       ">                     layer_type:torch.nn.modules.module.Module=<class\n",
       ">                     'torch.nn.modules.conv.Conv2d'>)\n",
       "\n",
       "Basic class handling tweaks of the training loop by changing a `Learner` in various events"
      ],
      "text/plain": [
       "---\n",
       "\n",
       "### PruneCallback\n",
       "\n",
       ">      PruneCallback (sparsity:int, context:str, criteria:Callable,\n",
       ">                     schedule:Callable,\n",
       ">                     model:torch.nn.modules.module.Module=None,\n",
       ">                     round_to:int=None,\n",
       ">                     layer_type:torch.nn.modules.module.Module=<class\n",
       ">                     'torch.nn.modules.conv.Conv2d'>)\n",
       "\n",
       "Basic class handling tweaks of the training loop by changing a `Learner` in various events"
      ]
     },
     "execution_count": null,
     "metadata": {},
     "output_type": "execute_result"
    }
   ],
   "source": [
    "show_doc(PruneCallback)"
   ]
  }
 ],
 "metadata": {
  "kernelspec": {
   "display_name": "python3",
   "language": "python",
   "name": "python3"
  }
 },
 "nbformat": 4,
 "nbformat_minor": 5
}
