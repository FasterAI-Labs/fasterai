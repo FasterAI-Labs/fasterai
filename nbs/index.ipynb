{
 "cells": [
  {
   "cell_type": "markdown",
   "metadata": {},
   "source": [
    "![header](https://capsule-render.vercel.app/api?type=waving&color=008080&height=300&section=header&text=fasterai%20&fontSize=90&animation=fadeIn&fontAlignY=38&desc=A%20Library%20to%20make%20smaller%20and%20faster%20neural%20networks&descAlignY=51&descAlign=62)"
   ]
  },
  {
   "cell_type": "markdown",
   "metadata": {},
   "source": [
    "<p align=\"center\">\n",
    "    <a href=\"https://pypi.org/project/fasterai/\"><img src=\"https://img.shields.io/pypi/v/fasterai?color=%235BAFAF\"></a>\n",
    "    <a href=\"https://pypi.org/project/fasterai/\"><img src=\"https://static.pepy.tech/personalized-badge/fasterai?color=%235BAFAFperiod=total&units=international_system&left_color=grey&right_color=%235BAFAF&left_text=downloads\"></a>\n",
    "    <a href=\"https://opensource.org/licenses/MIT\"><img src=\"https://img.shields.io/github/license/nathanhubens/fasterai?color=%235bafaf\"></a>\n",
    "    <a href=\"https://pypi.org/project/fasterai/\"><img src=\"https://img.shields.io/badge/DOI-10.5281%2Fzenodo.6469868-y?color=%235BAFAF\"></a>\n",
    "</p>\n"
   ]
  },
  {
   "cell_type": "markdown",
   "metadata": {},
   "source": [
    "<p align=\"center\">\n",
    "  <a href=\"#methods\">Methods</a> •\n",
    "  <a href=\"#features\">Features</a> •\n",
    "  <a href=\"#installation\">Installation</a> •\n",
    "  <a href=\"#tutorials\">Tutorials</a> •\n",
    "  <a href=\"#citing\">Citing</a> •\n",
    "  <a href=\"#license\">License</a>\n",
    "</p>"
   ]
  },
  {
   "cell_type": "markdown",
   "metadata": {},
   "source": [
    "# Fasterai\n",
    "- toc:False"
   ]
  },
  {
   "cell_type": "markdown",
   "metadata": {},
   "source": [
    "`fasterai` is a library created to make neural network **smaller** and **faster**. It essentially relies on common compression techniques for networks such as pruning, knowledge distillation, Lottery Ticket Hypothesis, ..."
   ]
  },
  {
   "cell_type": "markdown",
   "metadata": {},
   "source": [
    "The core feature of `fasterai` is its Sparsifying capabilities, constructed on 4 main modules: **granularity**, **method**, **criteria**, **schedule**. Each of these modules is highly customizable, allowing you to change them according to your needs or even to come up with your own !"
   ]
  },
  {
   "cell_type": "markdown",
   "metadata": {},
   "source": [
    "## Project Documentation"
   ]
  },
  {
   "cell_type": "markdown",
   "metadata": {},
   "source": [
    "Visit [Read The Docs Project Page](https://nathanhubens.github.io/fasterai/) or read following README to know more about using `fasterai`."
   ]
  },
  {
   "cell_type": "markdown",
   "metadata": {},
   "source": [
    "---"
   ]
  },
  {
   "cell_type": "markdown",
   "metadata": {},
   "source": [
    "##  Features"
   ]
  },
  {
   "cell_type": "markdown",
   "metadata": {},
   "source": [
    "### 1. Sparsifying"
   ]
  },
  {
   "cell_type": "markdown",
   "metadata": {},
   "source": [
    "![alt text](imgs/sparsification.png \"Sparsification\")"
   ]
  },
  {
   "cell_type": "markdown",
   "metadata": {},
   "source": [
    "Make your model sparse (*i.e.* prune it) according to a:\n",
    "- <b>Sparsity: </b> the percentage of weights that will be replaced by 0\n",
    "- <b>Granularity: </b> the granularity at which you operate the pruning (removing weights, vectors, kernels, filters)\n",
    "- <b>Method: </b> prune either each layer independantly (local pruning) or the whole model (global pruning)\n",
    "- <b>Criteria: </b> the criteria used to select the weights to remove (magnitude, movement, ...)\n",
    "- <b>Schedule: </b> which schedule you want to use for pruning (one shot, iterative, gradual, ...)"
   ]
  },
  {
   "cell_type": "markdown",
   "metadata": {},
   "source": [
    "This can be achieved by using the `SparsifyCallback(end_sparsity, granularity, method, criteria, sched_func)`"
   ]
  },
  {
   "cell_type": "markdown",
   "metadata": {},
   "source": [
    "### 2. Pruning"
   ]
  },
  {
   "cell_type": "markdown",
   "metadata": {},
   "source": [
    "![alt text](imgs/pruning_readme.png \"Pruning\")"
   ]
  },
  {
   "cell_type": "markdown",
   "metadata": {},
   "source": [
    "Once your model has useless nodes due to zero-weights, they can be removed to not be a part of the network anymore."
   ]
  },
  {
   "cell_type": "markdown",
   "metadata": {},
   "source": [
    "This can be achieved by using the `Pruner()` method"
   ]
  },
  {
   "cell_type": "markdown",
   "metadata": {},
   "source": [
    "### 3. Regularization"
   ]
  },
  {
   "cell_type": "markdown",
   "metadata": {},
   "source": [
    "![alt text](imgs/regularization.png \"Regularization\")"
   ]
  },
  {
   "cell_type": "markdown",
   "metadata": {},
   "source": [
    "Instead of explicitely make your network sparse, let it train towards sparse connections by pushing the weights to be as small as possible."
   ]
  },
  {
   "cell_type": "markdown",
   "metadata": {},
   "source": [
    "Regularization can be applied to groups of weights, following the same granularities as for sparsifying, i.e.:\n",
    "- <b>Granularity: </b> the granularity at which you operate the regularization (weights, vectors, kernels, filters, ...)"
   ]
  },
  {
   "cell_type": "markdown",
   "metadata": {},
   "source": [
    "This can be achieved by using the `RegularizationCallback(granularity)`"
   ]
  },
  {
   "cell_type": "markdown",
   "metadata": {},
   "source": [
    "### 4. Knowledge Distillation"
   ]
  },
  {
   "cell_type": "markdown",
   "metadata": {},
   "source": [
    "![alt text](imgs/distillation.png \"Distillation\")"
   ]
  },
  {
   "cell_type": "markdown",
   "metadata": {},
   "source": [
    "Distill the knowledge acquired by a big model into a smaller one, by using the `KnowledgeDistillation` callback."
   ]
  },
  {
   "cell_type": "markdown",
   "metadata": {},
   "source": [
    "### 5. Lottery Ticket Hypothesis"
   ]
  },
  {
   "cell_type": "markdown",
   "metadata": {},
   "source": [
    "![alt text](imgs/LTH.png \"Lottery Ticket Hypothesis\")"
   ]
  },
  {
   "cell_type": "markdown",
   "metadata": {},
   "source": [
    "Find the winning ticket in you network, *i.e.* the initial subnetwork able to attain at least similar performances than the network as a whole."
   ]
  },
  {
   "cell_type": "markdown",
   "metadata": {},
   "source": [
    "---"
   ]
  },
  {
   "cell_type": "markdown",
   "metadata": {},
   "source": [
    "##  Quick Start"
   ]
  },
  {
   "cell_type": "markdown",
   "metadata": {},
   "source": [
    "### 0. Import fasterai"
   ]
  },
  {
   "cell_type": "markdown",
   "metadata": {},
   "source": [
    "```python\n",
    "from fasterai.sparse.all import *\n",
    "```"
   ]
  },
  {
   "cell_type": "markdown",
   "metadata": {},
   "source": [
    "### 1. Create your model with fastai"
   ]
  },
  {
   "cell_type": "markdown",
   "metadata": {},
   "source": [
    "```python\n",
    "learn = cnn_learner(dls, model)\n",
    "```"
   ]
  },
  {
   "cell_type": "markdown",
   "metadata": {},
   "source": [
    "### 2. Get you Fasterai Callback"
   ]
  },
  {
   "cell_type": "markdown",
   "metadata": {},
   "source": [
    "```python\n",
    "sp_cb=SparsifyCallback(end_sparsity, granularity, method, criteria, sched_func)\n",
    "```"
   ]
  },
  {
   "cell_type": "markdown",
   "metadata": {},
   "source": [
    "### 3. Train you model to make it sparse !"
   ]
  },
  {
   "cell_type": "markdown",
   "metadata": {},
   "source": [
    "```python\n",
    "learn.fit_one_cycle(n_epochs, cbs=sp_cb)\n",
    "```"
   ]
  },
  {
   "cell_type": "markdown",
   "metadata": {},
   "source": [
    "---"
   ]
  },
  {
   "cell_type": "markdown",
   "metadata": {},
   "source": [
    "##  Installation"
   ]
  },
  {
   "cell_type": "markdown",
   "metadata": {},
   "source": [
    "\n",
    "```\n",
    "pip install git+https://github.com/nathanhubens/fasterai.git\n",
    "```\n",
    "\n",
    "or \n",
    "\n",
    "```\n",
    "pip install fasterai\n",
    "```"
   ]
  },
  {
   "cell_type": "markdown",
   "metadata": {},
   "source": [
    "---"
   ]
  },
  {
   "cell_type": "markdown",
   "metadata": {},
   "source": [
    "## Tutorials"
   ]
  },
  {
   "cell_type": "markdown",
   "metadata": {},
   "source": [
    "- [Get Started with FasterAI](https://nathanhubens.github.io/fasterai/tutorial.using_fasterai.html)\n",
    "- [Create your own pruning schedule](https://nathanhubens.github.io/fasterai/tutorial.schedules.html)\n",
    "- [Find winning tickets using the Lottery Ticket Hypothesis](https://nathanhubens.github.io/fasterai/tutorial.lottery_ticket.html)\n",
    "- [Use Knowledge Distillation to help a student model to reach higher performance](https://nathanhubens.github.io/fasterai/tutorial.knowledge_distillation.html)\n",
    "- [Sparsify Transformers](https://nathanhubens.github.io/fasterai/tutorial.transformers.html)\n",
    "- More to come..."
   ]
  },
  {
   "cell_type": "markdown",
   "metadata": {},
   "source": [
    "---"
   ]
  },
  {
   "cell_type": "markdown",
   "metadata": {},
   "source": [
    "##  Citing\n",
    "```\n",
    "@software{Hubens,\n",
    "  author       = {Nathan Hubens},\n",
    "  title        = {fasterai},\n",
    "  year         = 2022,\n",
    "  publisher    = {Zenodo},\n",
    "  version      = {v0.1.6},\n",
    "  doi          = {10.5281/zenodo.6469868},\n",
    "  url          = {https://doi.org/10.5281/zenodo.6469868}\n",
    "}\n",
    "```"
   ]
  },
  {
   "cell_type": "markdown",
   "metadata": {},
   "source": [
    "---"
   ]
  },
  {
   "cell_type": "markdown",
   "metadata": {},
   "source": [
    "## License"
   ]
  },
  {
   "cell_type": "markdown",
   "metadata": {},
   "source": [
    "[Apache-2.0](https://www.apache.org/licenses/) License."
   ]
  },
  {
   "cell_type": "markdown",
   "metadata": {},
   "source": [
    "![footer](https://capsule-render.vercel.app/api?type=waving&color=008080&height=100&section=footer)"
   ]
  },
  {
   "cell_type": "code",
   "execution_count": null,
   "metadata": {},
   "outputs": [],
   "source": []
  }
 ],
 "metadata": {
  "kernelspec": {
   "display_name": "Python 3 (ipykernel)",
   "language": "python",
   "name": "python3"
  }
 },
 "nbformat": 4,
 "nbformat_minor": 2
}
