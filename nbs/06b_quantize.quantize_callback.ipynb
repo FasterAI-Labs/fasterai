{
 "cells": [
  {
   "cell_type": "raw",
   "id": "5a33dc9c",
   "metadata": {},
   "source": [
    "---\n",
    "description: Quantize your network during training\n",
    "output-file: quantize_callback.html\n",
    "title: Quantize Callback\n",
    "skip_showdoc: true\n",
    "skip_exec: true\n",
    "---"
   ]
  },
  {
   "cell_type": "code",
   "execution_count": null,
   "id": "1856ae63",
   "metadata": {},
   "outputs": [],
   "source": [
    "#| default_exp quantize.quantize_callback"
   ]
  },
  {
   "cell_type": "code",
   "execution_count": null,
   "id": "6c91001f",
   "metadata": {},
   "outputs": [],
   "source": [
    "#| include: false\n",
    "import warnings\n",
    "warnings.filterwarnings('ignore')\n",
    "from nbdev.showdoc import *\n",
    "from fastai.vision.all import *"
   ]
  },
  {
   "cell_type": "code",
   "execution_count": null,
   "id": "e1b7a541",
   "metadata": {},
   "outputs": [],
   "source": [
    "#| export\n",
    "import copy\n",
    "import torch\n",
    "import torch.nn as nn\n",
    "import torch.nn.functional as F\n",
    "from fastai.vision.all import *\n",
    "from fastai.callback.all import *\n",
    "\n",
    "from torch.ao.quantization import get_default_qat_qconfig_mapping\n",
    "import torch.ao.quantization.quantize_fx as quantize_fx\n",
    "from torch.ao.quantization.quantize_fx import convert_fx, prepare_fx"
   ]
  },
  {
   "cell_type": "code",
   "execution_count": null,
   "id": "040f10d1",
   "metadata": {},
   "outputs": [],
   "source": [
    "#| include: false\n",
    "path = untar_data(URLs.PETS)\n",
    "files = get_image_files(path/\"images\")\n",
    "\n",
    "def label_func(f): return f[0].isupper()\n",
    "\n",
    "dls = ImageDataLoaders.from_name_func(path, files, label_func, item_tfms=Resize(64))"
   ]
  },
  {
   "cell_type": "code",
   "execution_count": null,
   "id": "5f00357b",
   "metadata": {},
   "outputs": [],
   "source": [
    "#| export\n",
    "class QuantizeCallback(Callback):\n",
    "    def __init__(self, qconfig_mapping=None, backend='x86'):\n",
    "        self.qconfig_mapping = qconfig_mapping or get_default_qat_qconfig_mapping(backend)\n",
    "\n",
    "    def before_fit(self):\n",
    "        example_inputs, _ = next(iter(self.dls.train))\n",
    "        self.learn.model = quantize_fx.prepare_qat_fx(self.learn.model, self.qconfig_mapping, example_inputs)\n",
    "\n",
    "    def after_fit(self):\n",
    "        self.learn.model.eval()\n",
    "        self.learn.model = quantize_fx.convert_fx(self.learn.model.to('cpu'))"
   ]
  },
  {
   "cell_type": "code",
   "execution_count": null,
   "id": "a9c53a45",
   "metadata": {},
   "outputs": [
    {
     "data": {
      "text/markdown": [
       "---\n",
       "\n",
       "### QuantizeCallback\n",
       "\n",
       ">      QuantizeCallback (qconfig_mapping=None, backend='x86')\n",
       "\n",
       "Basic class handling tweaks of the training loop by changing a `Learner` in various events"
      ],
      "text/plain": [
       "---\n",
       "\n",
       "### QuantizeCallback\n",
       "\n",
       ">      QuantizeCallback (qconfig_mapping=None, backend='x86')\n",
       "\n",
       "Basic class handling tweaks of the training loop by changing a `Learner` in various events"
      ]
     },
     "execution_count": null,
     "metadata": {},
     "output_type": "execute_result"
    }
   ],
   "source": [
    "show_doc(QuantizeCallback)"
   ]
  },
  {
   "cell_type": "code",
   "execution_count": null,
   "id": "adf3681a",
   "metadata": {},
   "outputs": [
    {
     "data": {
      "text/html": [
       "\n",
       "<style>\n",
       "    /* Turns off some styling */\n",
       "    progress {\n",
       "        /* gets rid of default border in Firefox and Opera. */\n",
       "        border: none;\n",
       "        /* Needs to be in here for Safari polyfill so background images work as expected. */\n",
       "        background-size: auto;\n",
       "    }\n",
       "    progress:not([value]), progress:not([value])::-webkit-progress-bar {\n",
       "        background: repeating-linear-gradient(45deg, #7e7e7e, #7e7e7e 10px, #5c5c5c 10px, #5c5c5c 20px);\n",
       "    }\n",
       "    .progress-bar-interrupted, .progress-bar-interrupted::-webkit-progress-bar {\n",
       "        background: #F44336;\n",
       "    }\n",
       "</style>\n"
      ],
      "text/plain": [
       "<IPython.core.display.HTML object>"
      ]
     },
     "metadata": {},
     "output_type": "display_data"
    },
    {
     "data": {
      "text/html": [
       "<table border=\"1\" class=\"dataframe\">\n",
       "  <thead>\n",
       "    <tr style=\"text-align: left;\">\n",
       "      <th>epoch</th>\n",
       "      <th>train_loss</th>\n",
       "      <th>valid_loss</th>\n",
       "      <th>accuracy</th>\n",
       "      <th>time</th>\n",
       "    </tr>\n",
       "  </thead>\n",
       "  <tbody>\n",
       "    <tr>\n",
       "      <td>0</td>\n",
       "      <td>0.571546</td>\n",
       "      <td>0.424050</td>\n",
       "      <td>0.789581</td>\n",
       "      <td>00:06</td>\n",
       "    </tr>\n",
       "    <tr>\n",
       "      <td>1</td>\n",
       "      <td>0.469406</td>\n",
       "      <td>0.363851</td>\n",
       "      <td>0.843708</td>\n",
       "      <td>00:06</td>\n",
       "    </tr>\n",
       "    <tr>\n",
       "      <td>2</td>\n",
       "      <td>0.407703</td>\n",
       "      <td>0.399239</td>\n",
       "      <td>0.817997</td>\n",
       "      <td>00:06</td>\n",
       "    </tr>\n",
       "    <tr>\n",
       "      <td>3</td>\n",
       "      <td>0.375065</td>\n",
       "      <td>0.309377</td>\n",
       "      <td>0.865359</td>\n",
       "      <td>00:06</td>\n",
       "    </tr>\n",
       "    <tr>\n",
       "      <td>4</td>\n",
       "      <td>0.323774</td>\n",
       "      <td>0.331475</td>\n",
       "      <td>0.873478</td>\n",
       "      <td>00:06</td>\n",
       "    </tr>\n",
       "  </tbody>\n",
       "</table>"
      ],
      "text/plain": [
       "<IPython.core.display.HTML object>"
      ]
     },
     "metadata": {},
     "output_type": "display_data"
    }
   ],
   "source": [
    "learn = vision_learner(dls, resnet18, metrics=accuracy)\n",
    "learn.unfreeze()\n",
    "learn.fit(5, cbs=QuantizeCallback())"
   ]
  },
  {
   "cell_type": "code",
   "execution_count": null,
   "id": "b99aa582",
   "metadata": {},
   "outputs": [
    {
     "data": {
      "text/plain": [
       "GraphModule(\n",
       "  (0): Module(\n",
       "    (0): QuantizedConvReLU2d(3, 64, kernel_size=(7, 7), stride=(2, 2), scale=0.029317768290638924, zero_point=0, padding=(3, 3))\n",
       "    (3): MaxPool2d(kernel_size=3, stride=2, padding=1, dilation=1, ceil_mode=False)\n",
       "    (4): Module(\n",
       "      (0): Module(\n",
       "        (conv1): QuantizedConvReLU2d(64, 64, kernel_size=(3, 3), stride=(1, 1), scale=0.017887497320771217, zero_point=0, padding=(1, 1))\n",
       "        (conv2): QuantizedConv2d(64, 64, kernel_size=(3, 3), stride=(1, 1), scale=0.0466480627655983, zero_point=66, padding=(1, 1))\n",
       "      )\n",
       "      (1): Module(\n",
       "        (conv1): QuantizedConvReLU2d(64, 64, kernel_size=(3, 3), stride=(1, 1), scale=0.017889995127916336, zero_point=0, padding=(1, 1))\n",
       "        (conv2): QuantizedConv2d(64, 64, kernel_size=(3, 3), stride=(1, 1), scale=0.07470479607582092, zero_point=66, padding=(1, 1))\n",
       "      )\n",
       "    )\n",
       "    (5): Module(\n",
       "      (0): Module(\n",
       "        (conv1): QuantizedConvReLU2d(64, 128, kernel_size=(3, 3), stride=(2, 2), scale=0.0174386166036129, zero_point=0, padding=(1, 1))\n",
       "        (conv2): QuantizedConv2d(128, 128, kernel_size=(3, 3), stride=(1, 1), scale=0.047718875110149384, zero_point=60, padding=(1, 1))\n",
       "        (downsample): Module(\n",
       "          (0): QuantizedConv2d(64, 128, kernel_size=(1, 1), stride=(2, 2), scale=0.04965509846806526, zero_point=68)\n",
       "        )\n",
       "      )\n",
       "      (1): Module(\n",
       "        (conv1): QuantizedConvReLU2d(128, 128, kernel_size=(3, 3), stride=(1, 1), scale=0.019585009664297104, zero_point=0, padding=(1, 1))\n",
       "        (conv2): QuantizedConv2d(128, 128, kernel_size=(3, 3), stride=(1, 1), scale=0.05827442184090614, zero_point=70, padding=(1, 1))\n",
       "      )\n",
       "    )\n",
       "    (6): Module(\n",
       "      (0): Module(\n",
       "        (conv1): QuantizedConvReLU2d(128, 256, kernel_size=(3, 3), stride=(2, 2), scale=0.02278205193579197, zero_point=0, padding=(1, 1))\n",
       "        (conv2): QuantizedConv2d(256, 256, kernel_size=(3, 3), stride=(1, 1), scale=0.05654977634549141, zero_point=57, padding=(1, 1))\n",
       "        (downsample): Module(\n",
       "          (0): QuantizedConv2d(128, 256, kernel_size=(1, 1), stride=(2, 2), scale=0.019852932542562485, zero_point=75)\n",
       "        )\n",
       "      )\n",
       "      (1): Module(\n",
       "        (conv1): QuantizedConvReLU2d(256, 256, kernel_size=(3, 3), stride=(1, 1), scale=0.021630365401506424, zero_point=0, padding=(1, 1))\n",
       "        (conv2): QuantizedConv2d(256, 256, kernel_size=(3, 3), stride=(1, 1), scale=0.06945421546697617, zero_point=73, padding=(1, 1))\n",
       "      )\n",
       "    )\n",
       "    (7): Module(\n",
       "      (0): Module(\n",
       "        (conv1): QuantizedConvReLU2d(256, 512, kernel_size=(3, 3), stride=(2, 2), scale=0.019869942218065262, zero_point=0, padding=(1, 1))\n",
       "        (conv2): QuantizedConv2d(512, 512, kernel_size=(3, 3), stride=(1, 1), scale=0.07700460404157639, zero_point=63, padding=(1, 1))\n",
       "        (downsample): Module(\n",
       "          (0): QuantizedConv2d(256, 512, kernel_size=(1, 1), stride=(2, 2), scale=0.045847173780202866, zero_point=68)\n",
       "        )\n",
       "      )\n",
       "      (1): Module(\n",
       "        (conv1): QuantizedConvReLU2d(512, 512, kernel_size=(3, 3), stride=(1, 1), scale=0.02446889691054821, zero_point=0, padding=(1, 1))\n",
       "        (conv2): QuantizedConv2d(512, 512, kernel_size=(3, 3), stride=(1, 1), scale=0.3400780260562897, zero_point=54, padding=(1, 1))\n",
       "      )\n",
       "    )\n",
       "  )\n",
       "  (1): Module(\n",
       "    (0): Module(\n",
       "      (mp): AdaptiveMaxPool2d(output_size=1)\n",
       "      (ap): AdaptiveAvgPool2d(output_size=1)\n",
       "    )\n",
       "    (2): BatchNorm1d(1024, eps=1e-05, momentum=0.1, affine=True, track_running_stats=True)\n",
       "    (3): QuantizedDropout(p=0.25, inplace=False)\n",
       "    (4): QuantizedLinearReLU(in_features=1024, out_features=512, scale=0.5987890958786011, zero_point=0, qscheme=torch.per_channel_affine)\n",
       "    (6): BatchNorm1d(512, eps=1e-05, momentum=0.1, affine=True, track_running_stats=True)\n",
       "    (7): QuantizedDropout(p=0.5, inplace=False)\n",
       "    (8): QuantizedLinear(in_features=512, out_features=2, scale=0.6221694350242615, zero_point=113, qscheme=torch.per_channel_affine)\n",
       "  )\n",
       ")"
      ]
     },
     "execution_count": null,
     "metadata": {},
     "output_type": "execute_result"
    }
   ],
   "source": [
    "learn.model"
   ]
  }
 ],
 "metadata": {
  "kernelspec": {
   "display_name": "python3",
   "language": "python",
   "name": "python3"
  }
 },
 "nbformat": 4,
 "nbformat_minor": 5
}
