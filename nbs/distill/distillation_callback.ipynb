{
 "cells": [
  {
   "cell_type": "raw",
   "id": "f8290370",
   "metadata": {},
   "source": [
    "---\n",
    "description: Train a network in a teacher-student fashion\n",
    "output-file: knowledge_distillation.html\n",
    "title: Knowledge Distillation\n",
    "skip_showdoc: true\n",
    "skip_exec: true\n",
    "---\n",
    "\n"
   ]
  },
  {
   "cell_type": "code",
   "execution_count": null,
   "id": "noted-zambia",
   "metadata": {},
   "outputs": [],
   "source": [
    "#| default_exp distill.distillation_callback"
   ]
  },
  {
   "cell_type": "code",
   "execution_count": null,
   "id": "primary-crisis",
   "metadata": {},
   "outputs": [],
   "source": [
    "#| include: false\n",
    "import warnings\n",
    "warnings.filterwarnings('ignore')\n",
    "from nbdev.showdoc import *\n",
    "import torch\n",
    "import torch.nn.functional as F\n",
    "\n",
    "%config InlineBackend.figure_format = 'retina'"
   ]
  },
  {
   "cell_type": "markdown",
   "id": "coral-congress",
   "metadata": {},
   "source": [
    "Knowledge Distillation, sometimes called teacher-student training, is a compression method in which a small (the student) model is trained to mimic the behaviour of a larger (the teacher) model.\n",
    "\n",
    "The main goal is to reveal what is called the **Dark Knowledge** hidden in the teacher model.\n",
    "\n",
    "If we take the same [example](https://www.ttic.edu/dl/dark14.pdf) provided by Geoffrey Hinton et al., we have"
   ]
  },
  {
   "cell_type": "markdown",
   "id": "radical-collection",
   "metadata": {},
   "source": [
    "The main problem of classification is that the output activation function (softmax) will, by design, make a single value really high and squash others."
   ]
  },
  {
   "cell_type": "markdown",
   "id": "practical-celtic",
   "metadata": {},
   "source": [
    "$$\n",
    "p_{i}=\\frac{\\exp \\left(z_{i}\\right)}{\\sum_{j} \\exp \\left(z_{j}\\right)}\n",
    "$$\n",
    "\n",
    "With $p_i$ the probability of class $i$, computed from the logits $z$"
   ]
  },
  {
   "cell_type": "markdown",
   "id": "fatal-microwave",
   "metadata": {},
   "source": [
    "Here is an example to illustrate this phenomenon:\n",
    "\n",
    "Let's say that we have trained a model to discriminate between the following 5 classes: [cow, dog, plane, cat, car]"
   ]
  },
  {
   "cell_type": "markdown",
   "id": "baking-access",
   "metadata": {},
   "source": [
    "And here is the output of the final layer (the logits) when the model is fed a new input image: "
   ]
  },
  {
   "cell_type": "code",
   "execution_count": null,
   "id": "respective-turtle",
   "metadata": {},
   "outputs": [],
   "source": [
    "logits = torch.tensor([1.3, 3.1, 0.2, 1.9, -0.3])"
   ]
  },
  {
   "cell_type": "markdown",
   "id": "interested-humidity",
   "metadata": {},
   "source": [
    "By judging on the predictions, the model seems confident that the input data is a dog and quite confident that it is definitely not a plane nor a car, with predictions for cow and cat being moderately high.\n",
    "\n",
    "So the model not only has learned to recognize a dog in the image, but also that a dog is very different from a car and a plane and share similarities with cats and cows. This information is what is called **dark knowledge** !"
   ]
  },
  {
   "cell_type": "markdown",
   "id": "acoustic-confusion",
   "metadata": {},
   "source": [
    "When passing those predictions through a softmax, we have:"
   ]
  },
  {
   "cell_type": "code",
   "execution_count": null,
   "id": "industrial-binding",
   "metadata": {},
   "outputs": [
    {
     "data": {
      "text/plain": [
       "tensor([0.1063, 0.6431, 0.0354, 0.1937, 0.0215])"
      ]
     },
     "execution_count": null,
     "metadata": {},
     "output_type": "execute_result"
    }
   ],
   "source": [
    "predictions = F.softmax(logits, dim=-1); predictions"
   ]
  },
  {
   "cell_type": "markdown",
   "id": "minus-shell",
   "metadata": {},
   "source": [
    "This is accuenting the differences that we had earlier, discarding some of the dark knowledge acquired earlier. The way to keep this knowledge is to \"soften\" our softmax outputs, by adding a **temperature** parameter. The higher the temperature, the softer the predictions."
   ]
  },
  {
   "cell_type": "code",
   "execution_count": null,
   "id": "aware-grounds",
   "metadata": {},
   "outputs": [
    {
     "data": {
      "text/plain": [
       "tensor([0.1879, 0.3423, 0.1302, 0.2294, 0.1102])"
      ]
     },
     "execution_count": null,
     "metadata": {},
     "output_type": "execute_result"
    }
   ],
   "source": [
    "soft_predictions = F.softmax(logits/3, dim=-1); soft_predictions"
   ]
  },
  {
   "cell_type": "markdown",
   "id": "tropical-recipient",
   "metadata": {},
   "source": [
    ":::{.callout-note}\n",
    "\n",
    "if the Temperature is equal to 1, then we have regular softmax\n",
    "\n",
    ":::"
   ]
  },
  {
   "cell_type": "markdown",
   "id": "israeli-senate",
   "metadata": {},
   "source": [
    "When applying Knowledge Distillation, we want to keep the **Dark Knowledge** that the teacher model has acquired during its training but not rely entirely on it. So we combine two losses: \n",
    "\n",
    "- The Teacher loss between the softened predictions of the teacher and the softened predictions of the student\n",
    "- The Classification loss, which is the regular loss between hard labels and hard predictions\n",
    "\n",
    "The combination between those losses are weighted by an additional parameter α, as:\n",
    "\n",
    "$$\n",
    "L_{K D}=\\alpha  * \\text { CrossEntropy }\\left(p_{S}^{\\tau}, p_{T}^{\\tau}\\right)+(1-\\alpha) * \\text { CrossEntropy }\\left(p_{S}, y_{\\text {true }}\\right)\n",
    "$$\n",
    "\n",
    "With $p^{\\tau}$ being the softened predictions of the student and teacher"
   ]
  },
  {
   "cell_type": "markdown",
   "id": "naughty-pulse",
   "metadata": {},
   "source": [
    ":::{.callout-note}\n",
    "\n",
    "In practice, the distillation loss will be a [bit different](http://cs230.stanford.edu/files_winter_2018/projects/6940224.pdf) in the implementation\n",
    "\n",
    ":::"
   ]
  },
  {
   "cell_type": "markdown",
   "id": "strong-hepatitis",
   "metadata": {},
   "source": [
    "![](../imgs/distill.png \"Knowledge Distillation\")"
   ]
  },
  {
   "cell_type": "code",
   "execution_count": null,
   "id": "numerous-insulin",
   "metadata": {},
   "outputs": [],
   "source": [
    "#| export\n",
    "from fastai.vision.all import *\n",
    "\n",
    "import torch\n",
    "import torch.nn as nn\n",
    "import torch.nn.functional as F\n",
    "\n",
    "from functools import reduce\n",
    "from typing import Union"
   ]
  },
  {
   "cell_type": "markdown",
   "id": "large-hardware",
   "metadata": {},
   "source": [
    "This can be done with fastai, using the Callback system !"
   ]
  },
  {
   "cell_type": "code",
   "execution_count": null,
   "id": "03eeecbf",
   "metadata": {},
   "outputs": [],
   "source": [
    "#| export\n",
    "class KnowledgeDistillationCallback(Callback):\n",
    "    def __init__(self, \n",
    "                 teacher: nn.Module,                                           # Teacher model\n",
    "                 loss: Callable,                                               # Distillation loss function\n",
    "                 activations_student: Optional[Union[str, List[str]]] = None,  # Student activation layers to match\n",
    "                 activations_teacher: Optional[Union[str, List[str]]] = None,  # Teacher activation layers to match\n",
    "                 weight: float = 0.5                                           # Weight for distillation loss\n",
    "):\n",
    "        \"Implement knowledge distillation from a teacher model to the student being trained\"\n",
    "        self.stored_activation_student, self.stored_activation_teacher  = {}, {}\n",
    "        store_attr()\n",
    "        if self.activations_student is not None:\n",
    "            self.activations_student, self.activations_teacher = listify(activations_student), listify(activations_teacher)\n",
    "        \n",
    "    def before_fit(self):\n",
    "        \"Setup hooks and prepare teacher before training\"\n",
    "        if self.activations_student and self.activations_teacher : self.register_hooks()\n",
    "        self.teacher.eval()\n",
    "\n",
    "    def after_batch(self):\n",
    "        \"Clear activations after each batch to prevent memory buildup\"\n",
    "        self.stored_activation_student.clear()\n",
    "        self.stored_activation_teacher.clear()\n",
    "\n",
    "    def after_loss(self):\n",
    "        \"Apply distillation loss using teacher predictions\"\n",
    "        teacher_pred = self.teacher(self.x)\n",
    "        new_loss = self.loss(pred=self.pred, teacher_pred=teacher_pred, fm_s=self.stored_activation_student, fm_t=self.stored_activation_teacher)\n",
    "        self.learn.loss_grad = torch.lerp(self.learn.loss_grad, new_loss, self.weight)\n",
    "        self.learn.loss = self.learn.loss_grad.clone()\n",
    "    \n",
    "    def register_hooks(self):\n",
    "        \"Set up forward hooks to capture activations\"\n",
    "        self.handles_st, self.handles_t = {}, {}\n",
    "        for name_st, name_t in zip(self.activations_student, self.activations_teacher):\n",
    "            self.handles_st[name_st] = get_module_by_name(self.learn, name_st).register_forward_hook(self.get_activation(self.stored_activation_student, name_st))\n",
    "            self.handles_t[name_t] = get_module_by_name(self.teacher, name_t).register_forward_hook(self.get_activation(self.stored_activation_teacher, name_t))\n",
    "        \n",
    "    def get_activation(self, \n",
    "                       activation: Dict[str, torch.Tensor],  # Dictionary to store activations\n",
    "                       name: str                            # Name of the layer\n",
    "        ):\n",
    "        \"Create a hook function to store activations\"\n",
    "        def hook(model, input, output):\n",
    "            activation[name] = output\n",
    "        return hook\n",
    "    \n",
    "    def find_hook(self, \n",
    "                  m: nn.Module\n",
    "    ) -> List[Tuple[str, int, str]]:\n",
    "        \"Find all hooks registered in a module\"\n",
    "        save = []\n",
    "        module_name = type(m).__name__\n",
    "        for k, v in m._forward_hooks.items():\n",
    "            save.append((module_name, k, v.__name__))\n",
    "        return save\n",
    "    \n",
    "    def remove_hooks(self, \n",
    "                     handles: Dict[str, Any]\n",
    "    )-> None:\n",
    "        \"Remove all registered hooks\"\n",
    "        for k, v in handles.items():\n",
    "            handles[k].remove()\n",
    "    \n",
    "    def after_fit(self):\n",
    "        \"Clean up hooks after training\"\n",
    "        if self.activations_student and self.activations_teacher:\n",
    "            self.remove_hooks(self.handles_t)\n",
    "            self.remove_hooks(self.handles_st)"
   ]
  },
  {
   "cell_type": "code",
   "execution_count": null,
   "id": "7e012122",
   "metadata": {},
   "outputs": [
    {
     "data": {
      "text/markdown": [
       "---\n",
       "\n",
       "[source](https://github.com/FasterAI-Labs/fasterai/tree/master/blob/master/fasterai/distill/distillation_callback.py#L18){target=\"_blank\" style=\"float:right; font-size:smaller\"}\n",
       "\n",
       "### KnowledgeDistillationCallback\n",
       "\n",
       ">      KnowledgeDistillationCallback (teacher:torch.nn.modules.module.Module,\n",
       ">                                     loss:Callable, activations_student:Union[L\n",
       ">                                     ist[str],str,NoneType]=None, activations_t\n",
       ">                                     eacher:Union[List[str],str,NoneType]=None,\n",
       ">                                     weight:float=0.5)\n",
       "\n",
       "*Basic class handling tweaks of the training loop by changing a `Learner` in various events*"
      ],
      "text/plain": [
       "---\n",
       "\n",
       "[source](https://github.com/FasterAI-Labs/fasterai/tree/master/blob/master/fasterai/distill/distillation_callback.py#L18){target=\"_blank\" style=\"float:right; font-size:smaller\"}\n",
       "\n",
       "### KnowledgeDistillationCallback\n",
       "\n",
       ">      KnowledgeDistillationCallback (teacher:torch.nn.modules.module.Module,\n",
       ">                                     loss:Callable, activations_student:Union[L\n",
       ">                                     ist[str],str,NoneType]=None, activations_t\n",
       ">                                     eacher:Union[List[str],str,NoneType]=None,\n",
       ">                                     weight:float=0.5)\n",
       "\n",
       "*Basic class handling tweaks of the training loop by changing a `Learner` in various events*"
      ]
     },
     "execution_count": null,
     "metadata": {},
     "output_type": "execute_result"
    }
   ],
   "source": [
    "show_doc(KnowledgeDistillationCallback)"
   ]
  },
  {
   "cell_type": "code",
   "execution_count": null,
   "id": "3378f3af",
   "metadata": {},
   "outputs": [],
   "source": [
    "#| export\n",
    "def get_model_layers(\n",
    "    model: nn.Module,             # Model to inspect\n",
    "    getLayerRepr: bool = False    # Whether to return layer representations\n",
    ") -> Union[List[str], Dict[str, str]]:\n",
    "    \"Get all layer names in a model, optionally with their representations\"\n",
    "    layers = OrderedDict() if getLayerRepr else []\n",
    "    \n",
    "    def get_layers(net, prefix=[]):\n",
    "        if hasattr(net, \"_modules\"):\n",
    "            for name, layer in net._modules.items():\n",
    "                if layer is None:\n",
    "                    continue\n",
    "                if getLayerRepr:\n",
    "                    layers[\".\".join(prefix+[name])] = layer.__repr__()\n",
    "                else:\n",
    "                    layers.append(\".\".join(prefix + [name]))\n",
    "                get_layers(layer, prefix=prefix+[name])\n",
    "\n",
    "    get_layers(model)\n",
    "    return layers\n",
    "\n",
    "\n",
    "\n",
    "def get_module_by_name(\n",
    "    module: Union[torch.Tensor, nn.Module],  # Module to search in\n",
    "    access_string: str                       # Dot-separated path to the submodule\n",
    ") -> Optional[nn.Module]:\n",
    "    \"Access a nested submodule by its name path\"\n",
    "    try:\n",
    "        names = access_string.split(sep='.')\n",
    "        return reduce(getattr, names, module)\n",
    "    except AttributeError:\n",
    "        return None"
   ]
  },
  {
   "cell_type": "markdown",
   "id": "9e2adffb",
   "metadata": {},
   "source": [
    "The loss function that is used may depend on the use case. For classification, we usually use the one presented above, named `SoftTarget` in fasterai. But for regression cases, we may want to perform regression on the logits directly."
   ]
  },
  {
   "cell_type": "code",
   "execution_count": null,
   "id": "3b2b226c",
   "metadata": {},
   "outputs": [],
   "source": [
    "#| export\n",
    "def SoftTarget(pred, teacher_pred, T=5, **kwargs):\n",
    "    \"Knowledge distillation with softened distributions (Hinton et al.)\"\n",
    "    return nn.KLDivLoss(reduction='batchmean')(F.log_softmax(pred/T, dim=1), F.softmax(teacher_pred/T, dim=1)) * (T*T)\n",
    "\n",
    "def Logits(pred, teacher_pred, **kwargs):\n",
    "    \"Direct logit matching between student and teacher\"\n",
    "    return F.mse_loss(pred, teacher_pred)\n",
    "\n",
    "def Mutual(pred, teacher_pred, **kwargs):\n",
    "    \"KL divergence between student and teacher, with standard temperature\"\n",
    "    return nn.KLDivLoss(reduction='batchmean')(F.log_softmax(pred, dim=1), F.softmax(teacher_pred, dim=1))\n",
    "\n",
    "\n",
    "def Attention(fm_s, fm_t, p=2, **kwargs):\n",
    "    \"Attention transfer loss between student and teacher (Zagoruyko & Komodakis)\"\n",
    "    return sum([F.mse_loss(F.normalize(fm_s[name_st].pow(p).mean(1),dim=(1,2)), F.normalize(fm_t[name_t].pow(p).mean(1),dim=(1,2))) for name_st, name_t in zip(fm_s, fm_t)])\n",
    "\n",
    "def ActivationBoundaries(fm_s, fm_t, m=2, **kwargs):\n",
    "    \"Boundary-based knowledge distillation (Heo et al.)\"\n",
    "    return sum([((fm_s[name_st] + m).pow(2) * ((fm_s[name_st] > -m) & (fm_t[name_t] <= 0)).float() + (fm_s[name_st] - m).pow(2) * ((fm_s[name_st] <= m) & (fm_t[name_t] > 0)).float()).mean() for name_st, name_t in zip(fm_s, fm_t)])\n",
    "\n",
    "def FitNet(fm_s, fm_t, **kwargs):\n",
    "    \"FitNets: direct feature map matching (Romero et al.)\"\n",
    "    return sum([F.mse_loss(fm_s[name_st],fm_t[name_t]) for name_st, name_t in zip(fm_s, fm_t)])\n",
    "\n",
    "def Similarity(fm_s, fm_t, pred, p=2, **kwargs):\n",
    "    \"Similarity-preserving knowledge distillation (Tung & Mori)\"\n",
    "    return sum([F.mse_loss(F.normalize(fm_s[name_st].view(fm_s[name_st].size(0), -1) @ fm_s[name_st].view(fm_s[name_st].size(0), -1).t(), p=p, dim=1), F.normalize(fm_t[name_t].view(fm_t[name_t].size(0), -1) @ fm_t[name_t].view(fm_t[name_t].size(0), -1).t(), p=p, dim=1)) for name_st, name_t in zip(fm_s, fm_t)])"
   ]
  },
  {
   "cell_type": "code",
   "execution_count": null,
   "id": "f23f72f3-9a5a-4605-8996-6e49e70fc6f2",
   "metadata": {},
   "outputs": [],
   "source": []
  }
 ],
 "metadata": {
  "kernelspec": {
   "display_name": "python3",
   "language": "python",
   "name": "python3"
  }
 },
 "nbformat": 4,
 "nbformat_minor": 5
}
