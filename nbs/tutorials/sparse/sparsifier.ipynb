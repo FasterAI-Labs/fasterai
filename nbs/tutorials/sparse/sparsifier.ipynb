{
 "cells": [
  {
   "cell_type": "raw",
   "id": "a5e2bf94",
   "metadata": {},
   "source": [
    "---\n",
    "description: Make your neural network sparse with fastai\n",
    "output-file: tutorial.sparsifier.html\n",
    "title: Sparsifier\n",
    "skip_showdoc: true\n",
    "skip_exec: true\n",
    "---"
   ]
  },
  {
   "cell_type": "code",
   "execution_count": null,
   "id": "2f1af834",
   "metadata": {},
   "outputs": [],
   "source": [
    "#| include: false\n",
    "from nbdev.showdoc import *"
   ]
  },
  {
   "cell_type": "code",
   "execution_count": null,
   "id": "dc55cab5",
   "metadata": {},
   "outputs": [],
   "source": [
    "#| include: false\n",
    "import numpy as np\n",
    "import torch\n",
    "import torch.nn as nn\n",
    "from fasterai.sparse.all import *\n",
    "from fastai.vision.all import *"
   ]
  },
  {
   "cell_type": "code",
   "execution_count": null,
   "id": "d7b162e6",
   "metadata": {},
   "outputs": [],
   "source": [
    "#| include: false\n",
    "from torchvision.utils import make_grid\n",
    "import matplotlib.pyplot as plt"
   ]
  },
  {
   "cell_type": "markdown",
   "id": "d1fa5f13",
   "metadata": {},
   "source": [
    "A sparse vector, as opposed to a dense one, is a vector which contains a lot of zeroes. When we speak about making a neural network sparse, we thus mean that the network's weight are mostly zeroes.\n",
    "\n",
    "With fasterai, you can do that thanks to the `Sparsifier` class."
   ]
  },
  {
   "cell_type": "markdown",
   "id": "d5ff169d",
   "metadata": {},
   "source": [
    "Let's start by creating a model"
   ]
  },
  {
   "cell_type": "code",
   "execution_count": null,
   "id": "2b2cb008",
   "metadata": {},
   "outputs": [],
   "source": [
    "model = resnet18()"
   ]
  },
  {
   "cell_type": "markdown",
   "id": "9fef1635",
   "metadata": {},
   "source": [
    "As you probably know, weights in a convolutional neural network have 4 dimensions ($ c_{out} \\times c_{in} \\times k_h \\times k_w$)"
   ]
  },
  {
   "cell_type": "code",
   "execution_count": null,
   "id": "1eea3185",
   "metadata": {},
   "outputs": [
    {
     "data": {
      "text/plain": [
       "4"
      ]
     },
     "execution_count": null,
     "metadata": {},
     "output_type": "execute_result"
    }
   ],
   "source": [
    "model.conv1.weight.ndim"
   ]
  },
  {
   "cell_type": "code",
   "execution_count": null,
   "id": "8348f683",
   "metadata": {},
   "outputs": [],
   "source": [
    "#| include: false\n",
    "def plot_kernels(layer, save=None):\n",
    "    kernels = abs(layer.weight.detach().clone())\n",
    "    kernels = kernels - kernels.min()\n",
    "    kernels = kernels/kernels.max()\n",
    "    \n",
    "    #plt.figure(figsize=(10,10))\n",
    "    fig, ax = plt.subplots(1, 1, figsize=(10,10), dpi=100)\n",
    "    fig.patch.set_alpha(0.)\n",
    "    ax.patch.set_alpha(0.)\n",
    "    img = make_grid(kernels, nrow=8, padding=1, pad_value=0.137)\n",
    "    plt.axis('off')\n",
    "    plt.imshow(img.detach().permute(1,2,0).cpu())\n",
    "    if save: plt.savefig(f'{save}.pdf')"
   ]
  },
  {
   "cell_type": "markdown",
   "id": "f615fd57",
   "metadata": {},
   "source": [
    "In the case of ResNet18, the dimension of the first layer weights is $64 \\times 3 \\times 7 \\times 7$. We thus can plot each of the $64$ filter as a $7 \\times 7$ color image (because they contains $3$ channels)."
   ]
  },
  {
   "cell_type": "code",
   "execution_count": null,
   "id": "cb0f18d7",
   "metadata": {},
   "outputs": [
    {
     "data": {
      "image/png": "[encoded data removed]",
      "text/plain": [
       "<Figure size 1000x1000 with 1 Axes>"
      ]
     },
     "metadata": {
      "needs_background": "light"
     },
     "output_type": "display_data"
    }
   ],
   "source": [
    "plot_kernels(model.conv1)"
   ]
  },
  {
   "cell_type": "markdown",
   "id": "5e0fad58",
   "metadata": {},
   "source": [
    "The `Sparsifier` class allows us to remove some (part of) the filters, that are considered to be less useful than others. This can be done by first creating an instance of the class, specifying:\n",
    "\n",
    "- The `granularity`, i.e. the part of filters that you want to remove. Typically, we usually remove weights, vectors, kernels or even complete filters.\n",
    "- The `context`, i.e. if you want to consider each layer independently (`local`), or compare the parameters to remove across the whole network (`global`).\n",
    "- The `criteria`, i.e. the way to assess the usefulness of a parameter. Common methods compare parameters using their magnitude, the lowest magnitude ones considered to be less useful."
   ]
  },
  {
   "cell_type": "markdown",
   "id": "021c701d",
   "metadata": {},
   "source": [
    "User can pass a single layer to prune by using the  `Sparsifier.sparsify_layer` method."
   ]
  },
  {
   "cell_type": "code",
   "execution_count": null,
   "id": "c0537d0c-2122-41ca-bc8a-ca880bfb9881",
   "metadata": {},
   "outputs": [
    {
     "data": {
      "text/markdown": [
       "---\n",
       "\n",
       "[source](https://github.com/FasterAI-Labs/fasterai/tree/master/blob/master/fasterai/sparse/sparsifier.py#LNone){target=\"_blank\" style=\"float:right; font-size:smaller\"}\n",
       "\n",
       "### Sparsifier.sparsify_layer\n",
       "\n",
       ">      Sparsifier.sparsify_layer (m:torch.nn.modules.module.Module,\n",
       ">                                 sparsity:float, round_to:Optional[int]=None)\n",
       "\n",
       "*Apply sparsification to a single layer*\n",
       "\n",
       "|    | **Type** | **Default** | **Details** |\n",
       "| -- | -------- | ----------- | ----------- |\n",
       "| m | Module |  | The layer to sparsify |\n",
       "| sparsity | float |  | Target sparsity level (percentage) |\n",
       "| round_to | Optional | None | Round to a multiple of this value |\n",
       "| **Returns** | **None** |  |  |"
      ],
      "text/plain": [
       "---\n",
       "\n",
       "[source](https://github.com/FasterAI-Labs/fasterai/tree/master/blob/master/fasterai/sparse/sparsifier.py#LNone){target=\"_blank\" style=\"float:right; font-size:smaller\"}\n",
       "\n",
       "### Sparsifier.sparsify_layer\n",
       "\n",
       ">      Sparsifier.sparsify_layer (m:torch.nn.modules.module.Module,\n",
       ">                                 sparsity:float, round_to:Optional[int]=None)\n",
       "\n",
       "*Apply sparsification to a single layer*\n",
       "\n",
       "|    | **Type** | **Default** | **Details** |\n",
       "| -- | -------- | ----------- | ----------- |\n",
       "| m | Module |  | The layer to sparsify |\n",
       "| sparsity | float |  | Target sparsity level (percentage) |\n",
       "| round_to | Optional | None | Round to a multiple of this value |\n",
       "| **Returns** | **None** |  |  |"
      ]
     },
     "execution_count": null,
     "metadata": {},
     "output_type": "execute_result"
    }
   ],
   "source": [
    "show_doc(Sparsifier.sparsify_layer)"
   ]
  },
  {
   "cell_type": "code",
   "execution_count": null,
   "id": "37c9bb3e",
   "metadata": {},
   "outputs": [],
   "source": [
    "model = resnet18()\n",
    "sparsifier = Sparsifier(model, 'filter', 'local', large_final)\n",
    "sparsifier.sparsify_layer(model.conv1, 70)"
   ]
  },
  {
   "cell_type": "code",
   "execution_count": null,
   "id": "9549852d",
   "metadata": {},
   "outputs": [
    {
     "name": "stdout",
     "output_type": "stream",
     "text": [
      "\n",
      "Sparsity Report:\n",
      "--------------------------------------------------------------------------------\n",
      "Layer                Type            Params     Zeros      Sparsity  \n",
      "--------------------------------------------------------------------------------\n",
      "Layer 1              Conv2d          9,408      6,615         70.31%\n",
      "Layer 7              Conv2d          36,864     0              0.00%\n",
      "Layer 10             Conv2d          36,864     0              0.00%\n",
      "Layer 13             Conv2d          36,864     0              0.00%\n",
      "Layer 16             Conv2d          36,864     0              0.00%\n",
      "Layer 20             Conv2d          73,728     0              0.00%\n",
      "Layer 23             Conv2d          147,456    0              0.00%\n",
      "Layer 26             Conv2d          8,192      0              0.00%\n",
      "Layer 29             Conv2d          147,456    0              0.00%\n",
      "Layer 32             Conv2d          147,456    0              0.00%\n",
      "Layer 36             Conv2d          294,912    0              0.00%\n",
      "Layer 39             Conv2d          589,824    0              0.00%\n",
      "Layer 42             Conv2d          32,768     0              0.00%\n",
      "Layer 45             Conv2d          589,824    0              0.00%\n",
      "Layer 48             Conv2d          589,824    0              0.00%\n",
      "Layer 52             Conv2d          1,179,648  0              0.00%\n",
      "Layer 55             Conv2d          2,359,296  0              0.00%\n",
      "Layer 58             Conv2d          131,072    0              0.00%\n",
      "Layer 61             Conv2d          2,359,296  0              0.00%\n",
      "Layer 64             Conv2d          2,359,296  0              0.00%\n",
      "--------------------------------------------------------------------------------\n",
      "Overall              all             11,166,912 6,615          0.06%\n"
     ]
    }
   ],
   "source": [
    "sparsifier.print_sparsity()"
   ]
  },
  {
   "cell_type": "markdown",
   "id": "73f24aa0",
   "metadata": {},
   "source": [
    "Most of the time, we may want to prune the whole model at once, using the `Sparsifier.sparsify_model` method, indicating the percentage of sparsity to you want to apply."
   ]
  },
  {
   "cell_type": "code",
   "execution_count": null,
   "id": "bf6728d3",
   "metadata": {},
   "outputs": [
    {
     "data": {
      "text/markdown": [
       "---\n",
       "\n",
       "[source](https://github.com/FasterAI-Labs/fasterai/tree/master/blob/master/fasterai/sparse/sparsifier.py#LNone){target=\"_blank\" style=\"float:right; font-size:smaller\"}\n",
       "\n",
       "### Sparsifier.sparsify_model\n",
       "\n",
       ">      Sparsifier.sparsify_model (sparsity:Union[float,List[float]],\n",
       ">                                 round_to:Optional[int]=None)\n",
       "\n",
       "*Apply sparsification to all matching layers in the model*\n",
       "\n",
       "|    | **Type** | **Default** | **Details** |\n",
       "| -- | -------- | ----------- | ----------- |\n",
       "| sparsity | Union |  | Target sparsity level(s) |\n",
       "| round_to | Optional | None | Round to a multiple of this value |\n",
       "| **Returns** | **None** |  |  |"
      ],
      "text/plain": [
       "---\n",
       "\n",
       "[source](https://github.com/FasterAI-Labs/fasterai/tree/master/blob/master/fasterai/sparse/sparsifier.py#LNone){target=\"_blank\" style=\"float:right; font-size:smaller\"}\n",
       "\n",
       "### Sparsifier.sparsify_model\n",
       "\n",
       ">      Sparsifier.sparsify_model (sparsity:Union[float,List[float]],\n",
       ">                                 round_to:Optional[int]=None)\n",
       "\n",
       "*Apply sparsification to all matching layers in the model*\n",
       "\n",
       "|    | **Type** | **Default** | **Details** |\n",
       "| -- | -------- | ----------- | ----------- |\n",
       "| sparsity | Union |  | Target sparsity level(s) |\n",
       "| round_to | Optional | None | Round to a multiple of this value |\n",
       "| **Returns** | **None** |  |  |"
      ]
     },
     "execution_count": null,
     "metadata": {},
     "output_type": "execute_result"
    }
   ],
   "source": [
    "show_doc(Sparsifier.sparsify_model)"
   ]
  },
  {
   "cell_type": "markdown",
   "id": "562427b7",
   "metadata": {},
   "source": [
    "There are several ways in which we can make that first layer sparse. You will find the most important below:"
   ]
  },
  {
   "cell_type": "code",
   "execution_count": null,
   "id": "babade1d",
   "metadata": {},
   "outputs": [],
   "source": [
    "model = resnet18()\n",
    "sparsifier = Sparsifier(model, 'weight', 'local', large_final)\n",
    "sparsifier.sparsify_model(70)"
   ]
  },
  {
   "cell_type": "code",
   "execution_count": null,
   "id": "4b42d1bf",
   "metadata": {},
   "outputs": [
    {
     "name": "stdout",
     "output_type": "stream",
     "text": [
      "\n",
      "Sparsity Report:\n",
      "--------------------------------------------------------------------------------\n",
      "Layer                Type            Params     Zeros      Sparsity  \n",
      "--------------------------------------------------------------------------------\n",
      "Layer 1              Conv2d          9,408      6,585         69.99%\n",
      "Layer 7              Conv2d          36,864     25,805        70.00%\n",
      "Layer 10             Conv2d          36,864     25,805        70.00%\n",
      "Layer 13             Conv2d          36,864     25,805        70.00%\n",
      "Layer 16             Conv2d          36,864     25,805        70.00%\n",
      "Layer 20             Conv2d          73,728     51,609        70.00%\n",
      "Layer 23             Conv2d          147,456    103,219       70.00%\n",
      "Layer 26             Conv2d          8,192      5,734         70.00%\n",
      "Layer 29             Conv2d          147,456    103,219       70.00%\n",
      "Layer 32             Conv2d          147,456    103,219       70.00%\n",
      "Layer 36             Conv2d          294,912    206,438       70.00%\n",
      "Layer 39             Conv2d          589,824    412,877       70.00%\n",
      "Layer 42             Conv2d          32,768     22,937        70.00%\n",
      "Layer 45             Conv2d          589,824    412,877       70.00%\n",
      "Layer 48             Conv2d          589,824    412,877       70.00%\n",
      "Layer 52             Conv2d          1,179,648  825,753       70.00%\n",
      "Layer 55             Conv2d          2,359,296  1,651,507     70.00%\n",
      "Layer 58             Conv2d          131,072    91,750        70.00%\n",
      "Layer 61             Conv2d          2,359,296  1,651,506     70.00%\n",
      "Layer 64             Conv2d          2,359,296  1,651,507     70.00%\n",
      "--------------------------------------------------------------------------------\n",
      "Overall              all             11,166,912 7,816,834     70.00%\n"
     ]
    }
   ],
   "source": [
    "sparsifier.print_sparsity()"
   ]
  },
  {
   "cell_type": "markdown",
   "id": "3be5ac3a",
   "metadata": {},
   "source": [
    "You now have a model that is $70\\%$ sparse ! "
   ]
  },
  {
   "cell_type": "markdown",
   "id": "5f7feb0e",
   "metadata": {},
   "source": [
    "## Granularity"
   ]
  },
  {
   "cell_type": "markdown",
   "id": "3b9826d8",
   "metadata": {},
   "source": [
    "As we said earlier, the `granularity` defines the structure of parameter that you will remove."
   ]
  },
  {
   "cell_type": "markdown",
   "id": "ef302926",
   "metadata": {},
   "source": [
    "In the example below, we removed `weight` from each convolutional filter, meaning that we now have sparse filters, as can be seen in the image below:"
   ]
  },
  {
   "cell_type": "code",
   "execution_count": null,
   "id": "f94e550e",
   "metadata": {},
   "outputs": [
    {
     "data": {
      "image/png": "[encoded data removed]",
      "text/plain": [
       "<Figure size 1000x1000 with 1 Axes>"
      ]
     },
     "metadata": {
      "needs_background": "light"
     },
     "output_type": "display_data"
    }
   ],
   "source": [
    "plot_kernels(model.conv1)"
   ]
  },
  {
   "cell_type": "markdown",
   "id": "777aed15",
   "metadata": {},
   "source": [
    "Another granularity is, for example, removing `column` vectors from the filters. To do so, just change the granularity parameter accordingly."
   ]
  },
  {
   "cell_type": "code",
   "execution_count": null,
   "id": "2fa9a4f4",
   "metadata": {},
   "outputs": [],
   "source": [
    "model = resnet18()\n",
    "sparsifier = Sparsifier(model, 'column', 'local', large_final)\n",
    "sparsifier.sparsify_layer(model.conv1, 70)"
   ]
  },
  {
   "cell_type": "code",
   "execution_count": null,
   "id": "4ded77d1",
   "metadata": {},
   "outputs": [
    {
     "data": {
      "image/png": "[encoded data removed]",
      "text/plain": [
       "<Figure size 1000x1000 with 1 Axes>"
      ]
     },
     "metadata": {
      "needs_background": "light"
     },
     "output_type": "display_data"
    }
   ],
   "source": [
    "plot_kernels(model.conv1)"
   ]
  },
  {
   "cell_type": "markdown",
   "id": "de2c19bd",
   "metadata": {},
   "source": [
    "For more information and examples about the pruning granularities, I suggest you to take a look at the [corresponding section](https://nathanhubens.github.io/fasterai/granularity.html)."
   ]
  },
  {
   "cell_type": "markdown",
   "id": "665a5174",
   "metadata": {},
   "source": [
    "## Context"
   ]
  },
  {
   "cell_type": "markdown",
   "id": "ed4a4bed",
   "metadata": {},
   "source": [
    "The context defines where to look in the model, i.e. from where do we compare weight. The two basic contexts are:\n",
    "* local, i.e. we compare weight from each layer individually. This will lead to layers with similar levels of sparsity.\n",
    "* global, i.e. we compare weight from the whole model. This will lead to layers with different levels of sparsity"
   ]
  },
  {
   "cell_type": "code",
   "execution_count": null,
   "id": "a94e37c8",
   "metadata": {},
   "outputs": [],
   "source": [
    "model = resnet18()\n",
    "sparsifier = Sparsifier(model, 'weight', 'local', large_final)\n",
    "sparsifier.sparsify_model(70)"
   ]
  },
  {
   "cell_type": "code",
   "execution_count": null,
   "id": "032923fc",
   "metadata": {},
   "outputs": [
    {
     "name": "stdout",
     "output_type": "stream",
     "text": [
      "\n",
      "Sparsity Report:\n",
      "--------------------------------------------------------------------------------\n",
      "Layer                Type            Params     Zeros      Sparsity  \n",
      "--------------------------------------------------------------------------------\n",
      "Layer 1              Conv2d          9,408      6,585         69.99%\n",
      "Layer 7              Conv2d          36,864     25,805        70.00%\n",
      "Layer 10             Conv2d          36,864     25,805        70.00%\n",
      "Layer 13             Conv2d          36,864     25,805        70.00%\n",
      "Layer 16             Conv2d          36,864     25,805        70.00%\n",
      "Layer 20             Conv2d          73,728     51,609        70.00%\n",
      "Layer 23             Conv2d          147,456    103,219       70.00%\n",
      "Layer 26             Conv2d          8,192      5,734         70.00%\n",
      "Layer 29             Conv2d          147,456    103,219       70.00%\n",
      "Layer 32             Conv2d          147,456    103,219       70.00%\n",
      "Layer 36             Conv2d          294,912    206,438       70.00%\n",
      "Layer 39             Conv2d          589,824    412,876       70.00%\n",
      "Layer 42             Conv2d          32,768     22,937        70.00%\n",
      "Layer 45             Conv2d          589,824    412,877       70.00%\n",
      "Layer 48             Conv2d          589,824    412,877       70.00%\n",
      "Layer 52             Conv2d          1,179,648  825,753       70.00%\n",
      "Layer 55             Conv2d          2,359,296  1,651,507     70.00%\n",
      "Layer 58             Conv2d          131,072    91,750        70.00%\n",
      "Layer 61             Conv2d          2,359,296  1,651,507     70.00%\n",
      "Layer 64             Conv2d          2,359,296  1,651,507     70.00%\n",
      "--------------------------------------------------------------------------------\n",
      "Overall              all             11,166,912 7,816,834     70.00%\n"
     ]
    }
   ],
   "source": [
    "sparsifier.print_sparsity()"
   ]
  },
  {
   "cell_type": "code",
   "execution_count": null,
   "id": "05148051",
   "metadata": {},
   "outputs": [],
   "source": [
    "model = resnet18()\n",
    "sparsifier = Sparsifier(model, 'weight', 'global', large_final)\n",
    "sparsifier.sparsify_model(70)"
   ]
  },
  {
   "cell_type": "code",
   "execution_count": null,
   "id": "e3676822",
   "metadata": {},
   "outputs": [
    {
     "name": "stdout",
     "output_type": "stream",
     "text": [
      "\n",
      "Sparsity Report:\n",
      "--------------------------------------------------------------------------------\n",
      "Layer                Type            Params     Zeros      Sparsity  \n",
      "--------------------------------------------------------------------------------\n",
      "Layer 1              Conv2d          9,408      6,340         67.39%\n",
      "Layer 7              Conv2d          36,864     11,874        32.21%\n",
      "Layer 10             Conv2d          36,864     11,788        31.98%\n",
      "Layer 13             Conv2d          36,864     11,761        31.90%\n",
      "Layer 16             Conv2d          36,864     11,882        32.23%\n",
      "Layer 20             Conv2d          73,728     32,673        44.32%\n",
      "Layer 23             Conv2d          147,456    65,162        44.19%\n",
      "Layer 26             Conv2d          8,192      1,239         15.12%\n",
      "Layer 29             Conv2d          147,456    64,940        44.04%\n",
      "Layer 32             Conv2d          147,456    65,162        44.19%\n",
      "Layer 36             Conv2d          294,912    174,317       59.11%\n",
      "Layer 39             Conv2d          589,824    350,277       59.39%\n",
      "Layer 42             Conv2d          32,768     7,123         21.74%\n",
      "Layer 45             Conv2d          589,824    349,232       59.21%\n",
      "Layer 48             Conv2d          589,824    349,235       59.21%\n",
      "Layer 52             Conv2d          1,179,648  894,622       75.84%\n",
      "Layer 55             Conv2d          2,359,296  1,789,781     75.86%\n",
      "Layer 58             Conv2d          131,072    39,957        30.48%\n",
      "Layer 61             Conv2d          2,359,296  1,789,913     75.87%\n",
      "Layer 64             Conv2d          2,359,296  1,789,559     75.85%\n",
      "--------------------------------------------------------------------------------\n",
      "Overall              all             11,166,912 7,816,837     70.00%\n"
     ]
    }
   ],
   "source": [
    "sparsifier.print_sparsity()"
   ]
  },
  {
   "cell_type": "markdown",
   "id": "7153679f",
   "metadata": {},
   "source": [
    "## Criteria"
   ]
  },
  {
   "cell_type": "markdown",
   "id": "8832c032",
   "metadata": {},
   "source": [
    "The `criteria` defines how we select the parameters to remove. It is usually given by a scoring method. The most common one is the `large_final`, i.e. select parameters with the highest absolute value as they are supposed to contribute the most to the final results of the model."
   ]
  },
  {
   "cell_type": "code",
   "execution_count": null,
   "id": "3448a6df",
   "metadata": {},
   "outputs": [],
   "source": [
    "model = resnet18()\n",
    "sparsifier = Sparsifier(model, 'weight', 'global', large_final)\n",
    "sparsifier.sparsify_model(70)"
   ]
  },
  {
   "cell_type": "code",
   "execution_count": null,
   "id": "7cb7446b",
   "metadata": {},
   "outputs": [
    {
     "name": "stdout",
     "output_type": "stream",
     "text": [
      "\n",
      "Sparsity Report:\n",
      "--------------------------------------------------------------------------------\n",
      "Layer                Type            Params     Zeros      Sparsity  \n",
      "--------------------------------------------------------------------------------\n",
      "Layer 1              Conv2d          9,408      6,340         67.39%\n",
      "Layer 7              Conv2d          36,864     11,870        32.20%\n",
      "Layer 10             Conv2d          36,864     11,904        32.29%\n",
      "Layer 13             Conv2d          36,864     11,784        31.97%\n",
      "Layer 16             Conv2d          36,864     11,769        31.93%\n",
      "Layer 20             Conv2d          73,728     32,861        44.57%\n",
      "Layer 23             Conv2d          147,456    64,797        43.94%\n",
      "Layer 26             Conv2d          8,192      1,265         15.44%\n",
      "Layer 29             Conv2d          147,456    65,236        44.24%\n",
      "Layer 32             Conv2d          147,456    64,946        44.04%\n",
      "Layer 36             Conv2d          294,912    174,580       59.20%\n",
      "Layer 39             Conv2d          589,824    349,429       59.24%\n",
      "Layer 42             Conv2d          32,768     6,896         21.04%\n",
      "Layer 45             Conv2d          589,824    349,440       59.24%\n",
      "Layer 48             Conv2d          589,824    350,151       59.37%\n",
      "Layer 52             Conv2d          1,179,648  894,264       75.81%\n",
      "Layer 55             Conv2d          2,359,296  1,790,074     75.87%\n",
      "Layer 58             Conv2d          131,072    40,049        30.55%\n",
      "Layer 61             Conv2d          2,359,296  1,789,386     75.84%\n",
      "Layer 64             Conv2d          2,359,296  1,789,797     75.86%\n",
      "--------------------------------------------------------------------------------\n",
      "Overall              all             11,166,912 7,816,838     70.00%\n"
     ]
    }
   ],
   "source": [
    "sparsifier.print_sparsity()"
   ]
  },
  {
   "cell_type": "code",
   "execution_count": null,
   "id": "3567d9f6",
   "metadata": {},
   "outputs": [],
   "source": [
    "model = resnet18()\n",
    "sparsifier = Sparsifier(model, 'weight', 'global', small_final)\n",
    "sparsifier.sparsify_model(70)"
   ]
  },
  {
   "cell_type": "code",
   "execution_count": null,
   "id": "515fafbf",
   "metadata": {},
   "outputs": [
    {
     "name": "stdout",
     "output_type": "stream",
     "text": [
      "\n",
      "Sparsity Report:\n",
      "--------------------------------------------------------------------------------\n",
      "Layer                Type            Params     Zeros      Sparsity  \n",
      "--------------------------------------------------------------------------------\n",
      "Layer 1              Conv2d          9,408      9,407         99.99%\n",
      "Layer 7              Conv2d          36,864     702            1.90%\n",
      "Layer 10             Conv2d          36,864     1,177          3.19%\n",
      "Layer 13             Conv2d          36,864     281            0.76%\n",
      "Layer 16             Conv2d          36,864     142            0.39%\n",
      "Layer 20             Conv2d          73,728     4,066          5.51%\n",
      "Layer 23             Conv2d          147,456    3,290          2.23%\n",
      "Layer 26             Conv2d          8,192      9              0.11%\n",
      "Layer 29             Conv2d          147,456    8,264          5.60%\n",
      "Layer 32             Conv2d          147,456    1,489          1.01%\n",
      "Layer 36             Conv2d          294,912    46,798        15.87%\n",
      "Layer 39             Conv2d          589,824    85,884        14.56%\n",
      "Layer 42             Conv2d          32,768     94             0.29%\n",
      "Layer 45             Conv2d          589,824    101,028       17.13%\n",
      "Layer 48             Conv2d          589,824    107,154       18.17%\n",
      "Layer 52             Conv2d          1,179,648  1,059,786     89.84%\n",
      "Layer 55             Conv2d          2,359,296  2,171,266     92.03%\n",
      "Layer 58             Conv2d          131,072    99             0.08%\n",
      "Layer 61             Conv2d          2,359,296  2,084,975     88.37%\n",
      "Layer 64             Conv2d          2,359,296  2,130,925     90.32%\n",
      "--------------------------------------------------------------------------------\n",
      "Overall              all             11,166,912 7,816,836     70.00%\n"
     ]
    }
   ],
   "source": [
    "sparsifier.print_sparsity()"
   ]
  },
  {
   "cell_type": "markdown",
   "id": "3307b32e",
   "metadata": {},
   "source": [
    "For more information and examples about the pruning criteria, I suggest you to take a look at the [corresponding section](https://nathanhubens.github.io/fasterai/criteria.html)."
   ]
  },
  {
   "cell_type": "markdown",
   "id": "fb5115ea",
   "metadata": {},
   "source": [
    "## Remark"
   ]
  },
  {
   "cell_type": "markdown",
   "id": "d8f22752",
   "metadata": {},
   "source": [
    "In some case, you may want to impose the remaining amount of parameters to be a multiple of 8, this can be done by passing the `round_to` parameter."
   ]
  },
  {
   "cell_type": "code",
   "execution_count": null,
   "id": "4a0452d2",
   "metadata": {},
   "outputs": [],
   "source": [
    "model = resnet18()\n",
    "sparsifier = Sparsifier(model, 'filter', 'local', large_final)\n",
    "sparsifier.sparsify_model(70, round_to=8)"
   ]
  },
  {
   "cell_type": "code",
   "execution_count": null,
   "id": "1f689e3d",
   "metadata": {},
   "outputs": [
    {
     "name": "stdout",
     "output_type": "stream",
     "text": [
      "\n",
      "Sparsity Report:\n",
      "--------------------------------------------------------------------------------\n",
      "Layer                Type            Params     Zeros      Sparsity  \n",
      "--------------------------------------------------------------------------------\n",
      "Layer 1              Conv2d          9,408      5,880         62.50%\n",
      "Layer 7              Conv2d          36,864     23,040        62.50%\n",
      "Layer 10             Conv2d          36,864     23,040        62.50%\n",
      "Layer 13             Conv2d          36,864     23,040        62.50%\n",
      "Layer 16             Conv2d          36,864     23,040        62.50%\n",
      "Layer 20             Conv2d          73,728     50,688        68.75%\n",
      "Layer 23             Conv2d          147,456    101,376       68.75%\n",
      "Layer 26             Conv2d          8,192      5,632         68.75%\n",
      "Layer 29             Conv2d          147,456    101,376       68.75%\n",
      "Layer 32             Conv2d          147,456    101,376       68.75%\n",
      "Layer 36             Conv2d          294,912    202,752       68.75%\n",
      "Layer 39             Conv2d          589,824    405,504       68.75%\n",
      "Layer 42             Conv2d          32,768     22,528        68.75%\n",
      "Layer 45             Conv2d          589,824    405,504       68.75%\n",
      "Layer 48             Conv2d          589,824    405,504       68.75%\n",
      "Layer 52             Conv2d          1,179,648  811,008       68.75%\n",
      "Layer 55             Conv2d          2,359,296  1,622,016     68.75%\n",
      "Layer 58             Conv2d          131,072    90,112        68.75%\n",
      "Layer 61             Conv2d          2,359,296  1,622,016     68.75%\n",
      "Layer 64             Conv2d          2,359,296  1,622,017     68.75%\n",
      "--------------------------------------------------------------------------------\n",
      "Overall              all             11,166,912 7,667,449     68.66%\n"
     ]
    }
   ],
   "source": [
    "sparsifier.print_sparsity()"
   ]
  },
  {
   "cell_type": "code",
   "execution_count": null,
   "id": "e2058e56",
   "metadata": {},
   "outputs": [],
   "source": [
    "model = resnet18()\n",
    "sparsifier = Sparsifier(model, 'filter', 'global', large_final)\n",
    "sparsifier.sparsify_model(70, round_to=8)"
   ]
  },
  {
   "cell_type": "code",
   "execution_count": null,
   "id": "1f058242",
   "metadata": {},
   "outputs": [
    {
     "name": "stdout",
     "output_type": "stream",
     "text": [
      "\n",
      "Sparsity Report:\n",
      "--------------------------------------------------------------------------------\n",
      "Layer                Type            Params     Zeros      Sparsity  \n",
      "--------------------------------------------------------------------------------\n",
      "Layer 1              Conv2d          9,408      8,232         87.50%\n",
      "Layer 7              Conv2d          36,864     0              0.00%\n",
      "Layer 10             Conv2d          36,864     0              0.00%\n",
      "Layer 13             Conv2d          36,864     0              0.00%\n",
      "Layer 16             Conv2d          36,864     0              0.00%\n",
      "Layer 20             Conv2d          73,728     69,120        93.75%\n",
      "Layer 23             Conv2d          147,456    138,240       93.75%\n",
      "Layer 26             Conv2d          8,192      0              0.00%\n",
      "Layer 29             Conv2d          147,456    138,240       93.75%\n",
      "Layer 32             Conv2d          147,456    129,024       87.50%\n",
      "Layer 36             Conv2d          294,912    285,696       96.88%\n",
      "Layer 39             Conv2d          589,824    571,392       96.88%\n",
      "Layer 42             Conv2d          32,768     0              0.00%\n",
      "Layer 45             Conv2d          589,824    571,392       96.88%\n",
      "Layer 48             Conv2d          589,824    571,392       96.88%\n",
      "Layer 52             Conv2d          1,179,648  1,161,216     98.44%\n",
      "Layer 55             Conv2d          2,359,296  2,322,432     98.44%\n",
      "Layer 58             Conv2d          131,072    0              0.00%\n",
      "Layer 61             Conv2d          2,359,296  2,322,432     98.44%\n",
      "Layer 64             Conv2d          2,359,296  2,322,432     98.44%\n",
      "--------------------------------------------------------------------------------\n",
      "Overall              all             11,166,912 10,611,240    95.02%\n"
     ]
    }
   ],
   "source": [
    "sparsifier.print_sparsity()"
   ]
  },
  {
   "cell_type": "markdown",
   "id": "9d380fce",
   "metadata": {},
   "source": [
    "For more information about granularities at which you can operate, please check the [related page](https://nathanhubens.github.io/fasterai/granularity.html)."
   ]
  }
 ],
 "metadata": {
  "kernelspec": {
   "display_name": "python3",
   "language": "python",
   "name": "python3"
  }
 },
 "nbformat": 4,
 "nbformat_minor": 5
}
