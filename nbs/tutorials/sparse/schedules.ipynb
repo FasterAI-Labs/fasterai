{
 "cells": [
  {
   "cell_type": "raw",
   "id": "7a3bd9e5",
   "metadata": {},
   "source": [
    "---\n",
    "description: Make your neural network sparse with fastai\n",
    "output-file: tutorial.schedules.html\n",
    "title: Schedules\n",
    "skip_showdoc: true\n",
    "skip_exec: true\n",
    "---"
   ]
  },
  {
   "cell_type": "code",
   "execution_count": null,
   "id": "figured-redhead",
   "metadata": {},
   "outputs": [],
   "source": [
    "#| include: false\n",
    "from nbdev.showdoc import *"
   ]
  },
  {
   "cell_type": "markdown",
   "id": "progressive-night",
   "metadata": {},
   "source": [
    "Neural Network Pruning usually follows one of the next 3 schedules:"
   ]
  },
  {
   "cell_type": "markdown",
   "id": "bibliographic-shannon",
   "metadata": {},
   "source": [
    "![](../../imgs/schedules.png \"Schedules\")"
   ]
  },
  {
   "cell_type": "markdown",
   "id": "clinical-fusion",
   "metadata": {},
   "source": [
    "In fasterai, all those 3 schedules can be applied from the **same** callback. We'll cover each below"
   ]
  },
  {
   "cell_type": "markdown",
   "id": "2339b363",
   "metadata": {},
   "source": [
    "In the SparsifyCallback, there are several parameters to 'shape' our pruning schedule:\n",
    "* `start_sparsity`: the initial sparsity of our model, generally kept at 0 as after initialization, our weights are generally non-zero.\n",
    "* `end_sparsity`: the target sparsity at the end of the training \n",
    "* `start_epoch`: we can decide to start pruning right from the beginning or let it train a bit before removing weights.\n",
    "* `sched_func`: this is where the general shape of the schedule is specified as it specifies how the sparsity evolves along the training. You can either use a schedule [available](https://docs.fast.ai/callback.schedule.html#Annealing) in fastai our even coming with your own !"
   ]
  },
  {
   "cell_type": "markdown",
   "id": "oriented-sherman",
   "metadata": {},
   "source": [
    "---"
   ]
  },
  {
   "cell_type": "code",
   "execution_count": null,
   "id": "martial-miller",
   "metadata": {},
   "outputs": [],
   "source": [
    "#| include: false\n",
    "from fastai.vision.all import *\n",
    "from fastai.callback.all import *\n",
    "\n",
    "from fasterai.sparse.all import *\n",
    "\n",
    "import torch\n",
    "import torch.nn as nn\n",
    "import torch.nn.functional as F\n",
    "\n",
    "import seaborn as sns\n",
    "\n",
    "sns.set(context='poster', style='white',\n",
    "        font='sans-serif', font_scale=1, color_codes=True, rc=None)"
   ]
  },
  {
   "cell_type": "code",
   "execution_count": null,
   "id": "reasonable-constraint",
   "metadata": {},
   "outputs": [],
   "source": [
    "path = untar_data(URLs.PETS)\n",
    "\n",
    "files = get_image_files(path/\"images\")\n",
    "\n",
    "def label_func(f): return f[0].isupper()\n",
    "\n",
    "device = 'cuda:0' if torch.cuda.is_available() else 'cpu'\n",
    "\n",
    "dls = ImageDataLoaders.from_name_func(path, files, label_func, item_tfms=Resize(64), device=device)"
   ]
  },
  {
   "cell_type": "markdown",
   "id": "obvious-passing",
   "metadata": {},
   "source": [
    "We will first train a network without any pruning, which will serve as a baseline."
   ]
  },
  {
   "cell_type": "code",
   "execution_count": null,
   "id": "6acdb98d",
   "metadata": {},
   "outputs": [
    {
     "data": {
      "text/html": [
       "\n",
       "<style>\n",
       "    /* Turns off some styling */\n",
       "    progress {\n",
       "        /* gets rid of default border in Firefox and Opera. */\n",
       "        border: none;\n",
       "        /* Needs to be in here for Safari polyfill so background images work as expected. */\n",
       "        background-size: auto;\n",
       "    }\n",
       "    progress:not([value]), progress:not([value])::-webkit-progress-bar {\n",
       "        background: repeating-linear-gradient(45deg, #7e7e7e, #7e7e7e 10px, #5c5c5c 10px, #5c5c5c 20px);\n",
       "    }\n",
       "    .progress-bar-interrupted, .progress-bar-interrupted::-webkit-progress-bar {\n",
       "        background: #F44336;\n",
       "    }\n",
       "</style>\n"
      ],
      "text/plain": [
       "<IPython.core.display.HTML object>"
      ]
     },
     "metadata": {},
     "output_type": "display_data"
    },
    {
     "data": {
      "text/html": [
       "<table border=\"1\" class=\"dataframe\">\n",
       "  <thead>\n",
       "    <tr style=\"text-align: left;\">\n",
       "      <th>epoch</th>\n",
       "      <th>train_loss</th>\n",
       "      <th>valid_loss</th>\n",
       "      <th>accuracy</th>\n",
       "      <th>time</th>\n",
       "    </tr>\n",
       "  </thead>\n",
       "  <tbody>\n",
       "    <tr>\n",
       "      <td>0</td>\n",
       "      <td>0.726983</td>\n",
       "      <td>0.501899</td>\n",
       "      <td>0.843031</td>\n",
       "      <td>00:03</td>\n",
       "    </tr>\n",
       "    <tr>\n",
       "      <td>1</td>\n",
       "      <td>0.447103</td>\n",
       "      <td>0.355498</td>\n",
       "      <td>0.862652</td>\n",
       "      <td>00:03</td>\n",
       "    </tr>\n",
       "    <tr>\n",
       "      <td>2</td>\n",
       "      <td>0.288626</td>\n",
       "      <td>0.217356</td>\n",
       "      <td>0.910690</td>\n",
       "      <td>00:03</td>\n",
       "    </tr>\n",
       "    <tr>\n",
       "      <td>3</td>\n",
       "      <td>0.213532</td>\n",
       "      <td>0.294699</td>\n",
       "      <td>0.891746</td>\n",
       "      <td>00:03</td>\n",
       "    </tr>\n",
       "    <tr>\n",
       "      <td>4</td>\n",
       "      <td>0.178062</td>\n",
       "      <td>0.243345</td>\n",
       "      <td>0.909337</td>\n",
       "      <td>00:03</td>\n",
       "    </tr>\n",
       "    <tr>\n",
       "      <td>5</td>\n",
       "      <td>0.132118</td>\n",
       "      <td>0.236394</td>\n",
       "      <td>0.917456</td>\n",
       "      <td>00:03</td>\n",
       "    </tr>\n",
       "    <tr>\n",
       "      <td>6</td>\n",
       "      <td>0.092771</td>\n",
       "      <td>0.194155</td>\n",
       "      <td>0.933018</td>\n",
       "      <td>00:03</td>\n",
       "    </tr>\n",
       "    <tr>\n",
       "      <td>7</td>\n",
       "      <td>0.055006</td>\n",
       "      <td>0.248453</td>\n",
       "      <td>0.922192</td>\n",
       "      <td>00:03</td>\n",
       "    </tr>\n",
       "    <tr>\n",
       "      <td>8</td>\n",
       "      <td>0.029332</td>\n",
       "      <td>0.199173</td>\n",
       "      <td>0.937754</td>\n",
       "      <td>00:03</td>\n",
       "    </tr>\n",
       "    <tr>\n",
       "      <td>9</td>\n",
       "      <td>0.018201</td>\n",
       "      <td>0.205575</td>\n",
       "      <td>0.941813</td>\n",
       "      <td>00:03</td>\n",
       "    </tr>\n",
       "  </tbody>\n",
       "</table>"
      ],
      "text/plain": [
       "<IPython.core.display.HTML object>"
      ]
     },
     "metadata": {},
     "output_type": "display_data"
    }
   ],
   "source": [
    "learn = vision_learner(dls, resnet18, metrics=accuracy)\n",
    "learn.unfreeze()\n",
    "\n",
    "learn.fit_one_cycle(10)"
   ]
  },
  {
   "cell_type": "markdown",
   "id": "atlantic-passion",
   "metadata": {},
   "source": [
    "## One-Shot Pruning"
   ]
  },
  {
   "cell_type": "markdown",
   "id": "monetary-reset",
   "metadata": {},
   "source": [
    "The simplest way to perform pruning is called One-Shot Pruning. It consists of the following three steps:"
   ]
  },
  {
   "cell_type": "markdown",
   "id": "average-ceremony",
   "metadata": {},
   "source": [
    "1. You first need to train a network\n",
    "2. You then need to remove some weights (depending on your criteria, needs,...)\n",
    "3. You fine-tune the remaining weights to recover from the loss of parameters.\n",
    "\n",
    "With fasterai, this is really easy to do. Let's illustrate it by an example:"
   ]
  },
  {
   "cell_type": "code",
   "execution_count": null,
   "id": "sharp-mystery",
   "metadata": {},
   "outputs": [],
   "source": [
    "learn = vision_learner(dls, resnet18, metrics=accuracy)\n",
    "learn.unfreeze()"
   ]
  },
  {
   "cell_type": "markdown",
   "id": "thousand-entry",
   "metadata": {},
   "source": [
    "In this case, your network needs to be trained before pruning. This training can be done independently from the pruning callback, or simulated by the `start_epoch` that will delay the pruning process.\n",
    "\n",
    "You thus only need to create the Callback with the `one_shot` schedule and set the `start_epoch` argument, i.e. how many epochs you want to train your network before pruning it."
   ]
  },
  {
   "cell_type": "code",
   "execution_count": null,
   "id": "challenging-croatia",
   "metadata": {},
   "outputs": [],
   "source": [
    "sp_cb=SparsifyCallback(sparsity=90, granularity='weight', context='local', criteria=large_final, schedule=one_shot)"
   ]
  },
  {
   "cell_type": "markdown",
   "id": "cubic-panama",
   "metadata": {},
   "source": [
    "Let's start pruningn after 3 epochs and train our model for 6 epochs to have the same total amount of training as before"
   ]
  },
  {
   "cell_type": "code",
   "execution_count": null,
   "id": "sought-drill",
   "metadata": {},
   "outputs": [
    {
     "name": "stdout",
     "output_type": "stream",
     "text": [
      "Pruning of weight until a sparsity of [90]%\n",
      "Saving Weights at epoch 0\n"
     ]
    },
    {
     "data": {
      "text/html": [
       "\n",
       "<style>\n",
       "    /* Turns off some styling */\n",
       "    progress {\n",
       "        /* gets rid of default border in Firefox and Opera. */\n",
       "        border: none;\n",
       "        /* Needs to be in here for Safari polyfill so background images work as expected. */\n",
       "        background-size: auto;\n",
       "    }\n",
       "    progress:not([value]), progress:not([value])::-webkit-progress-bar {\n",
       "        background: repeating-linear-gradient(45deg, #7e7e7e, #7e7e7e 10px, #5c5c5c 10px, #5c5c5c 20px);\n",
       "    }\n",
       "    .progress-bar-interrupted, .progress-bar-interrupted::-webkit-progress-bar {\n",
       "        background: #F44336;\n",
       "    }\n",
       "</style>\n"
      ],
      "text/plain": [
       "<IPython.core.display.HTML object>"
      ]
     },
     "metadata": {},
     "output_type": "display_data"
    },
    {
     "data": {
      "text/html": [
       "<table border=\"1\" class=\"dataframe\">\n",
       "  <thead>\n",
       "    <tr style=\"text-align: left;\">\n",
       "      <th>epoch</th>\n",
       "      <th>train_loss</th>\n",
       "      <th>valid_loss</th>\n",
       "      <th>accuracy</th>\n",
       "      <th>time</th>\n",
       "    </tr>\n",
       "  </thead>\n",
       "  <tbody>\n",
       "    <tr>\n",
       "      <td>0</td>\n",
       "      <td>0.528262</td>\n",
       "      <td>0.357351</td>\n",
       "      <td>0.837618</td>\n",
       "      <td>00:04</td>\n",
       "    </tr>\n",
       "    <tr>\n",
       "      <td>1</td>\n",
       "      <td>0.363505</td>\n",
       "      <td>0.513674</td>\n",
       "      <td>0.774019</td>\n",
       "      <td>00:03</td>\n",
       "    </tr>\n",
       "    <tr>\n",
       "      <td>2</td>\n",
       "      <td>0.250641</td>\n",
       "      <td>0.268071</td>\n",
       "      <td>0.893775</td>\n",
       "      <td>00:03</td>\n",
       "    </tr>\n",
       "    <tr>\n",
       "      <td>3</td>\n",
       "      <td>0.211224</td>\n",
       "      <td>0.268274</td>\n",
       "      <td>0.896482</td>\n",
       "      <td>00:04</td>\n",
       "    </tr>\n",
       "    <tr>\n",
       "      <td>4</td>\n",
       "      <td>0.203224</td>\n",
       "      <td>0.264878</td>\n",
       "      <td>0.885656</td>\n",
       "      <td>00:03</td>\n",
       "    </tr>\n",
       "    <tr>\n",
       "      <td>5</td>\n",
       "      <td>0.236911</td>\n",
       "      <td>0.248686</td>\n",
       "      <td>0.893099</td>\n",
       "      <td>00:04</td>\n",
       "    </tr>\n",
       "    <tr>\n",
       "      <td>6</td>\n",
       "      <td>0.178409</td>\n",
       "      <td>0.239735</td>\n",
       "      <td>0.903924</td>\n",
       "      <td>00:04</td>\n",
       "    </tr>\n",
       "    <tr>\n",
       "      <td>7</td>\n",
       "      <td>0.128331</td>\n",
       "      <td>0.258517</td>\n",
       "      <td>0.896482</td>\n",
       "      <td>00:04</td>\n",
       "    </tr>\n",
       "    <tr>\n",
       "      <td>8</td>\n",
       "      <td>0.110764</td>\n",
       "      <td>0.218122</td>\n",
       "      <td>0.912720</td>\n",
       "      <td>00:04</td>\n",
       "    </tr>\n",
       "    <tr>\n",
       "      <td>9</td>\n",
       "      <td>0.077449</td>\n",
       "      <td>0.279049</td>\n",
       "      <td>0.907307</td>\n",
       "      <td>00:04</td>\n",
       "    </tr>\n",
       "  </tbody>\n",
       "</table>"
      ],
      "text/plain": [
       "<IPython.core.display.HTML object>"
      ]
     },
     "metadata": {},
     "output_type": "display_data"
    },
    {
     "name": "stdout",
     "output_type": "stream",
     "text": [
      "Sparsity at the end of epoch 0: [0.0]%\n",
      "Sparsity at the end of epoch 1: [0.0]%\n",
      "Sparsity at the end of epoch 2: [0.0]%\n",
      "Sparsity at the end of epoch 3: [0.0]%\n",
      "Sparsity at the end of epoch 4: [90.0]%\n",
      "Sparsity at the end of epoch 5: [90.0]%\n",
      "Sparsity at the end of epoch 6: [90.0]%\n",
      "Sparsity at the end of epoch 7: [90.0]%\n",
      "Sparsity at the end of epoch 8: [90.0]%\n",
      "Sparsity at the end of epoch 9: [90.0]%\n",
      "Final Sparsity: [90]%\n",
      "\n",
      "Sparsity Report:\n",
      "--------------------------------------------------------------------------------\n",
      "Layer                Type            Params     Zeros      Sparsity  \n",
      "--------------------------------------------------------------------------------\n",
      "Layer 2              Conv2d          9,408      8,467         90.00%\n",
      "Layer 8              Conv2d          36,864     33,177        90.00%\n",
      "Layer 11             Conv2d          36,864     33,177        90.00%\n",
      "Layer 14             Conv2d          36,864     33,177        90.00%\n",
      "Layer 17             Conv2d          36,864     33,177        90.00%\n",
      "Layer 21             Conv2d          73,728     66,355        90.00%\n",
      "Layer 24             Conv2d          147,456    132,710       90.00%\n",
      "Layer 27             Conv2d          8,192      7,372         89.99%\n",
      "Layer 30             Conv2d          147,456    132,710       90.00%\n",
      "Layer 33             Conv2d          147,456    132,710       90.00%\n",
      "Layer 37             Conv2d          294,912    265,420       90.00%\n",
      "Layer 40             Conv2d          589,824    530,841       90.00%\n",
      "Layer 43             Conv2d          32,768     29,491        90.00%\n",
      "Layer 46             Conv2d          589,824    530,841       90.00%\n",
      "Layer 49             Conv2d          589,824    530,841       90.00%\n",
      "Layer 53             Conv2d          1,179,648  1,061,683     90.00%\n",
      "Layer 56             Conv2d          2,359,296  2,123,366     90.00%\n",
      "Layer 59             Conv2d          131,072    117,964       90.00%\n",
      "Layer 62             Conv2d          2,359,296  2,123,366     90.00%\n",
      "Layer 65             Conv2d          2,359,296  2,123,366     90.00%\n",
      "--------------------------------------------------------------------------------\n",
      "Overall              all             11,166,912 10,050,211    90.00%\n"
     ]
    }
   ],
   "source": [
    "learn.fit(10, cbs=sp_cb)"
   ]
  },
  {
   "cell_type": "markdown",
   "id": "reflected-channels",
   "metadata": {},
   "source": [
    "---"
   ]
  },
  {
   "cell_type": "markdown",
   "id": "associate-simon",
   "metadata": {},
   "source": [
    "## Iterative Pruning"
   ]
  },
  {
   "cell_type": "markdown",
   "id": "every-indonesia",
   "metadata": {},
   "source": [
    "Researchers have come up with a better way to do pruning than pruning all the weigths in once (as in One-Shot Pruning). The idea is to perform several iterations of pruning and fine-tuning and is thus called Iterative Pruning."
   ]
  },
  {
   "cell_type": "markdown",
   "id": "discrete-symphony",
   "metadata": {},
   "source": [
    "1. You first need to train a network\n",
    "2. You then need to remove a part of the weights weights (depending on your criteria, needs,...)\n",
    "3. You fine-tune the remaining weights to recover from the loss of parameters.\n",
    "4. Back to step 2."
   ]
  },
  {
   "cell_type": "code",
   "execution_count": null,
   "id": "dangerous-quilt",
   "metadata": {},
   "outputs": [],
   "source": [
    "learn = vision_learner(dls, resnet18, metrics=accuracy)\n",
    "learn.unfreeze()"
   ]
  },
  {
   "cell_type": "markdown",
   "id": "defined-peeing",
   "metadata": {},
   "source": [
    "In this case, your network needs to be trained before pruning."
   ]
  },
  {
   "cell_type": "markdown",
   "id": "finished-parent",
   "metadata": {},
   "source": [
    "You only need to create the Callback with the `iterative` schedule and set the `start_epoch` argument, i.e. how many epochs you want to train your network before pruning it."
   ]
  },
  {
   "cell_type": "markdown",
   "id": "comprehensive-authority",
   "metadata": {},
   "source": [
    "The `iterative` schedules has a `n_steps`parameter, i.e. how many iterations of pruning/fine-tuning you want to perform. To modify its value, we can use the `partial` function like this:"
   ]
  },
  {
   "cell_type": "markdown",
   "id": "frequent-friday",
   "metadata": {},
   "source": [
    "```\n",
    "iterative = partial(iterative, n_steps=5)\n",
    "```"
   ]
  },
  {
   "cell_type": "code",
   "execution_count": null,
   "id": "apart-contract",
   "metadata": {},
   "outputs": [],
   "source": [
    "sp_cb=SparsifyCallback(sparsity=90, granularity='weight', context='local', criteria=large_final, schedule=iterative)"
   ]
  },
  {
   "cell_type": "markdown",
   "id": "fancy-sullivan",
   "metadata": {},
   "source": [
    "Let's start pruningn after 3 epochs and train our model for 6 epochs to have the same total amount of training as before"
   ]
  },
  {
   "cell_type": "code",
   "execution_count": null,
   "id": "clear-edition",
   "metadata": {},
   "outputs": [
    {
     "name": "stdout",
     "output_type": "stream",
     "text": [
      "Pruning of weight until a sparsity of [90]%\n",
      "Saving Weights at epoch 0\n"
     ]
    },
    {
     "data": {
      "text/html": [
       "\n",
       "<style>\n",
       "    /* Turns off some styling */\n",
       "    progress {\n",
       "        /* gets rid of default border in Firefox and Opera. */\n",
       "        border: none;\n",
       "        /* Needs to be in here for Safari polyfill so background images work as expected. */\n",
       "        background-size: auto;\n",
       "    }\n",
       "    progress:not([value]), progress:not([value])::-webkit-progress-bar {\n",
       "        background: repeating-linear-gradient(45deg, #7e7e7e, #7e7e7e 10px, #5c5c5c 10px, #5c5c5c 20px);\n",
       "    }\n",
       "    .progress-bar-interrupted, .progress-bar-interrupted::-webkit-progress-bar {\n",
       "        background: #F44336;\n",
       "    }\n",
       "</style>\n"
      ],
      "text/plain": [
       "<IPython.core.display.HTML object>"
      ]
     },
     "metadata": {},
     "output_type": "display_data"
    },
    {
     "data": {
      "text/html": [
       "<table border=\"1\" class=\"dataframe\">\n",
       "  <thead>\n",
       "    <tr style=\"text-align: left;\">\n",
       "      <th>epoch</th>\n",
       "      <th>train_loss</th>\n",
       "      <th>valid_loss</th>\n",
       "      <th>accuracy</th>\n",
       "      <th>time</th>\n",
       "    </tr>\n",
       "  </thead>\n",
       "  <tbody>\n",
       "    <tr>\n",
       "      <td>0</td>\n",
       "      <td>0.610821</td>\n",
       "      <td>0.347474</td>\n",
       "      <td>0.842355</td>\n",
       "      <td>00:03</td>\n",
       "    </tr>\n",
       "    <tr>\n",
       "      <td>1</td>\n",
       "      <td>0.398858</td>\n",
       "      <td>0.563407</td>\n",
       "      <td>0.859269</td>\n",
       "      <td>00:03</td>\n",
       "    </tr>\n",
       "    <tr>\n",
       "      <td>2</td>\n",
       "      <td>0.302287</td>\n",
       "      <td>0.310804</td>\n",
       "      <td>0.871448</td>\n",
       "      <td>00:04</td>\n",
       "    </tr>\n",
       "    <tr>\n",
       "      <td>3</td>\n",
       "      <td>0.222971</td>\n",
       "      <td>0.373315</td>\n",
       "      <td>0.855886</td>\n",
       "      <td>00:04</td>\n",
       "    </tr>\n",
       "    <tr>\n",
       "      <td>4</td>\n",
       "      <td>0.175162</td>\n",
       "      <td>0.256725</td>\n",
       "      <td>0.901894</td>\n",
       "      <td>00:04</td>\n",
       "    </tr>\n",
       "    <tr>\n",
       "      <td>5</td>\n",
       "      <td>0.140398</td>\n",
       "      <td>0.234549</td>\n",
       "      <td>0.916779</td>\n",
       "      <td>00:04</td>\n",
       "    </tr>\n",
       "    <tr>\n",
       "      <td>6</td>\n",
       "      <td>0.100763</td>\n",
       "      <td>0.231317</td>\n",
       "      <td>0.912720</td>\n",
       "      <td>00:04</td>\n",
       "    </tr>\n",
       "    <tr>\n",
       "      <td>7</td>\n",
       "      <td>0.252507</td>\n",
       "      <td>0.318962</td>\n",
       "      <td>0.876861</td>\n",
       "      <td>00:04</td>\n",
       "    </tr>\n",
       "    <tr>\n",
       "      <td>8</td>\n",
       "      <td>0.186143</td>\n",
       "      <td>0.240475</td>\n",
       "      <td>0.903924</td>\n",
       "      <td>00:04</td>\n",
       "    </tr>\n",
       "    <tr>\n",
       "      <td>9</td>\n",
       "      <td>0.151650</td>\n",
       "      <td>0.222071</td>\n",
       "      <td>0.910014</td>\n",
       "      <td>00:04</td>\n",
       "    </tr>\n",
       "  </tbody>\n",
       "</table>"
      ],
      "text/plain": [
       "<IPython.core.display.HTML object>"
      ]
     },
     "metadata": {},
     "output_type": "display_data"
    },
    {
     "name": "stdout",
     "output_type": "stream",
     "text": [
      "Sparsity at the end of epoch 0: [0.0]%\n",
      "Sparsity at the end of epoch 1: [0.0]%\n",
      "Sparsity at the end of epoch 2: [30.0]%\n",
      "Sparsity at the end of epoch 3: [30.0]%\n",
      "Sparsity at the end of epoch 4: [60.0]%\n",
      "Sparsity at the end of epoch 5: [60.0]%\n",
      "Sparsity at the end of epoch 6: [60.0]%\n",
      "Sparsity at the end of epoch 7: [90.0]%\n",
      "Sparsity at the end of epoch 8: [90.0]%\n",
      "Sparsity at the end of epoch 9: [90.0]%\n",
      "Final Sparsity: [90.0]%\n",
      "\n",
      "Sparsity Report:\n",
      "--------------------------------------------------------------------------------\n",
      "Layer                Type            Params     Zeros      Sparsity  \n",
      "--------------------------------------------------------------------------------\n",
      "Layer 2              Conv2d          9,408      8,467         90.00%\n",
      "Layer 8              Conv2d          36,864     33,177        90.00%\n",
      "Layer 11             Conv2d          36,864     33,177        90.00%\n",
      "Layer 14             Conv2d          36,864     33,177        90.00%\n",
      "Layer 17             Conv2d          36,864     33,177        90.00%\n",
      "Layer 21             Conv2d          73,728     66,355        90.00%\n",
      "Layer 24             Conv2d          147,456    132,710       90.00%\n",
      "Layer 27             Conv2d          8,192      7,372         89.99%\n",
      "Layer 30             Conv2d          147,456    132,710       90.00%\n",
      "Layer 33             Conv2d          147,456    132,710       90.00%\n",
      "Layer 37             Conv2d          294,912    265,420       90.00%\n",
      "Layer 40             Conv2d          589,824    530,841       90.00%\n",
      "Layer 43             Conv2d          32,768     29,491        90.00%\n",
      "Layer 46             Conv2d          589,824    530,841       90.00%\n",
      "Layer 49             Conv2d          589,824    530,841       90.00%\n",
      "Layer 53             Conv2d          1,179,648  1,061,683     90.00%\n",
      "Layer 56             Conv2d          2,359,296  2,123,366     90.00%\n",
      "Layer 59             Conv2d          131,072    117,964       90.00%\n",
      "Layer 62             Conv2d          2,359,296  2,123,366     90.00%\n",
      "Layer 65             Conv2d          2,359,296  2,123,366     90.00%\n",
      "--------------------------------------------------------------------------------\n",
      "Overall              all             11,166,912 10,050,211    90.00%\n"
     ]
    }
   ],
   "source": [
    "learn.fit(10, cbs=sp_cb)"
   ]
  },
  {
   "cell_type": "markdown",
   "id": "general-conditioning",
   "metadata": {},
   "source": [
    "---"
   ]
  },
  {
   "cell_type": "markdown",
   "id": "entire-detail",
   "metadata": {},
   "source": [
    "## Gradual Pruning"
   ]
  },
  {
   "cell_type": "markdown",
   "id": "9763a794",
   "metadata": {},
   "source": [
    "Here is for example how to implement the [Automated Gradual Pruning](https://arxiv.org/pdf/1710.01878.pdf) schedule."
   ]
  },
  {
   "cell_type": "code",
   "execution_count": null,
   "id": "pleasant-myanmar",
   "metadata": {},
   "outputs": [],
   "source": [
    "learn = vision_learner(dls, resnet18, metrics=accuracy)\n",
    "learn.unfreeze()"
   ]
  },
  {
   "cell_type": "code",
   "execution_count": null,
   "id": "bored-navigator",
   "metadata": {},
   "outputs": [],
   "source": [
    "sp_cb=SparsifyCallback(sparsity=90, granularity='weight', context='local', criteria=large_final, schedule=agp)"
   ]
  },
  {
   "cell_type": "markdown",
   "id": "subject-dispute",
   "metadata": {},
   "source": [
    "Let's start pruning after 3 epochs and train our model for 6 epochs to have the same total amount of training as before"
   ]
  },
  {
   "cell_type": "code",
   "execution_count": null,
   "id": "finite-jerusalem",
   "metadata": {},
   "outputs": [
    {
     "name": "stdout",
     "output_type": "stream",
     "text": [
      "Pruning of weight until a sparsity of [90]%\n",
      "Saving Weights at epoch 0\n"
     ]
    },
    {
     "data": {
      "text/html": [
       "\n",
       "<style>\n",
       "    /* Turns off some styling */\n",
       "    progress {\n",
       "        /* gets rid of default border in Firefox and Opera. */\n",
       "        border: none;\n",
       "        /* Needs to be in here for Safari polyfill so background images work as expected. */\n",
       "        background-size: auto;\n",
       "    }\n",
       "    progress:not([value]), progress:not([value])::-webkit-progress-bar {\n",
       "        background: repeating-linear-gradient(45deg, #7e7e7e, #7e7e7e 10px, #5c5c5c 10px, #5c5c5c 20px);\n",
       "    }\n",
       "    .progress-bar-interrupted, .progress-bar-interrupted::-webkit-progress-bar {\n",
       "        background: #F44336;\n",
       "    }\n",
       "</style>\n"
      ],
      "text/plain": [
       "<IPython.core.display.HTML object>"
      ]
     },
     "metadata": {},
     "output_type": "display_data"
    },
    {
     "data": {
      "text/html": [
       "<table border=\"1\" class=\"dataframe\">\n",
       "  <thead>\n",
       "    <tr style=\"text-align: left;\">\n",
       "      <th>epoch</th>\n",
       "      <th>train_loss</th>\n",
       "      <th>valid_loss</th>\n",
       "      <th>accuracy</th>\n",
       "      <th>time</th>\n",
       "    </tr>\n",
       "  </thead>\n",
       "  <tbody>\n",
       "    <tr>\n",
       "      <td>0</td>\n",
       "      <td>0.606718</td>\n",
       "      <td>0.444957</td>\n",
       "      <td>0.817321</td>\n",
       "      <td>00:03</td>\n",
       "    </tr>\n",
       "    <tr>\n",
       "      <td>1</td>\n",
       "      <td>0.404780</td>\n",
       "      <td>0.325938</td>\n",
       "      <td>0.863329</td>\n",
       "      <td>00:03</td>\n",
       "    </tr>\n",
       "    <tr>\n",
       "      <td>2</td>\n",
       "      <td>0.308993</td>\n",
       "      <td>0.298605</td>\n",
       "      <td>0.873478</td>\n",
       "      <td>00:04</td>\n",
       "    </tr>\n",
       "    <tr>\n",
       "      <td>3</td>\n",
       "      <td>0.232805</td>\n",
       "      <td>0.356629</td>\n",
       "      <td>0.865359</td>\n",
       "      <td>00:04</td>\n",
       "    </tr>\n",
       "    <tr>\n",
       "      <td>4</td>\n",
       "      <td>0.184159</td>\n",
       "      <td>0.285140</td>\n",
       "      <td>0.891069</td>\n",
       "      <td>00:04</td>\n",
       "    </tr>\n",
       "    <tr>\n",
       "      <td>5</td>\n",
       "      <td>0.176350</td>\n",
       "      <td>0.300211</td>\n",
       "      <td>0.882273</td>\n",
       "      <td>00:04</td>\n",
       "    </tr>\n",
       "    <tr>\n",
       "      <td>6</td>\n",
       "      <td>0.163846</td>\n",
       "      <td>0.267521</td>\n",
       "      <td>0.891069</td>\n",
       "      <td>00:04</td>\n",
       "    </tr>\n",
       "    <tr>\n",
       "      <td>7</td>\n",
       "      <td>0.158822</td>\n",
       "      <td>0.218856</td>\n",
       "      <td>0.909337</td>\n",
       "      <td>00:04</td>\n",
       "    </tr>\n",
       "    <tr>\n",
       "      <td>8</td>\n",
       "      <td>0.115987</td>\n",
       "      <td>0.269380</td>\n",
       "      <td>0.909337</td>\n",
       "      <td>00:04</td>\n",
       "    </tr>\n",
       "    <tr>\n",
       "      <td>9</td>\n",
       "      <td>0.079022</td>\n",
       "      <td>0.240360</td>\n",
       "      <td>0.915426</td>\n",
       "      <td>00:04</td>\n",
       "    </tr>\n",
       "  </tbody>\n",
       "</table>"
      ],
      "text/plain": [
       "<IPython.core.display.HTML object>"
      ]
     },
     "metadata": {},
     "output_type": "display_data"
    },
    {
     "name": "stdout",
     "output_type": "stream",
     "text": [
      "Sparsity at the end of epoch 0: [0.0]%\n",
      "Sparsity at the end of epoch 1: [0.0]%\n",
      "Sparsity at the end of epoch 2: [29.71]%\n",
      "Sparsity at the end of epoch 3: [52.03]%\n",
      "Sparsity at the end of epoch 4: [68.03]%\n",
      "Sparsity at the end of epoch 5: [78.75]%\n",
      "Sparsity at the end of epoch 6: [85.25]%\n",
      "Sparsity at the end of epoch 7: [88.59]%\n",
      "Sparsity at the end of epoch 8: [89.82]%\n",
      "Sparsity at the end of epoch 9: [90.0]%\n",
      "Final Sparsity: [90.0]%\n",
      "\n",
      "Sparsity Report:\n",
      "--------------------------------------------------------------------------------\n",
      "Layer                Type            Params     Zeros      Sparsity  \n",
      "--------------------------------------------------------------------------------\n",
      "Layer 2              Conv2d          9,408      8,467         90.00%\n",
      "Layer 8              Conv2d          36,864     33,177        90.00%\n",
      "Layer 11             Conv2d          36,864     33,177        90.00%\n",
      "Layer 14             Conv2d          36,864     33,177        90.00%\n",
      "Layer 17             Conv2d          36,864     33,177        90.00%\n",
      "Layer 21             Conv2d          73,728     66,355        90.00%\n",
      "Layer 24             Conv2d          147,456    132,710       90.00%\n",
      "Layer 27             Conv2d          8,192      7,372         89.99%\n",
      "Layer 30             Conv2d          147,456    132,710       90.00%\n",
      "Layer 33             Conv2d          147,456    132,710       90.00%\n",
      "Layer 37             Conv2d          294,912    265,420       90.00%\n",
      "Layer 40             Conv2d          589,824    530,841       90.00%\n",
      "Layer 43             Conv2d          32,768     29,491        90.00%\n",
      "Layer 46             Conv2d          589,824    530,841       90.00%\n",
      "Layer 49             Conv2d          589,824    530,841       90.00%\n",
      "Layer 53             Conv2d          1,179,648  1,061,683     90.00%\n",
      "Layer 56             Conv2d          2,359,296  2,123,366     90.00%\n",
      "Layer 59             Conv2d          131,072    117,964       90.00%\n",
      "Layer 62             Conv2d          2,359,296  2,123,366     90.00%\n",
      "Layer 65             Conv2d          2,359,296  2,123,366     90.00%\n",
      "--------------------------------------------------------------------------------\n",
      "Overall              all             11,166,912 10,050,211    90.00%\n"
     ]
    }
   ],
   "source": [
    "learn.fit(10, cbs=sp_cb)"
   ]
  },
  {
   "cell_type": "markdown",
   "id": "scientific-backup",
   "metadata": {},
   "source": [
    "Even though they are often considered as different pruning methods, those 3 schedules can be captured by the same Callback. Here is how the sparsity in the network evolves for those methods;"
   ]
  },
  {
   "cell_type": "markdown",
   "id": "remarkable-preparation",
   "metadata": {},
   "source": [
    "Let's take an example here. Let's say that we want to train our network for 3 epochs without pruning and then 7 epochs with pruning."
   ]
  },
  {
   "cell_type": "code",
   "execution_count": null,
   "id": "pursuant-bacteria",
   "metadata": {},
   "outputs": [],
   "source": [
    "#| include: false\n",
    "train = np.zeros(300)\n",
    "prune = np.linspace(0,1, 700) "
   ]
  },
  {
   "cell_type": "markdown",
   "id": "continued-mapping",
   "metadata": {},
   "source": [
    "Then this is what our different pruning schedules will look like:"
   ]
  },
  {
   "cell_type": "code",
   "execution_count": null,
   "id": "legitimate-asthma",
   "metadata": {},
   "outputs": [
    {
     "data": {
      "image/png": "[encoded data removed]",
      "text/plain": [
       "<Figure size 800x500 with 1 Axes>"
      ]
     },
     "metadata": {
      "needs_background": "dark"
     },
     "output_type": "display_data"
    }
   ],
   "source": [
    "#| echo: false\n",
    "fig, ax = plt.subplots(1, 1, figsize=(8,5), dpi=100)\n",
    "fig.patch.set_alpha(0.)\n",
    "ax.patch.set_alpha(0.)\n",
    "plt.plot(np.concatenate([train, sched_iterative(0,90, prune)]), label='Iterative', linestyle='-.', c='#89d6c9')\n",
    "plt.plot(np.concatenate([train, [sched_oneshot(0,90, p) for p in prune]]), label='One-Shot', linestyle=':', c='#89d6c9')\n",
    "plt.plot(np.concatenate([train, sched_agp(0,90, prune)]), label='Gradual', c='#89d6c9')\n",
    "ax.spines['bottom'].set_color('#808080')\n",
    "ax.spines['top'].set_color('#808080') \n",
    "ax.spines['right'].set_color('#808080')\n",
    "ax.spines['left'].set_color('#808080')\n",
    "ax.tick_params(axis='x', colors='#808080')\n",
    "ax.tick_params(axis='y', colors='#808080')\n",
    "ax.yaxis.label.set_color('#808080')\n",
    "ax.xaxis.label.set_color('#808080')\n",
    "plt.legend(framealpha=0.3);"
   ]
  },
  {
   "cell_type": "markdown",
   "id": "precious-nudist",
   "metadata": {},
   "source": [
    "**You can also come up with your own pruning schedule !**"
   ]
  }
 ],
 "metadata": {
  "kernelspec": {
   "display_name": "python3",
   "language": "python",
   "name": "python3"
  }
 },
 "nbformat": 4,
 "nbformat_minor": 5
}
