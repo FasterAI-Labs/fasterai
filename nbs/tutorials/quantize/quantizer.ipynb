{
 "cells": [
  {
   "cell_type": "raw",
   "id": "873ade27-0d35-4153-b2df-aa863dcf5f55",
   "metadata": {},
   "source": [
    "---\n",
    "description: Quantization \n",
    "output-file: tutorial.quantize.html\n",
    "title: Quantization\n",
    "skip_showdoc: true\n",
    "skip_exec: true\n",
    "---"
   ]
  },
  {
   "cell_type": "code",
   "execution_count": null,
   "id": "e8e07810-d3f8-4d73-ba14-0b0568de5c05",
   "metadata": {},
   "outputs": [],
   "source": [
    "#| include: false\n",
    "import timm\n",
    "from fastai.vision.all import *\n",
    "from fasterai.quantize.quantizer import *"
   ]
  },
  {
   "cell_type": "code",
   "execution_count": null,
   "id": "c718cac0-06e3-4646-a0ae-7c2ce6e535bd",
   "metadata": {},
   "outputs": [],
   "source": [
    "path = untar_data(URLs.PETS)\n",
    "files = get_image_files(path/\"images\")\n",
    "\n",
    "def label_func(f): return f[0].isupper()\n",
    "\n",
    "dls = ImageDataLoaders.from_name_func(path, files, label_func, item_tfms=Resize(64))"
   ]
  },
  {
   "cell_type": "code",
   "execution_count": null,
   "id": "fde0b31f-546d-45ee-a124-bddfdbaf8714",
   "metadata": {},
   "outputs": [
    {
     "data": {
      "text/html": [
       "\n",
       "<style>\n",
       "    /* Turns off some styling */\n",
       "    progress {\n",
       "        /* gets rid of default border in Firefox and Opera. */\n",
       "        border: none;\n",
       "        /* Needs to be in here for Safari polyfill so background images work as expected. */\n",
       "        background-size: auto;\n",
       "    }\n",
       "    progress:not([value]), progress:not([value])::-webkit-progress-bar {\n",
       "        background: repeating-linear-gradient(45deg, #7e7e7e, #7e7e7e 10px, #5c5c5c 10px, #5c5c5c 20px);\n",
       "    }\n",
       "    .progress-bar-interrupted, .progress-bar-interrupted::-webkit-progress-bar {\n",
       "        background: #F44336;\n",
       "    }\n",
       "</style>\n"
      ],
      "text/plain": [
       "<IPython.core.display.HTML object>"
      ]
     },
     "metadata": {},
     "output_type": "display_data"
    },
    {
     "data": {
      "text/html": [
       "<table border=\"1\" class=\"dataframe\">\n",
       "  <thead>\n",
       "    <tr style=\"text-align: left;\">\n",
       "      <th>epoch</th>\n",
       "      <th>train_loss</th>\n",
       "      <th>valid_loss</th>\n",
       "      <th>accuracy</th>\n",
       "      <th>time</th>\n",
       "    </tr>\n",
       "  </thead>\n",
       "  <tbody>\n",
       "    <tr>\n",
       "      <td>0</td>\n",
       "      <td>0.536314</td>\n",
       "      <td>0.409817</td>\n",
       "      <td>0.817997</td>\n",
       "      <td>00:03</td>\n",
       "    </tr>\n",
       "    <tr>\n",
       "      <td>1</td>\n",
       "      <td>0.327518</td>\n",
       "      <td>0.273514</td>\n",
       "      <td>0.889716</td>\n",
       "      <td>00:03</td>\n",
       "    </tr>\n",
       "    <tr>\n",
       "      <td>2</td>\n",
       "      <td>0.203315</td>\n",
       "      <td>0.206001</td>\n",
       "      <td>0.916779</td>\n",
       "      <td>00:03</td>\n",
       "    </tr>\n",
       "    <tr>\n",
       "      <td>3</td>\n",
       "      <td>0.116644</td>\n",
       "      <td>0.180373</td>\n",
       "      <td>0.932341</td>\n",
       "      <td>00:03</td>\n",
       "    </tr>\n",
       "    <tr>\n",
       "      <td>4</td>\n",
       "      <td>0.073957</td>\n",
       "      <td>0.182942</td>\n",
       "      <td>0.925575</td>\n",
       "      <td>00:03</td>\n",
       "    </tr>\n",
       "  </tbody>\n",
       "</table>"
      ],
      "text/plain": [
       "<IPython.core.display.HTML object>"
      ]
     },
     "metadata": {},
     "output_type": "display_data"
    }
   ],
   "source": [
    "pretrained_resnet_34 = timm.create_model('resnet34', pretrained=True)\n",
    "learn = Learner(dls, pretrained_resnet_34, metrics=accuracy)\n",
    "learn.model.fc = nn.Linear(512, 2)\n",
    "learn.fit_one_cycle(5, 1e-3)"
   ]
  },
  {
   "cell_type": "code",
   "execution_count": null,
   "id": "65e44b9a-2591-401f-b0af-519493f02b17",
   "metadata": {},
   "outputs": [
    {
     "name": "stdout",
     "output_type": "stream",
     "text": [
      "Preparing model for static quantization with x86 backend\n",
      "Calibrating with up to 100 samples\n"
     ]
    },
    {
     "name": "stderr",
     "output_type": "stream",
     "text": [
      "Calibrating: 100%|██████████| 1/1 [00:01<00:00,  1.33s/it]\n"
     ]
    },
    {
     "name": "stdout",
     "output_type": "stream",
     "text": [
      "Converting to quantized model\n",
      "Quantization complete\n"
     ]
    }
   ],
   "source": [
    "quantizer = Quantizer(\n",
    "    backend=\"x86\",\n",
    "    method=\"static\",    # Use dynamic quantization\n",
    "    verbose=True,       # See detailed output for debugging\n",
    "    use_per_tensor=False\n",
    ")\n",
    "\n",
    "# Quantize your model\n",
    "quantized_model = quantizer.quantize(\n",
    "    model=learn.model,\n",
    "    calibration_dl=dls.train,\n",
    ")"
   ]
  },
  {
   "cell_type": "code",
   "execution_count": null,
   "id": "351a7a73-dea4-4113-bdbb-9d99b0a08883",
   "metadata": {},
   "outputs": [],
   "source": [
    "#| include: false\n",
    "from tqdm import tqdm\n",
    "\n",
    "def get_model_size(model):\n",
    "    torch.save(model.state_dict(), \"temp.p\")\n",
    "    size = os.path.getsize(\"temp.p\") / 1e6  # Size in MB\n",
    "    os.remove(\"temp.p\")\n",
    "    return size\n",
    "    \n",
    "def compute_validation_accuracy(model, valid_dataloader, device=None):\n",
    "    # Set the model to evaluation mode\n",
    "    model.eval()\n",
    "    \n",
    "    # Use the model's device if no device is specified\n",
    "    \n",
    "    device = torch.device('cpu')\n",
    "    \n",
    "    # Move model to the specified device\n",
    "    model = model.to(device)\n",
    "    \n",
    "    # Tracking correct predictions and total samples\n",
    "    total_correct = 0\n",
    "    total_samples = 0\n",
    "    \n",
    "    # Disable gradient computation for efficiency\n",
    "    with torch.no_grad():\n",
    "        for batch in tqdm(valid_dataloader):\n",
    "            # Assuming batch is a tuple of (inputs, labels)\n",
    "            # Adjust this if your dataloader returns a different format\n",
    "            inputs, labels = batch\n",
    "            \n",
    "            # Move inputs and labels to the same device as the model\n",
    "            inputs = torch.Tensor(inputs).to(device)\n",
    "            labels = labels.to(device)\n",
    "            \n",
    "            # Forward pass\n",
    "            outputs = model(inputs)\n",
    "            \n",
    "            # Get predictions (for classification tasks)\n",
    "            # Use argmax along the class dimension\n",
    "            _, predicted = torch.max(outputs, 1)\n",
    "            \n",
    "            # Update counters\n",
    "            total_samples += labels.size(0)\n",
    "            total_correct += (predicted == labels).sum().item()\n",
    "    \n",
    "    # Compute accuracy as a percentage\n",
    "    accuracy = (total_correct / total_samples) * 100\n",
    "    \n",
    "    return accuracy"
   ]
  },
  {
   "cell_type": "code",
   "execution_count": null,
   "id": "90a3f4f6-9110-4ecd-889b-640923936ace",
   "metadata": {},
   "outputs": [
    {
     "name": "stdout",
     "output_type": "stream",
     "text": [
      "Size of the original model: 85.27 MB\n",
      "Size of the quantized model: 21.51 MB\n"
     ]
    }
   ],
   "source": [
    "print(f'Size of the original model: {get_model_size(learn.model):.2f} MB')\n",
    "print(f'Size of the quantized model: {get_model_size(quantized_model):.2f} MB')"
   ]
  },
  {
   "cell_type": "code",
   "execution_count": null,
   "id": "93c1090a-4a69-47a2-b787-28f30465dbb5",
   "metadata": {},
   "outputs": [
    {
     "name": "stderr",
     "output_type": "stream",
     "text": [
      "100%|██████████| 24/24 [00:02<00:00,  9.64it/s]\n"
     ]
    },
    {
     "data": {
      "text/plain": [
       "89.37753721244925"
      ]
     },
     "execution_count": null,
     "metadata": {},
     "output_type": "execute_result"
    }
   ],
   "source": [
    "compute_validation_accuracy(quantized_model, dls.valid)"
   ]
  }
 ],
 "metadata": {
  "kernelspec": {
   "display_name": "python3",
   "language": "python",
   "name": "python3"
  }
 },
 "nbformat": 4,
 "nbformat_minor": 5
}
