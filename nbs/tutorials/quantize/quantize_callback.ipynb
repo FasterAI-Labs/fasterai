{
 "cells": [
  {
   "cell_type": "raw",
   "id": "a1705706-1f6f-470a-aa2c-c16b437dd3af",
   "metadata": {},
   "source": [
    "---\n",
    "description: Quantization-Aware Callback \n",
    "output-file: tutorial.quantize_callback.html\n",
    "title: Quantize Callback\n",
    "skip_showdoc: true\n",
    "skip_exec: true\n",
    "---"
   ]
  },
  {
   "cell_type": "code",
   "execution_count": null,
   "id": "73cc27b8-9a3f-4e82-b6af-d94af136d159",
   "metadata": {},
   "outputs": [],
   "source": [
    "#| include: false\n",
    "import timm\n",
    "from fastai.vision.all import *\n",
    "from fasterai.quantize.all import *"
   ]
  },
  {
   "cell_type": "code",
   "execution_count": null,
   "id": "b87b88bd-690a-419a-af3a-8d55ba0d885b",
   "metadata": {},
   "outputs": [],
   "source": [
    "#| include: false\n",
    "path = untar_data(URLs.PETS)\n",
    "files = get_image_files(path/\"images\")\n",
    "\n",
    "def label_func(f): return f[0].isupper()\n",
    "\n",
    "dls = ImageDataLoaders.from_name_func(path, files, label_func, item_tfms=Resize(64))"
   ]
  },
  {
   "cell_type": "code",
   "execution_count": null,
   "id": "37de3316-5651-49a4-9b77-304ddb8cb771",
   "metadata": {},
   "outputs": [
    {
     "name": "stderr",
     "output_type": "stream",
     "text": [
      "/home/HubensN/miniconda3/envs/fasterai20/lib/python3.10/site-packages/torch/ao/quantization/observer.py:229: UserWarning: Please use quant_min and quant_max to specify the range for observers.                     reduce_range will be deprecated in a future release of PyTorch.\n",
      "  warnings.warn(\n"
     ]
    },
    {
     "data": {
      "text/html": [
       "\n",
       "<style>\n",
       "    /* Turns off some styling */\n",
       "    progress {\n",
       "        /* gets rid of default border in Firefox and Opera. */\n",
       "        border: none;\n",
       "        /* Needs to be in here for Safari polyfill so background images work as expected. */\n",
       "        background-size: auto;\n",
       "    }\n",
       "    progress:not([value]), progress:not([value])::-webkit-progress-bar {\n",
       "        background: repeating-linear-gradient(45deg, #7e7e7e, #7e7e7e 10px, #5c5c5c 10px, #5c5c5c 20px);\n",
       "    }\n",
       "    .progress-bar-interrupted, .progress-bar-interrupted::-webkit-progress-bar {\n",
       "        background: #F44336;\n",
       "    }\n",
       "</style>\n"
      ],
      "text/plain": [
       "<IPython.core.display.HTML object>"
      ]
     },
     "metadata": {},
     "output_type": "display_data"
    },
    {
     "data": {
      "text/html": [
       "<table border=\"1\" class=\"dataframe\">\n",
       "  <thead>\n",
       "    <tr style=\"text-align: left;\">\n",
       "      <th>epoch</th>\n",
       "      <th>train_loss</th>\n",
       "      <th>valid_loss</th>\n",
       "      <th>accuracy</th>\n",
       "      <th>time</th>\n",
       "    </tr>\n",
       "  </thead>\n",
       "  <tbody>\n",
       "    <tr>\n",
       "      <td>0</td>\n",
       "      <td>0.509876</td>\n",
       "      <td>0.412579</td>\n",
       "      <td>0.797023</td>\n",
       "      <td>00:04</td>\n",
       "    </tr>\n",
       "    <tr>\n",
       "      <td>1</td>\n",
       "      <td>0.309299</td>\n",
       "      <td>0.257415</td>\n",
       "      <td>0.895129</td>\n",
       "      <td>00:04</td>\n",
       "    </tr>\n",
       "    <tr>\n",
       "      <td>2</td>\n",
       "      <td>0.196601</td>\n",
       "      <td>0.226849</td>\n",
       "      <td>0.912720</td>\n",
       "      <td>00:03</td>\n",
       "    </tr>\n",
       "  </tbody>\n",
       "</table>"
      ],
      "text/plain": [
       "<IPython.core.display.HTML object>"
      ]
     },
     "metadata": {},
     "output_type": "display_data"
    }
   ],
   "source": [
    "pretrained_resnet_34 = timm.create_model('resnet34', pretrained=True)\n",
    "learn = Learner(dls, pretrained_resnet_34, metrics=accuracy)\n",
    "learn.model.fc = nn.Linear(512, 2)\n",
    "learn.fit_one_cycle(3, 1e-3, cbs=QuantizeCallback())"
   ]
  },
  {
   "cell_type": "code",
   "execution_count": null,
   "id": "af098696-8269-47a0-b069-eb283f5f490b",
   "metadata": {},
   "outputs": [],
   "source": [
    "from tqdm import tqdm\n",
    "\n",
    "def get_model_size(model):\n",
    "    torch.save(model.state_dict(), \"temp.p\")\n",
    "    size = os.path.getsize(\"temp.p\") / 1e6  # Size in MB\n",
    "    os.remove(\"temp.p\")\n",
    "    return size\n",
    "    \n",
    "def compute_validation_accuracy(model, valid_dataloader, device=None):\n",
    "    # Set the model to evaluation mode\n",
    "    model.eval()\n",
    "    \n",
    "    # Use the model's device if no device is specified\n",
    "    \n",
    "    device = torch.device('cpu')\n",
    "    \n",
    "    # Move model to the specified device\n",
    "    model = model.to(device)\n",
    "    \n",
    "    # Tracking correct predictions and total samples\n",
    "    total_correct = 0\n",
    "    total_samples = 0\n",
    "    \n",
    "    # Disable gradient computation for efficiency\n",
    "    with torch.no_grad():\n",
    "        for batch in tqdm(valid_dataloader):\n",
    "            # Assuming batch is a tuple of (inputs, labels)\n",
    "            # Adjust this if your dataloader returns a different format\n",
    "            inputs, labels = batch\n",
    "            \n",
    "            # Move inputs and labels to the same device as the model\n",
    "            inputs = torch.Tensor(inputs).to(device)\n",
    "            labels = labels.to(device)\n",
    "            \n",
    "            # Forward pass\n",
    "            outputs = model(inputs)\n",
    "            \n",
    "            # Get predictions (for classification tasks)\n",
    "            # Use argmax along the class dimension\n",
    "            _, predicted = torch.max(outputs, 1)\n",
    "            \n",
    "            # Update counters\n",
    "            total_samples += labels.size(0)\n",
    "            total_correct += (predicted == labels).sum().item()\n",
    "    \n",
    "    # Compute accuracy as a percentage\n",
    "    accuracy = (total_correct / total_samples) * 100\n",
    "    \n",
    "    return accuracy"
   ]
  },
  {
   "cell_type": "code",
   "execution_count": null,
   "id": "929c0b2c-d1a4-42df-89a3-0b257da3c4f3",
   "metadata": {},
   "outputs": [],
   "source": [
    "pretrained_resnet_34 = timm.create_model('resnet34', pretrained=True)\n",
    "learn_original = Learner(dls, pretrained_resnet_34, metrics=accuracy)\n",
    "learn_original.model.fc = nn.Linear(512, 2)"
   ]
  },
  {
   "cell_type": "code",
   "execution_count": null,
   "id": "69d396d1-703f-409c-bfb5-90c30a4d524d",
   "metadata": {},
   "outputs": [
    {
     "name": "stdout",
     "output_type": "stream",
     "text": [
      "Size of the original model: 85.27 MB\n",
      "Size of the quantized model: 21.51 MB\n"
     ]
    }
   ],
   "source": [
    "print(f'Size of the original model: {get_model_size(learn_original.model):.2f} MB')\n",
    "print(f'Size of the quantized model: {get_model_size(learn.model):.2f} MB')"
   ]
  },
  {
   "cell_type": "code",
   "execution_count": null,
   "id": "0c2a29a4-be79-4f94-8fa3-bd70354a631b",
   "metadata": {},
   "outputs": [
    {
     "name": "stderr",
     "output_type": "stream",
     "text": [
      "100%|██████████| 24/24 [00:02<00:00,  9.85it/s]\n"
     ]
    },
    {
     "data": {
      "text/plain": [
       "90.73071718538566"
      ]
     },
     "execution_count": null,
     "metadata": {},
     "output_type": "execute_result"
    }
   ],
   "source": [
    "compute_validation_accuracy(learn.model, dls.valid)"
   ]
  }
 ],
 "metadata": {
  "kernelspec": {
   "display_name": "python3",
   "language": "python",
   "name": "python3"
  }
 },
 "nbformat": 4,
 "nbformat_minor": 5
}
