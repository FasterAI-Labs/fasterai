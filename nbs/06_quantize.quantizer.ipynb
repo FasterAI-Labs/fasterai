{
 "cells": [
  {
   "cell_type": "raw",
   "id": "5a33dc9c",
   "metadata": {},
   "source": [
    "---\n",
    "description: Quantize your network \n",
    "output-file: quantizer.html\n",
    "title: Quantizer\n",
    "skip_showdoc: true\n",
    "skip_exec: true\n",
    "---"
   ]
  },
  {
   "cell_type": "code",
   "execution_count": null,
   "id": "1856ae63",
   "metadata": {},
   "outputs": [],
   "source": [
    "#| default_exp quantize.quantizer"
   ]
  },
  {
   "cell_type": "code",
   "execution_count": null,
   "id": "e1b7a541",
   "metadata": {},
   "outputs": [],
   "source": [
    "#| export\n",
    "import torch\n",
    "import torch.nn as nn\n",
    "import torch.nn.functional as F\n",
    "\n",
    "from torch.ao.quantization import get_default_qconfig_mapping\n",
    "import torch.ao.quantization.quantize_fx as quantize_fx\n",
    "from torch.ao.quantization.quantize_fx import convert_fx, prepare_fx"
   ]
  },
  {
   "cell_type": "code",
   "execution_count": null,
   "id": "martial-miller",
   "metadata": {},
   "outputs": [],
   "source": [
    "#| include: false\n",
    "from nbdev.showdoc import *\n",
    "from fastai.vision.all import *\n",
    "import warnings\n",
    "warnings.filterwarnings('ignore')"
   ]
  },
  {
   "cell_type": "code",
   "execution_count": null,
   "id": "cd672e0f-9ec4-4128-969f-09b657bce692",
   "metadata": {},
   "outputs": [],
   "source": [
    "#| export\n",
    "class QuantizeCallback(Callback):\n",
    "    def __init__(self, qconfig_mapping=None, backend='x86'):\n",
    "        self.qconfig_mapping = qconfig_mapping or get_default_qat_qconfig_mapping(backend)\n",
    "\n",
    "    def before_fit(self):\n",
    "        example_inputs, _ = next(iter(self.dls.train))\n",
    "        self.learn.model = quantize_fx.prepare_qat_fx(self.learn.model, self.qconfig_mapping, example_inputs)\n",
    "\n",
    "    def after_fit(self):\n",
    "        self.learn.model.eval()\n",
    "        self.learn.model = quantize_fx.convert_fx(self.learn.model.to('cpu'))"
   ]
  },
  {
   "cell_type": "code",
   "execution_count": null,
   "id": "7fc7ed85-e565-4ede-af67-4277d9d6df3a",
   "metadata": {},
   "outputs": [
    {
     "data": {
      "text/markdown": [
       "---\n",
       "\n",
       "[source](https://github.com/nathanhubens/fasterai/tree/master/blob/master/fasterai/quantize/quantizer.py#L16){target=\"_blank\" style=\"float:right; font-size:smaller\"}\n",
       "\n",
       "### Quantizer\n",
       "\n",
       ">      Quantizer (activation_observer=<class\n",
       ">                 'torch.ao.quantization.observer.MinMaxObserver'>,\n",
       ">                 weight_observer=<class\n",
       ">                 'torch.ao.quantization.observer.MinMaxObserver'>,\n",
       ">                 activation_qtype=torch.qint8, weight_qtype=torch.quint8,\n",
       ">                 granularity='tensor')\n",
       "\n",
       "Initialize self.  See help(type(self)) for accurate signature."
      ],
      "text/plain": [
       "---\n",
       "\n",
       "[source](https://github.com/nathanhubens/fasterai/tree/master/blob/master/fasterai/quantize/quantizer.py#L16){target=\"_blank\" style=\"float:right; font-size:smaller\"}\n",
       "\n",
       "### Quantizer\n",
       "\n",
       ">      Quantizer (activation_observer=<class\n",
       ">                 'torch.ao.quantization.observer.MinMaxObserver'>,\n",
       ">                 weight_observer=<class\n",
       ">                 'torch.ao.quantization.observer.MinMaxObserver'>,\n",
       ">                 activation_qtype=torch.qint8, weight_qtype=torch.quint8,\n",
       ">                 granularity='tensor')\n",
       "\n",
       "Initialize self.  See help(type(self)) for accurate signature."
      ]
     },
     "execution_count": null,
     "metadata": {},
     "output_type": "execute_result"
    }
   ],
   "source": [
    "show_doc(Quantizer)"
   ]
  }
 ],
 "metadata": {
  "kernelspec": {
   "display_name": "python3",
   "language": "python",
   "name": "python3"
  }
 },
 "nbformat": 4,
 "nbformat_minor": 5
}
