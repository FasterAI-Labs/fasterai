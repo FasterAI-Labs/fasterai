{
 "cells": [
  {
   "cell_type": "raw",
   "id": "f00a8e3d",
   "metadata": {},
   "source": [
    "---\n",
    "description: How to find winning tickets with fastai\n",
    "output-file: tutorial.lottery_ticket.html\n",
    "title: Lottery Ticket Hypothesis\n",
    "skip_showdoc: true\n",
    "skip_exec: true\n",
    "---"
   ]
  },
  {
   "cell_type": "markdown",
   "id": "handed-highlight",
   "metadata": {},
   "source": [
    "## The Lottery Ticket Hypothesis"
   ]
  },
  {
   "cell_type": "markdown",
   "id": "reflected-counter",
   "metadata": {},
   "source": [
    "The [Lottery Ticket Hypothesis](https://arxiv.org/abs/1803.03635) is a really intriguing discovery made in 2019 by Frankle & Carbin. It states that:\n",
    "\n",
    "> A randomly-initialized, dense neural network contains a subnetwork that is initialised such that — when trained in isolation — it can match the test accuracy of the original network after training for at most the same number of iterations.\n",
    "\n",
    "Meaning that, once we find that subnetwork. Every other parameter in the network becomes useless.\n",
    "\n",
    "The way authors propose to find those subnetwork is as follows:\n",
    "\n",
    "\n",
    "![](imgs/LTH.png \"Lottery Ticket Hypothesis\")\n",
    "\n",
    "\n",
    "1. Initialize the neural network\n",
    "2. Train it to convergence\n",
    "3. Prune the smallest magnitude weights by creating a mask $m$\n",
    "4. Reinitialize the weights to their original value; i.e at iteration $0$.\n",
    "5. Repeat from step 2 until reaching the desired level of sparsity.\n"
   ]
  },
  {
   "cell_type": "code",
   "execution_count": null,
   "id": "stuffed-triangle",
   "metadata": {},
   "outputs": [],
   "source": [
    "#| include: false\n",
    "from fastai.vision.all import *\n",
    "\n",
    "import torch\n",
    "import torch.nn as nn"
   ]
  },
  {
   "cell_type": "code",
   "execution_count": null,
   "id": "statewide-intention",
   "metadata": {},
   "outputs": [],
   "source": [
    "from fasterai.sparse.all import *"
   ]
  },
  {
   "cell_type": "code",
   "execution_count": null,
   "id": "competent-myrtle",
   "metadata": {},
   "outputs": [],
   "source": [
    "path = untar_data(URLs.PETS)\n",
    "files = get_image_files(path/\"images\")\n",
    "\n",
    "def label_func(f): return f[0].isupper()\n",
    "\n",
    "device = 'cuda:0' if torch.cuda.is_available() else 'cpu'\n",
    "\n",
    "dls = ImageDataLoaders.from_name_func(path, files, label_func, item_tfms=Resize(64), device=device)"
   ]
  },
  {
   "cell_type": "markdown",
   "id": "placed-money",
   "metadata": {},
   "source": [
    "What we are trying to prove is that: in a neural network A, there exists a subnetwork B able to get an accuracy $a_B > a_A$, in a training time $t_B < t_A$."
   ]
  },
  {
   "cell_type": "markdown",
   "id": "sufficient-campaign",
   "metadata": {},
   "source": [
    "Let's get the baseline for network A:"
   ]
  },
  {
   "cell_type": "code",
   "execution_count": null,
   "id": "economic-chapel",
   "metadata": {},
   "outputs": [],
   "source": [
    "learn = Learner(dls, resnet18(num_classes=2), metrics=accuracy)"
   ]
  },
  {
   "cell_type": "markdown",
   "id": "6cfbe050",
   "metadata": {},
   "source": [
    "Let's save original weights "
   ]
  },
  {
   "cell_type": "code",
   "execution_count": null,
   "id": "interracial-peoples",
   "metadata": {},
   "outputs": [],
   "source": [
    "initial_weights = deepcopy(learn.model.state_dict())"
   ]
  },
  {
   "cell_type": "code",
   "execution_count": null,
   "id": "intelligent-treasurer",
   "metadata": {},
   "outputs": [
    {
     "data": {
      "text/html": [
       "\n",
       "<style>\n",
       "    /* Turns off some styling */\n",
       "    progress {\n",
       "        /* gets rid of default border in Firefox and Opera. */\n",
       "        border: none;\n",
       "        /* Needs to be in here for Safari polyfill so background images work as expected. */\n",
       "        background-size: auto;\n",
       "    }\n",
       "    progress:not([value]), progress:not([value])::-webkit-progress-bar {\n",
       "        background: repeating-linear-gradient(45deg, #7e7e7e, #7e7e7e 10px, #5c5c5c 10px, #5c5c5c 20px);\n",
       "    }\n",
       "    .progress-bar-interrupted, .progress-bar-interrupted::-webkit-progress-bar {\n",
       "        background: #F44336;\n",
       "    }\n",
       "</style>\n"
      ],
      "text/plain": [
       "<IPython.core.display.HTML object>"
      ]
     },
     "metadata": {},
     "output_type": "display_data"
    },
    {
     "data": {
      "text/html": [
       "<table border=\"1\" class=\"dataframe\">\n",
       "  <thead>\n",
       "    <tr style=\"text-align: left;\">\n",
       "      <th>epoch</th>\n",
       "      <th>train_loss</th>\n",
       "      <th>valid_loss</th>\n",
       "      <th>accuracy</th>\n",
       "      <th>time</th>\n",
       "    </tr>\n",
       "  </thead>\n",
       "  <tbody>\n",
       "    <tr>\n",
       "      <td>0</td>\n",
       "      <td>0.595053</td>\n",
       "      <td>0.543628</td>\n",
       "      <td>0.717185</td>\n",
       "      <td>00:07</td>\n",
       "    </tr>\n",
       "    <tr>\n",
       "      <td>1</td>\n",
       "      <td>0.546125</td>\n",
       "      <td>0.531834</td>\n",
       "      <td>0.728687</td>\n",
       "      <td>00:07</td>\n",
       "    </tr>\n",
       "    <tr>\n",
       "      <td>2</td>\n",
       "      <td>0.521566</td>\n",
       "      <td>0.521680</td>\n",
       "      <td>0.746279</td>\n",
       "      <td>00:07</td>\n",
       "    </tr>\n",
       "    <tr>\n",
       "      <td>3</td>\n",
       "      <td>0.478598</td>\n",
       "      <td>0.478660</td>\n",
       "      <td>0.764547</td>\n",
       "      <td>00:07</td>\n",
       "    </tr>\n",
       "    <tr>\n",
       "      <td>4</td>\n",
       "      <td>0.421515</td>\n",
       "      <td>0.719835</td>\n",
       "      <td>0.633288</td>\n",
       "      <td>00:07</td>\n",
       "    </tr>\n",
       "  </tbody>\n",
       "</table>"
      ],
      "text/plain": [
       "<IPython.core.display.HTML object>"
      ]
     },
     "metadata": {},
     "output_type": "display_data"
    }
   ],
   "source": [
    "learn.fit(5, 1e-3)"
   ]
  },
  {
   "cell_type": "markdown",
   "id": "71c5a2ed",
   "metadata": {},
   "source": [
    "We now have our accuracy $a_A$ of $79\\%$ and our training time $t_A$ of $5$ epochs"
   ]
  },
  {
   "cell_type": "markdown",
   "id": "restricted-nutrition",
   "metadata": {},
   "source": [
    "To find the lottery ticket, we will perform iterative pruning but, at each pruning step we will re-initialize the remaining weights to their original values (i.e. before training)."
   ]
  },
  {
   "cell_type": "markdown",
   "id": "fixed-capability",
   "metadata": {},
   "source": [
    "We will restart from the same initialization to be sure to not get lucky."
   ]
  },
  {
   "cell_type": "code",
   "execution_count": null,
   "id": "reflected-holly",
   "metadata": {},
   "outputs": [
    {
     "data": {
      "text/plain": [
       "<All keys matched successfully>"
      ]
     },
     "execution_count": null,
     "metadata": {},
     "output_type": "execute_result"
    }
   ],
   "source": [
    "learn = Learner(dls, resnet18(num_classes=2), metrics=accuracy)\n",
    "learn.model.load_state_dict(initial_weights)"
   ]
  },
  {
   "cell_type": "markdown",
   "id": "cdf00529",
   "metadata": {},
   "source": [
    "We can pass the parameters `lth=True` to make the weights of the network reset to their original value after each pruning step, i.e. step 4) of the LTH. To empirically validate the LTH, we need to retrain the found \"lottery ticket\" after the pruning phase. Lottery tickets are usually found following an iterative pruning schedule. We set the `start_epoch` parameter to $5$ to begin the pruning process after $5$ epochs."
   ]
  },
  {
   "cell_type": "code",
   "execution_count": null,
   "id": "8e36f408",
   "metadata": {},
   "outputs": [],
   "source": [
    "schedule = Schedule(sched_iterative, start_pct=0.25)"
   ]
  },
  {
   "cell_type": "code",
   "execution_count": null,
   "id": "dominican-declaration",
   "metadata": {},
   "outputs": [],
   "source": [
    "sp_cb = SparsifyCallback(50, 'weight', 'local', large_final, schedule, lth=True)"
   ]
  },
  {
   "cell_type": "markdown",
   "id": "4d9fc57f",
   "metadata": {},
   "source": [
    "As our `iterative` schedule makes $3$ pruning steps by default, it means that we have to train our network for `start_epoch` + $3*t_B$, so $20$ epochs in order to get our LTH. After each step, the remaining weights will be reinitialized to their original value"
   ]
  },
  {
   "cell_type": "code",
   "execution_count": null,
   "id": "90776dd8",
   "metadata": {},
   "outputs": [
    {
     "name": "stdout",
     "output_type": "stream",
     "text": [
      "Pruning of weight until a sparsity of [50]%\n",
      "Saving Weights at epoch 0\n"
     ]
    },
    {
     "data": {
      "text/html": [
       "\n",
       "<style>\n",
       "    /* Turns off some styling */\n",
       "    progress {\n",
       "        /* gets rid of default border in Firefox and Opera. */\n",
       "        border: none;\n",
       "        /* Needs to be in here for Safari polyfill so background images work as expected. */\n",
       "        background-size: auto;\n",
       "    }\n",
       "    progress:not([value]), progress:not([value])::-webkit-progress-bar {\n",
       "        background: repeating-linear-gradient(45deg, #7e7e7e, #7e7e7e 10px, #5c5c5c 10px, #5c5c5c 20px);\n",
       "    }\n",
       "    .progress-bar-interrupted, .progress-bar-interrupted::-webkit-progress-bar {\n",
       "        background: #F44336;\n",
       "    }\n",
       "</style>\n"
      ],
      "text/plain": [
       "<IPython.core.display.HTML object>"
      ]
     },
     "metadata": {},
     "output_type": "display_data"
    },
    {
     "data": {
      "text/html": [
       "<table border=\"1\" class=\"dataframe\">\n",
       "  <thead>\n",
       "    <tr style=\"text-align: left;\">\n",
       "      <th>epoch</th>\n",
       "      <th>train_loss</th>\n",
       "      <th>valid_loss</th>\n",
       "      <th>accuracy</th>\n",
       "      <th>time</th>\n",
       "    </tr>\n",
       "  </thead>\n",
       "  <tbody>\n",
       "    <tr>\n",
       "      <td>0</td>\n",
       "      <td>0.587271</td>\n",
       "      <td>0.612850</td>\n",
       "      <td>0.668471</td>\n",
       "      <td>00:07</td>\n",
       "    </tr>\n",
       "    <tr>\n",
       "      <td>1</td>\n",
       "      <td>0.547513</td>\n",
       "      <td>0.573875</td>\n",
       "      <td>0.701624</td>\n",
       "      <td>00:07</td>\n",
       "    </tr>\n",
       "    <tr>\n",
       "      <td>2</td>\n",
       "      <td>0.501447</td>\n",
       "      <td>0.514319</td>\n",
       "      <td>0.738160</td>\n",
       "      <td>00:07</td>\n",
       "    </tr>\n",
       "    <tr>\n",
       "      <td>3</td>\n",
       "      <td>0.467517</td>\n",
       "      <td>0.518835</td>\n",
       "      <td>0.740189</td>\n",
       "      <td>00:07</td>\n",
       "    </tr>\n",
       "    <tr>\n",
       "      <td>4</td>\n",
       "      <td>0.431308</td>\n",
       "      <td>0.621117</td>\n",
       "      <td>0.654263</td>\n",
       "      <td>00:07</td>\n",
       "    </tr>\n",
       "    <tr>\n",
       "      <td>5</td>\n",
       "      <td>0.561822</td>\n",
       "      <td>0.546851</td>\n",
       "      <td>0.728011</td>\n",
       "      <td>00:07</td>\n",
       "    </tr>\n",
       "    <tr>\n",
       "      <td>6</td>\n",
       "      <td>0.514754</td>\n",
       "      <td>0.570669</td>\n",
       "      <td>0.765223</td>\n",
       "      <td>00:07</td>\n",
       "    </tr>\n",
       "    <tr>\n",
       "      <td>7</td>\n",
       "      <td>0.469772</td>\n",
       "      <td>0.576346</td>\n",
       "      <td>0.675913</td>\n",
       "      <td>00:07</td>\n",
       "    </tr>\n",
       "    <tr>\n",
       "      <td>8</td>\n",
       "      <td>0.427512</td>\n",
       "      <td>0.454539</td>\n",
       "      <td>0.799053</td>\n",
       "      <td>00:07</td>\n",
       "    </tr>\n",
       "    <tr>\n",
       "      <td>9</td>\n",
       "      <td>0.385058</td>\n",
       "      <td>0.537472</td>\n",
       "      <td>0.728011</td>\n",
       "      <td>00:07</td>\n",
       "    </tr>\n",
       "    <tr>\n",
       "      <td>10</td>\n",
       "      <td>0.482251</td>\n",
       "      <td>0.442526</td>\n",
       "      <td>0.778078</td>\n",
       "      <td>00:07</td>\n",
       "    </tr>\n",
       "    <tr>\n",
       "      <td>11</td>\n",
       "      <td>0.430115</td>\n",
       "      <td>0.510421</td>\n",
       "      <td>0.777402</td>\n",
       "      <td>00:07</td>\n",
       "    </tr>\n",
       "    <tr>\n",
       "      <td>12</td>\n",
       "      <td>0.383115</td>\n",
       "      <td>0.424600</td>\n",
       "      <td>0.811908</td>\n",
       "      <td>00:07</td>\n",
       "    </tr>\n",
       "    <tr>\n",
       "      <td>13</td>\n",
       "      <td>0.341061</td>\n",
       "      <td>0.663934</td>\n",
       "      <td>0.681326</td>\n",
       "      <td>00:07</td>\n",
       "    </tr>\n",
       "    <tr>\n",
       "      <td>14</td>\n",
       "      <td>0.322339</td>\n",
       "      <td>0.383250</td>\n",
       "      <td>0.830853</td>\n",
       "      <td>00:07</td>\n",
       "    </tr>\n",
       "    <tr>\n",
       "      <td>15</td>\n",
       "      <td>0.402276</td>\n",
       "      <td>0.441383</td>\n",
       "      <td>0.799053</td>\n",
       "      <td>00:07</td>\n",
       "    </tr>\n",
       "    <tr>\n",
       "      <td>16</td>\n",
       "      <td>0.348916</td>\n",
       "      <td>0.384334</td>\n",
       "      <td>0.814614</td>\n",
       "      <td>00:07</td>\n",
       "    </tr>\n",
       "    <tr>\n",
       "      <td>17</td>\n",
       "      <td>0.311075</td>\n",
       "      <td>0.409829</td>\n",
       "      <td>0.817321</td>\n",
       "      <td>00:07</td>\n",
       "    </tr>\n",
       "    <tr>\n",
       "      <td>18</td>\n",
       "      <td>0.280943</td>\n",
       "      <td>0.405584</td>\n",
       "      <td>0.824763</td>\n",
       "      <td>00:07</td>\n",
       "    </tr>\n",
       "    <tr>\n",
       "      <td>19</td>\n",
       "      <td>0.244700</td>\n",
       "      <td>0.385061</td>\n",
       "      <td>0.827470</td>\n",
       "      <td>00:07</td>\n",
       "    </tr>\n",
       "  </tbody>\n",
       "</table>"
      ],
      "text/plain": [
       "<IPython.core.display.HTML object>"
      ]
     },
     "metadata": {},
     "output_type": "display_data"
    },
    {
     "name": "stdout",
     "output_type": "stream",
     "text": [
      "Sparsity at the end of epoch 0: [0.0]%\n",
      "Sparsity at the end of epoch 1: [0.0]%\n",
      "Sparsity at the end of epoch 2: [0.0]%\n",
      "Sparsity at the end of epoch 3: [0.0]%\n",
      "Sparsity at the end of epoch 4: [0.0]%\n",
      "Resetting Weights to their epoch 0 values\n",
      "Sparsity at the end of epoch 5: [16.67]%\n",
      "Sparsity at the end of epoch 6: [16.67]%\n",
      "Sparsity at the end of epoch 7: [16.67]%\n",
      "Sparsity at the end of epoch 8: [16.67]%\n",
      "Sparsity at the end of epoch 9: [16.67]%\n",
      "Resetting Weights to their epoch 0 values\n",
      "Sparsity at the end of epoch 10: [33.33]%\n",
      "Sparsity at the end of epoch 11: [33.33]%\n",
      "Sparsity at the end of epoch 12: [33.33]%\n",
      "Sparsity at the end of epoch 13: [33.33]%\n",
      "Sparsity at the end of epoch 14: [33.33]%\n",
      "Resetting Weights to their epoch 0 values\n",
      "Sparsity at the end of epoch 15: [50.0]%\n",
      "Sparsity at the end of epoch 16: [50.0]%\n",
      "Sparsity at the end of epoch 17: [50.0]%\n",
      "Sparsity at the end of epoch 18: [50.0]%\n",
      "Sparsity at the end of epoch 19: [50.0]%\n",
      "Final Sparsity: [50.0]%\n",
      "Sparsity in Conv2d 1: 50.00%\n",
      "Sparsity in Conv2d 7: 50.00%\n",
      "Sparsity in Conv2d 10: 50.00%\n",
      "Sparsity in Conv2d 13: 50.00%\n",
      "Sparsity in Conv2d 16: 50.00%\n",
      "Sparsity in Conv2d 20: 50.00%\n",
      "Sparsity in Conv2d 23: 50.00%\n",
      "Sparsity in Conv2d 26: 50.00%\n",
      "Sparsity in Conv2d 29: 50.00%\n",
      "Sparsity in Conv2d 32: 50.00%\n",
      "Sparsity in Conv2d 36: 50.00%\n",
      "Sparsity in Conv2d 39: 50.00%\n",
      "Sparsity in Conv2d 42: 50.00%\n",
      "Sparsity in Conv2d 45: 50.00%\n",
      "Sparsity in Conv2d 48: 50.00%\n",
      "Sparsity in Conv2d 52: 50.00%\n",
      "Sparsity in Conv2d 55: 50.00%\n",
      "Sparsity in Conv2d 58: 50.00%\n",
      "Sparsity in Conv2d 61: 50.00%\n",
      "Sparsity in Conv2d 64: 50.00%\n"
     ]
    }
   ],
   "source": [
    "learn.fit(20, 1e-3, cbs=sp_cb)"
   ]
  },
  {
   "cell_type": "markdown",
   "id": "casual-wheat",
   "metadata": {},
   "source": [
    "We indeed have a network B, whose accuracy $a_B > a_A$ in the same training time."
   ]
  },
  {
   "cell_type": "markdown",
   "id": "ranking-samoa",
   "metadata": {},
   "source": [
    "## Lottery Ticket Hypothesis with Rewinding"
   ]
  },
  {
   "cell_type": "markdown",
   "id": "c29afe3a",
   "metadata": {},
   "source": [
    "In some case, LTH fails for deeper networks, author then propose a [solution](https://arxiv.org/pdf/1903.01611.pdf), which is to rewind the weights to a more advanced iteration instead of the initialization value."
   ]
  },
  {
   "cell_type": "code",
   "execution_count": null,
   "id": "922beeed",
   "metadata": {},
   "outputs": [
    {
     "data": {
      "text/plain": [
       "<All keys matched successfully>"
      ]
     },
     "execution_count": null,
     "metadata": {},
     "output_type": "execute_result"
    }
   ],
   "source": [
    "learn = Learner(dls, resnet18(num_classes=2), metrics=accuracy)\n",
    "learn.model.load_state_dict(initial_weights)"
   ]
  },
  {
   "cell_type": "markdown",
   "id": "e5607ce3",
   "metadata": {},
   "source": [
    "This can be done in fasterai by passing the `rewind_epoch` parameter, that will save the weights at that epoch, then resetting the weights accordingly."
   ]
  },
  {
   "cell_type": "code",
   "execution_count": null,
   "id": "a044995f",
   "metadata": {},
   "outputs": [],
   "source": [
    "sp_cb = SparsifyCallback(50, 'weight', 'local', large_final, schedule, lth=True, rewind_epoch=1)"
   ]
  },
  {
   "cell_type": "code",
   "execution_count": null,
   "id": "compact-gazette",
   "metadata": {},
   "outputs": [
    {
     "name": "stdout",
     "output_type": "stream",
     "text": [
      "Pruning of weight until a sparsity of [50]%\n"
     ]
    },
    {
     "data": {
      "text/html": [
       "\n",
       "<style>\n",
       "    /* Turns off some styling */\n",
       "    progress {\n",
       "        /* gets rid of default border in Firefox and Opera. */\n",
       "        border: none;\n",
       "        /* Needs to be in here for Safari polyfill so background images work as expected. */\n",
       "        background-size: auto;\n",
       "    }\n",
       "    progress:not([value]), progress:not([value])::-webkit-progress-bar {\n",
       "        background: repeating-linear-gradient(45deg, #7e7e7e, #7e7e7e 10px, #5c5c5c 10px, #5c5c5c 20px);\n",
       "    }\n",
       "    .progress-bar-interrupted, .progress-bar-interrupted::-webkit-progress-bar {\n",
       "        background: #F44336;\n",
       "    }\n",
       "</style>\n"
      ],
      "text/plain": [
       "<IPython.core.display.HTML object>"
      ]
     },
     "metadata": {},
     "output_type": "display_data"
    },
    {
     "data": {
      "text/html": [
       "<table border=\"1\" class=\"dataframe\">\n",
       "  <thead>\n",
       "    <tr style=\"text-align: left;\">\n",
       "      <th>epoch</th>\n",
       "      <th>train_loss</th>\n",
       "      <th>valid_loss</th>\n",
       "      <th>accuracy</th>\n",
       "      <th>time</th>\n",
       "    </tr>\n",
       "  </thead>\n",
       "  <tbody>\n",
       "    <tr>\n",
       "      <td>0</td>\n",
       "      <td>0.594580</td>\n",
       "      <td>0.625727</td>\n",
       "      <td>0.685386</td>\n",
       "      <td>00:07</td>\n",
       "    </tr>\n",
       "    <tr>\n",
       "      <td>1</td>\n",
       "      <td>0.543424</td>\n",
       "      <td>0.667005</td>\n",
       "      <td>0.675237</td>\n",
       "      <td>00:07</td>\n",
       "    </tr>\n",
       "    <tr>\n",
       "      <td>2</td>\n",
       "      <td>0.509345</td>\n",
       "      <td>0.483691</td>\n",
       "      <td>0.748309</td>\n",
       "      <td>00:07</td>\n",
       "    </tr>\n",
       "    <tr>\n",
       "      <td>3</td>\n",
       "      <td>0.470524</td>\n",
       "      <td>0.478201</td>\n",
       "      <td>0.763870</td>\n",
       "      <td>00:07</td>\n",
       "    </tr>\n",
       "    <tr>\n",
       "      <td>4</td>\n",
       "      <td>0.451323</td>\n",
       "      <td>0.550612</td>\n",
       "      <td>0.725981</td>\n",
       "      <td>00:07</td>\n",
       "    </tr>\n",
       "    <tr>\n",
       "      <td>5</td>\n",
       "      <td>0.518282</td>\n",
       "      <td>0.483968</td>\n",
       "      <td>0.762517</td>\n",
       "      <td>00:07</td>\n",
       "    </tr>\n",
       "    <tr>\n",
       "      <td>6</td>\n",
       "      <td>0.478035</td>\n",
       "      <td>0.729290</td>\n",
       "      <td>0.709743</td>\n",
       "      <td>00:07</td>\n",
       "    </tr>\n",
       "    <tr>\n",
       "      <td>7</td>\n",
       "      <td>0.425959</td>\n",
       "      <td>0.479093</td>\n",
       "      <td>0.782815</td>\n",
       "      <td>00:07</td>\n",
       "    </tr>\n",
       "    <tr>\n",
       "      <td>8</td>\n",
       "      <td>0.393114</td>\n",
       "      <td>0.407376</td>\n",
       "      <td>0.815968</td>\n",
       "      <td>00:07</td>\n",
       "    </tr>\n",
       "    <tr>\n",
       "      <td>9</td>\n",
       "      <td>0.350740</td>\n",
       "      <td>0.755570</td>\n",
       "      <td>0.654939</td>\n",
       "      <td>00:07</td>\n",
       "    </tr>\n",
       "    <tr>\n",
       "      <td>10</td>\n",
       "      <td>0.442296</td>\n",
       "      <td>0.497535</td>\n",
       "      <td>0.759134</td>\n",
       "      <td>00:07</td>\n",
       "    </tr>\n",
       "    <tr>\n",
       "      <td>11</td>\n",
       "      <td>0.390260</td>\n",
       "      <td>0.617039</td>\n",
       "      <td>0.677267</td>\n",
       "      <td>00:07</td>\n",
       "    </tr>\n",
       "    <tr>\n",
       "      <td>12</td>\n",
       "      <td>0.346842</td>\n",
       "      <td>0.365099</td>\n",
       "      <td>0.836942</td>\n",
       "      <td>00:07</td>\n",
       "    </tr>\n",
       "    <tr>\n",
       "      <td>13</td>\n",
       "      <td>0.311359</td>\n",
       "      <td>0.431787</td>\n",
       "      <td>0.811908</td>\n",
       "      <td>00:07</td>\n",
       "    </tr>\n",
       "    <tr>\n",
       "      <td>14</td>\n",
       "      <td>0.276918</td>\n",
       "      <td>0.389922</td>\n",
       "      <td>0.835589</td>\n",
       "      <td>00:07</td>\n",
       "    </tr>\n",
       "    <tr>\n",
       "      <td>15</td>\n",
       "      <td>0.342124</td>\n",
       "      <td>0.495095</td>\n",
       "      <td>0.748985</td>\n",
       "      <td>00:07</td>\n",
       "    </tr>\n",
       "    <tr>\n",
       "      <td>16</td>\n",
       "      <td>0.308753</td>\n",
       "      <td>0.553223</td>\n",
       "      <td>0.734777</td>\n",
       "      <td>00:07</td>\n",
       "    </tr>\n",
       "    <tr>\n",
       "      <td>17</td>\n",
       "      <td>0.278255</td>\n",
       "      <td>0.491012</td>\n",
       "      <td>0.803112</td>\n",
       "      <td>00:07</td>\n",
       "    </tr>\n",
       "    <tr>\n",
       "      <td>18</td>\n",
       "      <td>0.254106</td>\n",
       "      <td>0.564554</td>\n",
       "      <td>0.782815</td>\n",
       "      <td>00:07</td>\n",
       "    </tr>\n",
       "    <tr>\n",
       "      <td>19</td>\n",
       "      <td>0.224321</td>\n",
       "      <td>0.341632</td>\n",
       "      <td>0.855210</td>\n",
       "      <td>00:07</td>\n",
       "    </tr>\n",
       "  </tbody>\n",
       "</table>"
      ],
      "text/plain": [
       "<IPython.core.display.HTML object>"
      ]
     },
     "metadata": {},
     "output_type": "display_data"
    },
    {
     "name": "stdout",
     "output_type": "stream",
     "text": [
      "Sparsity at the end of epoch 0: [0.0]%\n",
      "Saving Weights at epoch 1\n",
      "Sparsity at the end of epoch 1: [0.0]%\n",
      "Sparsity at the end of epoch 2: [0.0]%\n",
      "Sparsity at the end of epoch 3: [0.0]%\n",
      "Sparsity at the end of epoch 4: [0.0]%\n",
      "Resetting Weights to their epoch 1 values\n",
      "Sparsity at the end of epoch 5: [16.67]%\n",
      "Sparsity at the end of epoch 6: [16.67]%\n",
      "Sparsity at the end of epoch 7: [16.67]%\n",
      "Sparsity at the end of epoch 8: [16.67]%\n",
      "Sparsity at the end of epoch 9: [16.67]%\n",
      "Resetting Weights to their epoch 1 values\n",
      "Sparsity at the end of epoch 10: [33.33]%\n",
      "Sparsity at the end of epoch 11: [33.33]%\n",
      "Sparsity at the end of epoch 12: [33.33]%\n",
      "Sparsity at the end of epoch 13: [33.33]%\n",
      "Sparsity at the end of epoch 14: [33.33]%\n",
      "Resetting Weights to their epoch 1 values\n",
      "Sparsity at the end of epoch 15: [50.0]%\n",
      "Sparsity at the end of epoch 16: [50.0]%\n",
      "Sparsity at the end of epoch 17: [50.0]%\n",
      "Sparsity at the end of epoch 18: [50.0]%\n",
      "Sparsity at the end of epoch 19: [50.0]%\n",
      "Final Sparsity: [50.0]%\n",
      "Sparsity in Conv2d 1: 50.00%\n",
      "Sparsity in Conv2d 7: 50.00%\n",
      "Sparsity in Conv2d 10: 50.00%\n",
      "Sparsity in Conv2d 13: 50.00%\n",
      "Sparsity in Conv2d 16: 50.00%\n",
      "Sparsity in Conv2d 20: 50.00%\n",
      "Sparsity in Conv2d 23: 50.00%\n",
      "Sparsity in Conv2d 26: 50.00%\n",
      "Sparsity in Conv2d 29: 50.00%\n",
      "Sparsity in Conv2d 32: 50.00%\n",
      "Sparsity in Conv2d 36: 50.00%\n",
      "Sparsity in Conv2d 39: 50.00%\n",
      "Sparsity in Conv2d 42: 50.00%\n",
      "Sparsity in Conv2d 45: 50.00%\n",
      "Sparsity in Conv2d 48: 50.00%\n",
      "Sparsity in Conv2d 52: 50.00%\n",
      "Sparsity in Conv2d 55: 50.00%\n",
      "Sparsity in Conv2d 58: 50.00%\n",
      "Sparsity in Conv2d 61: 50.00%\n",
      "Sparsity in Conv2d 64: 50.00%\n"
     ]
    }
   ],
   "source": [
    "learn.fit(20, 1e-3, cbs=sp_cb)"
   ]
  },
  {
   "cell_type": "markdown",
   "id": "4da0cc9a",
   "metadata": {},
   "source": [
    "## Super-Masks"
   ]
  },
  {
   "cell_type": "markdown",
   "id": "6c2b348c",
   "metadata": {},
   "source": [
    "Researchers from Uber AI [investigated](https://arxiv.org/pdf/1905.01067.pdf) the LTH and found the existence of what they call \"Super-Masks\", i.e. masks that, applied on a untrained neural network, allows to reach better-than-random results."
   ]
  },
  {
   "cell_type": "code",
   "execution_count": null,
   "id": "6f0df259",
   "metadata": {},
   "outputs": [
    {
     "data": {
      "text/plain": [
       "<All keys matched successfully>"
      ]
     },
     "execution_count": null,
     "metadata": {},
     "output_type": "execute_result"
    }
   ],
   "source": [
    "learn = Learner(dls, resnet18(num_classes=2), metrics=accuracy)\n",
    "learn.model.load_state_dict(initial_weights)"
   ]
  },
  {
   "cell_type": "markdown",
   "id": "6b2272d5",
   "metadata": {},
   "source": [
    "To find supermasks, authors perform the LTH method then apply the mask on the original, untrained network. In fasterai, you can pass the parameter `reset_end=True`, which will reset the weights to their original value at the end of the training, but keeping the pruned weights (i.e. the mask) unchanged."
   ]
  },
  {
   "cell_type": "code",
   "execution_count": null,
   "id": "d4729720",
   "metadata": {},
   "outputs": [],
   "source": [
    "sp_cb = SparsifyCallback(50, 'weight', 'local', large_final, schedule, lth=True, reset_end=True)"
   ]
  },
  {
   "cell_type": "code",
   "execution_count": null,
   "id": "2d2e5115",
   "metadata": {},
   "outputs": [
    {
     "name": "stdout",
     "output_type": "stream",
     "text": [
      "Pruning of weight until a sparsity of [50]%\n",
      "Saving Weights at epoch 0\n"
     ]
    },
    {
     "data": {
      "text/html": [
       "\n",
       "<style>\n",
       "    /* Turns off some styling */\n",
       "    progress {\n",
       "        /* gets rid of default border in Firefox and Opera. */\n",
       "        border: none;\n",
       "        /* Needs to be in here for Safari polyfill so background images work as expected. */\n",
       "        background-size: auto;\n",
       "    }\n",
       "    progress:not([value]), progress:not([value])::-webkit-progress-bar {\n",
       "        background: repeating-linear-gradient(45deg, #7e7e7e, #7e7e7e 10px, #5c5c5c 10px, #5c5c5c 20px);\n",
       "    }\n",
       "    .progress-bar-interrupted, .progress-bar-interrupted::-webkit-progress-bar {\n",
       "        background: #F44336;\n",
       "    }\n",
       "</style>\n"
      ],
      "text/plain": [
       "<IPython.core.display.HTML object>"
      ]
     },
     "metadata": {},
     "output_type": "display_data"
    },
    {
     "data": {
      "text/html": [
       "<table border=\"1\" class=\"dataframe\">\n",
       "  <thead>\n",
       "    <tr style=\"text-align: left;\">\n",
       "      <th>epoch</th>\n",
       "      <th>train_loss</th>\n",
       "      <th>valid_loss</th>\n",
       "      <th>accuracy</th>\n",
       "      <th>time</th>\n",
       "    </tr>\n",
       "  </thead>\n",
       "  <tbody>\n",
       "    <tr>\n",
       "      <td>0</td>\n",
       "      <td>0.611311</td>\n",
       "      <td>0.796523</td>\n",
       "      <td>0.674560</td>\n",
       "      <td>00:07</td>\n",
       "    </tr>\n",
       "    <tr>\n",
       "      <td>1</td>\n",
       "      <td>0.560894</td>\n",
       "      <td>0.608468</td>\n",
       "      <td>0.685386</td>\n",
       "      <td>00:07</td>\n",
       "    </tr>\n",
       "    <tr>\n",
       "      <td>2</td>\n",
       "      <td>0.529301</td>\n",
       "      <td>0.537641</td>\n",
       "      <td>0.736130</td>\n",
       "      <td>00:08</td>\n",
       "    </tr>\n",
       "    <tr>\n",
       "      <td>3</td>\n",
       "      <td>0.476619</td>\n",
       "      <td>0.542131</td>\n",
       "      <td>0.740866</td>\n",
       "      <td>00:07</td>\n",
       "    </tr>\n",
       "    <tr>\n",
       "      <td>4</td>\n",
       "      <td>0.441745</td>\n",
       "      <td>0.456982</td>\n",
       "      <td>0.776725</td>\n",
       "      <td>00:07</td>\n",
       "    </tr>\n",
       "    <tr>\n",
       "      <td>5</td>\n",
       "      <td>0.538183</td>\n",
       "      <td>0.558080</td>\n",
       "      <td>0.737483</td>\n",
       "      <td>00:07</td>\n",
       "    </tr>\n",
       "    <tr>\n",
       "      <td>6</td>\n",
       "      <td>0.497710</td>\n",
       "      <td>0.502065</td>\n",
       "      <td>0.749662</td>\n",
       "      <td>00:07</td>\n",
       "    </tr>\n",
       "    <tr>\n",
       "      <td>7</td>\n",
       "      <td>0.457478</td>\n",
       "      <td>0.542794</td>\n",
       "      <td>0.731394</td>\n",
       "      <td>00:07</td>\n",
       "    </tr>\n",
       "    <tr>\n",
       "      <td>8</td>\n",
       "      <td>0.425738</td>\n",
       "      <td>0.548435</td>\n",
       "      <td>0.725981</td>\n",
       "      <td>00:07</td>\n",
       "    </tr>\n",
       "    <tr>\n",
       "      <td>9</td>\n",
       "      <td>0.393300</td>\n",
       "      <td>0.562673</td>\n",
       "      <td>0.680650</td>\n",
       "      <td>00:07</td>\n",
       "    </tr>\n",
       "    <tr>\n",
       "      <td>10</td>\n",
       "      <td>0.475655</td>\n",
       "      <td>0.520430</td>\n",
       "      <td>0.756428</td>\n",
       "      <td>00:08</td>\n",
       "    </tr>\n",
       "    <tr>\n",
       "      <td>11</td>\n",
       "      <td>0.433569</td>\n",
       "      <td>0.582280</td>\n",
       "      <td>0.740866</td>\n",
       "      <td>00:08</td>\n",
       "    </tr>\n",
       "    <tr>\n",
       "      <td>12</td>\n",
       "      <td>0.408267</td>\n",
       "      <td>0.755556</td>\n",
       "      <td>0.547361</td>\n",
       "      <td>00:08</td>\n",
       "    </tr>\n",
       "    <tr>\n",
       "      <td>13</td>\n",
       "      <td>0.364271</td>\n",
       "      <td>0.421615</td>\n",
       "      <td>0.809202</td>\n",
       "      <td>00:07</td>\n",
       "    </tr>\n",
       "    <tr>\n",
       "      <td>14</td>\n",
       "      <td>0.324698</td>\n",
       "      <td>0.368889</td>\n",
       "      <td>0.832882</td>\n",
       "      <td>00:07</td>\n",
       "    </tr>\n",
       "    <tr>\n",
       "      <td>15</td>\n",
       "      <td>0.394710</td>\n",
       "      <td>0.604650</td>\n",
       "      <td>0.738836</td>\n",
       "      <td>00:07</td>\n",
       "    </tr>\n",
       "    <tr>\n",
       "      <td>16</td>\n",
       "      <td>0.350399</td>\n",
       "      <td>0.412777</td>\n",
       "      <td>0.814614</td>\n",
       "      <td>00:07</td>\n",
       "    </tr>\n",
       "    <tr>\n",
       "      <td>17</td>\n",
       "      <td>0.318693</td>\n",
       "      <td>0.443487</td>\n",
       "      <td>0.803789</td>\n",
       "      <td>00:07</td>\n",
       "    </tr>\n",
       "    <tr>\n",
       "      <td>18</td>\n",
       "      <td>0.280467</td>\n",
       "      <td>0.395299</td>\n",
       "      <td>0.826793</td>\n",
       "      <td>00:07</td>\n",
       "    </tr>\n",
       "    <tr>\n",
       "      <td>19</td>\n",
       "      <td>0.251164</td>\n",
       "      <td>0.380674</td>\n",
       "      <td>0.831529</td>\n",
       "      <td>00:07</td>\n",
       "    </tr>\n",
       "  </tbody>\n",
       "</table>"
      ],
      "text/plain": [
       "<IPython.core.display.HTML object>"
      ]
     },
     "metadata": {},
     "output_type": "display_data"
    },
    {
     "name": "stdout",
     "output_type": "stream",
     "text": [
      "Sparsity at the end of epoch 0: [0.0]%\n",
      "Sparsity at the end of epoch 1: [0.0]%\n",
      "Sparsity at the end of epoch 2: [0.0]%\n",
      "Sparsity at the end of epoch 3: [0.0]%\n",
      "Sparsity at the end of epoch 4: [0.0]%\n",
      "Resetting Weights to their epoch 0 values\n",
      "Sparsity at the end of epoch 5: [16.67]%\n",
      "Sparsity at the end of epoch 6: [16.67]%\n",
      "Sparsity at the end of epoch 7: [16.67]%\n",
      "Sparsity at the end of epoch 8: [16.67]%\n",
      "Sparsity at the end of epoch 9: [16.67]%\n",
      "Resetting Weights to their epoch 0 values\n",
      "Sparsity at the end of epoch 10: [33.33]%\n",
      "Sparsity at the end of epoch 11: [33.33]%\n",
      "Sparsity at the end of epoch 12: [33.33]%\n",
      "Sparsity at the end of epoch 13: [33.33]%\n",
      "Sparsity at the end of epoch 14: [33.33]%\n",
      "Resetting Weights to their epoch 0 values\n",
      "Sparsity at the end of epoch 15: [50.0]%\n",
      "Sparsity at the end of epoch 16: [50.0]%\n",
      "Sparsity at the end of epoch 17: [50.0]%\n",
      "Sparsity at the end of epoch 18: [50.0]%\n",
      "Sparsity at the end of epoch 19: [50.0]%\n",
      "Final Sparsity: [50.0]%\n",
      "Sparsity in Conv2d 1: 50.00%\n",
      "Sparsity in Conv2d 7: 50.00%\n",
      "Sparsity in Conv2d 10: 50.00%\n",
      "Sparsity in Conv2d 13: 50.00%\n",
      "Sparsity in Conv2d 16: 50.00%\n",
      "Sparsity in Conv2d 20: 50.00%\n",
      "Sparsity in Conv2d 23: 50.00%\n",
      "Sparsity in Conv2d 26: 50.00%\n",
      "Sparsity in Conv2d 29: 50.00%\n",
      "Sparsity in Conv2d 32: 50.00%\n",
      "Sparsity in Conv2d 36: 50.00%\n",
      "Sparsity in Conv2d 39: 50.00%\n",
      "Sparsity in Conv2d 42: 50.00%\n",
      "Sparsity in Conv2d 45: 50.00%\n",
      "Sparsity in Conv2d 48: 50.00%\n",
      "Sparsity in Conv2d 52: 50.00%\n",
      "Sparsity in Conv2d 55: 50.00%\n",
      "Sparsity in Conv2d 58: 50.00%\n",
      "Sparsity in Conv2d 61: 50.00%\n",
      "Sparsity in Conv2d 64: 50.00%\n"
     ]
    }
   ],
   "source": [
    "learn.fit(20, 1e-3, cbs=sp_cb)"
   ]
  },
  {
   "cell_type": "code",
   "execution_count": null,
   "id": "5f37bbcf",
   "metadata": {},
   "outputs": [
    {
     "data": {
      "text/html": [
       "\n",
       "<style>\n",
       "    /* Turns off some styling */\n",
       "    progress {\n",
       "        /* gets rid of default border in Firefox and Opera. */\n",
       "        border: none;\n",
       "        /* Needs to be in here for Safari polyfill so background images work as expected. */\n",
       "        background-size: auto;\n",
       "    }\n",
       "    progress:not([value]), progress:not([value])::-webkit-progress-bar {\n",
       "        background: repeating-linear-gradient(45deg, #7e7e7e, #7e7e7e 10px, #5c5c5c 10px, #5c5c5c 20px);\n",
       "    }\n",
       "    .progress-bar-interrupted, .progress-bar-interrupted::-webkit-progress-bar {\n",
       "        background: #F44336;\n",
       "    }\n",
       "</style>\n"
      ],
      "text/plain": [
       "<IPython.core.display.HTML object>"
      ]
     },
     "metadata": {},
     "output_type": "display_data"
    },
    {
     "data": {
      "text/html": [],
      "text/plain": [
       "<IPython.core.display.HTML object>"
      ]
     },
     "metadata": {},
     "output_type": "display_data"
    },
    {
     "data": {
      "text/plain": [
       "(#2) [0.8659006357192993,0.665764570236206]"
      ]
     },
     "execution_count": null,
     "metadata": {},
     "output_type": "execute_result"
    }
   ],
   "source": [
    "learn.validate()"
   ]
  }
 ],
 "metadata": {
  "kernelspec": {
   "display_name": "python3",
   "language": "python",
   "name": "python3"
  }
 },
 "nbformat": 4,
 "nbformat_minor": 5
}
