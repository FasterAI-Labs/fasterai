{
 "cells": [
  {
   "cell_type": "raw",
   "id": "a5e2bf94",
   "metadata": {},
   "source": [
    "---\n",
    "description: Make your neural network sparse with fastai\n",
    "output-file: tutorial.sparsifier.html\n",
    "title: Sparsifier\n",
    "skip_showdoc: true\n",
    "skip_exec: true\n",
    "---"
   ]
  },
  {
   "cell_type": "code",
   "execution_count": null,
   "id": "2f1af834",
   "metadata": {},
   "outputs": [],
   "source": [
    "#| include: false\n",
    "from nbdev.showdoc import *"
   ]
  },
  {
   "cell_type": "code",
   "execution_count": null,
   "id": "dc55cab5",
   "metadata": {},
   "outputs": [
    {
     "name": "stderr",
     "output_type": "stream",
     "text": [
      "/home/HubensN/miniconda3/envs/prune/lib/python3.9/site-packages/torchvision/io/image.py:13: UserWarning: Failed to load image Python extension: libtorch_cuda_cu.so: cannot open shared object file: No such file or directory\n",
      "  warn(f\"Failed to load image Python extension: {e}\")\n"
     ]
    }
   ],
   "source": [
    "#| include: false\n",
    "import numpy as np\n",
    "import torch\n",
    "import torch.nn as nn\n",
    "from fasterai.sparse.all import *\n",
    "from fastai.vision.all import *"
   ]
  },
  {
   "cell_type": "code",
   "execution_count": null,
   "id": "d7b162e6",
   "metadata": {},
   "outputs": [],
   "source": [
    "#| include: false\n",
    "from torchvision.utils import make_grid\n",
    "import matplotlib.pyplot as plt"
   ]
  },
  {
   "cell_type": "markdown",
   "id": "d1fa5f13",
   "metadata": {},
   "source": [
    "A sparse vector, as opposed to a dense one, is a vector which contains a lot of zeroes. When we speak about making a neural network sparse, we thus mean that the network's weight are mostly zeroes.\n",
    "\n",
    "With fasterai, you can do that thanks to the `Sparsifier` class."
   ]
  },
  {
   "cell_type": "markdown",
   "id": "d5ff169d",
   "metadata": {},
   "source": [
    "Let's start by creating a model"
   ]
  },
  {
   "cell_type": "code",
   "execution_count": null,
   "id": "2b2cb008",
   "metadata": {},
   "outputs": [],
   "source": [
    "model = resnet18()"
   ]
  },
  {
   "cell_type": "markdown",
   "id": "9fef1635",
   "metadata": {},
   "source": [
    "As you probably know, weights in a convolutional neural network have 4 dimensions ($ c_{out} \\times c_{in} \\times k_h \\times k_w$)"
   ]
  },
  {
   "cell_type": "code",
   "execution_count": null,
   "id": "1eea3185",
   "metadata": {},
   "outputs": [
    {
     "data": {
      "text/plain": [
       "4"
      ]
     },
     "execution_count": null,
     "metadata": {},
     "output_type": "execute_result"
    }
   ],
   "source": [
    "model.conv1.weight.ndim"
   ]
  },
  {
   "cell_type": "code",
   "execution_count": null,
   "id": "8348f683",
   "metadata": {},
   "outputs": [],
   "source": [
    "#| include: false\n",
    "def plot_kernels(layer, save=None):\n",
    "    kernels = abs(layer.weight.detach().clone())\n",
    "    kernels = kernels - kernels.min()\n",
    "    kernels = kernels/kernels.max()\n",
    "    \n",
    "    #plt.figure(figsize=(10,10))\n",
    "    fig, ax = plt.subplots(1, 1, figsize=(10,10), dpi=100)\n",
    "    fig.patch.set_alpha(0.)\n",
    "    ax.patch.set_alpha(0.)\n",
    "    img = make_grid(kernels, nrow=8, padding=1, pad_value=0.137)\n",
    "    plt.axis('off')\n",
    "    plt.imshow(img.detach().permute(1,2,0).cpu())\n",
    "    if save: plt.savefig(f'{save}.pdf')"
   ]
  },
  {
   "cell_type": "markdown",
   "id": "f615fd57",
   "metadata": {},
   "source": [
    "In the case of ResNet18, the dimension of the first layer weights is $64 \\times 3 \\times 7 \\times 7$. We thus can plot each of the $64$ filter as a $7 \\times 7$ color image (because they contains $3$ channels)."
   ]
  },
  {
   "cell_type": "code",
   "execution_count": null,
   "id": "cb0f18d7",
   "metadata": {},
   "outputs": [
    {
     "data": {
      "image/png": "[encoded data removed]",
      "text/plain": [
       "<Figure size 1000x1000 with 1 Axes>"
      ]
     },
     "metadata": {
      "needs_background": "light"
     },
     "output_type": "display_data"
    }
   ],
   "source": [
    "plot_kernels(model.conv1)"
   ]
  },
  {
   "cell_type": "markdown",
   "id": "5e0fad58",
   "metadata": {},
   "source": [
    "The `Sparsifier` class allows us to remove some (part of) the filters, that are considered to be less useful than others. This can be done by first creating an instance of the class, specifying:\n",
    "\n",
    "- The `granularity`, i.e. the part of filters that you want to remove. Typically, we usually remove weights, vectors, kernels or even complete filters.\n",
    "- The `context`, i.e. if you want to consider each layer independently (`local`), or compare the parameters to remove across the whole network (`global`).\n",
    "- The `criteria`, i.e. the way to assess the usefulness of a parameter. Common methods compare parameters using their magnitude, the lowest magnitude ones considered to be less useful."
   ]
  },
  {
   "cell_type": "markdown",
   "id": "021c701d",
   "metadata": {},
   "source": [
    "User can pass a single layer to prune by using the  `Sparsifier.sparsify_layer` method."
   ]
  },
  {
   "cell_type": "code",
   "execution_count": null,
   "id": "f6f2b77a",
   "metadata": {},
   "outputs": [
    {
     "data": {
      "text/markdown": [
       "---\n",
       "\n",
       "### Sparsifier.sparsify_layer\n",
       "\n",
       ">      Sparsifier.sparsify_layer (m, sparsity, round_to=None)"
      ],
      "text/plain": [
       "---\n",
       "\n",
       "### Sparsifier.sparsify_layer\n",
       "\n",
       ">      Sparsifier.sparsify_layer (m, sparsity, round_to=None)"
      ]
     },
     "execution_count": null,
     "metadata": {},
     "output_type": "execute_result"
    }
   ],
   "source": [
    "show_doc(Sparsifier.sparsify_layer)"
   ]
  },
  {
   "cell_type": "code",
   "execution_count": null,
   "id": "37c9bb3e",
   "metadata": {},
   "outputs": [],
   "source": [
    "model = resnet18()\n",
    "sparsifier = Sparsifier(model, 'filter', 'local', large_final)\n",
    "sparsifier.sparsify_layer(model.conv1, 70)"
   ]
  },
  {
   "cell_type": "code",
   "execution_count": null,
   "id": "9549852d",
   "metadata": {},
   "outputs": [
    {
     "name": "stdout",
     "output_type": "stream",
     "text": [
      "Sparsity in Conv2d 1: 70.31%\n",
      "Sparsity in Conv2d 7: 0.00%\n",
      "Sparsity in Conv2d 10: 0.00%\n",
      "Sparsity in Conv2d 13: 0.00%\n",
      "Sparsity in Conv2d 16: 0.00%\n",
      "Sparsity in Conv2d 20: 0.00%\n",
      "Sparsity in Conv2d 23: 0.00%\n",
      "Sparsity in Conv2d 26: 0.00%\n",
      "Sparsity in Conv2d 29: 0.00%\n",
      "Sparsity in Conv2d 32: 0.00%\n",
      "Sparsity in Conv2d 36: 0.00%\n",
      "Sparsity in Conv2d 39: 0.00%\n",
      "Sparsity in Conv2d 42: 0.00%\n",
      "Sparsity in Conv2d 45: 0.00%\n",
      "Sparsity in Conv2d 48: 0.00%\n",
      "Sparsity in Conv2d 52: 0.00%\n",
      "Sparsity in Conv2d 55: 0.00%\n",
      "Sparsity in Conv2d 58: 0.00%\n",
      "Sparsity in Conv2d 61: 0.00%\n",
      "Sparsity in Conv2d 64: 0.00%\n"
     ]
    }
   ],
   "source": [
    "sparsifier.print_sparsity()"
   ]
  },
  {
   "cell_type": "markdown",
   "id": "73f24aa0",
   "metadata": {},
   "source": [
    "Most of the time, we may want to prune the whole model at once, using the `Sparsifier.sparsify_model` method, indicating the percentage of sparsity to you want to apply."
   ]
  },
  {
   "cell_type": "code",
   "execution_count": null,
   "id": "bf6728d3",
   "metadata": {},
   "outputs": [
    {
     "data": {
      "text/markdown": [
       "---\n",
       "\n",
       "### Sparsifier.sparsify_model\n",
       "\n",
       ">      Sparsifier.sparsify_model (sparsity, round_to=None)"
      ],
      "text/plain": [
       "---\n",
       "\n",
       "### Sparsifier.sparsify_model\n",
       "\n",
       ">      Sparsifier.sparsify_model (sparsity, round_to=None)"
      ]
     },
     "execution_count": null,
     "metadata": {},
     "output_type": "execute_result"
    }
   ],
   "source": [
    "show_doc(Sparsifier.sparsify_model)"
   ]
  },
  {
   "cell_type": "markdown",
   "id": "562427b7",
   "metadata": {},
   "source": [
    "There are several ways in which we can make that first layer sparse. You will find the most important below:"
   ]
  },
  {
   "cell_type": "code",
   "execution_count": null,
   "id": "babade1d",
   "metadata": {},
   "outputs": [],
   "source": [
    "model = resnet18()\n",
    "sparsifier = Sparsifier(model, 'weight', 'local', large_final)\n",
    "sparsifier.sparsify_model(70)"
   ]
  },
  {
   "cell_type": "code",
   "execution_count": null,
   "id": "4b42d1bf",
   "metadata": {},
   "outputs": [
    {
     "name": "stdout",
     "output_type": "stream",
     "text": [
      "Sparsity in Conv2d 1: 69.99%\n",
      "Sparsity in Conv2d 7: 70.00%\n",
      "Sparsity in Conv2d 10: 70.00%\n",
      "Sparsity in Conv2d 13: 70.00%\n",
      "Sparsity in Conv2d 16: 70.00%\n",
      "Sparsity in Conv2d 20: 70.00%\n",
      "Sparsity in Conv2d 23: 70.00%\n",
      "Sparsity in Conv2d 26: 70.00%\n",
      "Sparsity in Conv2d 29: 70.00%\n",
      "Sparsity in Conv2d 32: 70.00%\n",
      "Sparsity in Conv2d 36: 70.00%\n",
      "Sparsity in Conv2d 39: 70.00%\n",
      "Sparsity in Conv2d 42: 70.00%\n",
      "Sparsity in Conv2d 45: 70.00%\n",
      "Sparsity in Conv2d 48: 70.00%\n",
      "Sparsity in Conv2d 52: 70.00%\n",
      "Sparsity in Conv2d 55: 70.00%\n",
      "Sparsity in Conv2d 58: 70.00%\n",
      "Sparsity in Conv2d 61: 70.00%\n",
      "Sparsity in Conv2d 64: 70.00%\n"
     ]
    }
   ],
   "source": [
    "sparsifier.print_sparsity()"
   ]
  },
  {
   "cell_type": "markdown",
   "id": "3be5ac3a",
   "metadata": {},
   "source": [
    "You now have a model that is $70\\%$ sparse ! "
   ]
  },
  {
   "cell_type": "markdown",
   "id": "5f7feb0e",
   "metadata": {},
   "source": [
    "## Granularity"
   ]
  },
  {
   "cell_type": "markdown",
   "id": "3b9826d8",
   "metadata": {},
   "source": [
    "As we said earlier, the `granularity` defines the structure of parameter that you will remove."
   ]
  },
  {
   "cell_type": "markdown",
   "id": "ef302926",
   "metadata": {},
   "source": [
    "In the example below, we removed `weight` from each convolutional filter, meaning that we now have sparse filters, as can be seen in the image below:"
   ]
  },
  {
   "cell_type": "code",
   "execution_count": null,
   "id": "f94e550e",
   "metadata": {},
   "outputs": [
    {
     "data": {
      "image/png": "[encoded data removed]",
      "text/plain": [
       "<Figure size 1000x1000 with 1 Axes>"
      ]
     },
     "metadata": {
      "needs_background": "light"
     },
     "output_type": "display_data"
    }
   ],
   "source": [
    "plot_kernels(model.conv1)"
   ]
  },
  {
   "cell_type": "markdown",
   "id": "777aed15",
   "metadata": {},
   "source": [
    "Another granularity is, for example, removing `column` vectors from the filters. To do so, just change the granularity parameter accordingly."
   ]
  },
  {
   "cell_type": "code",
   "execution_count": null,
   "id": "2fa9a4f4",
   "metadata": {},
   "outputs": [],
   "source": [
    "model = resnet18()\n",
    "sparsifier = Sparsifier(model, 'column', 'local', large_final)\n",
    "sparsifier.sparsify_layer(model.conv1, 70)"
   ]
  },
  {
   "cell_type": "code",
   "execution_count": null,
   "id": "4ded77d1",
   "metadata": {},
   "outputs": [
    {
     "data": {
      "image/png": "[encoded data removed]",
      "text/plain": [
       "<Figure size 1000x1000 with 1 Axes>"
      ]
     },
     "metadata": {
      "needs_background": "light"
     },
     "output_type": "display_data"
    }
   ],
   "source": [
    "plot_kernels(model.conv1)"
   ]
  },
  {
   "cell_type": "markdown",
   "id": "de2c19bd",
   "metadata": {},
   "source": [
    "For more information and examples about the pruning granularities, I suggest you to take a look at the [corresponding section](https://nathanhubens.github.io/fasterai/granularity.html)."
   ]
  },
  {
   "cell_type": "markdown",
   "id": "665a5174",
   "metadata": {},
   "source": [
    "## Context"
   ]
  },
  {
   "cell_type": "markdown",
   "id": "ed4a4bed",
   "metadata": {},
   "source": [
    "The context defines where to look in the model, i.e. from where do we compare weight. The two basic contexts are:\n",
    "* local, i.e. we compare weight from each layer individually. This will lead to layers with similar levels of sparsity.\n",
    "* global, i.e. we compare weight from the whole model. This will lead to layers with different levels of sparsity"
   ]
  },
  {
   "cell_type": "code",
   "execution_count": null,
   "id": "a94e37c8",
   "metadata": {},
   "outputs": [],
   "source": [
    "model = resnet18()\n",
    "sparsifier = Sparsifier(model, 'weight', 'local', large_final)\n",
    "sparsifier.sparsify_model(70)"
   ]
  },
  {
   "cell_type": "code",
   "execution_count": null,
   "id": "032923fc",
   "metadata": {},
   "outputs": [
    {
     "name": "stdout",
     "output_type": "stream",
     "text": [
      "Sparsity in Conv2d 1: 69.99%\n",
      "Sparsity in Conv2d 7: 70.00%\n",
      "Sparsity in Conv2d 10: 70.00%\n",
      "Sparsity in Conv2d 13: 70.00%\n",
      "Sparsity in Conv2d 16: 70.00%\n",
      "Sparsity in Conv2d 20: 70.00%\n",
      "Sparsity in Conv2d 23: 70.00%\n",
      "Sparsity in Conv2d 26: 70.00%\n",
      "Sparsity in Conv2d 29: 70.00%\n",
      "Sparsity in Conv2d 32: 70.00%\n",
      "Sparsity in Conv2d 36: 70.00%\n",
      "Sparsity in Conv2d 39: 70.00%\n",
      "Sparsity in Conv2d 42: 70.00%\n",
      "Sparsity in Conv2d 45: 70.00%\n",
      "Sparsity in Conv2d 48: 70.00%\n",
      "Sparsity in Conv2d 52: 70.00%\n",
      "Sparsity in Conv2d 55: 70.00%\n",
      "Sparsity in Conv2d 58: 70.00%\n",
      "Sparsity in Conv2d 61: 70.00%\n",
      "Sparsity in Conv2d 64: 70.00%\n"
     ]
    }
   ],
   "source": [
    "sparsifier.print_sparsity()"
   ]
  },
  {
   "cell_type": "code",
   "execution_count": null,
   "id": "05148051",
   "metadata": {},
   "outputs": [],
   "source": [
    "model = resnet18()\n",
    "sparsifier = Sparsifier(model, 'weight', 'global', large_final)\n",
    "sparsifier.sparsify_model(70)"
   ]
  },
  {
   "cell_type": "code",
   "execution_count": null,
   "id": "e3676822",
   "metadata": {},
   "outputs": [
    {
     "name": "stdout",
     "output_type": "stream",
     "text": [
      "Sparsity in Conv2d 1: 66.14%\n",
      "Sparsity in Conv2d 7: 32.17%\n",
      "Sparsity in Conv2d 10: 32.31%\n",
      "Sparsity in Conv2d 13: 32.28%\n",
      "Sparsity in Conv2d 16: 31.73%\n",
      "Sparsity in Conv2d 20: 44.03%\n",
      "Sparsity in Conv2d 23: 44.44%\n",
      "Sparsity in Conv2d 26: 15.32%\n",
      "Sparsity in Conv2d 29: 44.43%\n",
      "Sparsity in Conv2d 32: 44.24%\n",
      "Sparsity in Conv2d 36: 59.17%\n",
      "Sparsity in Conv2d 39: 59.22%\n",
      "Sparsity in Conv2d 42: 22.02%\n",
      "Sparsity in Conv2d 45: 59.24%\n",
      "Sparsity in Conv2d 48: 59.14%\n",
      "Sparsity in Conv2d 52: 75.82%\n",
      "Sparsity in Conv2d 55: 75.86%\n",
      "Sparsity in Conv2d 58: 30.28%\n",
      "Sparsity in Conv2d 61: 75.86%\n",
      "Sparsity in Conv2d 64: 75.88%\n"
     ]
    }
   ],
   "source": [
    "sparsifier.print_sparsity()"
   ]
  },
  {
   "cell_type": "markdown",
   "id": "7153679f",
   "metadata": {},
   "source": [
    "## Criteria"
   ]
  },
  {
   "cell_type": "markdown",
   "id": "8832c032",
   "metadata": {},
   "source": [
    "The `criteria` defines how we select the parameters to remove. It is usually given by a scoring method. The most common one is the `large_final`, i.e. select parameters with the highest absolute value as they are supposed to contribute the most to the final results of the model."
   ]
  },
  {
   "cell_type": "code",
   "execution_count": null,
   "id": "3448a6df",
   "metadata": {},
   "outputs": [],
   "source": [
    "model = resnet18()\n",
    "sparsifier = Sparsifier(model, 'weight', 'global', large_final)\n",
    "sparsifier.sparsify_model(70)"
   ]
  },
  {
   "cell_type": "code",
   "execution_count": null,
   "id": "7cb7446b",
   "metadata": {},
   "outputs": [
    {
     "name": "stdout",
     "output_type": "stream",
     "text": [
      "Sparsity in Conv2d 1: 66.46%\n",
      "Sparsity in Conv2d 7: 31.56%\n",
      "Sparsity in Conv2d 10: 31.81%\n",
      "Sparsity in Conv2d 13: 31.92%\n",
      "Sparsity in Conv2d 16: 32.47%\n",
      "Sparsity in Conv2d 20: 44.29%\n",
      "Sparsity in Conv2d 23: 43.94%\n",
      "Sparsity in Conv2d 26: 15.31%\n",
      "Sparsity in Conv2d 29: 44.11%\n",
      "Sparsity in Conv2d 32: 44.10%\n",
      "Sparsity in Conv2d 36: 59.13%\n",
      "Sparsity in Conv2d 39: 59.23%\n",
      "Sparsity in Conv2d 42: 21.60%\n",
      "Sparsity in Conv2d 45: 59.36%\n",
      "Sparsity in Conv2d 48: 59.32%\n",
      "Sparsity in Conv2d 52: 75.91%\n",
      "Sparsity in Conv2d 55: 75.88%\n",
      "Sparsity in Conv2d 58: 30.19%\n",
      "Sparsity in Conv2d 61: 75.80%\n",
      "Sparsity in Conv2d 64: 75.87%\n"
     ]
    }
   ],
   "source": [
    "sparsifier.print_sparsity()"
   ]
  },
  {
   "cell_type": "code",
   "execution_count": null,
   "id": "3567d9f6",
   "metadata": {},
   "outputs": [],
   "source": [
    "model = resnet18()\n",
    "sparsifier = Sparsifier(model, 'weight', 'global', small_final)\n",
    "sparsifier.sparsify_model(70)"
   ]
  },
  {
   "cell_type": "code",
   "execution_count": null,
   "id": "515fafbf",
   "metadata": {},
   "outputs": [
    {
     "name": "stdout",
     "output_type": "stream",
     "text": [
      "Sparsity in Conv2d 1: 38.87%\n",
      "Sparsity in Conv2d 7: 2.38%\n",
      "Sparsity in Conv2d 10: 0.65%\n",
      "Sparsity in Conv2d 13: 1.63%\n",
      "Sparsity in Conv2d 16: 1.32%\n",
      "Sparsity in Conv2d 20: 1.72%\n",
      "Sparsity in Conv2d 23: 4.12%\n",
      "Sparsity in Conv2d 26: 0.17%\n",
      "Sparsity in Conv2d 29: 0.97%\n",
      "Sparsity in Conv2d 32: 7.12%\n",
      "Sparsity in Conv2d 36: 26.24%\n",
      "Sparsity in Conv2d 39: 8.62%\n",
      "Sparsity in Conv2d 42: 0.22%\n",
      "Sparsity in Conv2d 45: 10.87%\n",
      "Sparsity in Conv2d 48: 4.43%\n",
      "Sparsity in Conv2d 52: 90.31%\n",
      "Sparsity in Conv2d 55: 94.71%\n",
      "Sparsity in Conv2d 58: 0.41%\n",
      "Sparsity in Conv2d 61: 96.16%\n",
      "Sparsity in Conv2d 64: 84.94%\n"
     ]
    }
   ],
   "source": [
    "sparsifier.print_sparsity()"
   ]
  },
  {
   "cell_type": "markdown",
   "id": "3307b32e",
   "metadata": {},
   "source": [
    "For more information and examples about the pruning criteria, I suggest you to take a look at the [corresponding section](https://nathanhubens.github.io/fasterai/criteria.html)."
   ]
  },
  {
   "cell_type": "markdown",
   "id": "fb5115ea",
   "metadata": {},
   "source": [
    "## Remark"
   ]
  },
  {
   "cell_type": "markdown",
   "id": "d8f22752",
   "metadata": {},
   "source": [
    "In some case, you may want to impose the remaining amount of parameters to be a multiple of 8, this can be done by passing the `round_to` parameter."
   ]
  },
  {
   "cell_type": "code",
   "execution_count": null,
   "id": "4a0452d2",
   "metadata": {},
   "outputs": [],
   "source": [
    "model = resnet18()\n",
    "sparsifier = Sparsifier(model, 'filter', 'local', large_final)\n",
    "sparsifier.sparsify_model(70, round_to=8)"
   ]
  },
  {
   "cell_type": "code",
   "execution_count": null,
   "id": "1f689e3d",
   "metadata": {},
   "outputs": [
    {
     "name": "stdout",
     "output_type": "stream",
     "text": [
      "Sparsity in Conv2d 1: 62.50%\n",
      "Sparsity in Conv2d 7: 62.50%\n",
      "Sparsity in Conv2d 10: 62.50%\n",
      "Sparsity in Conv2d 13: 62.50%\n",
      "Sparsity in Conv2d 16: 62.50%\n",
      "Sparsity in Conv2d 20: 68.75%\n",
      "Sparsity in Conv2d 23: 68.75%\n",
      "Sparsity in Conv2d 26: 68.75%\n",
      "Sparsity in Conv2d 29: 68.75%\n",
      "Sparsity in Conv2d 32: 68.75%\n",
      "Sparsity in Conv2d 36: 68.75%\n",
      "Sparsity in Conv2d 39: 68.75%\n",
      "Sparsity in Conv2d 42: 68.75%\n",
      "Sparsity in Conv2d 45: 68.75%\n",
      "Sparsity in Conv2d 48: 68.75%\n",
      "Sparsity in Conv2d 52: 68.75%\n",
      "Sparsity in Conv2d 55: 68.75%\n",
      "Sparsity in Conv2d 58: 68.75%\n",
      "Sparsity in Conv2d 61: 68.75%\n",
      "Sparsity in Conv2d 64: 68.75%\n"
     ]
    }
   ],
   "source": [
    "sparsifier.print_sparsity()"
   ]
  },
  {
   "cell_type": "code",
   "execution_count": null,
   "id": "e2058e56",
   "metadata": {},
   "outputs": [],
   "source": [
    "model = resnet18()\n",
    "sparsifier = Sparsifier(model, 'filter', 'global', large_final)\n",
    "sparsifier.sparsify_model(70, round_to=8)"
   ]
  },
  {
   "cell_type": "code",
   "execution_count": null,
   "id": "1f058242",
   "metadata": {},
   "outputs": [
    {
     "name": "stdout",
     "output_type": "stream",
     "text": [
      "Sparsity in Conv2d 1: 87.50%\n",
      "Sparsity in Conv2d 7: 0.00%\n",
      "Sparsity in Conv2d 10: 0.00%\n",
      "Sparsity in Conv2d 13: 0.00%\n",
      "Sparsity in Conv2d 16: 0.00%\n",
      "Sparsity in Conv2d 20: 93.75%\n",
      "Sparsity in Conv2d 23: 93.75%\n",
      "Sparsity in Conv2d 26: 0.00%\n",
      "Sparsity in Conv2d 29: 93.75%\n",
      "Sparsity in Conv2d 32: 93.75%\n",
      "Sparsity in Conv2d 36: 96.88%\n",
      "Sparsity in Conv2d 39: 96.88%\n",
      "Sparsity in Conv2d 42: 0.00%\n",
      "Sparsity in Conv2d 45: 96.88%\n",
      "Sparsity in Conv2d 48: 93.75%\n",
      "Sparsity in Conv2d 52: 98.44%\n",
      "Sparsity in Conv2d 55: 98.44%\n",
      "Sparsity in Conv2d 58: 0.00%\n",
      "Sparsity in Conv2d 61: 98.44%\n",
      "Sparsity in Conv2d 64: 96.88%\n"
     ]
    }
   ],
   "source": [
    "sparsifier.print_sparsity()"
   ]
  },
  {
   "cell_type": "markdown",
   "id": "9d380fce",
   "metadata": {},
   "source": [
    "For more information about granularities at which you can operate, please check the [related page](https://nathanhubens.github.io/fasterai/granularity.html)."
   ]
  }
 ],
 "metadata": {
  "kernelspec": {
   "display_name": "python3",
   "language": "python",
   "name": "python3"
  }
 },
 "nbformat": 4,
 "nbformat_minor": 5
}
