{
 "cells": [
  {
   "cell_type": "raw",
   "id": "c491d746",
   "metadata": {},
   "source": [
    "---\n",
    "description: How to apply knowledge distillation with fasterai\n",
    "output-file: tutorial.knowledge_distillation.html\n",
    "title: KnowledgeDistillationCallback\n",
    "skip_showdoc: true\n",
    "skip_exec: true\n",
    "---\n",
    "\n"
   ]
  },
  {
   "cell_type": "code",
   "execution_count": null,
   "id": "threaded-wallet",
   "metadata": {},
   "outputs": [],
   "source": [
    "#| include: false\n",
    "from fasterai.distill.all import *\n",
    "from fastai.vision.all import *"
   ]
  },
  {
   "cell_type": "markdown",
   "id": "settled-charlotte",
   "metadata": {},
   "source": [
    "We'll illustrate how to use Knowledge Distillation to distill the knowledge of a Resnet34 (the teacher), to a Resnet18 (the student)"
   ]
  },
  {
   "cell_type": "markdown",
   "id": "enormous-temple",
   "metadata": {},
   "source": [
    "Let's us grab some data"
   ]
  },
  {
   "cell_type": "code",
   "execution_count": null,
   "id": "greek-butter",
   "metadata": {},
   "outputs": [],
   "source": [
    "path = untar_data(URLs.PETS)\n",
    "files = get_image_files(path/\"images\")\n",
    "\n",
    "def label_func(f): return f[0].isupper()\n",
    "\n",
    "dls = ImageDataLoaders.from_name_func(path, files, label_func, item_tfms=Resize(64))"
   ]
  },
  {
   "cell_type": "markdown",
   "id": "brave-miami",
   "metadata": {},
   "source": [
    "The first step is then to train the teacher model. We'll start from a pretrained model, ensuring to get good results on our dataset."
   ]
  },
  {
   "cell_type": "code",
   "execution_count": null,
   "id": "duplicate-spread",
   "metadata": {},
   "outputs": [
    {
     "name": "stderr",
     "output_type": "stream",
     "text": [
      "/home/HubensN/miniconda3/envs/deep/lib/python3.8/site-packages/fastai/vision/learner.py:265: UserWarning: `cnn_learner` has been renamed to `vision_learner` -- please update your code\n",
      "  warn(\"`cnn_learner` has been renamed to `vision_learner` -- please update your code\")\n"
     ]
    },
    {
     "data": {
      "text/html": [
       "\n",
       "<style>\n",
       "    /* Turns off some styling */\n",
       "    progress {\n",
       "        /* gets rid of default border in Firefox and Opera. */\n",
       "        border: none;\n",
       "        /* Needs to be in here for Safari polyfill so background images work as expected. */\n",
       "        background-size: auto;\n",
       "    }\n",
       "    .progress-bar-interrupted, .progress-bar-interrupted::-webkit-progress-bar {\n",
       "        background: #F44336;\n",
       "    }\n",
       "</style>\n"
      ],
      "text/plain": [
       "<IPython.core.display.HTML object>"
      ]
     },
     "metadata": {},
     "output_type": "display_data"
    },
    {
     "data": {
      "text/html": [
       "<table border=\"1\" class=\"dataframe\">\n",
       "  <thead>\n",
       "    <tr style=\"text-align: left;\">\n",
       "      <th>epoch</th>\n",
       "      <th>train_loss</th>\n",
       "      <th>valid_loss</th>\n",
       "      <th>accuracy</th>\n",
       "      <th>time</th>\n",
       "    </tr>\n",
       "  </thead>\n",
       "  <tbody>\n",
       "    <tr>\n",
       "      <td>0</td>\n",
       "      <td>0.721918</td>\n",
       "      <td>0.643276</td>\n",
       "      <td>0.841678</td>\n",
       "      <td>00:09</td>\n",
       "    </tr>\n",
       "    <tr>\n",
       "      <td>1</td>\n",
       "      <td>0.484658</td>\n",
       "      <td>0.604135</td>\n",
       "      <td>0.828146</td>\n",
       "      <td>00:08</td>\n",
       "    </tr>\n",
       "    <tr>\n",
       "      <td>2</td>\n",
       "      <td>0.401239</td>\n",
       "      <td>1.103915</td>\n",
       "      <td>0.815291</td>\n",
       "      <td>00:08</td>\n",
       "    </tr>\n",
       "    <tr>\n",
       "      <td>3</td>\n",
       "      <td>0.394400</td>\n",
       "      <td>0.318618</td>\n",
       "      <td>0.860622</td>\n",
       "      <td>00:08</td>\n",
       "    </tr>\n",
       "    <tr>\n",
       "      <td>4</td>\n",
       "      <td>0.276733</td>\n",
       "      <td>0.276223</td>\n",
       "      <td>0.878890</td>\n",
       "      <td>00:08</td>\n",
       "    </tr>\n",
       "    <tr>\n",
       "      <td>5</td>\n",
       "      <td>0.187687</td>\n",
       "      <td>0.515996</td>\n",
       "      <td>0.851150</td>\n",
       "      <td>00:08</td>\n",
       "    </tr>\n",
       "    <tr>\n",
       "      <td>6</td>\n",
       "      <td>0.127520</td>\n",
       "      <td>0.230542</td>\n",
       "      <td>0.911367</td>\n",
       "      <td>00:08</td>\n",
       "    </tr>\n",
       "    <tr>\n",
       "      <td>7</td>\n",
       "      <td>0.071110</td>\n",
       "      <td>0.233229</td>\n",
       "      <td>0.924222</td>\n",
       "      <td>00:08</td>\n",
       "    </tr>\n",
       "    <tr>\n",
       "      <td>8</td>\n",
       "      <td>0.044975</td>\n",
       "      <td>0.199706</td>\n",
       "      <td>0.931664</td>\n",
       "      <td>00:08</td>\n",
       "    </tr>\n",
       "    <tr>\n",
       "      <td>9</td>\n",
       "      <td>0.031355</td>\n",
       "      <td>0.177644</td>\n",
       "      <td>0.939784</td>\n",
       "      <td>00:08</td>\n",
       "    </tr>\n",
       "  </tbody>\n",
       "</table>"
      ],
      "text/plain": [
       "<IPython.core.display.HTML object>"
      ]
     },
     "metadata": {},
     "output_type": "display_data"
    }
   ],
   "source": [
    "teacher = cnn_learner(dls, resnet34, metrics=accuracy)\n",
    "teacher.unfreeze()\n",
    "teacher.fit_one_cycle(10, 1e-3)"
   ]
  },
  {
   "cell_type": "markdown",
   "id": "consecutive-recruitment",
   "metadata": {},
   "source": [
    "### Without KD"
   ]
  },
  {
   "cell_type": "markdown",
   "id": "national-juvenile",
   "metadata": {},
   "source": [
    "We'll now train a Resnet18 from scratch, and without any help from the teacher model, to get that as a baseline "
   ]
  },
  {
   "cell_type": "code",
   "execution_count": null,
   "id": "current-rugby",
   "metadata": {},
   "outputs": [
    {
     "data": {
      "text/html": [
       "\n",
       "<style>\n",
       "    /* Turns off some styling */\n",
       "    progress {\n",
       "        /* gets rid of default border in Firefox and Opera. */\n",
       "        border: none;\n",
       "        /* Needs to be in here for Safari polyfill so background images work as expected. */\n",
       "        background-size: auto;\n",
       "    }\n",
       "    .progress-bar-interrupted, .progress-bar-interrupted::-webkit-progress-bar {\n",
       "        background: #F44336;\n",
       "    }\n",
       "</style>\n"
      ],
      "text/plain": [
       "<IPython.core.display.HTML object>"
      ]
     },
     "metadata": {},
     "output_type": "display_data"
    },
    {
     "data": {
      "text/html": [
       "<table border=\"1\" class=\"dataframe\">\n",
       "  <thead>\n",
       "    <tr style=\"text-align: left;\">\n",
       "      <th>epoch</th>\n",
       "      <th>train_loss</th>\n",
       "      <th>valid_loss</th>\n",
       "      <th>accuracy</th>\n",
       "      <th>time</th>\n",
       "    </tr>\n",
       "  </thead>\n",
       "  <tbody>\n",
       "    <tr>\n",
       "      <td>0</td>\n",
       "      <td>0.608119</td>\n",
       "      <td>0.594279</td>\n",
       "      <td>0.679296</td>\n",
       "      <td>00:07</td>\n",
       "    </tr>\n",
       "    <tr>\n",
       "      <td>1</td>\n",
       "      <td>0.577984</td>\n",
       "      <td>0.637746</td>\n",
       "      <td>0.690798</td>\n",
       "      <td>00:07</td>\n",
       "    </tr>\n",
       "    <tr>\n",
       "      <td>2</td>\n",
       "      <td>0.543163</td>\n",
       "      <td>0.532345</td>\n",
       "      <td>0.732070</td>\n",
       "      <td>00:07</td>\n",
       "    </tr>\n",
       "    <tr>\n",
       "      <td>3</td>\n",
       "      <td>0.508363</td>\n",
       "      <td>0.468151</td>\n",
       "      <td>0.772666</td>\n",
       "      <td>00:07</td>\n",
       "    </tr>\n",
       "    <tr>\n",
       "      <td>4</td>\n",
       "      <td>0.464459</td>\n",
       "      <td>0.442890</td>\n",
       "      <td>0.780108</td>\n",
       "      <td>00:07</td>\n",
       "    </tr>\n",
       "    <tr>\n",
       "      <td>5</td>\n",
       "      <td>0.405926</td>\n",
       "      <td>0.410481</td>\n",
       "      <td>0.816644</td>\n",
       "      <td>00:07</td>\n",
       "    </tr>\n",
       "    <tr>\n",
       "      <td>6</td>\n",
       "      <td>0.355392</td>\n",
       "      <td>0.429471</td>\n",
       "      <td>0.821380</td>\n",
       "      <td>00:07</td>\n",
       "    </tr>\n",
       "    <tr>\n",
       "      <td>7</td>\n",
       "      <td>0.278941</td>\n",
       "      <td>0.365873</td>\n",
       "      <td>0.838972</td>\n",
       "      <td>00:07</td>\n",
       "    </tr>\n",
       "    <tr>\n",
       "      <td>8</td>\n",
       "      <td>0.218126</td>\n",
       "      <td>0.366222</td>\n",
       "      <td>0.855886</td>\n",
       "      <td>00:07</td>\n",
       "    </tr>\n",
       "    <tr>\n",
       "      <td>9</td>\n",
       "      <td>0.165694</td>\n",
       "      <td>0.367872</td>\n",
       "      <td>0.857239</td>\n",
       "      <td>00:07</td>\n",
       "    </tr>\n",
       "  </tbody>\n",
       "</table>"
      ],
      "text/plain": [
       "<IPython.core.display.HTML object>"
      ]
     },
     "metadata": {},
     "output_type": "display_data"
    }
   ],
   "source": [
    "student = Learner(dls, resnet18(num_classes=2), metrics=accuracy)\n",
    "student.fit_one_cycle(10, 1e-3)"
   ]
  },
  {
   "cell_type": "markdown",
   "id": "another-dealer",
   "metadata": {},
   "source": [
    "### With KD"
   ]
  },
  {
   "cell_type": "markdown",
   "id": "metallic-webster",
   "metadata": {},
   "source": [
    "And now we train the same model, but with the help of the teacher. The chosen loss is a combination of the regular classification loss (Cross-Entropy) and a loss pushing the student to learn from the teacher's predictions."
   ]
  },
  {
   "cell_type": "code",
   "execution_count": null,
   "id": "22d4fbe3",
   "metadata": {},
   "outputs": [
    {
     "data": {
      "text/html": [
       "\n",
       "<style>\n",
       "    /* Turns off some styling */\n",
       "    progress {\n",
       "        /* gets rid of default border in Firefox and Opera. */\n",
       "        border: none;\n",
       "        /* Needs to be in here for Safari polyfill so background images work as expected. */\n",
       "        background-size: auto;\n",
       "    }\n",
       "    .progress-bar-interrupted, .progress-bar-interrupted::-webkit-progress-bar {\n",
       "        background: #F44336;\n",
       "    }\n",
       "</style>\n"
      ],
      "text/plain": [
       "<IPython.core.display.HTML object>"
      ]
     },
     "metadata": {},
     "output_type": "display_data"
    },
    {
     "data": {
      "text/html": [
       "<table border=\"1\" class=\"dataframe\">\n",
       "  <thead>\n",
       "    <tr style=\"text-align: left;\">\n",
       "      <th>epoch</th>\n",
       "      <th>train_loss</th>\n",
       "      <th>valid_loss</th>\n",
       "      <th>accuracy</th>\n",
       "      <th>time</th>\n",
       "    </tr>\n",
       "  </thead>\n",
       "  <tbody>\n",
       "    <tr>\n",
       "      <td>0</td>\n",
       "      <td>2.335700</td>\n",
       "      <td>1.860445</td>\n",
       "      <td>0.692828</td>\n",
       "      <td>00:09</td>\n",
       "    </tr>\n",
       "    <tr>\n",
       "      <td>1</td>\n",
       "      <td>2.241398</td>\n",
       "      <td>1.773348</td>\n",
       "      <td>0.727334</td>\n",
       "      <td>00:09</td>\n",
       "    </tr>\n",
       "    <tr>\n",
       "      <td>2</td>\n",
       "      <td>2.055018</td>\n",
       "      <td>1.710084</td>\n",
       "      <td>0.723951</td>\n",
       "      <td>00:09</td>\n",
       "    </tr>\n",
       "    <tr>\n",
       "      <td>3</td>\n",
       "      <td>1.851421</td>\n",
       "      <td>1.632465</td>\n",
       "      <td>0.761840</td>\n",
       "      <td>00:09</td>\n",
       "    </tr>\n",
       "    <tr>\n",
       "      <td>4</td>\n",
       "      <td>1.620585</td>\n",
       "      <td>1.675239</td>\n",
       "      <td>0.755751</td>\n",
       "      <td>00:09</td>\n",
       "    </tr>\n",
       "    <tr>\n",
       "      <td>5</td>\n",
       "      <td>1.393245</td>\n",
       "      <td>1.410955</td>\n",
       "      <td>0.774019</td>\n",
       "      <td>00:09</td>\n",
       "    </tr>\n",
       "    <tr>\n",
       "      <td>6</td>\n",
       "      <td>1.155736</td>\n",
       "      <td>1.087842</td>\n",
       "      <td>0.826116</td>\n",
       "      <td>00:09</td>\n",
       "    </tr>\n",
       "    <tr>\n",
       "      <td>7</td>\n",
       "      <td>0.908853</td>\n",
       "      <td>0.983743</td>\n",
       "      <td>0.838972</td>\n",
       "      <td>00:09</td>\n",
       "    </tr>\n",
       "    <tr>\n",
       "      <td>8</td>\n",
       "      <td>0.696537</td>\n",
       "      <td>0.852848</td>\n",
       "      <td>0.857916</td>\n",
       "      <td>00:09</td>\n",
       "    </tr>\n",
       "    <tr>\n",
       "      <td>9</td>\n",
       "      <td>0.564625</td>\n",
       "      <td>0.854901</td>\n",
       "      <td>0.857239</td>\n",
       "      <td>00:09</td>\n",
       "    </tr>\n",
       "  </tbody>\n",
       "</table>"
      ],
      "text/plain": [
       "<IPython.core.display.HTML object>"
      ]
     },
     "metadata": {},
     "output_type": "display_data"
    }
   ],
   "source": [
    "student = Learner(dls, resnet18(num_classes=2), metrics=accuracy)\n",
    "kd = KnowledgeDistillationCallback(teacher.model, SoftTarget)\n",
    "student.fit_one_cycle(10, 1e-3, cbs=kd)"
   ]
  },
  {
   "cell_type": "markdown",
   "id": "sensitive-sociology",
   "metadata": {},
   "source": [
    "When helped, the student model performs better ! "
   ]
  },
  {
   "cell_type": "markdown",
   "id": "ba2a7c55",
   "metadata": {},
   "source": [
    "There exist more complicated KD losses, such as the one coming from ``Paying Attention to Attention``, where the student tries to replicate the same attention maps of the teacher at intermediate layers."
   ]
  },
  {
   "cell_type": "markdown",
   "id": "06237305",
   "metadata": {},
   "source": [
    "Using such a loss requires to be able to specify from which layer we want to replicate those attention maps. To do so, we have to specify them from their `string` name, which can be obtained with the `get_model_layers` function."
   ]
  },
  {
   "cell_type": "markdown",
   "id": "a1f3653b",
   "metadata": {},
   "source": [
    "For example, we set the loss to be applied after each Residual block of our models: "
   ]
  },
  {
   "cell_type": "code",
   "execution_count": null,
   "id": "cc95a724",
   "metadata": {},
   "outputs": [
    {
     "data": {
      "text/html": [
       "\n",
       "<style>\n",
       "    /* Turns off some styling */\n",
       "    progress {\n",
       "        /* gets rid of default border in Firefox and Opera. */\n",
       "        border: none;\n",
       "        /* Needs to be in here for Safari polyfill so background images work as expected. */\n",
       "        background-size: auto;\n",
       "    }\n",
       "    .progress-bar-interrupted, .progress-bar-interrupted::-webkit-progress-bar {\n",
       "        background: #F44336;\n",
       "    }\n",
       "</style>\n"
      ],
      "text/plain": [
       "<IPython.core.display.HTML object>"
      ]
     },
     "metadata": {},
     "output_type": "display_data"
    },
    {
     "data": {
      "text/html": [
       "<table border=\"1\" class=\"dataframe\">\n",
       "  <thead>\n",
       "    <tr style=\"text-align: left;\">\n",
       "      <th>epoch</th>\n",
       "      <th>train_loss</th>\n",
       "      <th>valid_loss</th>\n",
       "      <th>accuracy</th>\n",
       "      <th>time</th>\n",
       "    </tr>\n",
       "  </thead>\n",
       "  <tbody>\n",
       "    <tr>\n",
       "      <td>0</td>\n",
       "      <td>0.088313</td>\n",
       "      <td>0.088667</td>\n",
       "      <td>0.679973</td>\n",
       "      <td>00:09</td>\n",
       "    </tr>\n",
       "    <tr>\n",
       "      <td>1</td>\n",
       "      <td>0.079737</td>\n",
       "      <td>0.077369</td>\n",
       "      <td>0.719892</td>\n",
       "      <td>00:09</td>\n",
       "    </tr>\n",
       "    <tr>\n",
       "      <td>2</td>\n",
       "      <td>0.070380</td>\n",
       "      <td>0.065641</td>\n",
       "      <td>0.765223</td>\n",
       "      <td>00:09</td>\n",
       "    </tr>\n",
       "    <tr>\n",
       "      <td>3</td>\n",
       "      <td>0.061056</td>\n",
       "      <td>0.061554</td>\n",
       "      <td>0.792963</td>\n",
       "      <td>00:09</td>\n",
       "    </tr>\n",
       "    <tr>\n",
       "      <td>4</td>\n",
       "      <td>0.055300</td>\n",
       "      <td>0.058515</td>\n",
       "      <td>0.790934</td>\n",
       "      <td>00:09</td>\n",
       "    </tr>\n",
       "    <tr>\n",
       "      <td>5</td>\n",
       "      <td>0.048522</td>\n",
       "      <td>0.052656</td>\n",
       "      <td>0.830853</td>\n",
       "      <td>00:09</td>\n",
       "    </tr>\n",
       "    <tr>\n",
       "      <td>6</td>\n",
       "      <td>0.040360</td>\n",
       "      <td>0.047567</td>\n",
       "      <td>0.847767</td>\n",
       "      <td>00:09</td>\n",
       "    </tr>\n",
       "    <tr>\n",
       "      <td>7</td>\n",
       "      <td>0.032288</td>\n",
       "      <td>0.046334</td>\n",
       "      <td>0.855210</td>\n",
       "      <td>00:09</td>\n",
       "    </tr>\n",
       "    <tr>\n",
       "      <td>8</td>\n",
       "      <td>0.023988</td>\n",
       "      <td>0.045383</td>\n",
       "      <td>0.868065</td>\n",
       "      <td>00:09</td>\n",
       "    </tr>\n",
       "    <tr>\n",
       "      <td>9</td>\n",
       "      <td>0.020456</td>\n",
       "      <td>0.044370</td>\n",
       "      <td>0.866712</td>\n",
       "      <td>00:09</td>\n",
       "    </tr>\n",
       "  </tbody>\n",
       "</table>"
      ],
      "text/plain": [
       "<IPython.core.display.HTML object>"
      ]
     },
     "metadata": {},
     "output_type": "display_data"
    }
   ],
   "source": [
    "student = Learner(dls, resnet18(num_classes=2), metrics=accuracy)\n",
    "kd = KnowledgeDistillationCallback(teacher.model, Attention, ['layer1', 'layer2', 'layer3', 'layer4'], ['0.4', '0.5', '0.6', '0.7'], weight=0.9)\n",
    "student.fit_one_cycle(10, 1e-3, cbs=kd)"
   ]
  }
 ],
 "metadata": {
  "kernelspec": {
   "display_name": "Python 3 (ipykernel)",
   "language": "python",
   "name": "python3"
  },
  "language_info": {
   "codemirror_mode": {
    "name": "ipython",
    "version": 3
   },
   "file_extension": ".py",
   "mimetype": "text/x-python",
   "name": "python",
   "nbconvert_exporter": "python",
   "pygments_lexer": "ipython3",
   "version": "3.10.0"
  }
 },
 "nbformat": 4,
 "nbformat_minor": 5
}
