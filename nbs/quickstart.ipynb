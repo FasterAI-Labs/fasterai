{
 "cells": [
  {
   "cell_type": "raw",
   "id": "2bb19b73",
   "metadata": {},
   "source": [
    "---\n",
    "description: A guide on FasterAI capabilities\n",
    "output-file: quickstart.html\n",
    "title: Quick Start\n",
    "skip_showdoc: true\n",
    "skip_exec: true\n",
    "---"
   ]
  },
  {
   "cell_type": "code",
   "execution_count": null,
   "id": "4669f87c",
   "metadata": {},
   "outputs": [],
   "source": [
    "#| include: false\n",
    "\n",
    "import warnings\n",
    "warnings.filterwarnings('ignore')\n",
    "\n",
    "from fastai.vision.all import *"
   ]
  },
  {
   "cell_type": "code",
   "execution_count": null,
   "id": "dd812e13",
   "metadata": {},
   "outputs": [],
   "source": [
    "#| include: false\n",
    "\n",
    "def get_dls(size, bs):\n",
    "    path = URLs.IMAGENETTE_320\n",
    "    source = untar_data(path)\n",
    "    blocks=(ImageBlock, CategoryBlock)\n",
    "    tfms = [RandomResizedCrop(size, min_scale=0.35), FlipItem(0.5)]\n",
    "    batch_tfms = [Normalize.from_stats(*imagenet_stats)]\n",
    "\n",
    "    csv_file = 'noisy_imagenette.csv'\n",
    "    inp = pd.read_csv(source/csv_file)\n",
    "    dblock = DataBlock(blocks=blocks,\n",
    "               splitter=ColSplitter(),\n",
    "               get_x=ColReader('path', pref=source),\n",
    "               get_y=ColReader(f'noisy_labels_0'),\n",
    "               item_tfms=tfms,\n",
    "               batch_tfms=batch_tfms)\n",
    "\n",
    "    return dblock.dataloaders(inp, path=source, bs=bs)"
   ]
  },
  {
   "cell_type": "code",
   "execution_count": null,
   "id": "bbcceec0",
   "metadata": {},
   "outputs": [],
   "source": [
    "#| include: false\n",
    "def count_parameters(model):\n",
    "    num_params = sum(p.numel() for p in model.parameters())\n",
    "    print(f'Total parameters : {num_params:,}' )"
   ]
  },
  {
   "cell_type": "code",
   "execution_count": null,
   "id": "3a5b4d63",
   "metadata": {},
   "outputs": [],
   "source": [
    "#| include: false\n",
    "def print_sparsity(model):\n",
    "    for k,m in enumerate(model.modules()):\n",
    "        if isinstance(m, nn.Conv2d):\n",
    "            print(f\"Sparsity in {m.__class__.__name__} {k}: {100. * float(torch.sum(m.weight == 0))/ float(m.weight.nelement()):.2f}%\")"
   ]
  },
  {
   "cell_type": "code",
   "execution_count": null,
   "id": "15fc38d6",
   "metadata": {},
   "outputs": [],
   "source": [
    "size, bs = 128, 32\n",
    "dls = get_dls(size, bs)"
   ]
  },
  {
   "cell_type": "markdown",
   "id": "aba2375b",
   "metadata": {},
   "source": [
    "Let's start with a bit of context for the purpose of the demonstration. Imagine that we want to deploy a **VGG16** model on a mobile device that has limited storage capacity and that our task requires our model to run sufficiently fast. It is known that parameters and speed efficiency are not the strong points of **VGG16** but let's see what we can do with it."
   ]
  },
  {
   "cell_type": "markdown",
   "id": "4ba4137a",
   "metadata": {},
   "source": [
    "Let's first check the number of parameters and the inference time of **VGG16**."
   ]
  },
  {
   "cell_type": "code",
   "execution_count": null,
   "id": "d630d029",
   "metadata": {},
   "outputs": [],
   "source": [
    "learn = Learner(dls, models.vgg16_bn(num_classes=10), metrics=[accuracy])"
   ]
  },
  {
   "cell_type": "markdown",
   "id": "7fee7ac1",
   "metadata": {},
   "source": [
    "So, **VGG16** has **134** millions of parameters"
   ]
  },
  {
   "cell_type": "code",
   "execution_count": null,
   "id": "d48b966e",
   "metadata": {},
   "outputs": [
    {
     "name": "stdout",
     "output_type": "stream",
     "text": [
      "Total parameters : 134,309,962\n"
     ]
    }
   ],
   "source": [
    "count_parameters(learn.model)"
   ]
  },
  {
   "cell_type": "markdown",
   "id": "04b6840b",
   "metadata": {},
   "source": [
    "And takes **157ms** to perform inference on a single image."
   ]
  },
  {
   "cell_type": "code",
   "execution_count": null,
   "id": "615c615c",
   "metadata": {},
   "outputs": [],
   "source": [
    "model = learn.model.eval().to('cpu')\n",
    "x,y = dls.one_batch()"
   ]
  },
  {
   "cell_type": "code",
   "execution_count": null,
   "id": "26943037",
   "metadata": {},
   "outputs": [
    {
     "name": "stdout",
     "output_type": "stream",
     "text": [
      "36.7 ms ± 15.5 ms per loop (mean ± std. dev. of 7 runs, 1 loop each)\n"
     ]
    }
   ],
   "source": [
    "%%timeit\n",
    "model(x[0][None].to('cpu'))"
   ]
  },
  {
   "cell_type": "markdown",
   "id": "ad94bce0",
   "metadata": {},
   "source": [
    "Snap ! This is more than we can afford for deployment, ideally we would like our model to take only half of that...but should we give up ? Nope, there are actually a lot of techniques that we can use to help reducing the size and improve the speed of our models! Let's see how to apply them with **FasterAI**."
   ]
  },
  {
   "cell_type": "markdown",
   "id": "466427f7",
   "metadata": {},
   "source": [
    "<br>"
   ]
  },
  {
   "cell_type": "markdown",
   "id": "f7422e50",
   "metadata": {},
   "source": [
    "We will first train our **VGG16** model to have a **baseline** of what performance we should expect from it."
   ]
  },
  {
   "cell_type": "code",
   "execution_count": null,
   "id": "3c2f5a4a",
   "metadata": {},
   "outputs": [
    {
     "data": {
      "text/html": [
       "<table border=\"1\" class=\"dataframe\">\n",
       "  <thead>\n",
       "    <tr style=\"text-align: left;\">\n",
       "      <th>epoch</th>\n",
       "      <th>train_loss</th>\n",
       "      <th>valid_loss</th>\n",
       "      <th>accuracy</th>\n",
       "      <th>time</th>\n",
       "    </tr>\n",
       "  </thead>\n",
       "  <tbody>\n",
       "    <tr>\n",
       "      <td>0</td>\n",
       "      <td>2.106332</td>\n",
       "      <td>1.766819</td>\n",
       "      <td>0.405350</td>\n",
       "      <td>00:59</td>\n",
       "    </tr>\n",
       "    <tr>\n",
       "      <td>1</td>\n",
       "      <td>1.668967</td>\n",
       "      <td>2.647663</td>\n",
       "      <td>0.288662</td>\n",
       "      <td>00:23</td>\n",
       "    </tr>\n",
       "    <tr>\n",
       "      <td>2</td>\n",
       "      <td>1.383120</td>\n",
       "      <td>1.250985</td>\n",
       "      <td>0.601274</td>\n",
       "      <td>00:24</td>\n",
       "    </tr>\n",
       "    <tr>\n",
       "      <td>3</td>\n",
       "      <td>1.211088</td>\n",
       "      <td>1.602067</td>\n",
       "      <td>0.496561</td>\n",
       "      <td>00:24</td>\n",
       "    </tr>\n",
       "    <tr>\n",
       "      <td>4</td>\n",
       "      <td>1.052488</td>\n",
       "      <td>1.269606</td>\n",
       "      <td>0.627261</td>\n",
       "      <td>00:23</td>\n",
       "    </tr>\n",
       "    <tr>\n",
       "      <td>5</td>\n",
       "      <td>0.875793</td>\n",
       "      <td>0.923895</td>\n",
       "      <td>0.704459</td>\n",
       "      <td>00:24</td>\n",
       "    </tr>\n",
       "    <tr>\n",
       "      <td>6</td>\n",
       "      <td>0.793592</td>\n",
       "      <td>0.850951</td>\n",
       "      <td>0.731720</td>\n",
       "      <td>00:24</td>\n",
       "    </tr>\n",
       "    <tr>\n",
       "      <td>7</td>\n",
       "      <td>0.699599</td>\n",
       "      <td>0.660154</td>\n",
       "      <td>0.788025</td>\n",
       "      <td>00:23</td>\n",
       "    </tr>\n",
       "    <tr>\n",
       "      <td>8</td>\n",
       "      <td>0.612895</td>\n",
       "      <td>0.587406</td>\n",
       "      <td>0.809172</td>\n",
       "      <td>00:23</td>\n",
       "    </tr>\n",
       "    <tr>\n",
       "      <td>9</td>\n",
       "      <td>0.580625</td>\n",
       "      <td>0.582983</td>\n",
       "      <td>0.811210</td>\n",
       "      <td>00:24</td>\n",
       "    </tr>\n",
       "  </tbody>\n",
       "</table>"
      ],
      "text/plain": [
       "<IPython.core.display.HTML object>"
      ]
     },
     "metadata": {},
     "output_type": "display_data"
    }
   ],
   "source": [
    "learn.fit_one_cycle(10, 1e-4)"
   ]
  },
  {
   "cell_type": "markdown",
   "id": "d59c07eb",
   "metadata": {},
   "source": [
    "So we would like our network to have comparable accuracy but fewer parameters and running faster... And the first technique that we will show how to use is called **Knowledge Distillation**"
   ]
  },
  {
   "cell_type": "markdown",
   "id": "0e432c28",
   "metadata": {},
   "source": [
    "<br>"
   ]
  },
  {
   "cell_type": "markdown",
   "id": "5503c5d8",
   "metadata": {},
   "source": [
    "---"
   ]
  },
  {
   "cell_type": "markdown",
   "id": "f6a3370f",
   "metadata": {},
   "source": [
    "<br>"
   ]
  },
  {
   "cell_type": "markdown",
   "id": "0f627246",
   "metadata": {},
   "source": [
    "## **Knowledge Distillation**"
   ]
  },
  {
   "cell_type": "markdown",
   "id": "a25eac04",
   "metadata": {},
   "source": [
    "Knowledge distillation is a simple yet very efficient way to train a model. It was introduced in 2006 by [Caruana et al.](https://www.cs.cornell.edu/~caruana/compression.kdd06.pdf). The main idea behind is to use a small model (called the **student**) to approximate the function learned by a larger and high-performing model (called the **teacher**). This can be done by using the large model to pseudo-label the data. This idea has been used very recently to [break the state-of-the-art accuracy on ImageNet](https://arxiv.org/abs/1911.04252).\n",
    "\n",
    "When we train our model for classification, we usually use a softmax as last layer. This softmax has the particularity to squish low value logits towards **0**, and the highest logit towards **1**. This has for effect to completely lose all the inter-class information, or what is sometimes called the *dark knowledge*. This is the information that is valuable and that we want to transfer from the teacher to the student.\n",
    "\n",
    "To do so, we still use a regular classification loss but at the same time, we'll use another loss, computed between the *softened* logits of the teacher (our *soft labels*) and the *softened* logits of the student (our *soft predictions*). Those soft values are obtained when you use a **soft-softmax**, that avoids squishing the values at its output. Our implementation follows [this paper](http://cs230.stanford.edu/files_winter_2018/projects/6940224.pdf) and the basic principle of training is represented in the figure below:"
   ]
  },
  {
   "cell_type": "markdown",
   "id": "4d09a78e",
   "metadata": {},
   "source": [
    "<br>\n",
    "\n",
    "![](imgs/distill.png)\n",
    "\n",
    "<br>"
   ]
  },
  {
   "cell_type": "markdown",
   "id": "507e8947",
   "metadata": {},
   "source": [
    "To use **Knowledge Distillation** with FasterAI, you only need to use this callback when training your student model:"
   ]
  },
  {
   "cell_type": "markdown",
   "id": "6149d8c9",
   "metadata": {},
   "source": [
    "<br>\n",
    "\n",
    "<blockquote>\n",
    "<pre><b><i> KnowledgeDistillation(teacher.model, loss) </i></b></pre>\n",
    "<p style=\"font-size: 15px\"><i>\n",
    "You only need to give to the callback function your teacher learner. Behind the scenes, FasterAI will take care of making your model train using knowledge distillation.\n",
    "</i></p>\n",
    "</blockquote>"
   ]
  },
  {
   "cell_type": "markdown",
   "id": "83011770",
   "metadata": {},
   "source": [
    "<br>"
   ]
  },
  {
   "cell_type": "code",
   "execution_count": null,
   "id": "fae4a926",
   "metadata": {},
   "outputs": [],
   "source": [
    "from fasterai.distill.all import *"
   ]
  },
  {
   "cell_type": "markdown",
   "id": "3e60472a",
   "metadata": {},
   "source": [
    "The first thing to do is to find a teacher, which can be any model, that preferrably performs well. We will chose **VGG19** for our demonstration. To make sure it performs better than our **VGG16** model, let's start from a pretrained version."
   ]
  },
  {
   "cell_type": "code",
   "execution_count": null,
   "id": "d4be1f0a",
   "metadata": {},
   "outputs": [
    {
     "data": {
      "text/html": [
       "<table border=\"1\" class=\"dataframe\">\n",
       "  <thead>\n",
       "    <tr style=\"text-align: left;\">\n",
       "      <th>epoch</th>\n",
       "      <th>train_loss</th>\n",
       "      <th>valid_loss</th>\n",
       "      <th>accuracy</th>\n",
       "      <th>time</th>\n",
       "    </tr>\n",
       "  </thead>\n",
       "  <tbody>\n",
       "    <tr>\n",
       "      <td>0</td>\n",
       "      <td>0.866055</td>\n",
       "      <td>0.341548</td>\n",
       "      <td>0.900382</td>\n",
       "      <td>00:16</td>\n",
       "    </tr>\n",
       "    <tr>\n",
       "      <td>1</td>\n",
       "      <td>0.452240</td>\n",
       "      <td>0.200227</td>\n",
       "      <td>0.935541</td>\n",
       "      <td>00:16</td>\n",
       "    </tr>\n",
       "    <tr>\n",
       "      <td>2</td>\n",
       "      <td>0.351471</td>\n",
       "      <td>0.192142</td>\n",
       "      <td>0.939618</td>\n",
       "      <td>00:16</td>\n",
       "    </tr>\n",
       "  </tbody>\n",
       "</table>"
      ],
      "text/plain": [
       "<IPython.core.display.HTML object>"
      ]
     },
     "metadata": {},
     "output_type": "display_data"
    }
   ],
   "source": [
    "teacher = vision_learner(dls, models.vgg19_bn, metrics=[accuracy])\n",
    "teacher.fit_one_cycle(3, 1e-4)"
   ]
  },
  {
   "cell_type": "markdown",
   "id": "c3e84276",
   "metadata": {},
   "source": [
    "Our teacher has **94%** of accuracy which is pretty good, it is ready to take a student under its wing. So let's create our student model and train it with the **Knowledge Distillation** callback:"
   ]
  },
  {
   "cell_type": "code",
   "execution_count": null,
   "id": "3e0a3004",
   "metadata": {},
   "outputs": [
    {
     "data": {
      "text/html": [
       "<table border=\"1\" class=\"dataframe\">\n",
       "  <thead>\n",
       "    <tr style=\"text-align: left;\">\n",
       "      <th>epoch</th>\n",
       "      <th>train_loss</th>\n",
       "      <th>valid_loss</th>\n",
       "      <th>accuracy</th>\n",
       "      <th>time</th>\n",
       "    </tr>\n",
       "  </thead>\n",
       "  <tbody>\n",
       "    <tr>\n",
       "      <td>0</td>\n",
       "      <td>5.925861</td>\n",
       "      <td>5.334671</td>\n",
       "      <td>0.418853</td>\n",
       "      <td>00:38</td>\n",
       "    </tr>\n",
       "    <tr>\n",
       "      <td>1</td>\n",
       "      <td>4.492806</td>\n",
       "      <td>4.586231</td>\n",
       "      <td>0.506242</td>\n",
       "      <td>00:39</td>\n",
       "    </tr>\n",
       "    <tr>\n",
       "      <td>2</td>\n",
       "      <td>3.557508</td>\n",
       "      <td>3.664468</td>\n",
       "      <td>0.561783</td>\n",
       "      <td>00:38</td>\n",
       "    </tr>\n",
       "    <tr>\n",
       "      <td>3</td>\n",
       "      <td>3.022583</td>\n",
       "      <td>3.295815</td>\n",
       "      <td>0.638471</td>\n",
       "      <td>00:38</td>\n",
       "    </tr>\n",
       "    <tr>\n",
       "      <td>4</td>\n",
       "      <td>2.647308</td>\n",
       "      <td>2.486543</td>\n",
       "      <td>0.710318</td>\n",
       "      <td>00:38</td>\n",
       "    </tr>\n",
       "    <tr>\n",
       "      <td>5</td>\n",
       "      <td>2.325359</td>\n",
       "      <td>2.047090</td>\n",
       "      <td>0.753376</td>\n",
       "      <td>00:38</td>\n",
       "    </tr>\n",
       "    <tr>\n",
       "      <td>6</td>\n",
       "      <td>2.010013</td>\n",
       "      <td>1.755023</td>\n",
       "      <td>0.789045</td>\n",
       "      <td>00:38</td>\n",
       "    </tr>\n",
       "    <tr>\n",
       "      <td>7</td>\n",
       "      <td>1.745726</td>\n",
       "      <td>1.563290</td>\n",
       "      <td>0.809682</td>\n",
       "      <td>00:38</td>\n",
       "    </tr>\n",
       "    <tr>\n",
       "      <td>8</td>\n",
       "      <td>1.640569</td>\n",
       "      <td>1.468163</td>\n",
       "      <td>0.823185</td>\n",
       "      <td>00:38</td>\n",
       "    </tr>\n",
       "    <tr>\n",
       "      <td>9</td>\n",
       "      <td>1.557862</td>\n",
       "      <td>1.463353</td>\n",
       "      <td>0.826497</td>\n",
       "      <td>00:38</td>\n",
       "    </tr>\n",
       "  </tbody>\n",
       "</table>"
      ],
      "text/plain": [
       "<IPython.core.display.HTML object>"
      ]
     },
     "metadata": {},
     "output_type": "display_data"
    }
   ],
   "source": [
    "student = Learner(dls, models.vgg16_bn(num_classes=10), metrics=[accuracy])\n",
    "kd_cb = KnowledgeDistillationCallback(teacher.model, SoftTarget)\n",
    "student.fit_one_cycle(10, 1e-4, cbs=kd_cb)"
   ]
  },
  {
   "cell_type": "markdown",
   "id": "2dc60d7d",
   "metadata": {},
   "source": [
    "And we can see that indeed, the knowledge of the teacher was useful for the student, as it is clearly overperforming the vanilla **VGG16**."
   ]
  },
  {
   "cell_type": "markdown",
   "id": "139a138b",
   "metadata": {},
   "source": [
    "Ok, so now we are able to get more from a given model which is kind of cool ! With some experimentations we could come up with a model smaller than **VGG16** but able to reach the same performance as our baseline! You can try to find it by yourself later, but for now let's continue with the next technique !"
   ]
  },
  {
   "cell_type": "markdown",
   "id": "89ddb841",
   "metadata": {},
   "source": [
    "<br>"
   ]
  },
  {
   "cell_type": "markdown",
   "id": "422f2e6f",
   "metadata": {},
   "source": [
    "---"
   ]
  },
  {
   "cell_type": "markdown",
   "id": "7c33622f",
   "metadata": {},
   "source": [
    "<br>"
   ]
  },
  {
   "cell_type": "markdown",
   "id": "4d6b17b3",
   "metadata": {},
   "source": [
    "## **Sparsifying**"
   ]
  },
  {
   "cell_type": "markdown",
   "id": "0b87919d",
   "metadata": {},
   "source": [
    "Now that we have a student model that is performing better than our baseline, we have some room to compress it. And we'll start by making the network sparse. As explained in a previous [article](https://nathanhubens.github.io/posts/deep%20learning/2020/05/22/pruning.html), there are many ways leading to a sparse network.\n"
   ]
  },
  {
   "cell_type": "markdown",
   "id": "b065c8dc",
   "metadata": {},
   "source": [
    "<br>"
   ]
  },
  {
   "cell_type": "markdown",
   "id": "8a93883e",
   "metadata": {},
   "source": [
    ":::{.callout-note}\n",
    "\n",
    "Usually, the process of making a network sparse is called Pruning. I prefer using the term Pruning when parameters are **actually** removed from the network, which we will do in the next section.\n",
    "\n",
    ":::"
   ]
  },
  {
   "cell_type": "markdown",
   "id": "ae2b665f",
   "metadata": {},
   "source": [
    "<br>\n",
    "\n",
    "![](imgs/schedules.png)\n",
    "\n",
    "<br>"
   ]
  },
  {
   "cell_type": "markdown",
   "id": "9588836e",
   "metadata": {},
   "source": [
    "By default, FasterAI uses the **Automated Gradual Pruning** paradigm as it removes parameters as the model trains and doesn't require to pretrain the model, so it is usually much faster. In FasterAI, this is also managed by using a callback, that will replace the *least important* parameters of your model by zeroes during the training. The callback has a wide variety of parameters to tune your **Sparsifying** operation, let's take a look at them:"
   ]
  },
  {
   "cell_type": "markdown",
   "id": "a05e38ab",
   "metadata": {},
   "source": [
    "<br>"
   ]
  },
  {
   "cell_type": "markdown",
   "id": "75bc8b14",
   "metadata": {},
   "source": [
    "<blockquote>\n",
    "    <pre><b><i>SparsifyCallback(learn, sparsity, granularity, context, criteria, schedule)</i></b></pre>\n",
    "\n",
    "<ul><i>\n",
    "<li style=\"font-size:15px\"><b>sparsity</b>: the percentage of sparsity that you want in your network </li>\n",
    "<li style=\"font-size:15px\"><b>granularity</b>: on what granularity you want the sparsification to be operated</li>\n",
    "<li style=\"font-size:15px\"><b>context</b>: either <code>local</code> or <code>global</code>, will affect the selection of parameters to be choosen in each layer independently (<code>local</code>) or on the whole network (<code>global</code>).</li>\n",
    "<li style=\"font-size:15px\"><b>criteria</b>: the criteria used to select which parameters to remove (currently supported: <code>l1</code>, <code>taylor</code>)</li>\n",
    "<li style=\"font-size:15px\"><b>schedule</b>: which schedule you want to follow for the sparsification (currently supported: <a href=\"https://docs.fast.ai/callback.html#Annealing-functions\">any scheduling function of fastai</a>, i.e <code>linear</code>, <code>cosine</code>, ... and <code>gradual</code>, common schedules such as One-Shot, Iterative or <a href=\"https://openreview.net/pdf?id=Sy1iIDkPM\">Automated Gradual</a>)</li>\n",
    "</i></ul>\n",
    "</blockquote>"
   ]
  },
  {
   "cell_type": "markdown",
   "id": "144f91b4",
   "metadata": {},
   "source": [
    "<br>"
   ]
  },
  {
   "cell_type": "markdown",
   "id": "f6fe7ef5",
   "metadata": {},
   "source": [
    "**But let's come back to our example!**"
   ]
  },
  {
   "cell_type": "code",
   "execution_count": null,
   "id": "594743cd",
   "metadata": {},
   "outputs": [],
   "source": [
    "#| include: false\n",
    "from fasterai.sparse.all import *"
   ]
  },
  {
   "cell_type": "markdown",
   "id": "271dd40c",
   "metadata": {},
   "source": [
    "Here, we will make our network **40%** sparse, and remove entire **filters**, selected **locally** and based on **L1 norm**. We will train with a learning rate a bit smaller to be gentle with our network because it has already been trained. The **scheduling** selected is cosinusoidal, so the pruning starts and ends quite slowly."
   ]
  },
  {
   "cell_type": "code",
   "execution_count": null,
   "id": "58273b0a",
   "metadata": {},
   "outputs": [
    {
     "name": "stdout",
     "output_type": "stream",
     "text": [
      "Pruning of filter until a sparsity of [50]%\n",
      "Saving Weights at epoch 0\n"
     ]
    },
    {
     "data": {
      "text/html": [
       "<table border=\"1\" class=\"dataframe\">\n",
       "  <thead>\n",
       "    <tr style=\"text-align: left;\">\n",
       "      <th>epoch</th>\n",
       "      <th>train_loss</th>\n",
       "      <th>valid_loss</th>\n",
       "      <th>accuracy</th>\n",
       "      <th>time</th>\n",
       "    </tr>\n",
       "  </thead>\n",
       "  <tbody>\n",
       "    <tr>\n",
       "      <td>0</td>\n",
       "      <td>0.566723</td>\n",
       "      <td>0.553824</td>\n",
       "      <td>0.820127</td>\n",
       "      <td>00:24</td>\n",
       "    </tr>\n",
       "    <tr>\n",
       "      <td>1</td>\n",
       "      <td>0.614897</td>\n",
       "      <td>0.574386</td>\n",
       "      <td>0.816306</td>\n",
       "      <td>00:24</td>\n",
       "    </tr>\n",
       "    <tr>\n",
       "      <td>2</td>\n",
       "      <td>0.546641</td>\n",
       "      <td>0.550967</td>\n",
       "      <td>0.822420</td>\n",
       "      <td>00:24</td>\n",
       "    </tr>\n",
       "    <tr>\n",
       "      <td>3</td>\n",
       "      <td>0.565639</td>\n",
       "      <td>0.540383</td>\n",
       "      <td>0.825223</td>\n",
       "      <td>00:24</td>\n",
       "    </tr>\n",
       "    <tr>\n",
       "      <td>4</td>\n",
       "      <td>0.574205</td>\n",
       "      <td>0.522705</td>\n",
       "      <td>0.834904</td>\n",
       "      <td>00:24</td>\n",
       "    </tr>\n",
       "    <tr>\n",
       "      <td>5</td>\n",
       "      <td>0.556102</td>\n",
       "      <td>0.561365</td>\n",
       "      <td>0.816561</td>\n",
       "      <td>00:24</td>\n",
       "    </tr>\n",
       "    <tr>\n",
       "      <td>6</td>\n",
       "      <td>0.594366</td>\n",
       "      <td>0.565789</td>\n",
       "      <td>0.817834</td>\n",
       "      <td>00:24</td>\n",
       "    </tr>\n",
       "    <tr>\n",
       "      <td>7</td>\n",
       "      <td>0.598630</td>\n",
       "      <td>0.598039</td>\n",
       "      <td>0.807134</td>\n",
       "      <td>00:24</td>\n",
       "    </tr>\n",
       "    <tr>\n",
       "      <td>8</td>\n",
       "      <td>0.608116</td>\n",
       "      <td>0.590361</td>\n",
       "      <td>0.804331</td>\n",
       "      <td>00:24</td>\n",
       "    </tr>\n",
       "    <tr>\n",
       "      <td>9</td>\n",
       "      <td>0.569425</td>\n",
       "      <td>0.585550</td>\n",
       "      <td>0.811465</td>\n",
       "      <td>00:24</td>\n",
       "    </tr>\n",
       "  </tbody>\n",
       "</table>"
      ],
      "text/plain": [
       "<IPython.core.display.HTML object>"
      ]
     },
     "metadata": {},
     "output_type": "display_data"
    },
    {
     "name": "stdout",
     "output_type": "stream",
     "text": [
      "Sparsity at the end of epoch 0: [1.22]%\n",
      "Sparsity at the end of epoch 1: [4.77]%\n",
      "Sparsity at the end of epoch 2: [10.31]%\n",
      "Sparsity at the end of epoch 3: [17.27]%\n",
      "Sparsity at the end of epoch 4: [25.0]%\n",
      "Sparsity at the end of epoch 5: [32.73]%\n",
      "Sparsity at the end of epoch 6: [39.69]%\n",
      "Sparsity at the end of epoch 7: [45.23]%\n",
      "Sparsity at the end of epoch 8: [48.78]%\n",
      "Sparsity at the end of epoch 9: [50.0]%\n",
      "Final Sparsity: [50.0]%\n",
      "Sparsity in Conv2d 2: 0.00%\n",
      "Sparsity in Conv2d 5: 0.00%\n",
      "Sparsity in Conv2d 9: 0.00%\n",
      "Sparsity in Conv2d 12: 0.00%\n",
      "Sparsity in Conv2d 16: 0.00%\n",
      "Sparsity in Conv2d 19: 0.00%\n",
      "Sparsity in Conv2d 22: 0.00%\n",
      "Sparsity in Conv2d 26: 62.30%\n",
      "Sparsity in Conv2d 29: 72.85%\n",
      "Sparsity in Conv2d 32: 70.51%\n",
      "Sparsity in Conv2d 36: 72.27%\n",
      "Sparsity in Conv2d 39: 68.55%\n",
      "Sparsity in Conv2d 42: 66.02%\n"
     ]
    }
   ],
   "source": [
    "sp_cb = SparsifyCallback(sparsity=50, granularity='filter', context='global', criteria=large_final, schedule=cos)\n",
    "student.fit(10, 1e-5, cbs=sp_cb)"
   ]
  },
  {
   "cell_type": "markdown",
   "id": "07bffc84",
   "metadata": {},
   "source": [
    "Our network now has **50%** of its filters composed entirely of zeroes, without even losing accuracy. Obviously, choosing a higher sparsity makes it more difficult for the network to keep a similar accuracy. Other parameters can also widely change the behaviour of our sparsification process. For example choosing a more fine-grained sparsity usually leads to better results but is then more difficult to take advantage of in terms of speed."
   ]
  },
  {
   "cell_type": "markdown",
   "id": "5cce8e37",
   "metadata": {},
   "source": [
    "<br>"
   ]
  },
  {
   "cell_type": "markdown",
   "id": "9511cfb0",
   "metadata": {},
   "source": [
    "Let's now see how much we gained in terms of speed. Because we removed **50%** of convolution filters, we should expect crazy speed-up right ? "
   ]
  },
  {
   "cell_type": "code",
   "execution_count": null,
   "id": "21766e92",
   "metadata": {},
   "outputs": [],
   "source": [
    "model = student.model.eval().to('cpu')"
   ]
  },
  {
   "cell_type": "code",
   "execution_count": null,
   "id": "2967a8a1",
   "metadata": {},
   "outputs": [
    {
     "name": "stdout",
     "output_type": "stream",
     "text": [
      "27.9 ms ± 1.17 ms per loop (mean ± std. dev. of 7 runs, 10 loops each)\n"
     ]
    }
   ],
   "source": [
    "%%timeit\n",
    "model(x[0][None].to('cpu'))"
   ]
  },
  {
   "cell_type": "markdown",
   "id": "270d5f94",
   "metadata": {},
   "source": [
    "Well actually, no. We didn't remove any parameters, we just replaced some by zeroes, remember? The amount of parameters is still the same:"
   ]
  },
  {
   "cell_type": "code",
   "execution_count": null,
   "id": "c6590ee4",
   "metadata": {},
   "outputs": [
    {
     "name": "stdout",
     "output_type": "stream",
     "text": [
      "Total parameters : 134,309,962\n"
     ]
    }
   ],
   "source": [
    "count_parameters(model)"
   ]
  },
  {
   "cell_type": "markdown",
   "id": "7d4be3ee",
   "metadata": {},
   "source": [
    "Which leads us to the next section."
   ]
  },
  {
   "cell_type": "markdown",
   "id": "7004632d",
   "metadata": {},
   "source": [
    "<br>"
   ]
  },
  {
   "cell_type": "markdown",
   "id": "4aa03dcd",
   "metadata": {},
   "source": [
    "---"
   ]
  },
  {
   "cell_type": "markdown",
   "id": "cbb8e603",
   "metadata": {},
   "source": [
    "<br>"
   ]
  },
  {
   "cell_type": "markdown",
   "id": "61dc00ce",
   "metadata": {},
   "source": [
    "## **Pruning**"
   ]
  },
  {
   "cell_type": "markdown",
   "id": "7cf28720",
   "metadata": {},
   "source": [
    "Why don't we see any acceleration even though we removed half of the parameters? That's because natively, our **GPU** does not know that our matrices are sparse and thus isn't able to accelerate the computation. The easiest work around, is to **physically** remove the parameters we zeroed-out. But this operation requires to change the architecture of the network. \n",
    "\n",
    "This pruning only works if we remove entire filters as it is the only case where we can change the architecture accordingly. Hopefully, sparse computations will [soon be available](https://pytorch.org/docs/stable/sparse.html) on common deep learning librairies so this section will become useless in the future.\n",
    "\n",
    "<br>\n",
    "\n",
    "Here is what it looks like with fasterai:\n",
    "<br>"
   ]
  },
  {
   "cell_type": "markdown",
   "id": "33454908",
   "metadata": {},
   "source": [
    "![](imgs/pruning_filters.png)"
   ]
  },
  {
   "cell_type": "markdown",
   "id": "c1ff5626",
   "metadata": {},
   "source": [
    "<br>"
   ]
  },
  {
   "cell_type": "markdown",
   "id": "de369176",
   "metadata": {},
   "source": [
    "<blockquote>\n",
    "    <pre><b><i>PruneCallback(learn, sparsity, context, criteria, schedule)</i></b></pre>\n",
    "\n",
    "<ul><i>\n",
    "<li style=\"font-size:15px\"><b>sparsity</b>: the percentage of sparsity that you want in your network </li>\n",
    "<li style=\"font-size:15px\"><b>context</b>: either <code>local</code> or <code>global</code>, will affect the selection of parameters to be choosen in each layer independently (<code>local</code>) or on the whole network (<code>global</code>).</li>\n",
    "<li style=\"font-size:15px\"><b>criteria</b>: the criteria used to select which parameters to remove (currently supported: <code>l1</code>, <code>taylor</code>)</li>\n",
    "<li style=\"font-size:15px\"><b>schedule</b>: which schedule you want to follow for the sparsification (currently supported: <a href=\"https://docs.fast.ai/callback.html#Annealing-functions\">any scheduling function of fastai</a>, i.e <code>linear</code>, <code>cosine</code>, ... and <code>gradual</code>, common schedules such as One-Shot, Iterative or <a href=\"https://openreview.net/pdf?id=Sy1iIDkPM\">Automated Gradual</a>)</li>\n",
    "</i></ul>\n",
    "</blockquote>"
   ]
  },
  {
   "cell_type": "markdown",
   "id": "4eaa2ad5",
   "metadata": {},
   "source": [
    "<br>"
   ]
  },
  {
   "cell_type": "markdown",
   "id": "97138db9",
   "metadata": {},
   "source": [
    "So in the case of our example, it gives: "
   ]
  },
  {
   "cell_type": "code",
   "execution_count": null,
   "id": "79a85c80",
   "metadata": {},
   "outputs": [
    {
     "name": "stderr",
     "output_type": "stream",
     "text": [
      "/home/HubensN/miniconda3/envs/prune/lib/python3.9/site-packages/scipy/__init__.py:146: UserWarning: A NumPy version >=1.17.3 and <1.25.0 is required for this version of SciPy (detected version 1.26.3\n",
      "  warnings.warn(f\"A NumPy version >={np_minversion} and <{np_maxversion}\"\n",
      "/home/HubensN/miniconda3/envs/prune/lib/python3.9/site-packages/torchvision/io/image.py:13: UserWarning: Failed to load image Python extension: libtorch_cuda_cu.so: cannot open shared object file: No such file or directory\n",
      "  warn(f\"Failed to load image Python extension: {e}\")\n"
     ]
    }
   ],
   "source": [
    "from fasterai.prune.all import *"
   ]
  },
  {
   "cell_type": "markdown",
   "id": "1e0f467f",
   "metadata": {},
   "source": [
    "Let's now see what our model is capable of now:"
   ]
  },
  {
   "cell_type": "code",
   "execution_count": null,
   "id": "b0cdfe64",
   "metadata": {},
   "outputs": [
    {
     "name": "stdout",
     "output_type": "stream",
     "text": [
      "Pruning until a sparsity of [50]%\n"
     ]
    },
    {
     "data": {
      "text/html": [
       "<table border=\"1\" class=\"dataframe\">\n",
       "  <thead>\n",
       "    <tr style=\"text-align: left;\">\n",
       "      <th>epoch</th>\n",
       "      <th>train_loss</th>\n",
       "      <th>valid_loss</th>\n",
       "      <th>accuracy</th>\n",
       "      <th>time</th>\n",
       "    </tr>\n",
       "  </thead>\n",
       "  <tbody>\n",
       "    <tr>\n",
       "      <td>0</td>\n",
       "      <td>0.555465</td>\n",
       "      <td>0.556082</td>\n",
       "      <td>0.818599</td>\n",
       "      <td>01:16</td>\n",
       "    </tr>\n",
       "    <tr>\n",
       "      <td>1</td>\n",
       "      <td>0.553234</td>\n",
       "      <td>0.553072</td>\n",
       "      <td>0.815032</td>\n",
       "      <td>00:54</td>\n",
       "    </tr>\n",
       "    <tr>\n",
       "      <td>2</td>\n",
       "      <td>0.531846</td>\n",
       "      <td>0.557609</td>\n",
       "      <td>0.820892</td>\n",
       "      <td>00:43</td>\n",
       "    </tr>\n",
       "    <tr>\n",
       "      <td>3</td>\n",
       "      <td>0.580146</td>\n",
       "      <td>0.561880</td>\n",
       "      <td>0.815287</td>\n",
       "      <td>00:43</td>\n",
       "    </tr>\n",
       "    <tr>\n",
       "      <td>4</td>\n",
       "      <td>0.567529</td>\n",
       "      <td>0.557436</td>\n",
       "      <td>0.818089</td>\n",
       "      <td>00:42</td>\n",
       "    </tr>\n",
       "  </tbody>\n",
       "</table>"
      ],
      "text/plain": [
       "<IPython.core.display.HTML object>"
      ]
     },
     "metadata": {},
     "output_type": "display_data"
    },
    {
     "name": "stdout",
     "output_type": "stream",
     "text": [
      "Sparsity at the end of epoch 0: [4.77]%\n",
      "Sparsity at the end of epoch 1: [17.27]%\n",
      "Sparsity at the end of epoch 2: [32.73]%\n",
      "Sparsity at the end of epoch 3: [45.23]%\n",
      "Sparsity at the end of epoch 4: [50.0]%\n",
      "Final Sparsity: [50.0]%\n"
     ]
    }
   ],
   "source": [
    "sp_cb = PruneCallback(sparsity=50, context='global', criteria=large_final, schedule=cos)\n",
    "student.fit(5, 1e-5, cbs=sp_cb)"
   ]
  },
  {
   "cell_type": "code",
   "execution_count": null,
   "id": "c3d9db2b",
   "metadata": {},
   "outputs": [
    {
     "name": "stdout",
     "output_type": "stream",
     "text": [
      "Total parameters : 55,015,424\n"
     ]
    }
   ],
   "source": [
    "count_parameters(student.model)"
   ]
  },
  {
   "cell_type": "markdown",
   "id": "4a27e756",
   "metadata": {},
   "source": [
    "And in terms of speed:"
   ]
  },
  {
   "cell_type": "code",
   "execution_count": null,
   "id": "8b321078",
   "metadata": {},
   "outputs": [],
   "source": [
    "model = student.model.eval().to('cpu')"
   ]
  },
  {
   "cell_type": "code",
   "execution_count": null,
   "id": "44c53dea",
   "metadata": {},
   "outputs": [
    {
     "name": "stdout",
     "output_type": "stream",
     "text": [
      "21.5 ms ± 2.78 ms per loop (mean ± std. dev. of 7 runs, 100 loops each)\n"
     ]
    }
   ],
   "source": [
    "%%timeit\n",
    "model(x[0][None].to('cpu'))"
   ]
  },
  {
   "cell_type": "markdown",
   "id": "00a98866",
   "metadata": {},
   "source": [
    "Yay ! Now we can talk ! Let's just double check that our accuracy is unchanged and that we didn't mess up somewhere:"
   ]
  },
  {
   "cell_type": "markdown",
   "id": "95e346f8",
   "metadata": {},
   "source": [
    "<br>"
   ]
  },
  {
   "cell_type": "markdown",
   "id": "8829ab1a",
   "metadata": {},
   "source": [
    "And there is actually more that we can do ! Let's keep going ! "
   ]
  },
  {
   "cell_type": "markdown",
   "id": "9ec57c8b",
   "metadata": {},
   "source": [
    "<br>"
   ]
  },
  {
   "cell_type": "markdown",
   "id": "523fbc65",
   "metadata": {},
   "source": [
    "---"
   ]
  },
  {
   "cell_type": "markdown",
   "id": "2df2f6f3",
   "metadata": {},
   "source": [
    "<br>"
   ]
  },
  {
   "cell_type": "markdown",
   "id": "3d0c0ab6",
   "metadata": {},
   "source": [
    "## **Batch Normalization Folding**"
   ]
  },
  {
   "cell_type": "markdown",
   "id": "8367fe86",
   "metadata": {},
   "source": [
    "**Batch Normalization Folding** is a really easy to implement and straightforward idea. The gist is that batch normalization is nothing more than a normalization of the input data at each layer. Moreover, at inference time, the batch statistics used for this normalization are fixed. We can thus incorporate the normalization process directly in the convolution by changing its weights and completely remove the batch normalization layers, which is a gain both in terms of parameters and in terms of computations. For a more in-depth explaination, see this [blog post](https://nathanhubens.github.io/posts/deep%20learning/2020/04/20/BN.html). \n",
    "\n",
    "This is how to use it with FasterAI:"
   ]
  },
  {
   "cell_type": "markdown",
   "id": "bab9080d",
   "metadata": {},
   "source": [
    "<blockquote>\n",
    "<pre><b><i>bn_folder = BN_Folder()\n",
    "bn_folder.fold(learn.model))</i></b></pre>\n",
    "<p style=\"font-size: 15px\"><i>\n",
    "Again, you only need to pass your model and FasterAI takes care of the rest. For models built using the nn.Sequential, you don't need to change anything. For others, if you want to see speedup and compression, you actually need to subclass your model to remove the batch norm from the parameters and from the <code>forward</code> method of your network.\n",
    "</i></p>\n",
    "</blockquote>"
   ]
  },
  {
   "cell_type": "markdown",
   "id": "1825f7f8",
   "metadata": {},
   "source": [
    ":::{.callout-note}\n",
    "\n",
    "This operation should also be lossless as it redefines the convolution to take batch norm into account and is thus equivalent.\n",
    "\n",
    ":::"
   ]
  },
  {
   "cell_type": "markdown",
   "id": "de3428ae",
   "metadata": {},
   "source": [
    "<br>"
   ]
  },
  {
   "cell_type": "code",
   "execution_count": null,
   "id": "fe83ec7e",
   "metadata": {},
   "outputs": [],
   "source": [
    "from fasterai.misc.bn_folding import *"
   ]
  },
  {
   "cell_type": "markdown",
   "id": "47386fcb",
   "metadata": {},
   "source": [
    "Let's do this with our model ! "
   ]
  },
  {
   "cell_type": "code",
   "execution_count": null,
   "id": "9700105a",
   "metadata": {},
   "outputs": [],
   "source": [
    "bn_f = BN_Folder()\n",
    "folded_model = bn_f.fold(student.model)"
   ]
  },
  {
   "cell_type": "markdown",
   "id": "75ac1b36",
   "metadata": {},
   "source": [
    "The parameters drop is generally not that significant, especially in a network such as **VGG** where almost all parameters are contained in the FC layers but, hey, any gain is good to take."
   ]
  },
  {
   "cell_type": "code",
   "execution_count": null,
   "id": "103c4713",
   "metadata": {},
   "outputs": [
    {
     "name": "stdout",
     "output_type": "stream",
     "text": [
      "Total parameters : 55,011,200\n"
     ]
    }
   ],
   "source": [
    "count_parameters(folded_model)"
   ]
  },
  {
   "cell_type": "markdown",
   "id": "2f5ec75e",
   "metadata": {},
   "source": [
    "<br>"
   ]
  },
  {
   "cell_type": "markdown",
   "id": "a1986747",
   "metadata": {},
   "source": [
    "Now that we removed the batch normalization layers, we should again see a speedup."
   ]
  },
  {
   "cell_type": "code",
   "execution_count": null,
   "id": "82664974",
   "metadata": {},
   "outputs": [],
   "source": [
    "folded_model = folded_model.eval().to('cpu')"
   ]
  },
  {
   "cell_type": "code",
   "execution_count": null,
   "id": "56577a35",
   "metadata": {},
   "outputs": [
    {
     "name": "stdout",
     "output_type": "stream",
     "text": [
      "16.6 ms ± 2.05 ms per loop (mean ± std. dev. of 7 runs, 100 loops each)\n"
     ]
    }
   ],
   "source": [
    "%%timeit\n",
    "folded_model(x[0][None].to('cpu'))"
   ]
  },
  {
   "cell_type": "markdown",
   "id": "c4081c08",
   "metadata": {},
   "source": [
    "Again, let's double check that we didn't mess up somewhere:"
   ]
  },
  {
   "cell_type": "code",
   "execution_count": null,
   "id": "d1aa8b13",
   "metadata": {},
   "outputs": [
    {
     "data": {
      "text/html": [],
      "text/plain": [
       "<IPython.core.display.HTML object>"
      ]
     },
     "metadata": {},
     "output_type": "display_data"
    },
    {
     "data": {
      "text/plain": [
       "(#2) [0.5574015378952026,0.8180891871452332]"
      ]
     },
     "execution_count": null,
     "metadata": {},
     "output_type": "execute_result"
    }
   ],
   "source": [
    "folded_learner = Learner(dls, folded_model, metrics=[accuracy])\n",
    "folded_learner.validate()"
   ]
  },
  {
   "cell_type": "markdown",
   "id": "33ca64b4",
   "metadata": {},
   "source": [
    "<br>"
   ]
  },
  {
   "cell_type": "markdown",
   "id": "9f9893ca",
   "metadata": {},
   "source": [
    "And we're still not done yet ! As we know for **VGG16**, most of the parameters are comprised in the fully-connected layers so there should be something that we can do about it, right ? "
   ]
  },
  {
   "cell_type": "markdown",
   "id": "67d836c2",
   "metadata": {},
   "source": [
    "<br>"
   ]
  },
  {
   "cell_type": "markdown",
   "id": "37add588",
   "metadata": {},
   "source": [
    "---"
   ]
  },
  {
   "cell_type": "markdown",
   "id": "56f295e9",
   "metadata": {},
   "source": [
    "<br>"
   ]
  },
  {
   "cell_type": "markdown",
   "id": "1c617c7d",
   "metadata": {},
   "source": [
    "## **FC Layers Factorization**"
   ]
  },
  {
   "cell_type": "markdown",
   "id": "a31eed16",
   "metadata": {},
   "source": [
    "We can indeed, factorize our big fully-connected layers and replace them by an approximation of two smaller layers. The idea is to make an **SVD** decomposition of the weight matrix, which will express the original matrix in a product of 3 matrices: $U \\Sigma V^T$. With $\\Sigma$ being a diagonal matrix with non-negative values along its diagonal (the singular values). We then define a value $k$ of singular values to keep and modify matrices $U$ and $V^T$ accordingly. The resulting will be an approximation of the initial matrix."
   ]
  },
  {
   "cell_type": "markdown",
   "id": "46b47a5f",
   "metadata": {},
   "source": [
    "![](imgs/svd.png)"
   ]
  },
  {
   "cell_type": "markdown",
   "id": "6f3c682d",
   "metadata": {},
   "source": [
    "In FasterAI, to decompose the fully-connected layers of your model, here is what you need to do:\n",
    "<br>"
   ]
  },
  {
   "cell_type": "markdown",
   "id": "22633913",
   "metadata": {},
   "source": [
    "<blockquote>\n",
    "<pre><b><i>FCD = FCDecomposer()\n",
    "decomposed_model = FCD.decompose(model, percent_removed)</i></b></pre>\n",
    "<p style=\"font-size: 15px\"><i>\n",
    "    The <code>percent_removed</code> corresponds to the percentage of singular values removed (<i>k</i> value above).\n",
    "</i></p>\n",
    "</blockquote>"
   ]
  },
  {
   "cell_type": "markdown",
   "id": "3a7f923f",
   "metadata": {},
   "source": [
    ":::{.callout-note}\n",
    "\n",
    "This time, the decomposition is not exact, so we expect a drop in performance afterwards and further retraining will be needed.\n",
    "\n",
    ":::"
   ]
  },
  {
   "cell_type": "markdown",
   "id": "4154d778",
   "metadata": {},
   "source": [
    "<br>"
   ]
  },
  {
   "cell_type": "markdown",
   "id": "81c05749",
   "metadata": {},
   "source": [
    "Which gives with our example, if we only want to keep half of them:"
   ]
  },
  {
   "cell_type": "code",
   "execution_count": null,
   "id": "d7b20be4",
   "metadata": {},
   "outputs": [],
   "source": [
    "from fasterai.misc.fc_decomposer import *"
   ]
  },
  {
   "cell_type": "code",
   "execution_count": null,
   "id": "f155ed57",
   "metadata": {},
   "outputs": [],
   "source": [
    "fc_decomposer = FC_Decomposer()\n",
    "decomposed_model = fc_decomposer.decompose(folded_model, percent_removed=0.5)"
   ]
  },
  {
   "cell_type": "markdown",
   "id": "62d14c98",
   "metadata": {},
   "source": [
    "How many parameters do we have now ?"
   ]
  },
  {
   "cell_type": "code",
   "execution_count": null,
   "id": "c7c4625a",
   "metadata": {},
   "outputs": [
    {
     "name": "stdout",
     "output_type": "stream",
     "text": [
      "Total parameters : 45,918,130\n"
     ]
    }
   ],
   "source": [
    "count_parameters(decomposed_model)"
   ]
  },
  {
   "cell_type": "markdown",
   "id": "c717dba4",
   "metadata": {},
   "source": [
    "And how much time did we gain ? "
   ]
  },
  {
   "cell_type": "code",
   "execution_count": null,
   "id": "1b7a792a",
   "metadata": {},
   "outputs": [],
   "source": [
    "decomposed_model = decomposed_model.eval().to('cpu')"
   ]
  },
  {
   "cell_type": "code",
   "execution_count": null,
   "id": "744d9611",
   "metadata": {},
   "outputs": [
    {
     "name": "stdout",
     "output_type": "stream",
     "text": [
      "15.1 ms ± 82.3 µs per loop (mean ± std. dev. of 7 runs, 100 loops each)\n"
     ]
    }
   ],
   "source": [
    "%%timeit\n",
    "decomposed_model(x[0][None].to('cpu'))"
   ]
  },
  {
   "cell_type": "markdown",
   "id": "dc53ecb2",
   "metadata": {},
   "source": [
    "We actually get a network that is a little bit slower, but at the expense of reducing the by 10M the number of parameter. This is thus a matter of compromise between network weight and speed."
   ]
  },
  {
   "cell_type": "markdown",
   "id": "586f5299",
   "metadata": {},
   "source": [
    "<br>"
   ]
  },
  {
   "cell_type": "markdown",
   "id": "de463984",
   "metadata": {},
   "source": [
    "However, this technique is an approximation so it is not lossless, so we should retrain our network a bit to recover its performance."
   ]
  },
  {
   "cell_type": "code",
   "execution_count": null,
   "id": "d17d2ded",
   "metadata": {},
   "outputs": [
    {
     "data": {
      "text/html": [
       "<table border=\"1\" class=\"dataframe\">\n",
       "  <thead>\n",
       "    <tr style=\"text-align: left;\">\n",
       "      <th>epoch</th>\n",
       "      <th>train_loss</th>\n",
       "      <th>valid_loss</th>\n",
       "      <th>accuracy</th>\n",
       "      <th>time</th>\n",
       "    </tr>\n",
       "  </thead>\n",
       "  <tbody>\n",
       "    <tr>\n",
       "      <td>0</td>\n",
       "      <td>0.948468</td>\n",
       "      <td>0.958711</td>\n",
       "      <td>0.626242</td>\n",
       "      <td>00:15</td>\n",
       "    </tr>\n",
       "    <tr>\n",
       "      <td>1</td>\n",
       "      <td>0.813343</td>\n",
       "      <td>0.853844</td>\n",
       "      <td>0.765860</td>\n",
       "      <td>00:15</td>\n",
       "    </tr>\n",
       "    <tr>\n",
       "      <td>2</td>\n",
       "      <td>0.707337</td>\n",
       "      <td>0.730561</td>\n",
       "      <td>0.787261</td>\n",
       "      <td>00:15</td>\n",
       "    </tr>\n",
       "    <tr>\n",
       "      <td>3</td>\n",
       "      <td>0.611412</td>\n",
       "      <td>0.685227</td>\n",
       "      <td>0.803057</td>\n",
       "      <td>00:15</td>\n",
       "    </tr>\n",
       "    <tr>\n",
       "      <td>4</td>\n",
       "      <td>0.609516</td>\n",
       "      <td>0.671448</td>\n",
       "      <td>0.807898</td>\n",
       "      <td>00:15</td>\n",
       "    </tr>\n",
       "  </tbody>\n",
       "</table>"
      ],
      "text/plain": [
       "<IPython.core.display.HTML object>"
      ]
     },
     "metadata": {},
     "output_type": "display_data"
    }
   ],
   "source": [
    "final_learner = Learner(dls, decomposed_model, metrics=[accuracy])\n",
    "final_learner.fit_one_cycle(5, 1e-5)"
   ]
  },
  {
   "cell_type": "markdown",
   "id": "e7b5280d",
   "metadata": {},
   "source": [
    "This operation is usually less useful for more recent architectures as they usually do not have that many parameters in their fully-connected layers."
   ]
  },
  {
   "cell_type": "markdown",
   "id": "4750f78f",
   "metadata": {},
   "source": [
    "<br>"
   ]
  },
  {
   "cell_type": "markdown",
   "id": "ec8a6e58",
   "metadata": {},
   "source": [
    "---"
   ]
  },
  {
   "cell_type": "markdown",
   "id": "b3e0ae5b",
   "metadata": {},
   "source": [
    "## Quantization"
   ]
  },
  {
   "cell_type": "code",
   "execution_count": null,
   "id": "a27fa530",
   "metadata": {},
   "outputs": [],
   "source": [
    "from fasterai.quantize.all import QuantizationAwareTrainingCallback"
   ]
  },
  {
   "cell_type": "code",
   "execution_count": null,
   "id": "1938555c",
   "metadata": {},
   "outputs": [
    {
     "data": {
      "text/html": [
       "<table border=\"1\" class=\"dataframe\">\n",
       "  <thead>\n",
       "    <tr style=\"text-align: left;\">\n",
       "      <th>epoch</th>\n",
       "      <th>train_loss</th>\n",
       "      <th>valid_loss</th>\n",
       "      <th>accuracy</th>\n",
       "      <th>time</th>\n",
       "    </tr>\n",
       "  </thead>\n",
       "  <tbody>\n",
       "    <tr>\n",
       "      <td>0</td>\n",
       "      <td>0.688162</td>\n",
       "      <td>0.750797</td>\n",
       "      <td>0.781911</td>\n",
       "      <td>00:21</td>\n",
       "    </tr>\n",
       "    <tr>\n",
       "      <td>1</td>\n",
       "      <td>0.657024</td>\n",
       "      <td>0.715372</td>\n",
       "      <td>0.793885</td>\n",
       "      <td>00:21</td>\n",
       "    </tr>\n",
       "    <tr>\n",
       "      <td>2</td>\n",
       "      <td>0.619336</td>\n",
       "      <td>0.677237</td>\n",
       "      <td>0.803057</td>\n",
       "      <td>00:21</td>\n",
       "    </tr>\n",
       "    <tr>\n",
       "      <td>3</td>\n",
       "      <td>0.580757</td>\n",
       "      <td>0.638669</td>\n",
       "      <td>0.812994</td>\n",
       "      <td>00:21</td>\n",
       "    </tr>\n",
       "    <tr>\n",
       "      <td>4</td>\n",
       "      <td>0.564272</td>\n",
       "      <td>0.632011</td>\n",
       "      <td>0.813758</td>\n",
       "      <td>00:21</td>\n",
       "    </tr>\n",
       "  </tbody>\n",
       "</table>"
      ],
      "text/plain": [
       "<IPython.core.display.HTML object>"
      ]
     },
     "metadata": {},
     "output_type": "display_data"
    }
   ],
   "source": [
    "final_learner.fit_one_cycle(5, 1e-5, cbs=QuantizationAwareTrainingCallback())"
   ]
  },
  {
   "cell_type": "code",
   "execution_count": null,
   "id": "87990aac",
   "metadata": {},
   "outputs": [
    {
     "name": "stdout",
     "output_type": "stream",
     "text": [
      "10.6 ms ± 24.6 µs per loop (mean ± std. dev. of 7 runs, 100 loops each)\n"
     ]
    }
   ],
   "source": [
    "%%timeit\n",
    "final_learner.model(x[0][None].to('cpu'))"
   ]
  },
  {
   "cell_type": "code",
   "execution_count": null,
   "id": "8ad298b5",
   "metadata": {},
   "outputs": [],
   "source": [
    "#| include: false\n",
    "def count_parameters_quantized(model):\n",
    "    total_params = 0\n",
    "    for module in model.modules():\n",
    "        if isinstance(module, torch.nn.modules.conv.Conv2d) or \\\n",
    "           isinstance(module, torch.nn.Linear) or \\\n",
    "           isinstance(module, torch.ao.nn.quantized.modules.conv.Conv2d) or \\\n",
    "           isinstance(module, torch.ao.nn.quantized.modules.linear.Linear):\n",
    "            # Count weights\n",
    "            total_params += module.weight().numel()\n",
    "            # Check for and count bias if it exists\n",
    "            if module.bias() is not None:\n",
    "                total_params += module.bias().numel()\n",
    "    print(f'Total parameters: {total_params:,}')"
   ]
  },
  {
   "cell_type": "code",
   "execution_count": null,
   "id": "dad3180f",
   "metadata": {},
   "outputs": [
    {
     "name": "stdout",
     "output_type": "stream",
     "text": [
      "Total parameters: 45,918,130\n"
     ]
    }
   ],
   "source": [
    "count_parameters_quantized(final_learner.model)"
   ]
  },
  {
   "cell_type": "markdown",
   "id": "512b7f18",
   "metadata": {},
   "source": [
    "---"
   ]
  },
  {
   "cell_type": "markdown",
   "id": "f3f67c43",
   "metadata": {},
   "source": [
    "<br>"
   ]
  },
  {
   "cell_type": "markdown",
   "id": "158ee7dc",
   "metadata": {},
   "source": [
    "So to recap, we saw in this article how to use fasterai to: <br>\n",
    "1. Make a student model learn from a teacher model (**Knowledge Distillation**) <br>\n",
    "2. Make our network sparse (**Sparsifying**) <br> \n",
    "3. Optionnaly physically remove the zero-filters (**Pruning**) <br>\n",
    "4. Remove the batch norm layers (**Batch Normalization Folding**) <br> \n",
    "5. Approximate our big fully-connected layers by smaller ones (**Fully-Connected Layers Factorization**) <br>\n",
    "\n"
   ]
  },
  {
   "cell_type": "markdown",
   "id": "9374891a",
   "metadata": {},
   "source": [
    "<br>"
   ]
  },
  {
   "cell_type": "markdown",
   "id": "26149076",
   "metadata": {},
   "source": [
    "And we saw that by applying those, we could reduce our **VGG16** model from **134 million** of parameters down to **45 million**, and also speed-up the inference from **157ms** to **43ms** without any drop in accuracy compared to the baseline.\n",
    "\n",
    "Of course, those techniques can be used in conjunction with [quantization](https://pytorch.org/docs/stable/quantization.html) or [mixed-precision training](https://pytorch.org/docs/stable/notes/amp_examples.html), which are already available in Pytorch for even more compression and speedup."
   ]
  },
  {
   "cell_type": "markdown",
   "id": "b9e1aee0",
   "metadata": {},
   "source": [
    "<br>"
   ]
  },
  {
   "cell_type": "markdown",
   "id": "9d3d25af",
   "metadata": {},
   "source": [
    ":::{.callout-note}\n",
    "\n",
    "Please keep in mind that the techniques presented above are not magic 🧙‍♂️, so do not expect to see a 200% speedup and compression everytime. What you can achieve highly depend on the architecture that you are using (some are already speed/parameter efficient by design) or the task it is doing (some datasets are so easy that you can remove almost all your network without seeing a drop in performance)\n",
    "\n",
    ":::"
   ]
  },
  {
   "cell_type": "markdown",
   "id": "eeb27f61",
   "metadata": {},
   "source": [
    "<br>"
   ]
  }
 ],
 "metadata": {
  "kernelspec": {
   "display_name": "python3",
   "language": "python",
   "name": "python3"
  }
 },
 "nbformat": 4,
 "nbformat_minor": 5
}
