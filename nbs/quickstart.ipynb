{
 "cells": [
  {
   "cell_type": "raw",
   "id": "31ac1da9-d240-49a8-9b3f-7b62f4ad2bad",
   "metadata": {},
   "source": [
    "---\n",
    "description: A guide on FasterAI capabilities\n",
    "output-file: quickstart.html\n",
    "title: Quick Start\n",
    "skip_showdoc: true\n",
    "skip_exec: true\n",
    "---"
   ]
  },
  {
   "cell_type": "markdown",
   "id": "9e0b783a-ca31-474f-a3e5-02e33ab11022",
   "metadata": {},
   "source": [
    "Embark on a journey to supercharge your neural network models with FasterAI, a PyTorch-based library dedicated exclusively to advanced compression techniques. In today's fast-paced world, where efficiency and performance are paramount, FasterAI stands out by providing cutting-edge solutions designed to make your neural networks not just lighter, but significantly faster."
   ]
  },
  {
   "cell_type": "markdown",
   "id": "10dc9f7c-a568-4228-9cbd-1de968d21baa",
   "metadata": {},
   "source": [
    "## Why Choose FasterAI?\n",
    "\n",
    "* **Streamlined Efficiency**: Dive into a suite of compression methodologies, including sparsification, pruning, quantization, and knowledge distillation, each tailored to enhance model efficiency without compromising on accuracy.\n",
    "\n",
    "* **Edge-Ready Models**: With FasterAI, prepare your models for the edge, ensuring they run smoothly on devices with limited computational resources, from smartphones to IoT devices.\n",
    "  \n",
    "* **Cutting-edge Technology**: Built on the latest research in data and model compression, FasterAI offers tools that are not just powerful but also easy to integrate into your existing workflows.\n",
    "\n",
    "* **Versatility**: From image and video compression to deep learning model optimization, FasterAI is versatile enough to handle a wide range of compression needs, making it suitable for various industries and applications.\n",
    "\n",
    "* **Open and Accessible**: As a community-driven project, FasterAI encourages contributions and feedback, ensuring that the library continues to evolve to meet the needs of its users."
   ]
  },
  {
   "cell_type": "markdown",
   "id": "ad7c7abb-a899-4525-ac32-70c1f8baca8d",
   "metadata": {},
   "source": [
    "## Getting Started with FasterAI\n",
    "\n",
    "Whether you're looking to optimize models for production, research, or hobby projects, FasterAI provides the tools and guidance to achieve your goals. Let's make your neural networks faster and lighter, together."
   ]
  },
  {
   "cell_type": "markdown",
   "id": "9af90b4c-2fcf-4925-acf9-a6c5a04f85b1",
   "metadata": {},
   "source": [
    "### How to use fasterai ? "
   ]
  },
  {
   "cell_type": "markdown",
   "id": "7a061e0d-61e4-41b7-b7cb-83cc7bfac121",
   "metadata": {},
   "source": [
    "FasterAI's integration with the callback system of fastai represents a significant advancement in how compression techniques can be applied to neural networks, particularly during the training phase. This approach allows for a more seamless and flexible implementation of compression strategies, making it possible to optimize models on-the-fly and potentially achieve better efficiency and performance.\n",
    "\n",
    "### Understanding Callbacks in fastai\n",
    "\n",
    "Before diving into how FasterAI leverages callbacks, it's important to understand what callbacks are in the context of the fastai library. Callbacks are a programming pattern that allows users to inject custom behavior into certain stages of the training loop or model lifecycle without altering the core logic of the training process. They can be used for a variety of purposes, such as logging metrics, modifying learning rates, or implementing early stopping.\n",
    "\n",
    "### FasterAI's Use of Callbacks\n",
    "\n",
    "FasterAI takes advantage of the callback system in fastai to integrate neural network compression techniques directly into the training process. This integration means that instead of applying compression post-training as a separate step, FasterAI allows for compression techniques like pruning, quantization, and knowledge distillation to be applied dynamically as the model trains. Here’s how it enhances the training process:\n",
    "\n",
    "- **Dynamic Compression:** By using callbacks, FasterAI can dynamically adjust the compression parameters based on the model's performance during training. For example, it can gradually increase the amount of pruning as the model becomes more stable, leading to a more efficient compression process that minimally impacts performance.\n",
    "  \n",
    "- **Real-time Optimization:** This approach enables real-time optimization of the model. As the model learns and adapts to the data, FasterAI can apply compression techniques in a way that's informed by the model's current state, potentially leading to more effective and efficient compression.\n",
    "  \n",
    "- **Seamless Integration:** Leveraging fastai’s callback system means that users of FasterAI can integrate compression into their training pipelines with minimal code changes. This seamless integration simplifies the process of applying advanced compression techniques, making it accessible even to those with limited experience in model optimization.\n",
    "\n",
    "### Practical Implications\n",
    "\n",
    "For practitioners, this means they can train models that are not only high-performing but also optimized for size and speed from the outset. It also opens up new possibilities for experimenting with compression techniques during training, which could lead to novel optimization strategies and more efficient models.\n",
    "\n",
    "In essence, FasterAI's use of the callback system in fastai democratizes the application of sophisticated neural network compression techniques, making them an integral part of the model development lifecycle rather than an afterthought. This approach aligns with the broader goal of developing AI models that are not just powerful but also efficient and adaptable to various deployment environments."
   ]
  },
  {
   "cell_type": "markdown",
   "id": "beecdef0-2cb7-4904-bd89-8c4a986cac92",
   "metadata": {},
   "source": [
    "To illustrate the practical application of FasterAI's integration with the fastai callback system for on-the-fly compression during the training phase, let's walk through an example. This example will demonstrate how to apply dynamic pruning to a neural network model while it's being trained, leveraging the callback system for seamless integration.\n",
    "\n",
    "### Setting Up Your Environment\n",
    "\n",
    "First, ensure you have both fastai and FasterAI installed in your Python environment. If you haven't installed these libraries yet, you can do so using pip:\n",
    "\n",
    "```bash\n",
    "pip install fastai fasterai\n",
    "```\n",
    "\n",
    "### Importing Necessary Libraries\n",
    "\n",
    "Begin by importing the required libraries from fasterai:\n",
    "\n",
    "```python\n",
    "from fasterai.sparse.all import *\n",
    "```\n",
    "\n",
    "### Defining the Dataloader and Learner\n",
    "\n",
    "Just get your favorite Dataloader and Learner as usual with `fastai`:\n",
    "\n",
    "```python\n",
    "dls = get_dls()\n",
    "learner = get_learner()\n",
    "```\n",
    "\n",
    "### Applying Dynamic Sparsification with a Callback\n",
    "\n",
    "Now, integrate FasterAI's dynamic sparsification into the training process by adding the `SparsifyCallback` to your model. This callback will apply sparsify dynamically based on the defined parameters:\n",
    "\n",
    "```python\n",
    "sparsify_callback = SparsifyCallback(sparsity, granularity, context, criteria, schedule)\n",
    "learner.fit(n_epoch, max_lr, cbs=[sparsify_callback])\n",
    "```\n",
    "\n",
    "In this example, `SparsifyCallback` is initialized with different parameters (see the [tutorial](https://nathanhubens.github.io/fasterai/tutorial.sparsifier.html) to better understand those parameters). The `fit` method trains the model for `n_epochs`, and the `SparsifyCallback` is passed through the `cbs` (callbacks) parameter, enabling dynamic sparsification during the training process.\n",
    "\n",
    "### Observing the Effects\n",
    "\n",
    "After training, you can evaluate the model's performance and size to observe the effects of dynamic sparsification. You should notice a reduction in the model size with minimal impact on accuracy, showcasing the efficiency of integrating compression techniques during training.\n",
    "\n",
    "### Conclusion\n",
    "\n",
    "This example demonstrates how FasterAI's integration with the fastai callback system allows for the application of compression techniques like sparsification directly within the training loop. By leveraging callbacks, you can dynamically optimize your neural network models, making them lighter and faster without a significant compromise on performance. This approach not only simplifies the compression process but also opens up new avenues for creating efficient AI models optimized for various deployment scenarios."
   ]
  },
  {
   "cell_type": "code",
   "execution_count": null,
   "id": "b43a93bf-b95c-4815-ad12-c31b66b0533b",
   "metadata": {},
   "outputs": [],
   "source": []
  }
 ],
 "metadata": {
  "kernelspec": {
   "display_name": "python3",
   "language": "python",
   "name": "python3"
  }
 },
 "nbformat": 4,
 "nbformat_minor": 5
}
