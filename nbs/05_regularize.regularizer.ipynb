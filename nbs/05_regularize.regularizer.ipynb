{
 "cells": [
  {
   "cell_type": "raw",
   "id": "3fef4a5c",
   "metadata": {},
   "source": [
    "---\n",
    "description: Perform Group Regularization in fastai Callback system\n",
    "output-file: regularizer.html\n",
    "title: Regularize Callback\n",
    "skip_showdoc: true\n",
    "skip_exec: true\n",
    "---\n",
    "\n"
   ]
  },
  {
   "cell_type": "code",
   "execution_count": null,
   "id": "complete-trust",
   "metadata": {},
   "outputs": [],
   "source": [
    "#| default_exp regularize.regularize_callback"
   ]
  },
  {
   "cell_type": "code",
   "execution_count": null,
   "id": "c9314896",
   "metadata": {},
   "outputs": [],
   "source": [
    "#| include: false\n",
    "from nbdev.showdoc import *"
   ]
  },
  {
   "cell_type": "code",
   "execution_count": null,
   "id": "7b9d82f5",
   "metadata": {},
   "outputs": [],
   "source": [
    "#| export\n",
    "from fastai.callback.all import *\n",
    "from fastcore.basics import store_attr\n",
    "from fasterai.core.criteria import *\n",
    "from fasterai.core.granularity import *\n",
    "\n",
    "import torch\n",
    "import torch.nn as nn\n",
    "import torch.nn.functional as F"
   ]
  },
  {
   "cell_type": "code",
   "execution_count": null,
   "id": "46f6973d",
   "metadata": {},
   "outputs": [],
   "source": [
    "#| export\n",
    "class RegularizeCallback(Callback):\n",
    "    \"Callback to apply grouped weight decay\"\n",
    "    def __init__(self, g, wd=0.01, layer_type=nn.Conv2d):\n",
    "        store_attr()\n",
    "\n",
    "    def after_loss(self):\n",
    "        reg = self.get_norm()\n",
    "        self.learn.loss_grad += reg\n",
    "        self.learn.loss = self.learn.loss_grad.clone()\n",
    "        \n",
    "    def get_norm(self):\n",
    "        return self.wd*torch.stack([large_final.f(m.weight)[None].sum(Granularities.get_dim(m, self.g)).sum() for m in self.learn.modules() if isinstance(m, self.layer_type)]).sum()"
   ]
  },
  {
   "cell_type": "code",
   "execution_count": null,
   "id": "6cd300f8",
   "metadata": {},
   "outputs": [
    {
     "data": {
      "text/markdown": [
       "---\n",
       "\n",
       "### RegularizeCallback\n",
       "\n",
       ">      RegularizeCallback (g, wd=0.01, layer_type=<class\n",
       ">                          'torch.nn.modules.conv.Conv2d'>)\n",
       "\n",
       "Callback to apply grouped weight decay"
      ],
      "text/plain": [
       "---\n",
       "\n",
       "### RegularizeCallback\n",
       "\n",
       ">      RegularizeCallback (g, wd=0.01, layer_type=<class\n",
       ">                          'torch.nn.modules.conv.Conv2d'>)\n",
       "\n",
       "Callback to apply grouped weight decay"
      ]
     },
     "execution_count": null,
     "metadata": {},
     "output_type": "execute_result"
    }
   ],
   "source": [
    "show_doc(RegularizeCallback)"
   ]
  },
  {
   "cell_type": "markdown",
   "id": "bd44a5fa",
   "metadata": {},
   "source": [
    "The `RegularizeCallback`can be used to perform $l_1$ regularization on any granularity available in the `criteria` class."
   ]
  }
 ],
 "metadata": {
  "kernelspec": {
   "display_name": "python3",
   "language": "python",
   "name": "python3"
  }
 },
 "nbformat": 4,
 "nbformat_minor": 5
}
