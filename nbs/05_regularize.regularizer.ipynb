{
 "cells": [
  {
   "cell_type": "raw",
   "id": "3fef4a5c",
   "metadata": {},
   "source": [
    "---\n",
    "description: Perform Group Regularization in fastai Callback system\n",
    "output-file: regularizer.html\n",
    "title: RegularizationCallback\n",
    "skip_showdoc: true\n",
    "skip_exec: true\n",
    "---\n",
    "\n"
   ]
  },
  {
   "cell_type": "code",
   "execution_count": null,
   "id": "complete-trust",
   "metadata": {},
   "outputs": [],
   "source": [
    "#| default_exp regularize.regularization_callback"
   ]
  },
  {
   "cell_type": "code",
   "execution_count": null,
   "id": "c9314896",
   "metadata": {},
   "outputs": [],
   "source": [
    "#| include: false\n",
    "from nbdev.showdoc import *"
   ]
  },
  {
   "cell_type": "code",
   "execution_count": null,
   "id": "7b9d82f5",
   "metadata": {},
   "outputs": [],
   "source": [
    "#| export\n",
    "from fastai.callback.all import *\n",
    "from fastcore.basics import store_attr\n",
    "from fasterai.core.criteria import *\n",
    "\n",
    "import torch\n",
    "import torch.nn as nn\n",
    "import torch.nn.functional as F"
   ]
  },
  {
   "cell_type": "code",
   "execution_count": null,
   "id": "46f6973d",
   "metadata": {},
   "outputs": [],
   "source": [
    "#| export\n",
    "class RegularizationCallback(Callback):\n",
    "    \"Callback to apply grouped weight decay\"\n",
    "    def __init__(self, granularity, wd=0.01):\n",
    "        store_attr()\n",
    "\n",
    "    def after_loss(self):\n",
    "        reg = self.get_norm()\n",
    "        self.learn.loss_grad += reg\n",
    "        self.learn.loss = self.learn.loss_grad.clone()\n",
    "        \n",
    "    def get_norm(self):\n",
    "        return self.wd*torch.stack([large_final.get_scores(m, large_final(m),self.granularity).sum() for m in self.learn.modules() if isinstance(m, nn.Conv2d)]).sum()"
   ]
  },
  {
   "cell_type": "code",
   "execution_count": null,
   "id": "6cd300f8",
   "metadata": {},
   "outputs": [
    {
     "data": {
      "text/markdown": [
       "---\n",
       "\n",
       "### RegularizationCallback\n",
       "\n",
       ">      RegularizationCallback (granularity, wd=0.01)\n",
       "\n",
       "Callback to apply grouped weight decay"
      ],
      "text/plain": [
       "---\n",
       "\n",
       "### RegularizationCallback\n",
       "\n",
       ">      RegularizationCallback (granularity, wd=0.01)\n",
       "\n",
       "Callback to apply grouped weight decay"
      ]
     },
     "execution_count": null,
     "metadata": {},
     "output_type": "execute_result"
    }
   ],
   "source": [
    "show_doc(RegularizationCallback)"
   ]
  },
  {
   "cell_type": "markdown",
   "id": "bd44a5fa",
   "metadata": {},
   "source": [
    "The `RegularizationCallback`can be used to perform $l_1$ regularization on any granularity available in the `criteria` class."
   ]
  }
 ],
 "metadata": {
  "kernelspec": {
   "display_name": "python3",
   "language": "python",
   "name": "python3"
  }
 },
 "nbformat": 4,
 "nbformat_minor": 5
}
