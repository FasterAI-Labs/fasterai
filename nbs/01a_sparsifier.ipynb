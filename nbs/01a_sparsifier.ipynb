{
 "cells": [
  {
   "cell_type": "code",
   "execution_count": null,
   "metadata": {},
   "outputs": [],
   "source": [
    "# default_exp sparse.sparsifier"
   ]
  },
  {
   "cell_type": "markdown",
   "metadata": {},
   "source": [
    "# Sparsifier\n",
    "\n",
    "> Make your neural network sparse"
   ]
  },
  {
   "cell_type": "code",
   "execution_count": null,
   "metadata": {},
   "outputs": [],
   "source": [
    "#hide\n",
    "from nbdev.showdoc import *\n",
    "from fastai.vision.all import *"
   ]
  },
  {
   "cell_type": "code",
   "execution_count": null,
   "metadata": {},
   "outputs": [],
   "source": [
    "#export\n",
    "import numpy as np\n",
    "import torch\n",
    "import torch.nn as nn\n",
    "from fastcore.basics import store_attr\n",
    "from fasterai.sparse.criteria import *"
   ]
  },
  {
   "cell_type": "code",
   "execution_count": null,
   "metadata": {},
   "outputs": [],
   "source": [
    "#hide\n",
    "from torchvision.utils import make_grid\n",
    "import matplotlib.pyplot as plt"
   ]
  },
  {
   "cell_type": "markdown",
   "metadata": {},
   "source": [
    "A sparse vector, as opposed to a dense one, is a vector which contains a lot of zeroes. When we speak about making a neural network sparse, we thus mean that the network's weight are mostly zeroes.\n",
    "\n",
    "With fasterai, you can do that thanks to the `Sparsifier` class."
   ]
  },
  {
   "cell_type": "markdown",
   "metadata": {},
   "source": [
    "Let's start by creating a model"
   ]
  },
  {
   "cell_type": "code",
   "execution_count": null,
   "metadata": {},
   "outputs": [],
   "source": [
    "model = resnet18()"
   ]
  },
  {
   "cell_type": "markdown",
   "metadata": {},
   "source": [
    "As you probably know, weights in a convolutional neural network have 4 dimensions ($ c_{out} \\times c_{in} \\times k_h \\times k_w$)"
   ]
  },
  {
   "cell_type": "code",
   "execution_count": null,
   "metadata": {},
   "outputs": [
    {
     "data": {
      "text/plain": [
       "4"
      ]
     },
     "execution_count": null,
     "metadata": {},
     "output_type": "execute_result"
    }
   ],
   "source": [
    "model.conv1.weight.ndim"
   ]
  },
  {
   "cell_type": "code",
   "execution_count": null,
   "metadata": {},
   "outputs": [],
   "source": [
    "#hide\n",
    "def plot_kernels(layer, save=None):\n",
    "    kernels = layer.weight.detach().clone()\n",
    "    kernels = kernels - kernels.min()\n",
    "    kernels = kernels/kernels.max()\n",
    "    \n",
    "    plt.figure(figsize=(10,10))\n",
    "    img = make_grid(kernels, nrow=8, padding=1, pad_value=1)\n",
    "    plt.axis('off')\n",
    "    plt.imshow(img.detach().permute(1,2,0).cpu())\n",
    "    if save: plt.savefig(f'{save}.pdf')"
   ]
  },
  {
   "cell_type": "markdown",
   "metadata": {},
   "source": [
    "In the case of ResNet18, the dimension of the first layer weights is $64 \\times 3 \\times 7 \\times 7$. We thus can plot each of the $64$ filter as a $7 \\times 7$ color image (because they contains $3$ channels)."
   ]
  },
  {
   "cell_type": "code",
   "execution_count": null,
   "metadata": {},
   "outputs": [
    {
     "data": {
      "image/png": "[encoded data removed]",
      "text/plain": [
       "<Figure size 720x720 with 1 Axes>"
      ]
     },
     "metadata": {
      "needs_background": "light"
     },
     "output_type": "display_data"
    }
   ],
   "source": [
    "plot_kernels(model.conv1)"
   ]
  },
  {
   "cell_type": "code",
   "execution_count": null,
   "metadata": {},
   "outputs": [],
   "source": [
    "#export\n",
    "class Sparsifier():\n",
    "\n",
    "    def __init__(self, model, granularity, method, criteria, layer_type=nn.Conv2d):\n",
    "        store_attr()\n",
    "        self._save_weights() # Save the original weights\n",
    "\n",
    "    def prune_layer(self, m, sparsity, round_to=None):\n",
    "        weight = self.criteria(m, self.granularity)\n",
    "        mask = self._compute_mask(weight, sparsity, round_to)\n",
    "        m.register_buffer(\"_mask\", mask) # Put the mask into a buffer\n",
    "        self._apply(m)\n",
    "\n",
    "    def prune_model(self, sparsity, round_to=None):\n",
    "        self.threshold=None\n",
    "        for m in self.model.modules():\n",
    "            if isinstance(m, self.layer_type): self.prune_layer(m, sparsity, round_to)\n",
    "\n",
    "    def _apply(self, m):\n",
    "        mask = getattr(m, \"_mask\", None)\n",
    "        if mask is not None: m.weight.data.mul_(mask)\n",
    "        if self.granularity == 'filter' and m.bias is not None:\n",
    "            if mask is not None: m.bias.data.mul_(mask.squeeze()) # We want to prune the bias when pruning filters\n",
    "\n",
    "    def _mask_grad(self):\n",
    "        for m in self.model.modules():\n",
    "            if isinstance(m, self.layer_type) and hasattr(m, '_mask'):\n",
    "                mask = getattr(m, \"_mask\")\n",
    "                if m.weight.grad is not None: m.weight.grad.mul_(mask)\n",
    "                if self.granularity == 'filter' and m.bias is not None:\n",
    "                    if m.bias.grad is not None: m.bias.grad.mul_(mask.squeeze())\n",
    "\n",
    "    def _reset_weights(self): # Reset non-pruned weights\n",
    "        for m in self.model.modules():\n",
    "            if hasattr(m, 'weight'):\n",
    "                init_weights = getattr(m, \"_init_weights\", m.weight)\n",
    "                init_biases = getattr(m, \"_init_biases\", m.bias)\n",
    "                with torch.no_grad():\n",
    "                    if m.weight is not None: m.weight.copy_(init_weights)\n",
    "                    if m.bias is not None: m.bias.copy_(init_biases)\n",
    "                self._apply(m)\n",
    "            if isinstance(m, nn.modules.batchnorm._BatchNorm): m.reset_parameters()\n",
    "\n",
    "    def _save_weights(self):\n",
    "        for m in self.model.modules():\n",
    "            if hasattr(m, 'weight'):              \n",
    "                m.register_buffer(\"_init_weights\", m.weight.clone())\n",
    "                b = getattr(m, 'bias', None)\n",
    "                if b is not None: m.register_buffer(\"_init_biases\", b.clone())\n",
    "\n",
    "    def _clean_buffers(self):\n",
    "        for m in self.model.modules():\n",
    "            if hasattr(m, 'weight'):\n",
    "                if hasattr(m, '_mask'): del m._buffers[\"_mask\"]\n",
    "                if hasattr(m, '_init_weights'): del m._buffers[\"_init_weights\"]\n",
    "                if hasattr(m, '_init_biases'): del m._buffers[\"_init_biases\"]\n",
    "    \n",
    "    def _compute_threshold(self, weight, sparsity):\n",
    "        if self.method == 'global':\n",
    "            global_weight = torch.cat([self.criteria(m, self.granularity).view(-1) for m in self.model.modules() if isinstance(m, self.layer_type)])\n",
    "            if self.threshold is None: self.threshold = torch.quantile(global_weight, sparsity/100) # Compute the threshold globally (only once per model pruning)\n",
    "            return self.threshold\n",
    "        elif self.method == 'local':\n",
    "            return torch.quantile(weight.view(-1), sparsity/100) # Compute the threshold locally\n",
    "        else: raise NameError('Invalid Method')\n",
    "\n",
    "    def _rounded_sparsity(self, n_to_prune, round_to):\n",
    "        return max(round_to*torch.ceil(n_to_prune/round_to), round_to)\n",
    "    \n",
    "    def _compute_mask(self, weight, sparsity, round_to):\n",
    "        threshold = self._compute_threshold(weight, sparsity)\n",
    "        if round_to:\n",
    "            n_to_keep = sum(weight.ge(threshold)).squeeze()\n",
    "            threshold = torch.topk(weight.squeeze(), int(self._rounded_sparsity(n_to_keep, round_to)))[0].min()\n",
    "        if threshold > weight.max(): threshold = weight.max() # Make sure we don't remove every weight of a given layer\n",
    "        return weight.ge(threshold).to(dtype=weight.dtype)\n",
    "    \n",
    "    def print_sparsity(self):\n",
    "        for k,m in enumerate(self.model.modules()):\n",
    "            if isinstance(m, self.layer_type):\n",
    "                print(f\"Sparsity in {m.__class__.__name__} {k}: {100. * float(torch.sum(m.weight == 0))/ float(m.weight.nelement()):.2f}%\")"
   ]
  },
  {
   "cell_type": "markdown",
   "metadata": {},
   "source": [
    "The `Sparsifier` class allows us to remove some (part of) the filters, that are considered to be less useful than others. This can be done by first creating an instance of the class, specifying:\n",
    "\n",
    "- The `granularity`, i.e. the part of filters that you want to remove. Typically, we usually remove weights, vectors, kernels or even complete filters.\n",
    "- The `method`, i.e. if you want to consider each layer independently (`local`), or compare the parameters to remove across the whole network (`global`).\n",
    "- The `criteria`, i.e. the way to assess the usefulness of a parameter. Common methods compare parameters using their magnitude, the lowest magnitude ones considered to be less useful."
   ]
  },
  {
   "cell_type": "markdown",
   "metadata": {},
   "source": [
    "User can pass a single layer to prune by using the  `Sparsifier.prune_layer` method."
   ]
  },
  {
   "cell_type": "code",
   "execution_count": null,
   "metadata": {},
   "outputs": [
    {
     "data": {
      "text/markdown": [
       "<h4 id=\"Sparsifier.prune_layer\" class=\"doc_header\"><code>Sparsifier.prune_layer</code><a href=\"__main__.py#L8\" class=\"source_link\" style=\"float:right\">[source]</a></h4>\n",
       "\n",
       "> <code>Sparsifier.prune_layer</code>(**`m`**, **`sparsity`**, **`round_to`**=*`None`*)\n",
       "\n"
      ],
      "text/plain": [
       "<IPython.core.display.Markdown object>"
      ]
     },
     "metadata": {},
     "output_type": "display_data"
    }
   ],
   "source": [
    "show_doc(Sparsifier.prune_layer)"
   ]
  },
  {
   "cell_type": "code",
   "execution_count": null,
   "metadata": {},
   "outputs": [],
   "source": [
    "model = resnet18()\n",
    "pruner = Sparsifier(model, 'weight', 'local', large_final)\n",
    "pruner.prune_layer(model.conv1, 70)"
   ]
  },
  {
   "cell_type": "code",
   "execution_count": null,
   "metadata": {},
   "outputs": [
    {
     "name": "stdout",
     "output_type": "stream",
     "text": [
      "Sparsity in Conv2d 1: 69.99%\n",
      "Sparsity in Conv2d 7: 0.00%\n",
      "Sparsity in Conv2d 10: 0.00%\n",
      "Sparsity in Conv2d 13: 0.00%\n",
      "Sparsity in Conv2d 16: 0.00%\n",
      "Sparsity in Conv2d 20: 0.00%\n",
      "Sparsity in Conv2d 23: 0.00%\n",
      "Sparsity in Conv2d 26: 0.00%\n",
      "Sparsity in Conv2d 29: 0.00%\n",
      "Sparsity in Conv2d 32: 0.00%\n",
      "Sparsity in Conv2d 36: 0.00%\n",
      "Sparsity in Conv2d 39: 0.00%\n",
      "Sparsity in Conv2d 42: 0.00%\n",
      "Sparsity in Conv2d 45: 0.00%\n",
      "Sparsity in Conv2d 48: 0.00%\n",
      "Sparsity in Conv2d 52: 0.00%\n",
      "Sparsity in Conv2d 55: 0.00%\n",
      "Sparsity in Conv2d 58: 0.00%\n",
      "Sparsity in Conv2d 61: 0.00%\n",
      "Sparsity in Conv2d 64: 0.00%\n"
     ]
    }
   ],
   "source": [
    "pruner.print_sparsity()"
   ]
  },
  {
   "cell_type": "markdown",
   "metadata": {},
   "source": [
    "Most of the time, we may want to prune the whole model at once, using the `Sparsifier.prune_model` method, indicating the percentage of sparsity to you want to apply."
   ]
  },
  {
   "cell_type": "code",
   "execution_count": null,
   "metadata": {},
   "outputs": [
    {
     "data": {
      "text/markdown": [
       "<h4 id=\"Sparsifier.prune_model\" class=\"doc_header\"><code>Sparsifier.prune_model</code><a href=\"__main__.py#L14\" class=\"source_link\" style=\"float:right\">[source]</a></h4>\n",
       "\n",
       "> <code>Sparsifier.prune_model</code>(**`sparsity`**, **`round_to`**=*`None`*)\n",
       "\n"
      ],
      "text/plain": [
       "<IPython.core.display.Markdown object>"
      ]
     },
     "metadata": {},
     "output_type": "display_data"
    }
   ],
   "source": [
    "show_doc(Sparsifier.prune_model)"
   ]
  },
  {
   "cell_type": "markdown",
   "metadata": {},
   "source": [
    "There are several ways in which we can make that first layer sparse. You will find the most important below:"
   ]
  },
  {
   "cell_type": "code",
   "execution_count": null,
   "metadata": {},
   "outputs": [],
   "source": [
    "model = resnet18()\n",
    "pruner = Sparsifier(model, 'weight', 'local', large_final)\n",
    "pruner.prune_model(70)"
   ]
  },
  {
   "cell_type": "code",
   "execution_count": null,
   "metadata": {},
   "outputs": [
    {
     "name": "stdout",
     "output_type": "stream",
     "text": [
      "Sparsity in Conv2d 1: 69.99%\n",
      "Sparsity in Conv2d 7: 70.00%\n",
      "Sparsity in Conv2d 10: 70.00%\n",
      "Sparsity in Conv2d 13: 70.00%\n",
      "Sparsity in Conv2d 16: 70.00%\n",
      "Sparsity in Conv2d 20: 70.00%\n",
      "Sparsity in Conv2d 23: 70.00%\n",
      "Sparsity in Conv2d 26: 70.00%\n",
      "Sparsity in Conv2d 29: 70.00%\n",
      "Sparsity in Conv2d 32: 70.00%\n",
      "Sparsity in Conv2d 36: 70.00%\n",
      "Sparsity in Conv2d 39: 70.00%\n",
      "Sparsity in Conv2d 42: 70.00%\n",
      "Sparsity in Conv2d 45: 70.00%\n",
      "Sparsity in Conv2d 48: 70.00%\n",
      "Sparsity in Conv2d 52: 70.00%\n",
      "Sparsity in Conv2d 55: 70.00%\n",
      "Sparsity in Conv2d 58: 70.00%\n",
      "Sparsity in Conv2d 61: 70.00%\n",
      "Sparsity in Conv2d 64: 70.00%\n"
     ]
    }
   ],
   "source": [
    "pruner.print_sparsity()"
   ]
  },
  {
   "cell_type": "markdown",
   "metadata": {},
   "source": [
    "You now have a model that is $70\\%$ sparse ! "
   ]
  },
  {
   "cell_type": "markdown",
   "metadata": {},
   "source": [
    "## Granularity"
   ]
  },
  {
   "cell_type": "markdown",
   "metadata": {},
   "source": [
    "As we said earlier, the `granularity` defines the structure of parameter that you will remove."
   ]
  },
  {
   "cell_type": "markdown",
   "metadata": {},
   "source": [
    "In the example below, we removed `weight` from each convolutional filter, meaning that we now have sparse filters, as can be seen in the image below:"
   ]
  },
  {
   "cell_type": "code",
   "execution_count": null,
   "metadata": {},
   "outputs": [
    {
     "data": {
      "image/png": "[encoded data removed]",
      "text/plain": [
       "<Figure size 720x720 with 1 Axes>"
      ]
     },
     "metadata": {
      "needs_background": "light"
     },
     "output_type": "display_data"
    }
   ],
   "source": [
    "plot_kernels(model.conv1)"
   ]
  },
  {
   "cell_type": "markdown",
   "metadata": {},
   "source": [
    "Another granularity is, for example, removing `column` vectors from the filters. To do so, just change the granularity parameter accordingly."
   ]
  },
  {
   "cell_type": "code",
   "execution_count": null,
   "metadata": {},
   "outputs": [],
   "source": [
    "model = resnet18()\n",
    "pruner = Sparsifier(model, 'column', 'local', large_final)\n",
    "pruner.prune_layer(model.conv1, 70)"
   ]
  },
  {
   "cell_type": "code",
   "execution_count": null,
   "metadata": {},
   "outputs": [
    {
     "data": {
      "image/png": "[encoded data removed]",
      "text/plain": [
       "<Figure size 720x720 with 1 Axes>"
      ]
     },
     "metadata": {
      "needs_background": "light"
     },
     "output_type": "display_data"
    }
   ],
   "source": [
    "plot_kernels(model.conv1)"
   ]
  },
  {
   "cell_type": "markdown",
   "metadata": {},
   "source": [
    "For more information and examples about the pruning granularities, I suggest you to take a look at the [corresponding section](https://nathanhubens.github.io/fasterai/granularity.html)."
   ]
  },
  {
   "cell_type": "markdown",
   "metadata": {},
   "source": [
    "## Method"
   ]
  },
  {
   "cell_type": "markdown",
   "metadata": {},
   "source": [
    "The method defines where to look in the model, i.e. from where do we compare weight. The two basic methods are:\n",
    "- `local`, i.e. we compare weight from each layer individually. This will lead to layers with similar levels of sparsity.\n",
    "- `global`, i.e. we compare weight from the whole model. This will lead to layers with different levels of sparsity"
   ]
  },
  {
   "cell_type": "code",
   "execution_count": null,
   "metadata": {},
   "outputs": [],
   "source": [
    "model = resnet18()\n",
    "pruner = Sparsifier(model, 'weight', 'local', large_final)\n",
    "pruner.prune_model(70)"
   ]
  },
  {
   "cell_type": "code",
   "execution_count": null,
   "metadata": {},
   "outputs": [
    {
     "name": "stdout",
     "output_type": "stream",
     "text": [
      "Sparsity in Conv2d 1: 69.99%\n",
      "Sparsity in Conv2d 7: 70.00%\n",
      "Sparsity in Conv2d 10: 70.00%\n",
      "Sparsity in Conv2d 13: 70.00%\n",
      "Sparsity in Conv2d 16: 70.00%\n",
      "Sparsity in Conv2d 20: 70.00%\n",
      "Sparsity in Conv2d 23: 70.00%\n",
      "Sparsity in Conv2d 26: 70.00%\n",
      "Sparsity in Conv2d 29: 70.00%\n",
      "Sparsity in Conv2d 32: 70.00%\n",
      "Sparsity in Conv2d 36: 70.00%\n",
      "Sparsity in Conv2d 39: 70.00%\n",
      "Sparsity in Conv2d 42: 70.00%\n",
      "Sparsity in Conv2d 45: 70.00%\n",
      "Sparsity in Conv2d 48: 70.00%\n",
      "Sparsity in Conv2d 52: 70.00%\n",
      "Sparsity in Conv2d 55: 70.00%\n",
      "Sparsity in Conv2d 58: 70.00%\n",
      "Sparsity in Conv2d 61: 70.00%\n",
      "Sparsity in Conv2d 64: 70.00%\n"
     ]
    }
   ],
   "source": [
    "pruner.print_sparsity()"
   ]
  },
  {
   "cell_type": "code",
   "execution_count": null,
   "metadata": {},
   "outputs": [],
   "source": [
    "model = resnet18()\n",
    "pruner = Sparsifier(model, 'weight', 'global', large_final)\n",
    "pruner.prune_model(70)"
   ]
  },
  {
   "cell_type": "code",
   "execution_count": null,
   "metadata": {},
   "outputs": [
    {
     "name": "stdout",
     "output_type": "stream",
     "text": [
      "Sparsity in Conv2d 1: 66.51%\n",
      "Sparsity in Conv2d 7: 31.68%\n",
      "Sparsity in Conv2d 10: 32.23%\n",
      "Sparsity in Conv2d 13: 32.09%\n",
      "Sparsity in Conv2d 16: 31.69%\n",
      "Sparsity in Conv2d 20: 44.15%\n",
      "Sparsity in Conv2d 23: 44.26%\n",
      "Sparsity in Conv2d 26: 15.10%\n",
      "Sparsity in Conv2d 29: 44.03%\n",
      "Sparsity in Conv2d 32: 44.10%\n",
      "Sparsity in Conv2d 36: 59.34%\n",
      "Sparsity in Conv2d 39: 59.36%\n",
      "Sparsity in Conv2d 42: 21.50%\n",
      "Sparsity in Conv2d 45: 59.33%\n",
      "Sparsity in Conv2d 48: 59.17%\n",
      "Sparsity in Conv2d 52: 75.89%\n",
      "Sparsity in Conv2d 55: 75.85%\n",
      "Sparsity in Conv2d 58: 30.27%\n",
      "Sparsity in Conv2d 61: 75.83%\n",
      "Sparsity in Conv2d 64: 75.86%\n"
     ]
    }
   ],
   "source": [
    "pruner.print_sparsity()"
   ]
  },
  {
   "cell_type": "markdown",
   "metadata": {},
   "source": [
    "## Criteria"
   ]
  },
  {
   "cell_type": "markdown",
   "metadata": {},
   "source": [
    "The `criteria` defines how we select the parameters to remove. It is usually given by a scoring method. The most common one is the `large_final`, i.e. select parameters with the highest absolute value as they are supposed to contribute the most to the final results of the model."
   ]
  },
  {
   "cell_type": "code",
   "execution_count": null,
   "metadata": {},
   "outputs": [],
   "source": [
    "model = resnet18()\n",
    "pruner = Sparsifier(model, 'filter', 'global', large_final)\n",
    "pruner.prune_model(70)"
   ]
  },
  {
   "cell_type": "code",
   "execution_count": null,
   "metadata": {},
   "outputs": [
    {
     "name": "stdout",
     "output_type": "stream",
     "text": [
      "Sparsity in Conv2d 1: 98.44%\n",
      "Sparsity in Conv2d 7: 0.00%\n",
      "Sparsity in Conv2d 10: 0.00%\n",
      "Sparsity in Conv2d 13: 0.00%\n",
      "Sparsity in Conv2d 16: 0.00%\n",
      "Sparsity in Conv2d 20: 43.75%\n",
      "Sparsity in Conv2d 23: 46.09%\n",
      "Sparsity in Conv2d 26: 0.00%\n",
      "Sparsity in Conv2d 29: 43.75%\n",
      "Sparsity in Conv2d 32: 41.41%\n",
      "Sparsity in Conv2d 36: 99.61%\n",
      "Sparsity in Conv2d 39: 99.61%\n",
      "Sparsity in Conv2d 42: 0.00%\n",
      "Sparsity in Conv2d 45: 99.61%\n",
      "Sparsity in Conv2d 48: 99.61%\n",
      "Sparsity in Conv2d 52: 99.80%\n",
      "Sparsity in Conv2d 55: 99.80%\n",
      "Sparsity in Conv2d 58: 0.00%\n",
      "Sparsity in Conv2d 61: 99.80%\n",
      "Sparsity in Conv2d 64: 99.80%\n"
     ]
    }
   ],
   "source": [
    "pruner.print_sparsity()"
   ]
  },
  {
   "cell_type": "code",
   "execution_count": null,
   "metadata": {},
   "outputs": [],
   "source": [
    "model = resnet18()\n",
    "pruner = Sparsifier(model, 'filter', 'global', small_final)\n",
    "pruner.prune_model(70)"
   ]
  },
  {
   "cell_type": "code",
   "execution_count": null,
   "metadata": {},
   "outputs": [
    {
     "name": "stdout",
     "output_type": "stream",
     "text": [
      "Sparsity in Conv2d 1: 98.44%\n",
      "Sparsity in Conv2d 7: 98.44%\n",
      "Sparsity in Conv2d 10: 98.44%\n",
      "Sparsity in Conv2d 13: 98.44%\n",
      "Sparsity in Conv2d 16: 98.44%\n",
      "Sparsity in Conv2d 20: 99.22%\n",
      "Sparsity in Conv2d 23: 99.22%\n",
      "Sparsity in Conv2d 26: 99.22%\n",
      "Sparsity in Conv2d 29: 99.22%\n",
      "Sparsity in Conv2d 32: 99.22%\n",
      "Sparsity in Conv2d 36: 99.61%\n",
      "Sparsity in Conv2d 39: 99.61%\n",
      "Sparsity in Conv2d 42: 99.61%\n",
      "Sparsity in Conv2d 45: 99.61%\n",
      "Sparsity in Conv2d 48: 99.61%\n",
      "Sparsity in Conv2d 52: 32.03%\n",
      "Sparsity in Conv2d 55: 28.71%\n",
      "Sparsity in Conv2d 58: 99.80%\n",
      "Sparsity in Conv2d 61: 29.49%\n",
      "Sparsity in Conv2d 64: 28.52%\n"
     ]
    }
   ],
   "source": [
    "pruner.print_sparsity()"
   ]
  },
  {
   "cell_type": "markdown",
   "metadata": {},
   "source": [
    "For more information and examples about the pruning criteria, I suggest you to take a look at the [corresponding section](https://nathanhubens.github.io/fasterai/criteria.html)."
   ]
  },
  {
   "cell_type": "markdown",
   "metadata": {},
   "source": [
    "## Remark"
   ]
  },
  {
   "cell_type": "markdown",
   "metadata": {},
   "source": [
    "In some case, you may want to impose the remaining amount of parameters to be a multiple of 8, this can be done by passing the `round_to` parameter."
   ]
  },
  {
   "cell_type": "code",
   "execution_count": null,
   "metadata": {},
   "outputs": [],
   "source": [
    "model = resnet18()\n",
    "pruner = Sparsifier(model, 'filter', 'local', large_final)\n",
    "pruner.prune_model(70, round_to=8)"
   ]
  },
  {
   "cell_type": "code",
   "execution_count": null,
   "metadata": {},
   "outputs": [
    {
     "name": "stdout",
     "output_type": "stream",
     "text": [
      "Sparsity in Conv2d 1: 62.50%\n",
      "Sparsity in Conv2d 7: 62.50%\n",
      "Sparsity in Conv2d 10: 62.50%\n",
      "Sparsity in Conv2d 13: 62.50%\n",
      "Sparsity in Conv2d 16: 62.50%\n",
      "Sparsity in Conv2d 20: 68.75%\n",
      "Sparsity in Conv2d 23: 68.75%\n",
      "Sparsity in Conv2d 26: 68.75%\n",
      "Sparsity in Conv2d 29: 68.75%\n",
      "Sparsity in Conv2d 32: 68.75%\n",
      "Sparsity in Conv2d 36: 68.75%\n",
      "Sparsity in Conv2d 39: 68.75%\n",
      "Sparsity in Conv2d 42: 68.75%\n",
      "Sparsity in Conv2d 45: 68.75%\n",
      "Sparsity in Conv2d 48: 68.75%\n",
      "Sparsity in Conv2d 52: 68.75%\n",
      "Sparsity in Conv2d 55: 68.75%\n",
      "Sparsity in Conv2d 58: 68.75%\n",
      "Sparsity in Conv2d 61: 68.75%\n",
      "Sparsity in Conv2d 64: 68.75%\n"
     ]
    }
   ],
   "source": [
    "pruner.print_sparsity()"
   ]
  },
  {
   "cell_type": "code",
   "execution_count": null,
   "metadata": {},
   "outputs": [],
   "source": [
    "model = resnet18()\n",
    "pruner = Sparsifier(model, 'filter', 'global', large_final)\n",
    "pruner.prune_model(70, round_to=8)"
   ]
  },
  {
   "cell_type": "code",
   "execution_count": null,
   "metadata": {},
   "outputs": [
    {
     "name": "stdout",
     "output_type": "stream",
     "text": [
      "Sparsity in Conv2d 1: 87.50%\n",
      "Sparsity in Conv2d 7: 0.00%\n",
      "Sparsity in Conv2d 10: 0.00%\n",
      "Sparsity in Conv2d 13: 0.00%\n",
      "Sparsity in Conv2d 16: 0.00%\n",
      "Sparsity in Conv2d 20: 43.75%\n",
      "Sparsity in Conv2d 23: 43.75%\n",
      "Sparsity in Conv2d 26: 0.00%\n",
      "Sparsity in Conv2d 29: 37.50%\n",
      "Sparsity in Conv2d 32: 43.75%\n",
      "Sparsity in Conv2d 36: 96.88%\n",
      "Sparsity in Conv2d 39: 96.88%\n",
      "Sparsity in Conv2d 42: 0.00%\n",
      "Sparsity in Conv2d 45: 96.88%\n",
      "Sparsity in Conv2d 48: 96.88%\n",
      "Sparsity in Conv2d 52: 98.44%\n",
      "Sparsity in Conv2d 55: 98.44%\n",
      "Sparsity in Conv2d 58: 0.00%\n",
      "Sparsity in Conv2d 61: 98.44%\n",
      "Sparsity in Conv2d 64: 98.44%\n"
     ]
    }
   ],
   "source": [
    "pruner.print_sparsity()"
   ]
  },
  {
   "cell_type": "markdown",
   "metadata": {},
   "source": [
    "For more information about granularities at which you can operate, please check the [related page](https://nathanhubens.github.io/fasterai/granularity.html)."
   ]
  }
 ],
 "metadata": {
  "kernelspec": {
   "display_name": "Python 3 (ipykernel)",
   "language": "python",
   "name": "python3"
  }
 },
 "nbformat": 4,
 "nbformat_minor": 2
}
