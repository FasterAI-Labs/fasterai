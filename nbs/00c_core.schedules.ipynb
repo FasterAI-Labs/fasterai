{
 "cells": [
  {
   "cell_type": "raw",
   "id": "a6977bff",
   "metadata": {},
   "source": [
    "---\n",
    "description: When should I prune my network ?\n",
    "output-file: schedules.html\n",
    "title: Schedules\n",
    "skip_showdoc: true\n",
    "skip_exec: true\n",
    "---\n",
    "\n"
   ]
  },
  {
   "cell_type": "code",
   "execution_count": 1,
   "id": "crude-somewhere",
   "metadata": {},
   "outputs": [],
   "source": [
    "#| default_exp core.schedule"
   ]
  },
  {
   "cell_type": "code",
   "execution_count": 42,
   "id": "experienced-subsection",
   "metadata": {},
   "outputs": [],
   "source": [
    "#| export\n",
    "import numpy as np\n",
    "import matplotlib.pyplot as plt\n",
    "from fastcore.basics import *\n",
    "from fastai.callback.schedule import *\n",
    "import math"
   ]
  },
  {
   "cell_type": "code",
   "execution_count": 43,
   "id": "future-laser",
   "metadata": {},
   "outputs": [],
   "source": [
    "#| include: false\n",
    "from fastai.vision.all import *\n",
    "from nbdev.showdoc import *\n",
    "%config InlineBackend.figure_format = 'retina'"
   ]
  },
  {
   "cell_type": "code",
   "execution_count": 44,
   "id": "a46d12a3",
   "metadata": {},
   "outputs": [],
   "source": [
    "#| export\n",
    "class Schedule():\n",
    "    \"Base class to create schedules\"\n",
    "    def __init__(self, sched_func, start_pct=0., end_pct=None, start_sparsity=0.):\n",
    "        store_attr()\n",
    "        self.current_sparsity, self.previous_sparsity = map(listify, [start_sparsity, start_sparsity])\n",
    "        if self.end_pct is None: self.end_pct=1.\n",
    "        \n",
    "    def __call__(self, end_sparsity, pct_train):\n",
    "        if type(end_sparsity)!= 'list': end_sparsity = listify(end_sparsity)\n",
    "        if pct_train>=self.start_pct and pct_train <= self.end_pct: \n",
    "            self.current_sparsity = [self.sched_func(self.start_sparsity, sp, (pct_train-self.start_pct)/(self.end_pct-self.start_pct)) for sp in end_sparsity]\n",
    "        return self.current_sparsity\n",
    "        \n",
    "    @property\n",
    "    def pruned(self):\n",
    "        return self.previous_sparsity!=self.current_sparsity\n",
    "    \n",
    "    def after_pruned(self):\n",
    "        self.previous_sparsity=self.current_sparsity\n",
    "    \n",
    "    def plot(self, end_sparsity):\n",
    "        prune = np.linspace(0, 1, 1000)\n",
    "        sps = [self([end_sparsity], p) for p in prune]\n",
    "        fig, ax = plt.subplots(1, 1, figsize=(8,6), dpi=100)\n",
    "        plt.plot(prune, sps, c='teal', linewidth=2)\n",
    "        plt.xlabel('training iterations (Normalized)')\n",
    "        plt.ylabel('sparsity')\n",
    "        self.current_sparsity = self.previous_sparsity\n",
    "    \n",
    "    def reset(self):\n",
    "        self.current_sparsity, self.previous_sparsity = map(listify, [self.start_sparsity, self.start_sparsity])"
   ]
  },
  {
   "cell_type": "code",
   "execution_count": 45,
   "id": "c0096475",
   "metadata": {},
   "outputs": [
    {
     "data": {
      "text/markdown": [
       "---\n",
       "\n",
       "### Schedule\n",
       "\n",
       ">      Schedule (sched_func, start_pct=0.0, end_pct=None, start_sparsity=0.0)\n",
       "\n",
       "Base class to create schedules"
      ],
      "text/plain": [
       "---\n",
       "\n",
       "### Schedule\n",
       "\n",
       ">      Schedule (sched_func, start_pct=0.0, end_pct=None, start_sparsity=0.0)\n",
       "\n",
       "Base class to create schedules"
      ]
     },
     "execution_count": 45,
     "metadata": {},
     "output_type": "execute_result"
    }
   ],
   "source": [
    "show_doc(Schedule)"
   ]
  },
  {
   "cell_type": "markdown",
   "id": "cd7269aa",
   "metadata": {},
   "source": [
    "The `Schedule` class allows you to create any schedule function according to 4 parameters: <br>\n",
    "- the `sched_func`: the function according to which the sparsity will evolve (e.g. linear, cos, ...) <br>\n",
    "- the `start_pct`: the percentage of training steps at which the sparsification process will start <br>\n",
    "- the `end_pct`: the percentage of training steps at which the sparsification process will end <br>\n",
    "- the `start_sparsity`: the percentage of sparsity at which the model starts "
   ]
  },
  {
   "cell_type": "markdown",
   "id": "fifth-shoot",
   "metadata": {},
   "source": [
    "## One-Shot"
   ]
  },
  {
   "cell_type": "markdown",
   "id": "active-edmonton",
   "metadata": {},
   "source": [
    "The easiest schedule is the one-shot pruning, i.e. prune the network once. This can be done by simply returning the desired sparsity value. The moment when you want to prune will be controlled by the `start_epoch` argument in the `SparsifyCallback`."
   ]
  },
  {
   "cell_type": "code",
   "execution_count": 39,
   "id": "corresponding-religious",
   "metadata": {},
   "outputs": [],
   "source": [
    "#| export\n",
    "def sched_oneshot(start, end, pos): return end\n",
    "\n",
    "one_shot = Schedule(sched_oneshot, start_pct=0.5)"
   ]
  },
  {
   "cell_type": "code",
   "execution_count": 47,
   "id": "34a7e409",
   "metadata": {},
   "outputs": [
    {
     "data": {
      "text/markdown": [
       "---\n",
       "\n",
       "### sched_oneshot\n",
       "\n",
       ">      sched_oneshot (start, end, pos)"
      ],
      "text/plain": [
       "---\n",
       "\n",
       "### sched_oneshot\n",
       "\n",
       ">      sched_oneshot (start, end, pos)"
      ]
     },
     "execution_count": 47,
     "metadata": {},
     "output_type": "execute_result"
    }
   ],
   "source": [
    "show_doc(sched_oneshot)"
   ]
  },
  {
   "cell_type": "code",
   "execution_count": null,
   "id": "38ce54ff",
   "metadata": {},
   "outputs": [],
   "source": [
    "one_shot.plot(50)"
   ]
  },
  {
   "cell_type": "code",
   "execution_count": 40,
   "id": "fcf1b7bc",
   "metadata": {},
   "outputs": [
    {
     "data": {
      "image/png": "[encoded data removed]",
      "text/plain": [
       "<Figure size 800x500 with 1 Axes>"
      ]
     },
     "metadata": {
      "needs_background": "dark"
     },
     "output_type": "display_data"
    }
   ],
   "source": [
    "#| echo: false\n",
    "fig, ax = plt.subplots(1, 1, figsize=(8,5), dpi=100)\n",
    "fig.patch.set_alpha(0.)\n",
    "ax.patch.set_alpha(0.)\n",
    "\n",
    "prune = np.linspace(0, 1, 1000)\n",
    "sps = [one_shot([50], p) for p in prune]\n",
    "plt.plot(prune, sps, c='#89d6c9', linewidth=2)\n",
    "plt.xlabel('training iterations (Normalized)')\n",
    "plt.ylabel('sparsity')\n",
    "\n",
    "        \n",
    "ax.spines['bottom'].set_color('#808080')\n",
    "ax.spines['top'].set_color('#808080') \n",
    "ax.spines['right'].set_color('#808080')\n",
    "ax.spines['left'].set_color('#808080')\n",
    "ax.tick_params(axis='x', colors='#808080')\n",
    "ax.tick_params(axis='y', colors='#808080')\n",
    "ax.yaxis.label.set_color('#808080')\n",
    "ax.xaxis.label.set_color('#808080')"
   ]
  },
  {
   "cell_type": "markdown",
   "id": "constitutional-force",
   "metadata": {},
   "source": [
    "---"
   ]
  },
  {
   "cell_type": "markdown",
   "id": "suited-excitement",
   "metadata": {},
   "source": [
    "## Iterative"
   ]
  },
  {
   "cell_type": "markdown",
   "id": "massive-laundry",
   "metadata": {},
   "source": [
    "Instead of pruning the network to desired sparsity in one step, you can do it iteratively. In fasterai, you can change the amount of iterations"
   ]
  },
  {
   "cell_type": "code",
   "execution_count": null,
   "id": "4fb3ead4",
   "metadata": {},
   "outputs": [],
   "source": [
    "#| export\n",
    "def sched_iterative(start, end, pos, n_steps=3):\n",
    "    \"Perform iterative pruning, and pruning in `n_steps` steps\"\n",
    "    return start + ((end-start)/n_steps)*(np.ceil((pos)*n_steps))\n",
    "\n",
    "iterative = Schedule(sched_iterative, start_pct=0.2)"
   ]
  },
  {
   "cell_type": "code",
   "execution_count": 48,
   "id": "a64cabd8",
   "metadata": {},
   "outputs": [
    {
     "data": {
      "text/markdown": [
       "---\n",
       "\n",
       "### sched_iterative\n",
       "\n",
       ">      sched_iterative (start, end, pos, n_steps=3)\n",
       "\n",
       "Perform iterative pruning, and pruning in `n_steps` steps"
      ],
      "text/plain": [
       "---\n",
       "\n",
       "### sched_iterative\n",
       "\n",
       ">      sched_iterative (start, end, pos, n_steps=3)\n",
       "\n",
       "Perform iterative pruning, and pruning in `n_steps` steps"
      ]
     },
     "execution_count": 48,
     "metadata": {},
     "output_type": "execute_result"
    }
   ],
   "source": [
    "show_doc(sched_iterative)"
   ]
  },
  {
   "cell_type": "code",
   "execution_count": null,
   "id": "3dad4329",
   "metadata": {},
   "outputs": [],
   "source": [
    "iterative.plot(50)"
   ]
  },
  {
   "cell_type": "code",
   "execution_count": 38,
   "id": "40e1b7f8",
   "metadata": {},
   "outputs": [
    {
     "data": {
      "image/png": "[encoded data removed]",
      "text/plain": [
       "<Figure size 800x500 with 1 Axes>"
      ]
     },
     "metadata": {
      "needs_background": "dark"
     },
     "output_type": "display_data"
    }
   ],
   "source": [
    "#| echo: false\n",
    "fig, ax = plt.subplots(1, 1, figsize=(8,5), dpi=100)\n",
    "fig.patch.set_alpha(0.)\n",
    "ax.patch.set_alpha(0.)\n",
    "\n",
    "prune = np.linspace(0, 1, 1000)\n",
    "sps = [iterative([50], p) for p in prune]\n",
    "plt.plot(prune, sps, c='#89d6c9', linewidth=2)\n",
    "plt.xlabel('training iterations (Normalized)')\n",
    "plt.ylabel('sparsity')\n",
    "\n",
    "        \n",
    "ax.spines['bottom'].set_color('#808080')\n",
    "ax.spines['top'].set_color('#808080') \n",
    "ax.spines['right'].set_color('#808080')\n",
    "ax.spines['left'].set_color('#808080')\n",
    "ax.tick_params(axis='x', colors='#808080')\n",
    "ax.tick_params(axis='y', colors='#808080')\n",
    "ax.yaxis.label.set_color('#808080')\n",
    "ax.xaxis.label.set_color('#808080')"
   ]
  },
  {
   "cell_type": "markdown",
   "id": "congressional-counter",
   "metadata": {},
   "source": [
    "To modify the default `n_steps`, you can use the `partial` function."
   ]
  },
  {
   "cell_type": "code",
   "execution_count": 31,
   "id": "d2f71f39",
   "metadata": {},
   "outputs": [],
   "source": [
    "iterative = Schedule(partial(sched_iterative, n_steps=5), start_pct=0.2)"
   ]
  },
  {
   "cell_type": "code",
   "execution_count": null,
   "id": "18a38c01",
   "metadata": {},
   "outputs": [],
   "source": [
    "iterative.plot(50)"
   ]
  },
  {
   "cell_type": "code",
   "execution_count": 32,
   "id": "56f5f20d",
   "metadata": {},
   "outputs": [
    {
     "data": {
      "image/png": "[encoded data removed]",
      "text/plain": [
       "<Figure size 800x500 with 1 Axes>"
      ]
     },
     "metadata": {
      "needs_background": "dark"
     },
     "output_type": "display_data"
    }
   ],
   "source": [
    "#| echo: false\n",
    "fig, ax = plt.subplots(1, 1, figsize=(8,5), dpi=100)\n",
    "fig.patch.set_alpha(0.)\n",
    "ax.patch.set_alpha(0.)\n",
    "\n",
    "prune = np.linspace(0, 1, 1000)\n",
    "sps = [iterative([50], p) for p in prune]\n",
    "plt.plot(prune, sps, c='#89d6c9', linewidth=2)\n",
    "plt.xlabel('training iterations (Normalized)')\n",
    "plt.ylabel('sparsity')\n",
    "\n",
    "        \n",
    "ax.spines['bottom'].set_color('#808080')\n",
    "ax.spines['top'].set_color('#808080') \n",
    "ax.spines['right'].set_color('#808080')\n",
    "ax.spines['left'].set_color('#808080')\n",
    "ax.tick_params(axis='x', colors='#808080')\n",
    "ax.tick_params(axis='y', colors='#808080')\n",
    "ax.yaxis.label.set_color('#808080')\n",
    "ax.xaxis.label.set_color('#808080')"
   ]
  },
  {
   "cell_type": "markdown",
   "id": "graduate-plymouth",
   "metadata": {},
   "source": [
    "---"
   ]
  },
  {
   "cell_type": "markdown",
   "id": "material-masters",
   "metadata": {},
   "source": [
    "## Automated Gradual Pruning"
   ]
  },
  {
   "cell_type": "markdown",
   "id": "promising-details",
   "metadata": {},
   "source": [
    "Some researchers have come up with more sophisticated schedules, such as the [Automated Gradual Pruning](https://arxiv.org/abs/1710.01878)."
   ]
  },
  {
   "cell_type": "code",
   "execution_count": 33,
   "id": "electronic-trainer",
   "metadata": {},
   "outputs": [],
   "source": [
    "#| export\n",
    "def sched_agp(start, end, pos): return end + (start - end) * (1 - pos)**3\n",
    "\n",
    "agp = Schedule(sched_agp, start_pct=0.2)"
   ]
  },
  {
   "cell_type": "code",
   "execution_count": 50,
   "id": "2eb3794f",
   "metadata": {},
   "outputs": [
    {
     "data": {
      "text/markdown": [
       "---\n",
       "\n",
       "### sched_agp\n",
       "\n",
       ">      sched_agp (start, end, pos)"
      ],
      "text/plain": [
       "---\n",
       "\n",
       "### sched_agp\n",
       "\n",
       ">      sched_agp (start, end, pos)"
      ]
     },
     "execution_count": 50,
     "metadata": {},
     "output_type": "execute_result"
    }
   ],
   "source": [
    "show_doc(sched_agp)"
   ]
  },
  {
   "cell_type": "code",
   "execution_count": null,
   "id": "59d0792c",
   "metadata": {},
   "outputs": [],
   "source": [
    "agp.plot(50)"
   ]
  },
  {
   "cell_type": "code",
   "execution_count": 34,
   "id": "e3822626",
   "metadata": {},
   "outputs": [
    {
     "data": {
      "image/png": "[encoded data removed]",
      "text/plain": [
       "<Figure size 800x500 with 1 Axes>"
      ]
     },
     "metadata": {
      "needs_background": "dark"
     },
     "output_type": "display_data"
    }
   ],
   "source": [
    "#| echo: false\n",
    "fig, ax = plt.subplots(1, 1, figsize=(8,5), dpi=100)\n",
    "fig.patch.set_alpha(0.)\n",
    "ax.patch.set_alpha(0.)\n",
    "\n",
    "prune = np.linspace(0, 1, 1000)\n",
    "sps = [agp([50], p) for p in prune]\n",
    "plt.plot(prune, sps, c='#89d6c9', linewidth=2)\n",
    "plt.xlabel('training iterations (Normalized)')\n",
    "plt.ylabel('sparsity')\n",
    "\n",
    "        \n",
    "ax.spines['bottom'].set_color('#808080')\n",
    "ax.spines['top'].set_color('#808080') \n",
    "ax.spines['right'].set_color('#808080')\n",
    "ax.spines['left'].set_color('#808080')\n",
    "ax.tick_params(axis='x', colors='#808080')\n",
    "ax.tick_params(axis='y', colors='#808080')\n",
    "ax.yaxis.label.set_color('#808080')\n",
    "ax.xaxis.label.set_color('#808080')"
   ]
  },
  {
   "cell_type": "markdown",
   "id": "2c90e516",
   "metadata": {},
   "source": [
    "## One-Cycle Pruning"
   ]
  },
  {
   "cell_type": "code",
   "execution_count": 35,
   "id": "6d4f11c9",
   "metadata": {},
   "outputs": [],
   "source": [
    "#| export\n",
    "def sched_onecycle(start, end, pos, α=14, β=6):\n",
    "    out = (1+np.exp(-α+β)) / (1 + (np.exp((-α*pos)+β)))\n",
    "    return start + (end-start)*out\n",
    "\n",
    "one_cycle = Schedule(sched_onecycle)"
   ]
  },
  {
   "cell_type": "code",
   "execution_count": 51,
   "id": "ccc8808a",
   "metadata": {},
   "outputs": [
    {
     "data": {
      "text/markdown": [
       "---\n",
       "\n",
       "### sched_onecycle\n",
       "\n",
       ">      sched_onecycle (start, end, pos, α=14, β=6)"
      ],
      "text/plain": [
       "---\n",
       "\n",
       "### sched_onecycle\n",
       "\n",
       ">      sched_onecycle (start, end, pos, α=14, β=6)"
      ]
     },
     "execution_count": 51,
     "metadata": {},
     "output_type": "execute_result"
    }
   ],
   "source": [
    "show_doc(sched_onecycle)"
   ]
  },
  {
   "cell_type": "code",
   "execution_count": null,
   "id": "ba0acd02",
   "metadata": {},
   "outputs": [],
   "source": [
    "one_cycle.plot(50)"
   ]
  },
  {
   "cell_type": "code",
   "execution_count": 36,
   "id": "eae4ea9f",
   "metadata": {},
   "outputs": [
    {
     "data": {
      "image/png": "[encoded data removed]",
      "text/plain": [
       "<Figure size 800x500 with 1 Axes>"
      ]
     },
     "metadata": {
      "needs_background": "dark"
     },
     "output_type": "display_data"
    }
   ],
   "source": [
    "#| echo: false\n",
    "fig, ax = plt.subplots(1, 1, figsize=(8,5), dpi=100)\n",
    "fig.patch.set_alpha(0.)\n",
    "ax.patch.set_alpha(0.)\n",
    "\n",
    "prune = np.linspace(0, 1, 1000)\n",
    "sps = [one_cycle([50], p) for p in prune]\n",
    "plt.plot(prune, sps, c='#89d6c9', linewidth=2)\n",
    "plt.xlabel('training iterations (Normalized)')\n",
    "plt.ylabel('sparsity')\n",
    "\n",
    "        \n",
    "ax.spines['bottom'].set_color('#808080')\n",
    "ax.spines['top'].set_color('#808080') \n",
    "ax.spines['right'].set_color('#808080')\n",
    "ax.spines['left'].set_color('#808080')\n",
    "ax.tick_params(axis='x', colors='#808080')\n",
    "ax.tick_params(axis='y', colors='#808080')\n",
    "ax.yaxis.label.set_color('#808080')\n",
    "ax.xaxis.label.set_color('#808080')"
   ]
  },
  {
   "cell_type": "code",
   "execution_count": null,
   "id": "d4c322eb",
   "metadata": {},
   "outputs": [],
   "source": []
  },
  {
   "cell_type": "markdown",
   "id": "0ad4c53d",
   "metadata": {},
   "source": [
    "On top of that, all of the schedules available in fastai by default are also available:\n",
    "- sched_cos\n",
    "- sched_linear"
   ]
  },
  {
   "cell_type": "code",
   "execution_count": 15,
   "id": "e89d1f70",
   "metadata": {},
   "outputs": [],
   "source": [
    "#| export\n",
    "cos = Schedule(sched_cos)\n",
    "lin = Schedule(sched_lin)"
   ]
  },
  {
   "cell_type": "markdown",
   "id": "gothic-demand",
   "metadata": {},
   "source": [
    "---"
   ]
  },
  {
   "cell_type": "markdown",
   "id": "detailed-package",
   "metadata": {},
   "source": [
    "## Dense-Sparse-Dense"
   ]
  },
  {
   "cell_type": "markdown",
   "id": "further-return",
   "metadata": {},
   "source": [
    "You can also create even more interesting behaviours such as the DSD method, where you prune the model in the first place, then re-grow it to its initial amount of parameter."
   ]
  },
  {
   "cell_type": "code",
   "execution_count": 25,
   "id": "decent-savannah",
   "metadata": {},
   "outputs": [],
   "source": [
    "#| export\n",
    "def sched_dsd(start, end, pos):\n",
    "    if pos<0.5:\n",
    "        return start + (1 + math.cos(math.pi*(1-pos*2))) * (end-start) / 2\n",
    "    else:\n",
    "        return end + (1 - math.cos(math.pi*(1-pos*2))) * (start-end) / 2\n",
    "    \n",
    "dsd = Schedule(sched_dsd)"
   ]
  },
  {
   "cell_type": "code",
   "execution_count": 52,
   "id": "1109f34b",
   "metadata": {},
   "outputs": [
    {
     "data": {
      "text/markdown": [
       "---\n",
       "\n",
       "### sched_dsd\n",
       "\n",
       ">      sched_dsd (start, end, pos)"
      ],
      "text/plain": [
       "---\n",
       "\n",
       "### sched_dsd\n",
       "\n",
       ">      sched_dsd (start, end, pos)"
      ]
     },
     "execution_count": 52,
     "metadata": {},
     "output_type": "execute_result"
    }
   ],
   "source": [
    "show_doc(sched_dsd)"
   ]
  },
  {
   "cell_type": "code",
   "execution_count": null,
   "id": "59b52c2a",
   "metadata": {},
   "outputs": [],
   "source": [
    "dsd.plot(50)"
   ]
  },
  {
   "cell_type": "code",
   "execution_count": 27,
   "id": "daab2673",
   "metadata": {},
   "outputs": [
    {
     "data": {
      "image/png": "[encoded data removed]",
      "text/plain": [
       "<Figure size 800x500 with 1 Axes>"
      ]
     },
     "metadata": {
      "needs_background": "dark"
     },
     "output_type": "display_data"
    }
   ],
   "source": [
    "#| echo: false\n",
    "fig, ax = plt.subplots(1, 1, figsize=(8,5), dpi=100)\n",
    "fig.patch.set_alpha(0.)\n",
    "ax.patch.set_alpha(0.)\n",
    "\n",
    "prune = np.linspace(0, 1, 1000)\n",
    "sps = [dsd([50], p) for p in prune]\n",
    "plt.plot(prune, sps, c='#89d6c9', linewidth=2)\n",
    "plt.xlabel('training iterations (Normalized)')\n",
    "plt.ylabel('sparsity')\n",
    "\n",
    "        \n",
    "ax.spines['bottom'].set_color('#808080')\n",
    "ax.spines['top'].set_color('#808080') \n",
    "ax.spines['right'].set_color('#808080')\n",
    "ax.spines['left'].set_color('#808080')\n",
    "ax.tick_params(axis='x', colors='#808080')\n",
    "ax.tick_params(axis='y', colors='#808080')\n",
    "ax.yaxis.label.set_color('#808080')\n",
    "ax.xaxis.label.set_color('#808080')"
   ]
  },
  {
   "cell_type": "code",
   "execution_count": 53,
   "id": "cb923e44",
   "metadata": {},
   "outputs": [],
   "source": [
    "#| export\n",
    "schedules = ('one_shot', 'iterative', 'agp', 'one_cycle', 'cos', 'lin', 'dsd')\n",
    "def available_schedules():\n",
    "    print(schedules)"
   ]
  }
 ],
 "metadata": {
  "kernelspec": {
   "display_name": "Python 3 (ipykernel)",
   "language": "python",
   "name": "python3"
  },
  "language_info": {
   "codemirror_mode": {
    "name": "ipython",
    "version": 3
   },
   "file_extension": ".py",
   "mimetype": "text/x-python",
   "name": "python",
   "nbconvert_exporter": "python",
   "pygments_lexer": "ipython3",
   "version": "3.10.0"
  }
 },
 "nbformat": 4,
 "nbformat_minor": 5
}
